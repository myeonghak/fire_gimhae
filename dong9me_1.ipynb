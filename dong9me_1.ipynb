{
 "cells": [
  {
   "cell_type": "markdown",
   "metadata": {},
   "source": [
    "## Load Data"
   ]
  },
  {
   "cell_type": "code",
   "execution_count": 1,
   "metadata": {},
   "outputs": [
    {
     "name": "stdout",
     "output_type": "stream",
     "text": [
      "(59199, 171)\n"
     ]
    }
   ],
   "source": [
    "import numpy as np\n",
    "import pandas as pd\n",
    "train = pd.read_csv('PJT002_train.csv', index_col=\"id\", low_memory=False, parse_dates=[\"dt_of_fr\", \"dt_of_athrztn\"])\n",
    "print(train.shape)"
   ]
  },
  {
   "cell_type": "code",
   "execution_count": 2,
   "metadata": {},
   "outputs": [
    {
     "data": {
      "text/html": [
       "<div>\n",
       "<style scoped>\n",
       "    .dataframe tbody tr th:only-of-type {\n",
       "        vertical-align: middle;\n",
       "    }\n",
       "\n",
       "    .dataframe tbody tr th {\n",
       "        vertical-align: top;\n",
       "    }\n",
       "\n",
       "    .dataframe thead th {\n",
       "        text-align: right;\n",
       "    }\n",
       "</style>\n",
       "<table border=\"1\" class=\"dataframe\">\n",
       "  <thead>\n",
       "    <tr style=\"text-align: right;\">\n",
       "      <th></th>\n",
       "      <th>dt_of_fr</th>\n",
       "      <th>bldng_us</th>\n",
       "      <th>bldng_archtctr</th>\n",
       "      <th>bldng_cnt</th>\n",
       "      <th>bldng_ar</th>\n",
       "      <th>ttl_ar</th>\n",
       "      <th>lnd_ar</th>\n",
       "      <th>dt_of_athrztn</th>\n",
       "      <th>ttl_grnd_flr</th>\n",
       "      <th>ttl_dwn_flr</th>\n",
       "      <th>...</th>\n",
       "      <th>mlt_us_yn</th>\n",
       "      <th>cctv_dstnc</th>\n",
       "      <th>cctv_in_100m</th>\n",
       "      <th>fr_wthr_fclt_in_100m</th>\n",
       "      <th>tbc_rtl_str_dstnc</th>\n",
       "      <th>sft_emrgnc_bll_dstnc</th>\n",
       "      <th>ahsm_dstnc</th>\n",
       "      <th>no_tbc_zn_dstnc</th>\n",
       "      <th>bldng_cnt_in_50m</th>\n",
       "      <th>fr_yn</th>\n",
       "    </tr>\n",
       "    <tr>\n",
       "      <th>id</th>\n",
       "      <th></th>\n",
       "      <th></th>\n",
       "      <th></th>\n",
       "      <th></th>\n",
       "      <th></th>\n",
       "      <th></th>\n",
       "      <th></th>\n",
       "      <th></th>\n",
       "      <th></th>\n",
       "      <th></th>\n",
       "      <th></th>\n",
       "      <th></th>\n",
       "      <th></th>\n",
       "      <th></th>\n",
       "      <th></th>\n",
       "      <th></th>\n",
       "      <th></th>\n",
       "      <th></th>\n",
       "      <th></th>\n",
       "      <th></th>\n",
       "      <th></th>\n",
       "    </tr>\n",
       "  </thead>\n",
       "  <tbody>\n",
       "    <tr>\n",
       "      <th>133759</th>\n",
       "      <td>2015-10-03 02:33:46</td>\n",
       "      <td>NaN</td>\n",
       "      <td>NaN</td>\n",
       "      <td>3</td>\n",
       "      <td>112.86</td>\n",
       "      <td>112.86</td>\n",
       "      <td>200.0</td>\n",
       "      <td>nan</td>\n",
       "      <td>1.0</td>\n",
       "      <td>0.0</td>\n",
       "      <td>...</td>\n",
       "      <td>N</td>\n",
       "      <td>129</td>\n",
       "      <td>0</td>\n",
       "      <td>0</td>\n",
       "      <td>809</td>\n",
       "      <td>2453</td>\n",
       "      <td>17664</td>\n",
       "      <td>83</td>\n",
       "      <td>0</td>\n",
       "      <td>N</td>\n",
       "    </tr>\n",
       "    <tr>\n",
       "      <th>96248</th>\n",
       "      <td>2016-11-13 17:05:57</td>\n",
       "      <td>업무시설</td>\n",
       "      <td>철근콘크리트구조</td>\n",
       "      <td>3</td>\n",
       "      <td>721.82</td>\n",
       "      <td>1109.54</td>\n",
       "      <td>0.0</td>\n",
       "      <td>19881010.0</td>\n",
       "      <td>5.0</td>\n",
       "      <td>0.0</td>\n",
       "      <td>...</td>\n",
       "      <td>N</td>\n",
       "      <td>27</td>\n",
       "      <td>5</td>\n",
       "      <td>1</td>\n",
       "      <td>1731</td>\n",
       "      <td>2561</td>\n",
       "      <td>18136</td>\n",
       "      <td>50</td>\n",
       "      <td>0</td>\n",
       "      <td>N</td>\n",
       "    </tr>\n",
       "    <tr>\n",
       "      <th>71317</th>\n",
       "      <td>2016-11-21 12:46:36</td>\n",
       "      <td>단독주택</td>\n",
       "      <td>블록구조</td>\n",
       "      <td>4</td>\n",
       "      <td>47.06</td>\n",
       "      <td>47.06</td>\n",
       "      <td>288.0</td>\n",
       "      <td>19650101.0</td>\n",
       "      <td>1.0</td>\n",
       "      <td>0.0</td>\n",
       "      <td>...</td>\n",
       "      <td>N</td>\n",
       "      <td>273</td>\n",
       "      <td>0</td>\n",
       "      <td>0</td>\n",
       "      <td>825</td>\n",
       "      <td>3964</td>\n",
       "      <td>14944</td>\n",
       "      <td>270</td>\n",
       "      <td>1</td>\n",
       "      <td>N</td>\n",
       "    </tr>\n",
       "    <tr>\n",
       "      <th>86638</th>\n",
       "      <td>2016-11-07 02:50:14</td>\n",
       "      <td>위험물저장및처리시설</td>\n",
       "      <td>벽돌구조</td>\n",
       "      <td>2</td>\n",
       "      <td>171.45</td>\n",
       "      <td>176.64</td>\n",
       "      <td>1379.0</td>\n",
       "      <td>20020129.0</td>\n",
       "      <td>2.0</td>\n",
       "      <td>0.0</td>\n",
       "      <td>...</td>\n",
       "      <td>N</td>\n",
       "      <td>109</td>\n",
       "      <td>0</td>\n",
       "      <td>0</td>\n",
       "      <td>1264</td>\n",
       "      <td>2572</td>\n",
       "      <td>15104</td>\n",
       "      <td>132</td>\n",
       "      <td>0</td>\n",
       "      <td>N</td>\n",
       "    </tr>\n",
       "    <tr>\n",
       "      <th>97748</th>\n",
       "      <td>2014-01-28 16:36:43</td>\n",
       "      <td>NaN</td>\n",
       "      <td>NaN</td>\n",
       "      <td>4</td>\n",
       "      <td>0.00</td>\n",
       "      <td>0.00</td>\n",
       "      <td>0.0</td>\n",
       "      <td>nan</td>\n",
       "      <td>NaN</td>\n",
       "      <td>NaN</td>\n",
       "      <td>...</td>\n",
       "      <td>N</td>\n",
       "      <td>739</td>\n",
       "      <td>0</td>\n",
       "      <td>0</td>\n",
       "      <td>10241</td>\n",
       "      <td>100127</td>\n",
       "      <td>5000</td>\n",
       "      <td>5004</td>\n",
       "      <td>0</td>\n",
       "      <td>N</td>\n",
       "    </tr>\n",
       "  </tbody>\n",
       "</table>\n",
       "<p>5 rows × 171 columns</p>\n",
       "</div>"
      ],
      "text/plain": [
       "                  dt_of_fr    bldng_us bldng_archtctr  bldng_cnt  bldng_ar  \\\n",
       "id                                                                           \n",
       "133759 2015-10-03 02:33:46         NaN            NaN          3    112.86   \n",
       "96248  2016-11-13 17:05:57        업무시설       철근콘크리트구조          3    721.82   \n",
       "71317  2016-11-21 12:46:36        단독주택           블록구조          4     47.06   \n",
       "86638  2016-11-07 02:50:14  위험물저장및처리시설           벽돌구조          2    171.45   \n",
       "97748  2014-01-28 16:36:43         NaN            NaN          4      0.00   \n",
       "\n",
       "         ttl_ar  lnd_ar dt_of_athrztn  ttl_grnd_flr  ttl_dwn_flr  ...  \\\n",
       "id                                                                ...   \n",
       "133759   112.86   200.0           nan           1.0          0.0  ...   \n",
       "96248   1109.54     0.0    19881010.0           5.0          0.0  ...   \n",
       "71317     47.06   288.0    19650101.0           1.0          0.0  ...   \n",
       "86638    176.64  1379.0    20020129.0           2.0          0.0  ...   \n",
       "97748      0.00     0.0           nan           NaN          NaN  ...   \n",
       "\n",
       "       mlt_us_yn  cctv_dstnc  cctv_in_100m  fr_wthr_fclt_in_100m  \\\n",
       "id                                                                 \n",
       "133759         N         129             0                     0   \n",
       "96248          N          27             5                     1   \n",
       "71317          N         273             0                     0   \n",
       "86638          N         109             0                     0   \n",
       "97748          N         739             0                     0   \n",
       "\n",
       "        tbc_rtl_str_dstnc  sft_emrgnc_bll_dstnc  ahsm_dstnc  no_tbc_zn_dstnc  \\\n",
       "id                                                                             \n",
       "133759                809                  2453       17664               83   \n",
       "96248                1731                  2561       18136               50   \n",
       "71317                 825                  3964       14944              270   \n",
       "86638                1264                  2572       15104              132   \n",
       "97748               10241                100127        5000             5004   \n",
       "\n",
       "        bldng_cnt_in_50m  fr_yn  \n",
       "id                               \n",
       "133759                 0      N  \n",
       "96248                  0      N  \n",
       "71317                  1      N  \n",
       "86638                  0      N  \n",
       "97748                  0      N  \n",
       "\n",
       "[5 rows x 171 columns]"
      ]
     },
     "execution_count": 2,
     "metadata": {},
     "output_type": "execute_result"
    }
   ],
   "source": [
    "train.head()"
   ]
  },
  {
   "cell_type": "code",
   "execution_count": 3,
   "metadata": {},
   "outputs": [
    {
     "name": "stdout",
     "output_type": "stream",
     "text": [
      "(6898, 171)\n"
     ]
    }
   ],
   "source": [
    "validation = pd.read_csv('PJT002_validation.csv', index_col=\"id\", low_memory=False, parse_dates=[\"dt_of_fr\", \"dt_of_athrztn\"])\n",
    "print(validation.shape)"
   ]
  },
  {
   "cell_type": "code",
   "execution_count": 4,
   "metadata": {},
   "outputs": [
    {
     "data": {
      "text/html": [
       "<div>\n",
       "<style scoped>\n",
       "    .dataframe tbody tr th:only-of-type {\n",
       "        vertical-align: middle;\n",
       "    }\n",
       "\n",
       "    .dataframe tbody tr th {\n",
       "        vertical-align: top;\n",
       "    }\n",
       "\n",
       "    .dataframe thead th {\n",
       "        text-align: right;\n",
       "    }\n",
       "</style>\n",
       "<table border=\"1\" class=\"dataframe\">\n",
       "  <thead>\n",
       "    <tr style=\"text-align: right;\">\n",
       "      <th></th>\n",
       "      <th>dt_of_fr</th>\n",
       "      <th>bldng_us</th>\n",
       "      <th>bldng_archtctr</th>\n",
       "      <th>bldng_cnt</th>\n",
       "      <th>bldng_ar</th>\n",
       "      <th>ttl_ar</th>\n",
       "      <th>lnd_ar</th>\n",
       "      <th>dt_of_athrztn</th>\n",
       "      <th>ttl_grnd_flr</th>\n",
       "      <th>ttl_dwn_flr</th>\n",
       "      <th>...</th>\n",
       "      <th>mlt_us_yn</th>\n",
       "      <th>cctv_dstnc</th>\n",
       "      <th>cctv_in_100m</th>\n",
       "      <th>fr_wthr_fclt_in_100m</th>\n",
       "      <th>tbc_rtl_str_dstnc</th>\n",
       "      <th>sft_emrgnc_bll_dstnc</th>\n",
       "      <th>ahsm_dstnc</th>\n",
       "      <th>no_tbc_zn_dstnc</th>\n",
       "      <th>bldng_cnt_in_50m</th>\n",
       "      <th>fr_yn</th>\n",
       "    </tr>\n",
       "    <tr>\n",
       "      <th>id</th>\n",
       "      <th></th>\n",
       "      <th></th>\n",
       "      <th></th>\n",
       "      <th></th>\n",
       "      <th></th>\n",
       "      <th></th>\n",
       "      <th></th>\n",
       "      <th></th>\n",
       "      <th></th>\n",
       "      <th></th>\n",
       "      <th></th>\n",
       "      <th></th>\n",
       "      <th></th>\n",
       "      <th></th>\n",
       "      <th></th>\n",
       "      <th></th>\n",
       "      <th></th>\n",
       "      <th></th>\n",
       "      <th></th>\n",
       "      <th></th>\n",
       "      <th></th>\n",
       "    </tr>\n",
       "  </thead>\n",
       "  <tbody>\n",
       "    <tr>\n",
       "      <th>91161</th>\n",
       "      <td>2018-06-28 03:18:03</td>\n",
       "      <td>숙박시설</td>\n",
       "      <td>철근콘크리트구조</td>\n",
       "      <td>1</td>\n",
       "      <td>303.80</td>\n",
       "      <td>1787.00</td>\n",
       "      <td>437.90</td>\n",
       "      <td>20020823.0</td>\n",
       "      <td>6.0</td>\n",
       "      <td>1.0</td>\n",
       "      <td>...</td>\n",
       "      <td>N</td>\n",
       "      <td>148</td>\n",
       "      <td>0</td>\n",
       "      <td>2</td>\n",
       "      <td>196</td>\n",
       "      <td>181</td>\n",
       "      <td>19071</td>\n",
       "      <td>157</td>\n",
       "      <td>9</td>\n",
       "      <td>N</td>\n",
       "    </tr>\n",
       "    <tr>\n",
       "      <th>84935</th>\n",
       "      <td>2014-12-29 10:24:46</td>\n",
       "      <td>창고시설</td>\n",
       "      <td>일반철골구조</td>\n",
       "      <td>1</td>\n",
       "      <td>353.85</td>\n",
       "      <td>353.85</td>\n",
       "      <td>1022.00</td>\n",
       "      <td>20150629.0</td>\n",
       "      <td>1.0</td>\n",
       "      <td>0.0</td>\n",
       "      <td>...</td>\n",
       "      <td>N</td>\n",
       "      <td>49</td>\n",
       "      <td>1</td>\n",
       "      <td>0</td>\n",
       "      <td>389</td>\n",
       "      <td>1202</td>\n",
       "      <td>20785</td>\n",
       "      <td>86</td>\n",
       "      <td>17</td>\n",
       "      <td>N</td>\n",
       "    </tr>\n",
       "    <tr>\n",
       "      <th>105570</th>\n",
       "      <td>2014-09-17 17:21:40</td>\n",
       "      <td>제2종근린생활시설</td>\n",
       "      <td>일반목구조</td>\n",
       "      <td>2</td>\n",
       "      <td>136.12</td>\n",
       "      <td>136.12</td>\n",
       "      <td>386.77</td>\n",
       "      <td>19920330.0</td>\n",
       "      <td>2.0</td>\n",
       "      <td>0.0</td>\n",
       "      <td>...</td>\n",
       "      <td>N</td>\n",
       "      <td>92</td>\n",
       "      <td>0</td>\n",
       "      <td>0</td>\n",
       "      <td>2956</td>\n",
       "      <td>6986</td>\n",
       "      <td>26847</td>\n",
       "      <td>382</td>\n",
       "      <td>0</td>\n",
       "      <td>N</td>\n",
       "    </tr>\n",
       "    <tr>\n",
       "      <th>114181</th>\n",
       "      <td>2018-06-02 15:57:00</td>\n",
       "      <td>제1종근린생활시설</td>\n",
       "      <td>기타조적구조</td>\n",
       "      <td>1</td>\n",
       "      <td>26.69</td>\n",
       "      <td>26.69</td>\n",
       "      <td>52.00</td>\n",
       "      <td>20010216.0</td>\n",
       "      <td>1.0</td>\n",
       "      <td>0.0</td>\n",
       "      <td>...</td>\n",
       "      <td>N</td>\n",
       "      <td>666</td>\n",
       "      <td>0</td>\n",
       "      <td>0</td>\n",
       "      <td>755</td>\n",
       "      <td>3889</td>\n",
       "      <td>6006</td>\n",
       "      <td>2581</td>\n",
       "      <td>0</td>\n",
       "      <td>Y</td>\n",
       "    </tr>\n",
       "    <tr>\n",
       "      <th>82239</th>\n",
       "      <td>2017-06-06 16:10:05</td>\n",
       "      <td>교육연구시설</td>\n",
       "      <td>철근콘크리트구조</td>\n",
       "      <td>15</td>\n",
       "      <td>4051.77</td>\n",
       "      <td>11620.22</td>\n",
       "      <td>0.00</td>\n",
       "      <td>19640204.0</td>\n",
       "      <td>17.0</td>\n",
       "      <td>2.0</td>\n",
       "      <td>...</td>\n",
       "      <td>N</td>\n",
       "      <td>123</td>\n",
       "      <td>0</td>\n",
       "      <td>0</td>\n",
       "      <td>345</td>\n",
       "      <td>306</td>\n",
       "      <td>19098</td>\n",
       "      <td>70</td>\n",
       "      <td>27</td>\n",
       "      <td>N</td>\n",
       "    </tr>\n",
       "  </tbody>\n",
       "</table>\n",
       "<p>5 rows × 171 columns</p>\n",
       "</div>"
      ],
      "text/plain": [
       "                  dt_of_fr   bldng_us bldng_archtctr  bldng_cnt  bldng_ar  \\\n",
       "id                                                                          \n",
       "91161  2018-06-28 03:18:03       숙박시설       철근콘크리트구조          1    303.80   \n",
       "84935  2014-12-29 10:24:46       창고시설         일반철골구조          1    353.85   \n",
       "105570 2014-09-17 17:21:40  제2종근린생활시설          일반목구조          2    136.12   \n",
       "114181 2018-06-02 15:57:00  제1종근린생활시설         기타조적구조          1     26.69   \n",
       "82239  2017-06-06 16:10:05     교육연구시설       철근콘크리트구조         15   4051.77   \n",
       "\n",
       "          ttl_ar   lnd_ar dt_of_athrztn  ttl_grnd_flr  ttl_dwn_flr  ...  \\\n",
       "id                                                                  ...   \n",
       "91161    1787.00   437.90    20020823.0           6.0          1.0  ...   \n",
       "84935     353.85  1022.00    20150629.0           1.0          0.0  ...   \n",
       "105570    136.12   386.77    19920330.0           2.0          0.0  ...   \n",
       "114181     26.69    52.00    20010216.0           1.0          0.0  ...   \n",
       "82239   11620.22     0.00    19640204.0          17.0          2.0  ...   \n",
       "\n",
       "       mlt_us_yn  cctv_dstnc  cctv_in_100m  fr_wthr_fclt_in_100m  \\\n",
       "id                                                                 \n",
       "91161          N         148             0                     2   \n",
       "84935          N          49             1                     0   \n",
       "105570         N          92             0                     0   \n",
       "114181         N         666             0                     0   \n",
       "82239          N         123             0                     0   \n",
       "\n",
       "        tbc_rtl_str_dstnc  sft_emrgnc_bll_dstnc  ahsm_dstnc  no_tbc_zn_dstnc  \\\n",
       "id                                                                             \n",
       "91161                 196                   181       19071              157   \n",
       "84935                 389                  1202       20785               86   \n",
       "105570               2956                  6986       26847              382   \n",
       "114181                755                  3889        6006             2581   \n",
       "82239                 345                   306       19098               70   \n",
       "\n",
       "        bldng_cnt_in_50m  fr_yn  \n",
       "id                               \n",
       "91161                  9      N  \n",
       "84935                 17      N  \n",
       "105570                 0      N  \n",
       "114181                 0      Y  \n",
       "82239                 27      N  \n",
       "\n",
       "[5 rows x 171 columns]"
      ]
     },
     "execution_count": 4,
     "metadata": {},
     "output_type": "execute_result"
    }
   ],
   "source": [
    "validation.head()"
   ]
  },
  {
   "cell_type": "code",
   "execution_count": 5,
   "metadata": {},
   "outputs": [],
   "source": [
    "train = pd.merge(train,validation, how=\"outer\")"
   ]
  },
  {
   "cell_type": "code",
   "execution_count": 6,
   "metadata": {},
   "outputs": [
    {
     "name": "stdout",
     "output_type": "stream",
     "text": [
      "(66097, 171)\n"
     ]
    }
   ],
   "source": [
    "print(train.shape)"
   ]
  },
  {
   "cell_type": "code",
   "execution_count": 7,
   "metadata": {},
   "outputs": [
    {
     "data": {
      "text/html": [
       "<div>\n",
       "<style scoped>\n",
       "    .dataframe tbody tr th:only-of-type {\n",
       "        vertical-align: middle;\n",
       "    }\n",
       "\n",
       "    .dataframe tbody tr th {\n",
       "        vertical-align: top;\n",
       "    }\n",
       "\n",
       "    .dataframe thead th {\n",
       "        text-align: right;\n",
       "    }\n",
       "</style>\n",
       "<table border=\"1\" class=\"dataframe\">\n",
       "  <thead>\n",
       "    <tr style=\"text-align: right;\">\n",
       "      <th></th>\n",
       "      <th>dt_of_fr</th>\n",
       "      <th>bldng_us</th>\n",
       "      <th>bldng_archtctr</th>\n",
       "      <th>bldng_cnt</th>\n",
       "      <th>bldng_ar</th>\n",
       "      <th>ttl_ar</th>\n",
       "      <th>lnd_ar</th>\n",
       "      <th>dt_of_athrztn</th>\n",
       "      <th>ttl_grnd_flr</th>\n",
       "      <th>ttl_dwn_flr</th>\n",
       "      <th>...</th>\n",
       "      <th>mlt_us_yn</th>\n",
       "      <th>cctv_dstnc</th>\n",
       "      <th>cctv_in_100m</th>\n",
       "      <th>fr_wthr_fclt_in_100m</th>\n",
       "      <th>tbc_rtl_str_dstnc</th>\n",
       "      <th>sft_emrgnc_bll_dstnc</th>\n",
       "      <th>ahsm_dstnc</th>\n",
       "      <th>no_tbc_zn_dstnc</th>\n",
       "      <th>bldng_cnt_in_50m</th>\n",
       "      <th>fr_yn</th>\n",
       "    </tr>\n",
       "  </thead>\n",
       "  <tbody>\n",
       "    <tr>\n",
       "      <th>0</th>\n",
       "      <td>2015-10-03 02:33:46</td>\n",
       "      <td>NaN</td>\n",
       "      <td>NaN</td>\n",
       "      <td>3</td>\n",
       "      <td>112.86</td>\n",
       "      <td>112.86</td>\n",
       "      <td>200.0</td>\n",
       "      <td>nan</td>\n",
       "      <td>1.0</td>\n",
       "      <td>0.0</td>\n",
       "      <td>...</td>\n",
       "      <td>N</td>\n",
       "      <td>129</td>\n",
       "      <td>0</td>\n",
       "      <td>0</td>\n",
       "      <td>809</td>\n",
       "      <td>2453</td>\n",
       "      <td>17664</td>\n",
       "      <td>83</td>\n",
       "      <td>0</td>\n",
       "      <td>N</td>\n",
       "    </tr>\n",
       "    <tr>\n",
       "      <th>1</th>\n",
       "      <td>2016-11-13 17:05:57</td>\n",
       "      <td>업무시설</td>\n",
       "      <td>철근콘크리트구조</td>\n",
       "      <td>3</td>\n",
       "      <td>721.82</td>\n",
       "      <td>1109.54</td>\n",
       "      <td>0.0</td>\n",
       "      <td>19881010.0</td>\n",
       "      <td>5.0</td>\n",
       "      <td>0.0</td>\n",
       "      <td>...</td>\n",
       "      <td>N</td>\n",
       "      <td>27</td>\n",
       "      <td>5</td>\n",
       "      <td>1</td>\n",
       "      <td>1731</td>\n",
       "      <td>2561</td>\n",
       "      <td>18136</td>\n",
       "      <td>50</td>\n",
       "      <td>0</td>\n",
       "      <td>N</td>\n",
       "    </tr>\n",
       "    <tr>\n",
       "      <th>2</th>\n",
       "      <td>2016-11-21 12:46:36</td>\n",
       "      <td>단독주택</td>\n",
       "      <td>블록구조</td>\n",
       "      <td>4</td>\n",
       "      <td>47.06</td>\n",
       "      <td>47.06</td>\n",
       "      <td>288.0</td>\n",
       "      <td>19650101.0</td>\n",
       "      <td>1.0</td>\n",
       "      <td>0.0</td>\n",
       "      <td>...</td>\n",
       "      <td>N</td>\n",
       "      <td>273</td>\n",
       "      <td>0</td>\n",
       "      <td>0</td>\n",
       "      <td>825</td>\n",
       "      <td>3964</td>\n",
       "      <td>14944</td>\n",
       "      <td>270</td>\n",
       "      <td>1</td>\n",
       "      <td>N</td>\n",
       "    </tr>\n",
       "    <tr>\n",
       "      <th>3</th>\n",
       "      <td>2016-11-07 02:50:14</td>\n",
       "      <td>위험물저장및처리시설</td>\n",
       "      <td>벽돌구조</td>\n",
       "      <td>2</td>\n",
       "      <td>171.45</td>\n",
       "      <td>176.64</td>\n",
       "      <td>1379.0</td>\n",
       "      <td>20020129.0</td>\n",
       "      <td>2.0</td>\n",
       "      <td>0.0</td>\n",
       "      <td>...</td>\n",
       "      <td>N</td>\n",
       "      <td>109</td>\n",
       "      <td>0</td>\n",
       "      <td>0</td>\n",
       "      <td>1264</td>\n",
       "      <td>2572</td>\n",
       "      <td>15104</td>\n",
       "      <td>132</td>\n",
       "      <td>0</td>\n",
       "      <td>N</td>\n",
       "    </tr>\n",
       "    <tr>\n",
       "      <th>4</th>\n",
       "      <td>2014-01-28 16:36:43</td>\n",
       "      <td>NaN</td>\n",
       "      <td>NaN</td>\n",
       "      <td>4</td>\n",
       "      <td>0.00</td>\n",
       "      <td>0.00</td>\n",
       "      <td>0.0</td>\n",
       "      <td>nan</td>\n",
       "      <td>NaN</td>\n",
       "      <td>NaN</td>\n",
       "      <td>...</td>\n",
       "      <td>N</td>\n",
       "      <td>739</td>\n",
       "      <td>0</td>\n",
       "      <td>0</td>\n",
       "      <td>10241</td>\n",
       "      <td>100127</td>\n",
       "      <td>5000</td>\n",
       "      <td>5004</td>\n",
       "      <td>0</td>\n",
       "      <td>N</td>\n",
       "    </tr>\n",
       "  </tbody>\n",
       "</table>\n",
       "<p>5 rows × 171 columns</p>\n",
       "</div>"
      ],
      "text/plain": [
       "             dt_of_fr    bldng_us bldng_archtctr  bldng_cnt  bldng_ar  \\\n",
       "0 2015-10-03 02:33:46         NaN            NaN          3    112.86   \n",
       "1 2016-11-13 17:05:57        업무시설       철근콘크리트구조          3    721.82   \n",
       "2 2016-11-21 12:46:36        단독주택           블록구조          4     47.06   \n",
       "3 2016-11-07 02:50:14  위험물저장및처리시설           벽돌구조          2    171.45   \n",
       "4 2014-01-28 16:36:43         NaN            NaN          4      0.00   \n",
       "\n",
       "    ttl_ar  lnd_ar dt_of_athrztn  ttl_grnd_flr  ttl_dwn_flr  ... mlt_us_yn  \\\n",
       "0   112.86   200.0           nan           1.0          0.0  ...         N   \n",
       "1  1109.54     0.0    19881010.0           5.0          0.0  ...         N   \n",
       "2    47.06   288.0    19650101.0           1.0          0.0  ...         N   \n",
       "3   176.64  1379.0    20020129.0           2.0          0.0  ...         N   \n",
       "4     0.00     0.0           nan           NaN          NaN  ...         N   \n",
       "\n",
       "   cctv_dstnc  cctv_in_100m  fr_wthr_fclt_in_100m  tbc_rtl_str_dstnc  \\\n",
       "0         129             0                     0                809   \n",
       "1          27             5                     1               1731   \n",
       "2         273             0                     0                825   \n",
       "3         109             0                     0               1264   \n",
       "4         739             0                     0              10241   \n",
       "\n",
       "   sft_emrgnc_bll_dstnc  ahsm_dstnc  no_tbc_zn_dstnc  bldng_cnt_in_50m  fr_yn  \n",
       "0                  2453       17664               83                 0      N  \n",
       "1                  2561       18136               50                 0      N  \n",
       "2                  3964       14944              270                 1      N  \n",
       "3                  2572       15104              132                 0      N  \n",
       "4                100127        5000             5004                 0      N  \n",
       "\n",
       "[5 rows x 171 columns]"
      ]
     },
     "execution_count": 7,
     "metadata": {},
     "output_type": "execute_result"
    }
   ],
   "source": [
    "train.head()"
   ]
  },
  {
   "cell_type": "code",
   "execution_count": 8,
   "metadata": {},
   "outputs": [
    {
     "name": "stdout",
     "output_type": "stream",
     "text": [
      "['dt_of_fr' 'bldng_us' 'bldng_archtctr' 'bldng_cnt' 'bldng_ar' 'ttl_ar'\n",
      " 'lnd_ar' 'dt_of_athrztn' 'ttl_grnd_flr' 'ttl_dwn_flr' 'bldng_us_clssfctn'\n",
      " 'tmprtr' 'prcpttn' 'wnd_spd' 'wnd_drctn' 'hmdt' 'gas_engry_us_201401'\n",
      " 'ele_engry_us_201401' 'gas_engry_us_201402' 'ele_engry_us_201402'\n",
      " 'gas_engry_us_201403' 'ele_engry_us_201403' 'gas_engry_us_201404'\n",
      " 'ele_engry_us_201404' 'gas_engry_us_201405' 'ele_engry_us_201405'\n",
      " 'gas_engry_us_201406' 'ele_engry_us_201406' 'gas_engry_us_201407'\n",
      " 'ele_engry_us_201407' 'gas_engry_us_201408' 'ele_engry_us_201408'\n",
      " 'gas_engry_us_201409' 'ele_engry_us_201409' 'gas_engry_us_201410'\n",
      " 'ele_engry_us_201410' 'gas_engry_us_201411' 'ele_engry_us_201411'\n",
      " 'gas_engry_us_201412' 'ele_engry_us_201412' 'gas_engry_us_201501'\n",
      " 'ele_engry_us_201501' 'gas_engry_us_201502' 'ele_engry_us_201502'\n",
      " 'gas_engry_us_201503' 'ele_engry_us_201503' 'gas_engry_us_201504'\n",
      " 'ele_engry_us_201504' 'gas_engry_us_201505' 'ele_engry_us_201505'\n",
      " 'gas_engry_us_201506' 'ele_engry_us_201506' 'gas_engry_us_201507'\n",
      " 'ele_engry_us_201507' 'gas_engry_us_201508' 'ele_engry_us_201508'\n",
      " 'gas_engry_us_201509' 'ele_engry_us_201509' 'gas_engry_us_201510'\n",
      " 'ele_engry_us_201510' 'gas_engry_us_201511' 'ele_engry_us_201511'\n",
      " 'gas_engry_us_201512' 'ele_engry_us_201512' 'gas_engry_us_201601'\n",
      " 'ele_engry_us_201601' 'gas_engry_us_201602' 'ele_engry_us_201602'\n",
      " 'gas_engry_us_201603' 'ele_engry_us_201603' 'gas_engry_us_201604'\n",
      " 'ele_engry_us_201604' 'gas_engry_us_201605' 'ele_engry_us_201605'\n",
      " 'gas_engry_us_201606' 'ele_engry_us_201606' 'gas_engry_us_201607'\n",
      " 'ele_engry_us_201607' 'gas_engry_us_201608' 'ele_engry_us_201608'\n",
      " 'gas_engry_us_201609' 'ele_engry_us_201609' 'gas_engry_us_201610'\n",
      " 'ele_engry_us_201610' 'gas_engry_us_201611' 'ele_engry_us_201611'\n",
      " 'gas_engry_us_201612' 'ele_engry_us_201612' 'gas_engry_us_201701'\n",
      " 'ele_engry_us_201701' 'gas_engry_us_201702' 'ele_engry_us_201702'\n",
      " 'gas_engry_us_201703' 'ele_engry_us_201703' 'gas_engry_us_201704'\n",
      " 'ele_engry_us_201704' 'gas_engry_us_201705' 'ele_engry_us_201705'\n",
      " 'gas_engry_us_201706' 'ele_engry_us_201706' 'gas_engry_us_201707'\n",
      " 'ele_engry_us_201707' 'gas_engry_us_201708' 'ele_engry_us_201708'\n",
      " 'gas_engry_us_201709' 'ele_engry_us_201709' 'gas_engry_us_201710'\n",
      " 'ele_engry_us_201710' 'gas_engry_us_201711' 'ele_engry_us_201711'\n",
      " 'gas_engry_us_201712' 'ele_engry_us_201712' 'gas_engry_us_201801'\n",
      " 'ele_engry_us_201801' 'gas_engry_us_201802' 'ele_engry_us_201802'\n",
      " 'gas_engry_us_201803' 'ele_engry_us_201803' 'gas_engry_us_201804'\n",
      " 'ele_engry_us_201804' 'gas_engry_us_201805' 'ele_engry_us_201805'\n",
      " 'gas_engry_us_201806' 'ele_engry_us_201806' 'gas_engry_us_201807'\n",
      " 'ele_engry_us_201807' 'gas_engry_us_201808' 'ele_engry_us_201808'\n",
      " 'gas_engry_us_201809' 'ele_engry_us_201809' 'gas_engry_us_201810'\n",
      " 'ele_engry_us_201810' 'gas_engry_us_201811' 'ele_engry_us_201811'\n",
      " 'gas_engry_us_201812' 'ele_engry_us_201812' 'lw_13101010' 'lw_13101110'\n",
      " 'lw_13101210' 'lw_13101211' 'lw_13101310' 'lw_13101410' 'lw_13111010'\n",
      " 'lw_13111110' 'lw_13121010' 'lw_13121011' 'lw_13131010' 'lw_13131110'\n",
      " 'lw_13141010' 'lw_13141011' 'jmk' 'rgnl_ar_nm' 'rgnl_ar_nm2'\n",
      " 'lnd_us_sttn_nm' 'rd_sd_nm' 'emd_nm' 'hm_cnt' 'fr_sttn_dstnc'\n",
      " 'bldng_ar_prc' 'fr_wthr_fclt_dstnc' 'fr_mn_cnt' 'mlt_us_yn' 'cctv_dstnc'\n",
      " 'cctv_in_100m' 'fr_wthr_fclt_in_100m' 'tbc_rtl_str_dstnc'\n",
      " 'sft_emrgnc_bll_dstnc' 'ahsm_dstnc' 'no_tbc_zn_dstnc' 'bldng_cnt_in_50m'\n",
      " 'fr_yn']\n"
     ]
    }
   ],
   "source": [
    "print(train.columns.values)"
   ]
  },
  {
   "cell_type": "code",
   "execution_count": 9,
   "metadata": {
    "scrolled": true
   },
   "outputs": [
    {
     "name": "stdout",
     "output_type": "stream",
     "text": [
      "(2957, 170)\n"
     ]
    },
    {
     "data": {
      "text/html": [
       "<div>\n",
       "<style scoped>\n",
       "    .dataframe tbody tr th:only-of-type {\n",
       "        vertical-align: middle;\n",
       "    }\n",
       "\n",
       "    .dataframe tbody tr th {\n",
       "        vertical-align: top;\n",
       "    }\n",
       "\n",
       "    .dataframe thead th {\n",
       "        text-align: right;\n",
       "    }\n",
       "</style>\n",
       "<table border=\"1\" class=\"dataframe\">\n",
       "  <thead>\n",
       "    <tr style=\"text-align: right;\">\n",
       "      <th></th>\n",
       "      <th>dt_of_fr</th>\n",
       "      <th>bldng_us</th>\n",
       "      <th>bldng_archtctr</th>\n",
       "      <th>bldng_cnt</th>\n",
       "      <th>bldng_ar</th>\n",
       "      <th>ttl_ar</th>\n",
       "      <th>lnd_ar</th>\n",
       "      <th>dt_of_athrztn</th>\n",
       "      <th>ttl_grnd_flr</th>\n",
       "      <th>ttl_dwn_flr</th>\n",
       "      <th>...</th>\n",
       "      <th>fr_mn_cnt</th>\n",
       "      <th>mlt_us_yn</th>\n",
       "      <th>cctv_dstnc</th>\n",
       "      <th>cctv_in_100m</th>\n",
       "      <th>fr_wthr_fclt_in_100m</th>\n",
       "      <th>tbc_rtl_str_dstnc</th>\n",
       "      <th>sft_emrgnc_bll_dstnc</th>\n",
       "      <th>ahsm_dstnc</th>\n",
       "      <th>no_tbc_zn_dstnc</th>\n",
       "      <th>bldng_cnt_in_50m</th>\n",
       "    </tr>\n",
       "    <tr>\n",
       "      <th>id</th>\n",
       "      <th></th>\n",
       "      <th></th>\n",
       "      <th></th>\n",
       "      <th></th>\n",
       "      <th></th>\n",
       "      <th></th>\n",
       "      <th></th>\n",
       "      <th></th>\n",
       "      <th></th>\n",
       "      <th></th>\n",
       "      <th></th>\n",
       "      <th></th>\n",
       "      <th></th>\n",
       "      <th></th>\n",
       "      <th></th>\n",
       "      <th></th>\n",
       "      <th></th>\n",
       "      <th></th>\n",
       "      <th></th>\n",
       "      <th></th>\n",
       "      <th></th>\n",
       "    </tr>\n",
       "  </thead>\n",
       "  <tbody>\n",
       "    <tr>\n",
       "      <th>122699</th>\n",
       "      <td>2017-04-07 09:25:23</td>\n",
       "      <td>단독주택</td>\n",
       "      <td>벽돌구조</td>\n",
       "      <td>1</td>\n",
       "      <td>74.84</td>\n",
       "      <td>114.17</td>\n",
       "      <td>191.0</td>\n",
       "      <td>19860701.0</td>\n",
       "      <td>2.0</td>\n",
       "      <td>0.0</td>\n",
       "      <td>...</td>\n",
       "      <td>201.0</td>\n",
       "      <td>N</td>\n",
       "      <td>77</td>\n",
       "      <td>1</td>\n",
       "      <td>1</td>\n",
       "      <td>46</td>\n",
       "      <td>95</td>\n",
       "      <td>18159</td>\n",
       "      <td>101</td>\n",
       "      <td>6</td>\n",
       "    </tr>\n",
       "    <tr>\n",
       "      <th>125440</th>\n",
       "      <td>2017-04-29 20:04:09</td>\n",
       "      <td>단독주택</td>\n",
       "      <td>블록구조</td>\n",
       "      <td>4</td>\n",
       "      <td>70.00</td>\n",
       "      <td>70.00</td>\n",
       "      <td>0.0</td>\n",
       "      <td>19601220.0</td>\n",
       "      <td>2.0</td>\n",
       "      <td>0.0</td>\n",
       "      <td>...</td>\n",
       "      <td>201.0</td>\n",
       "      <td>N</td>\n",
       "      <td>17</td>\n",
       "      <td>2</td>\n",
       "      <td>2</td>\n",
       "      <td>239</td>\n",
       "      <td>159</td>\n",
       "      <td>17172</td>\n",
       "      <td>263</td>\n",
       "      <td>4</td>\n",
       "    </tr>\n",
       "    <tr>\n",
       "      <th>75921</th>\n",
       "      <td>2014-09-15 23:11:28</td>\n",
       "      <td>NaN</td>\n",
       "      <td>NaN</td>\n",
       "      <td>2</td>\n",
       "      <td>135.11</td>\n",
       "      <td>135.11</td>\n",
       "      <td>380.0</td>\n",
       "      <td>nan</td>\n",
       "      <td>1.0</td>\n",
       "      <td>0.0</td>\n",
       "      <td>...</td>\n",
       "      <td>178.0</td>\n",
       "      <td>N</td>\n",
       "      <td>448</td>\n",
       "      <td>0</td>\n",
       "      <td>0</td>\n",
       "      <td>1322</td>\n",
       "      <td>5414</td>\n",
       "      <td>12740</td>\n",
       "      <td>836</td>\n",
       "      <td>0</td>\n",
       "    </tr>\n",
       "    <tr>\n",
       "      <th>123350</th>\n",
       "      <td>2016-02-26 03:03:54</td>\n",
       "      <td>단독주택</td>\n",
       "      <td>철근콘크리트구조</td>\n",
       "      <td>1</td>\n",
       "      <td>118.50</td>\n",
       "      <td>303.66</td>\n",
       "      <td>198.3</td>\n",
       "      <td>20120802.0</td>\n",
       "      <td>3.0</td>\n",
       "      <td>0.0</td>\n",
       "      <td>...</td>\n",
       "      <td>201.0</td>\n",
       "      <td>N</td>\n",
       "      <td>82</td>\n",
       "      <td>0</td>\n",
       "      <td>0</td>\n",
       "      <td>298</td>\n",
       "      <td>1033</td>\n",
       "      <td>16581</td>\n",
       "      <td>167</td>\n",
       "      <td>0</td>\n",
       "    </tr>\n",
       "    <tr>\n",
       "      <th>123152</th>\n",
       "      <td>2018-04-11 10:08:27</td>\n",
       "      <td>단독주택</td>\n",
       "      <td>경량철골구조</td>\n",
       "      <td>1</td>\n",
       "      <td>82.95</td>\n",
       "      <td>82.95</td>\n",
       "      <td>239.0</td>\n",
       "      <td>20130430.0</td>\n",
       "      <td>1.0</td>\n",
       "      <td>0.0</td>\n",
       "      <td>...</td>\n",
       "      <td>178.0</td>\n",
       "      <td>N</td>\n",
       "      <td>217</td>\n",
       "      <td>0</td>\n",
       "      <td>1</td>\n",
       "      <td>717</td>\n",
       "      <td>725</td>\n",
       "      <td>7847</td>\n",
       "      <td>270</td>\n",
       "      <td>0</td>\n",
       "    </tr>\n",
       "  </tbody>\n",
       "</table>\n",
       "<p>5 rows × 170 columns</p>\n",
       "</div>"
      ],
      "text/plain": [
       "                  dt_of_fr bldng_us bldng_archtctr  bldng_cnt  bldng_ar  \\\n",
       "id                                                                        \n",
       "122699 2017-04-07 09:25:23     단독주택           벽돌구조          1     74.84   \n",
       "125440 2017-04-29 20:04:09     단독주택           블록구조          4     70.00   \n",
       "75921  2014-09-15 23:11:28      NaN            NaN          2    135.11   \n",
       "123350 2016-02-26 03:03:54     단독주택       철근콘크리트구조          1    118.50   \n",
       "123152 2018-04-11 10:08:27     단독주택         경량철골구조          1     82.95   \n",
       "\n",
       "        ttl_ar  lnd_ar dt_of_athrztn  ttl_grnd_flr  ttl_dwn_flr  ...  \\\n",
       "id                                                               ...   \n",
       "122699  114.17   191.0    19860701.0           2.0          0.0  ...   \n",
       "125440   70.00     0.0    19601220.0           2.0          0.0  ...   \n",
       "75921   135.11   380.0           nan           1.0          0.0  ...   \n",
       "123350  303.66   198.3    20120802.0           3.0          0.0  ...   \n",
       "123152   82.95   239.0    20130430.0           1.0          0.0  ...   \n",
       "\n",
       "       fr_mn_cnt  mlt_us_yn  cctv_dstnc  cctv_in_100m  fr_wthr_fclt_in_100m  \\\n",
       "id                                                                            \n",
       "122699     201.0          N          77             1                     1   \n",
       "125440     201.0          N          17             2                     2   \n",
       "75921      178.0          N         448             0                     0   \n",
       "123350     201.0          N          82             0                     0   \n",
       "123152     178.0          N         217             0                     1   \n",
       "\n",
       "        tbc_rtl_str_dstnc  sft_emrgnc_bll_dstnc  ahsm_dstnc  no_tbc_zn_dstnc  \\\n",
       "id                                                                             \n",
       "122699                 46                    95       18159              101   \n",
       "125440                239                   159       17172              263   \n",
       "75921                1322                  5414       12740              836   \n",
       "123350                298                  1033       16581              167   \n",
       "123152                717                   725        7847              270   \n",
       "\n",
       "        bldng_cnt_in_50m  \n",
       "id                        \n",
       "122699                 6  \n",
       "125440                 4  \n",
       "75921                  0  \n",
       "123350                 0  \n",
       "123152                 0  \n",
       "\n",
       "[5 rows x 170 columns]"
      ]
     },
     "execution_count": 9,
     "metadata": {},
     "output_type": "execute_result"
    }
   ],
   "source": [
    "test = pd.read_csv(\"PJT002_test.csv\", index_col=\"id\", low_memory=False, parse_dates=[\"dt_of_fr\", \"dt_of_athrztn\"])\n",
    "print(test.shape)\n",
    "test.head()"
   ]
  },
  {
   "cell_type": "code",
   "execution_count": 10,
   "metadata": {
    "scrolled": true
   },
   "outputs": [
    {
     "data": {
      "text/html": [
       "<div>\n",
       "<style scoped>\n",
       "    .dataframe tbody tr th:only-of-type {\n",
       "        vertical-align: middle;\n",
       "    }\n",
       "\n",
       "    .dataframe tbody tr th {\n",
       "        vertical-align: top;\n",
       "    }\n",
       "\n",
       "    .dataframe thead th {\n",
       "        text-align: right;\n",
       "    }\n",
       "</style>\n",
       "<table border=\"1\" class=\"dataframe\">\n",
       "  <thead>\n",
       "    <tr style=\"text-align: right;\">\n",
       "      <th></th>\n",
       "      <th>dt_of_fr</th>\n",
       "      <th>bldng_us</th>\n",
       "      <th>bldng_archtctr</th>\n",
       "      <th>bldng_cnt</th>\n",
       "      <th>bldng_ar</th>\n",
       "      <th>ttl_ar</th>\n",
       "      <th>lnd_ar</th>\n",
       "      <th>dt_of_athrztn</th>\n",
       "      <th>ttl_grnd_flr</th>\n",
       "      <th>ttl_dwn_flr</th>\n",
       "      <th>...</th>\n",
       "      <th>fr_mn_cnt</th>\n",
       "      <th>mlt_us_yn</th>\n",
       "      <th>cctv_dstnc</th>\n",
       "      <th>cctv_in_100m</th>\n",
       "      <th>fr_wthr_fclt_in_100m</th>\n",
       "      <th>tbc_rtl_str_dstnc</th>\n",
       "      <th>sft_emrgnc_bll_dstnc</th>\n",
       "      <th>ahsm_dstnc</th>\n",
       "      <th>no_tbc_zn_dstnc</th>\n",
       "      <th>bldng_cnt_in_50m</th>\n",
       "    </tr>\n",
       "    <tr>\n",
       "      <th>id</th>\n",
       "      <th></th>\n",
       "      <th></th>\n",
       "      <th></th>\n",
       "      <th></th>\n",
       "      <th></th>\n",
       "      <th></th>\n",
       "      <th></th>\n",
       "      <th></th>\n",
       "      <th></th>\n",
       "      <th></th>\n",
       "      <th></th>\n",
       "      <th></th>\n",
       "      <th></th>\n",
       "      <th></th>\n",
       "      <th></th>\n",
       "      <th></th>\n",
       "      <th></th>\n",
       "      <th></th>\n",
       "      <th></th>\n",
       "      <th></th>\n",
       "      <th></th>\n",
       "    </tr>\n",
       "  </thead>\n",
       "  <tbody>\n",
       "    <tr>\n",
       "      <th>92077</th>\n",
       "      <td>2017-02-06 01:30:37</td>\n",
       "      <td>단독주택</td>\n",
       "      <td>철근콘크리트구조</td>\n",
       "      <td>2</td>\n",
       "      <td>78.50</td>\n",
       "      <td>126.28</td>\n",
       "      <td>397.0</td>\n",
       "      <td>20160107.0</td>\n",
       "      <td>2.0</td>\n",
       "      <td>0.0</td>\n",
       "      <td>...</td>\n",
       "      <td>178.0</td>\n",
       "      <td>N</td>\n",
       "      <td>86</td>\n",
       "      <td>0</td>\n",
       "      <td>0</td>\n",
       "      <td>944</td>\n",
       "      <td>300</td>\n",
       "      <td>4557</td>\n",
       "      <td>252</td>\n",
       "      <td>0</td>\n",
       "    </tr>\n",
       "    <tr>\n",
       "      <th>90387</th>\n",
       "      <td>2014-09-18 01:28:23</td>\n",
       "      <td>공장</td>\n",
       "      <td>일반철골구조</td>\n",
       "      <td>3</td>\n",
       "      <td>247.80</td>\n",
       "      <td>247.80</td>\n",
       "      <td>607.0</td>\n",
       "      <td>19980323.0</td>\n",
       "      <td>1.0</td>\n",
       "      <td>0.0</td>\n",
       "      <td>...</td>\n",
       "      <td>201.0</td>\n",
       "      <td>N</td>\n",
       "      <td>1057</td>\n",
       "      <td>0</td>\n",
       "      <td>0</td>\n",
       "      <td>4509</td>\n",
       "      <td>10269</td>\n",
       "      <td>25817</td>\n",
       "      <td>2129</td>\n",
       "      <td>0</td>\n",
       "    </tr>\n",
       "    <tr>\n",
       "      <th>103080</th>\n",
       "      <td>2017-03-23 21:51:19</td>\n",
       "      <td>공장</td>\n",
       "      <td>일반철골구조</td>\n",
       "      <td>1</td>\n",
       "      <td>807.04</td>\n",
       "      <td>969.19</td>\n",
       "      <td>1171.3</td>\n",
       "      <td>20050608.0</td>\n",
       "      <td>2.0</td>\n",
       "      <td>0.0</td>\n",
       "      <td>...</td>\n",
       "      <td>178.0</td>\n",
       "      <td>N</td>\n",
       "      <td>280</td>\n",
       "      <td>0</td>\n",
       "      <td>1</td>\n",
       "      <td>238</td>\n",
       "      <td>2792</td>\n",
       "      <td>6007</td>\n",
       "      <td>812</td>\n",
       "      <td>2</td>\n",
       "    </tr>\n",
       "    <tr>\n",
       "      <th>98966</th>\n",
       "      <td>2014-03-20 15:28:29</td>\n",
       "      <td>제2종근린생활시설</td>\n",
       "      <td>경량철골구조</td>\n",
       "      <td>1</td>\n",
       "      <td>99.96</td>\n",
       "      <td>99.96</td>\n",
       "      <td>745.0</td>\n",
       "      <td>20140502.0</td>\n",
       "      <td>1.0</td>\n",
       "      <td>0.0</td>\n",
       "      <td>...</td>\n",
       "      <td>201.0</td>\n",
       "      <td>N</td>\n",
       "      <td>84</td>\n",
       "      <td>0</td>\n",
       "      <td>0</td>\n",
       "      <td>568</td>\n",
       "      <td>297</td>\n",
       "      <td>21701</td>\n",
       "      <td>160</td>\n",
       "      <td>0</td>\n",
       "    </tr>\n",
       "    <tr>\n",
       "      <th>130425</th>\n",
       "      <td>2014-09-18 08:51:08</td>\n",
       "      <td>공장</td>\n",
       "      <td>일반철골구조</td>\n",
       "      <td>2</td>\n",
       "      <td>964.20</td>\n",
       "      <td>1073.74</td>\n",
       "      <td>6182.0</td>\n",
       "      <td>20130701.0</td>\n",
       "      <td>3.0</td>\n",
       "      <td>0.0</td>\n",
       "      <td>...</td>\n",
       "      <td>178.0</td>\n",
       "      <td>N</td>\n",
       "      <td>424</td>\n",
       "      <td>0</td>\n",
       "      <td>0</td>\n",
       "      <td>2259</td>\n",
       "      <td>1585</td>\n",
       "      <td>3471</td>\n",
       "      <td>768</td>\n",
       "      <td>1</td>\n",
       "    </tr>\n",
       "  </tbody>\n",
       "</table>\n",
       "<p>5 rows × 170 columns</p>\n",
       "</div>"
      ],
      "text/plain": [
       "                  dt_of_fr   bldng_us bldng_archtctr  bldng_cnt  bldng_ar  \\\n",
       "id                                                                          \n",
       "92077  2017-02-06 01:30:37       단독주택       철근콘크리트구조          2     78.50   \n",
       "90387  2014-09-18 01:28:23         공장         일반철골구조          3    247.80   \n",
       "103080 2017-03-23 21:51:19         공장         일반철골구조          1    807.04   \n",
       "98966  2014-03-20 15:28:29  제2종근린생활시설         경량철골구조          1     99.96   \n",
       "130425 2014-09-18 08:51:08         공장         일반철골구조          2    964.20   \n",
       "\n",
       "         ttl_ar  lnd_ar dt_of_athrztn  ttl_grnd_flr  ttl_dwn_flr  ...  \\\n",
       "id                                                                ...   \n",
       "92077    126.28   397.0    20160107.0           2.0          0.0  ...   \n",
       "90387    247.80   607.0    19980323.0           1.0          0.0  ...   \n",
       "103080   969.19  1171.3    20050608.0           2.0          0.0  ...   \n",
       "98966     99.96   745.0    20140502.0           1.0          0.0  ...   \n",
       "130425  1073.74  6182.0    20130701.0           3.0          0.0  ...   \n",
       "\n",
       "       fr_mn_cnt  mlt_us_yn  cctv_dstnc  cctv_in_100m  fr_wthr_fclt_in_100m  \\\n",
       "id                                                                            \n",
       "92077      178.0          N          86             0                     0   \n",
       "90387      201.0          N        1057             0                     0   \n",
       "103080     178.0          N         280             0                     1   \n",
       "98966      201.0          N          84             0                     0   \n",
       "130425     178.0          N         424             0                     0   \n",
       "\n",
       "        tbc_rtl_str_dstnc  sft_emrgnc_bll_dstnc  ahsm_dstnc  no_tbc_zn_dstnc  \\\n",
       "id                                                                             \n",
       "92077                 944                   300        4557              252   \n",
       "90387                4509                 10269       25817             2129   \n",
       "103080                238                  2792        6007              812   \n",
       "98966                 568                   297       21701              160   \n",
       "130425               2259                  1585        3471              768   \n",
       "\n",
       "        bldng_cnt_in_50m  \n",
       "id                        \n",
       "92077                  0  \n",
       "90387                  0  \n",
       "103080                 2  \n",
       "98966                  0  \n",
       "130425                 1  \n",
       "\n",
       "[5 rows x 170 columns]"
      ]
     },
     "execution_count": 10,
     "metadata": {},
     "output_type": "execute_result"
    }
   ],
   "source": [
    "test.tail()"
   ]
  },
  {
   "cell_type": "markdown",
   "metadata": {},
   "source": [
    "## Preprocessing"
   ]
  },
  {
   "cell_type": "code",
   "execution_count": 11,
   "metadata": {},
   "outputs": [],
   "source": [
    "%matplotlib inline\n",
    "import seaborn as sns\n",
    "import matplotlib.pyplot as plt"
   ]
  },
  {
   "cell_type": "markdown",
   "metadata": {},
   "source": [
    "### dt_of_athrztn"
   ]
  },
  {
   "cell_type": "code",
   "execution_count": 12,
   "metadata": {},
   "outputs": [],
   "source": [
    "# 건물승인일자 \"dt_of_athrztn\"의 year로만 구성된 칼럼을 만들어 보았다.\n",
    "# 199990101의 형식과 980203의 형식이 혼재되어 있어 YYYY로 통일해주었다.\n",
    "# test sheet는 YYYY로만 구성돼 있어 따로 전처리하지 않았다. \n",
    "\n",
    "# train set과 test set 둘 다 nan 값은 train set의 평균값으로 채워주었다.\n",
    "# 분포 보니 median으로 채우는 게 더 나을 것 같음.\n",
    "\n",
    "# month "
   ]
  },
  {
   "cell_type": "code",
   "execution_count": 13,
   "metadata": {
    "scrolled": true
   },
   "outputs": [
    {
     "data": {
      "text/plain": [
       "0           nan\n",
       "1    19881010.0\n",
       "2    19650101.0\n",
       "3    20020129.0\n",
       "4           nan\n",
       "Name: dt_of_athrztn, dtype: object"
      ]
     },
     "execution_count": 13,
     "metadata": {},
     "output_type": "execute_result"
    }
   ],
   "source": [
    "train[\"dt_of_athrztn\"].head()"
   ]
  },
  {
   "cell_type": "code",
   "execution_count": 14,
   "metadata": {},
   "outputs": [
    {
     "data": {
      "text/plain": [
       "id\n",
       "122699    1986\n",
       "125440    1960\n",
       "75921      nan\n",
       "123350    2012\n",
       "123152    2013\n",
       "Name: year_athrztn, dtype: object"
      ]
     },
     "execution_count": 14,
     "metadata": {},
     "output_type": "execute_result"
    }
   ],
   "source": [
    "train[\"year_athrztn\"] = train[\"dt_of_athrztn\"].str[:4]\n",
    "test[\"year_athrztn\"]=test[\"dt_of_athrztn\"].str[:4]\n",
    "test[\"year_athrztn\"].head()"
   ]
  },
  {
   "cell_type": "code",
   "execution_count": 15,
   "metadata": {},
   "outputs": [],
   "source": [
    "year_athrztn_notnull = train[(train[\"year_athrztn\"]!=\"nan\")]\n",
    "year_athrztn_YYYY = year_athrztn_notnull[year_athrztn_notnull[\"year_athrztn\"].astype(int)<3000]\n",
    "year_athrztn_YY = year_athrztn_notnull[year_athrztn_notnull[\"year_athrztn\"].astype(int)>3000]\n",
    "year_athrztn_null=train[train[\"year_athrztn\"]==\"nan\"]"
   ]
  },
  {
   "cell_type": "code",
   "execution_count": 16,
   "metadata": {},
   "outputs": [
    {
     "name": "stdout",
     "output_type": "stream",
     "text": [
      "(37414, 172)\n",
      "(6, 172)\n",
      "(28677, 172)\n"
     ]
    }
   ],
   "source": [
    "print(year_athrztn_YYYY.shape)\n",
    "print(year_athrztn_YY.shape)\n",
    "print(year_athrztn_null.shape)"
   ]
  },
  {
   "cell_type": "code",
   "execution_count": 17,
   "metadata": {},
   "outputs": [
    {
     "name": "stderr",
     "output_type": "stream",
     "text": [
      "C:\\Users\\ejvmw\\Anaconda3\\lib\\site-packages\\ipykernel_launcher.py:1: SettingWithCopyWarning: \n",
      "A value is trying to be set on a copy of a slice from a DataFrame.\n",
      "Try using .loc[row_indexer,col_indexer] = value instead\n",
      "\n",
      "See the caveats in the documentation: http://pandas.pydata.org/pandas-docs/stable/indexing.html#indexing-view-versus-copy\n",
      "  \"\"\"Entry point for launching an IPython kernel.\n"
     ]
    }
   ],
   "source": [
    "year_athrztn_YY[\"year_athrztn\"] = 1900 + year_athrztn_YY[\"dt_of_athrztn\"].str[:2].astype(int)"
   ]
  },
  {
   "cell_type": "code",
   "execution_count": 18,
   "metadata": {
    "scrolled": true
   },
   "outputs": [
    {
     "data": {
      "text/plain": [
       "12670    1998\n",
       "15736    1998\n",
       "26123    1997\n",
       "27621    1999\n",
       "35844    1999\n",
       "42684    1997\n",
       "Name: year_athrztn, dtype: int32"
      ]
     },
     "execution_count": 18,
     "metadata": {},
     "output_type": "execute_result"
    }
   ],
   "source": [
    "year_athrztn_YY[\"year_athrztn\"]"
   ]
  },
  {
   "cell_type": "code",
   "execution_count": 19,
   "metadata": {},
   "outputs": [
    {
     "name": "stderr",
     "output_type": "stream",
     "text": [
      "C:\\Users\\ejvmw\\Anaconda3\\lib\\site-packages\\ipykernel_launcher.py:1: SettingWithCopyWarning: \n",
      "A value is trying to be set on a copy of a slice from a DataFrame.\n",
      "Try using .loc[row_indexer,col_indexer] = value instead\n",
      "\n",
      "See the caveats in the documentation: http://pandas.pydata.org/pandas-docs/stable/indexing.html#indexing-view-versus-copy\n",
      "  \"\"\"Entry point for launching an IPython kernel.\n"
     ]
    }
   ],
   "source": [
    "year_athrztn_YYYY[\"year_athrztn\"]=year_athrztn_YYYY[\"year_athrztn\"].astype(int)"
   ]
  },
  {
   "cell_type": "code",
   "execution_count": 20,
   "metadata": {},
   "outputs": [],
   "source": [
    "year_athrztn_notnull = year_athrztn_YYYY.append(year_athrztn_YY)\n",
    "year_athrztn_mean=year_athrztn_notnull[\"year_athrztn\"].mean()"
   ]
  },
  {
   "cell_type": "code",
   "execution_count": 21,
   "metadata": {
    "scrolled": true
   },
   "outputs": [
    {
     "name": "stderr",
     "output_type": "stream",
     "text": [
      "C:\\Users\\ejvmw\\Anaconda3\\lib\\site-packages\\ipykernel_launcher.py:1: SettingWithCopyWarning: \n",
      "A value is trying to be set on a copy of a slice from a DataFrame.\n",
      "Try using .loc[row_indexer,col_indexer] = value instead\n",
      "\n",
      "See the caveats in the documentation: http://pandas.pydata.org/pandas-docs/stable/indexing.html#indexing-view-versus-copy\n",
      "  \"\"\"Entry point for launching an IPython kernel.\n"
     ]
    }
   ],
   "source": [
    "year_athrztn_null[\"year_athrztn\"]=year_athrztn_mean"
   ]
  },
  {
   "cell_type": "code",
   "execution_count": 22,
   "metadata": {
    "scrolled": true
   },
   "outputs": [],
   "source": [
    "train = year_athrztn_notnull.append(year_athrztn_null)"
   ]
  },
  {
   "cell_type": "code",
   "execution_count": 23,
   "metadata": {},
   "outputs": [
    {
     "data": {
      "text/plain": [
       "(66097, 172)"
      ]
     },
     "execution_count": 23,
     "metadata": {},
     "output_type": "execute_result"
    }
   ],
   "source": [
    "train.shape"
   ]
  },
  {
   "cell_type": "code",
   "execution_count": 24,
   "metadata": {},
   "outputs": [],
   "source": [
    "test.loc[test[\"year_athrztn\"]==\"nan\",\"year_athrztn\"]=year_athrztn_mean"
   ]
  },
  {
   "cell_type": "code",
   "execution_count": 25,
   "metadata": {},
   "outputs": [
    {
     "data": {
      "text/plain": [
       "1    1988.0\n",
       "2    1965.0\n",
       "3    2002.0\n",
       "5    2000.0\n",
       "6    1983.0\n",
       "Name: year_athrztn, dtype: float64"
      ]
     },
     "execution_count": 25,
     "metadata": {},
     "output_type": "execute_result"
    }
   ],
   "source": [
    "train[\"year_athrztn\"].head()"
   ]
  },
  {
   "cell_type": "code",
   "execution_count": 26,
   "metadata": {},
   "outputs": [],
   "source": [
    "train[\"year_athrztn\"]=train[\"year_athrztn\"].astype(int)\n",
    "test[\"year_athrztn\"]=test[\"year_athrztn\"].astype(int)"
   ]
  },
  {
   "cell_type": "code",
   "execution_count": 27,
   "metadata": {
    "scrolled": true
   },
   "outputs": [
    {
     "data": {
      "text/plain": [
       "array([1988, 1965, 2002, 2000, 1983, 1972, 2006, 2010, 1996, 2009, 1940,\n",
       "       1995, 1979, 2004, 2011, 1970, 1955, 1975, 1935, 1946, 1997, 1999,\n",
       "       2007, 2008, 2012, 1993, 1978, 2005, 2003, 1945, 2015, 1981, 2013,\n",
       "       2016, 1971, 1926, 1930, 1910, 1998, 1992, 1973, 1952, 1976, 1994,\n",
       "       2001, 1990, 1915, 1927, 1950, 1984, 1960, 1904, 1919, 1922, 1991,\n",
       "       1934, 1967, 1987, 1963, 1941, 1925, 1982, 1949, 1880, 1929, 1958,\n",
       "       1986, 1957, 1974, 1924, 2018, 1977, 1969, 2014, 1968, 1985, 1943,\n",
       "       1931, 1948, 1951, 1923, 1894, 1912, 1800, 1956, 1920, 1932, 1918,\n",
       "       1980, 1944, 1911, 1933, 1871, 1937, 1882, 1962, 1903, 1966, 2017,\n",
       "       1954, 1900, 1989, 1942, 1939, 1936, 1905, 1916, 1896, 1893, 1890,\n",
       "       1901, 1961, 1914, 1964, 1908, 1938, 1870, 1959, 1866, 1875, 1928,\n",
       "       1947, 1865, 1821, 1861, 1867, 1907, 1887, 1874, 1840, 1820, 1921,\n",
       "       1819, 1850, 1891, 1877, 1895, 1953, 1646, 1878, 1909, 1876, 1883,\n",
       "       1884, 1892, 1862, 1902, 1913, 1906, 1917, 1898, 1860, 1843, 1873,\n",
       "       1740, 1751, 1855, 1872, 1852, 1885, 1863, 1811, 1899, 1790, 1889,\n",
       "       1881, 1750], dtype=int64)"
      ]
     },
     "execution_count": 27,
     "metadata": {},
     "output_type": "execute_result"
    }
   ],
   "source": [
    "train[\"year_athrztn\"].unique()"
   ]
  },
  {
   "cell_type": "code",
   "execution_count": 28,
   "metadata": {},
   "outputs": [
    {
     "data": {
      "text/plain": [
       "array([1986, 1960, 2012, 2013, 1984, 2002, 1995, 1924, 2016, 2004, 1990,\n",
       "       2003, 1994, 1988, 1979, 1992, 1996, 2014, 1945, 2015, 1982, 2010,\n",
       "       1983, 1974, 1980, 1989, 1997, 2007, 2017, 2005, 1991, 2001, 2011,\n",
       "       1985, 1946, 1977, 1850, 2009, 1890, 1925, 1943, 1930, 2000, 2018,\n",
       "       1993, 1940, 1987, 1956, 2008, 1999, 1978, 1955, 1896, 1998, 1910,\n",
       "       1968, 1936, 1931, 1966, 1913, 1969, 1970, 1934, 1950, 2006, 1981,\n",
       "       1971, 1948, 1928, 1893, 1975, 1907, 1933, 1843, 1895, 1929, 1972,\n",
       "       1959, 1962, 1964, 1967, 1905, 1973, 1976, 1921, 1942, 1920, 1941,\n",
       "       1932, 1949, 1935, 1938, 1926, 1961, 1951, 1916, 1937, 1927, 1952,\n",
       "       1801, 1912, 1965, 1944, 1922, 1742, 1900, 1947, 1958, 1880, 1954],\n",
       "      dtype=int64)"
      ]
     },
     "execution_count": 28,
     "metadata": {},
     "output_type": "execute_result"
    }
   ],
   "source": [
    "test[\"year_athrztn\"].unique()"
   ]
  },
  {
   "cell_type": "code",
   "execution_count": 29,
   "metadata": {},
   "outputs": [],
   "source": [
    "train.loc[train[\"fr_yn\"]==\"N\",\"fr_yn_encoded\"]=\"0\"\n",
    "train.loc[train[\"fr_yn\"]==\"Y\", \"fr_yn_encoded\"]=\"1\"\n",
    "train[\"fr_yn_encoded\"]=train[\"fr_yn_encoded\"].astype(int)\n",
    "train[\"fr_yn_encoded\"]=train[\"fr_yn_encoded\"].astype(int)"
   ]
  },
  {
   "cell_type": "code",
   "execution_count": null,
   "metadata": {},
   "outputs": [],
   "source": []
  },
  {
   "cell_type": "code",
   "execution_count": 30,
   "metadata": {},
   "outputs": [],
   "source": [
    "#건축법 시행령 개정 년도인 2008의 다음해인 2009년을 기준으로 구분해보았다\n",
    "# 실제로 2007~2010을 기준년도로 했을 때 중 어떻게 찾지..?)\n",
    "\n",
    "#train[\"year_athrztn\"] = pd.to_numeric(train[\"year_athrztn\"])\n",
    "train.loc[train[\"year_athrztn\"]<2000,\"year_athrztn_encoded\"] = \"old\"\n",
    "train.loc[train[\"year_athrztn\"]>1999,\"year_athrztn_encoded\"] = \"new\"\n",
    "\n",
    "#test[\"year_athrztn\"] = pd.to_numeric(test[\"year_athrztn\"])\n",
    "test.loc[test[\"year_athrztn\"]<2000,\"year_athrztn_encoded\"] = \"old\"\n",
    "test.loc[test[\"year_athrztn\"]>1999,\"year_athrztn_encoded\"] = \"new\""
   ]
  },
  {
   "cell_type": "code",
   "execution_count": 31,
   "metadata": {
    "scrolled": true
   },
   "outputs": [
    {
     "data": {
      "text/html": [
       "<div>\n",
       "<style scoped>\n",
       "    .dataframe tbody tr th:only-of-type {\n",
       "        vertical-align: middle;\n",
       "    }\n",
       "\n",
       "    .dataframe tbody tr th {\n",
       "        vertical-align: top;\n",
       "    }\n",
       "\n",
       "    .dataframe thead th {\n",
       "        text-align: right;\n",
       "    }\n",
       "</style>\n",
       "<table border=\"1\" class=\"dataframe\">\n",
       "  <thead>\n",
       "    <tr style=\"text-align: right;\">\n",
       "      <th></th>\n",
       "      <th>fr_yn_encoded</th>\n",
       "    </tr>\n",
       "    <tr>\n",
       "      <th>year_athrztn_encoded</th>\n",
       "      <th></th>\n",
       "    </tr>\n",
       "  </thead>\n",
       "  <tbody>\n",
       "    <tr>\n",
       "      <th>new</th>\n",
       "      <td>0.290303</td>\n",
       "    </tr>\n",
       "    <tr>\n",
       "      <th>old</th>\n",
       "      <td>0.096811</td>\n",
       "    </tr>\n",
       "  </tbody>\n",
       "</table>\n",
       "</div>"
      ],
      "text/plain": [
       "                      fr_yn_encoded\n",
       "year_athrztn_encoded               \n",
       "new                        0.290303\n",
       "old                        0.096811"
      ]
     },
     "execution_count": 31,
     "metadata": {},
     "output_type": "execute_result"
    }
   ],
   "source": [
    "pd.pivot_table(train, index=\"year_athrztn_encoded\", values=\"fr_yn_encoded\")"
   ]
  },
  {
   "cell_type": "code",
   "execution_count": 32,
   "metadata": {},
   "outputs": [
    {
     "data": {
      "text/plain": [
       "(array([ 451.,  122.,  158.,  104.,  181.,  351.,  167.,  113.,  117.,\n",
       "          78.,  375.,   64.,   96.,   86.,   94.,  236.,  106.,  138.,\n",
       "         186.,  146.,  300.,  177.,  190.,  229.,  279.,  245.,  268.,\n",
       "         385.,  486.,  536.,  366.,  319.,  318.,  509.,  371.,  351.,\n",
       "         394.,  427.,  495.,  513.,  592.,  715.,  767.,  920., 1056.,\n",
       "        1302., 1410., 1241.,  805.,  636.,  736.,  713.,  927.,  901.,\n",
       "         844.,  770.,  697.,  792.,  814.,  715.,  759.,  776.,  740.,\n",
       "         646.,  527.,  607.,  581.,  531.]),\n",
       " array([1950, 1951, 1952, 1953, 1954, 1955, 1956, 1957, 1958, 1959, 1960,\n",
       "        1961, 1962, 1963, 1964, 1965, 1966, 1967, 1968, 1969, 1970, 1971,\n",
       "        1972, 1973, 1974, 1975, 1976, 1977, 1978, 1979, 1980, 1981, 1982,\n",
       "        1983, 1984, 1985, 1986, 1987, 1988, 1989, 1990, 1991, 1992, 1993,\n",
       "        1994, 1995, 1996, 1997, 1998, 1999, 2000, 2001, 2002, 2003, 2004,\n",
       "        2005, 2006, 2007, 2008, 2009, 2010, 2011, 2012, 2013, 2014, 2015,\n",
       "        2016, 2017, 2018]),\n",
       " <a list of 68 Patch objects>)"
      ]
     },
     "execution_count": 32,
     "metadata": {},
     "output_type": "execute_result"
    },
    {
     "data": {
      "image/png": "[encoded data removed]",
      "text/plain": [
       "<Figure size 432x288 with 1 Axes>"
      ]
     },
     "metadata": {
      "needs_background": "light"
     },
     "output_type": "display_data"
    }
   ],
   "source": [
    "list = []\n",
    "for i in range(1950,2019):\n",
    "    list.append(i)\n",
    "plt.hist(year_athrztn_notnull[\"year_athrztn\"], list, rwidth=0.9)"
   ]
  },
  {
   "cell_type": "code",
   "execution_count": null,
   "metadata": {},
   "outputs": [],
   "source": []
  },
  {
   "cell_type": "code",
   "execution_count": 33,
   "metadata": {
    "scrolled": true
   },
   "outputs": [
    {
     "data": {
      "text/plain": [
       "count    57168.000000\n",
       "mean      1985.430433\n",
       "std         18.410181\n",
       "min       1646.000000\n",
       "25%       1986.000000\n",
       "50%       1986.000000\n",
       "75%       1993.000000\n",
       "max       2018.000000\n",
       "Name: year_athrztn, dtype: float64"
      ]
     },
     "execution_count": 33,
     "metadata": {},
     "output_type": "execute_result"
    }
   ],
   "source": [
    "train[train[\"fr_yn_encoded\"]== 0][\"year_athrztn\"].describe()"
   ]
  },
  {
   "cell_type": "code",
   "execution_count": 34,
   "metadata": {},
   "outputs": [
    {
     "data": {
      "text/plain": [
       "count    8929.000000\n",
       "mean     1990.090268\n",
       "std        23.598715\n",
       "min      1740.000000\n",
       "25%      1984.000000\n",
       "50%      1997.000000\n",
       "75%      2006.000000\n",
       "max      2018.000000\n",
       "Name: year_athrztn, dtype: float64"
      ]
     },
     "execution_count": 34,
     "metadata": {},
     "output_type": "execute_result"
    }
   ],
   "source": [
    "train[train[\"fr_yn_encoded\"]== 1][\"year_athrztn\"].describe()"
   ]
  },
  {
   "cell_type": "code",
   "execution_count": null,
   "metadata": {},
   "outputs": [],
   "source": []
  },
  {
   "cell_type": "code",
   "execution_count": null,
   "metadata": {},
   "outputs": [],
   "source": []
  },
  {
   "cell_type": "code",
   "execution_count": null,
   "metadata": {},
   "outputs": [],
   "source": []
  },
  {
   "cell_type": "markdown",
   "metadata": {},
   "source": [
    "### bldng_ar 건물건축면적 & ttl_ar 건물연면적 & lnd_ar 토지면적"
   ]
  },
  {
   "cell_type": "code",
   "execution_count": 35,
   "metadata": {},
   "outputs": [],
   "source": [
    "# bldng_ar, ttl_ar, lnd_ar 비슷한 범주의 칼럼이라 판단했다. 세 칼럼 모두 결측치가 매우 많았다.\n",
    "# ttl_ar > bldng_ar이라는 상관관계가 있다.\n",
    "\n",
    "# 결측치는 blndg_ar, ttl_ar이 둘 다 공란인 경우가 대부분이었으나, 둘 중 하나만 공란인 경우도 있었다.\n",
    "# 따라서 random forest regressor을 이용해 blndg_ar, ttl_ar을 통해 ttl_ar의 결측치를 먼저 예측하였고,\n",
    "# 그 후엔 ttl_ar과 lnd_ar을 이용해 bldng_ar을 예측하였다.\n",
    "# 다른 featue들도 고려하면 정확도 높아질 것 같은데 뭐가 좋을까..?\n",
    "\n",
    "# test set의 blndg_ar과 ttl_ar에 대해서도 똑같은 방식으로 결측치를 채웠는데 이때 test set을 학습에 추가하지는 않았다.\n",
    "\n",
    "# lnd_ar은 결측치(0값)이 너무 많아 결측치 예측에만 사용하고, 최종 train features에서는 제외하였다."
   ]
  },
  {
   "cell_type": "code",
   "execution_count": 36,
   "metadata": {},
   "outputs": [
    {
     "data": {
      "text/plain": [
       "1       721.82\n",
       "2        47.06\n",
       "3       171.45\n",
       "5     30351.48\n",
       "6       114.15\n",
       "7        81.21\n",
       "8        61.95\n",
       "9       158.57\n",
       "10      231.60\n",
       "11      128.50\n",
       "Name: bldng_ar, dtype: float64"
      ]
     },
     "execution_count": 36,
     "metadata": {},
     "output_type": "execute_result"
    }
   ],
   "source": [
    "train[\"bldng_ar\"].head(10)"
   ]
  },
  {
   "cell_type": "code",
   "execution_count": 37,
   "metadata": {
    "scrolled": true
   },
   "outputs": [
    {
     "data": {
      "text/plain": [
       "(9890, 174)"
      ]
     },
     "execution_count": 37,
     "metadata": {},
     "output_type": "execute_result"
    }
   ],
   "source": [
    "train[train[\"bldng_ar\"]==0].shape"
   ]
  },
  {
   "cell_type": "code",
   "execution_count": 38,
   "metadata": {},
   "outputs": [
    {
     "data": {
      "text/plain": [
       "count     56207.000000\n",
       "mean        835.361048\n",
       "std       10202.029787\n",
       "min           3.310000\n",
       "25%          69.490000\n",
       "50%         106.600000\n",
       "75%         198.980000\n",
       "max      572897.955000\n",
       "Name: bldng_ar, dtype: float64"
      ]
     },
     "execution_count": 38,
     "metadata": {},
     "output_type": "execute_result"
    }
   ],
   "source": [
    "train[train[\"bldng_ar\"]!=0][\"bldng_ar\"].describe()"
   ]
  },
  {
   "cell_type": "code",
   "execution_count": 39,
   "metadata": {},
   "outputs": [
    {
     "data": {
      "text/plain": [
       "1       1109.54\n",
       "2         47.06\n",
       "3        176.64\n",
       "5     316147.12\n",
       "6        337.61\n",
       "7         81.21\n",
       "8         61.95\n",
       "9        254.53\n",
       "10       231.60\n",
       "11       197.71\n",
       "Name: ttl_ar, dtype: float64"
      ]
     },
     "execution_count": 39,
     "metadata": {},
     "output_type": "execute_result"
    }
   ],
   "source": [
    "train[\"ttl_ar\"].head(10)"
   ]
  },
  {
   "cell_type": "code",
   "execution_count": 40,
   "metadata": {
    "scrolled": true
   },
   "outputs": [
    {
     "data": {
      "text/plain": [
       "(8635, 174)"
      ]
     },
     "execution_count": 40,
     "metadata": {},
     "output_type": "execute_result"
    }
   ],
   "source": [
    "train[train[\"ttl_ar\"]==0].shape"
   ]
  },
  {
   "cell_type": "code",
   "execution_count": 41,
   "metadata": {},
   "outputs": [
    {
     "data": {
      "text/plain": [
       "count    5.746200e+04\n",
       "mean     3.721078e+03\n",
       "std      8.880898e+04\n",
       "min      2.850000e+00\n",
       "25%      7.338000e+01\n",
       "50%      1.264350e+02\n",
       "75%      3.234400e+02\n",
       "max      1.235184e+07\n",
       "Name: ttl_ar, dtype: float64"
      ]
     },
     "execution_count": 41,
     "metadata": {},
     "output_type": "execute_result"
    }
   ],
   "source": [
    "train[train[\"ttl_ar\"]!=0][\"ttl_ar\"].describe()"
   ]
  },
  {
   "cell_type": "code",
   "execution_count": 42,
   "metadata": {},
   "outputs": [
    {
     "data": {
      "text/plain": [
       "(8614, 174)"
      ]
     },
     "execution_count": 42,
     "metadata": {},
     "output_type": "execute_result"
    }
   ],
   "source": [
    "train[(train[\"bldng_ar\"]==0)&(train[\"ttl_ar\"]==0)].shape\n"
   ]
  },
  {
   "cell_type": "code",
   "execution_count": 43,
   "metadata": {
    "scrolled": true
   },
   "outputs": [
    {
     "data": {
      "text/plain": [
       "(1276, 174)"
      ]
     },
     "execution_count": 43,
     "metadata": {},
     "output_type": "execute_result"
    }
   ],
   "source": [
    "train[(train[\"bldng_ar\"]==0)&(train[\"ttl_ar\"]!=0)].shape\n"
   ]
  },
  {
   "cell_type": "code",
   "execution_count": 44,
   "metadata": {},
   "outputs": [
    {
     "data": {
      "text/plain": [
       "(21, 174)"
      ]
     },
     "execution_count": 44,
     "metadata": {},
     "output_type": "execute_result"
    }
   ],
   "source": [
    "train[(train[\"bldng_ar\"]!=0)&(train[\"ttl_ar\"]==0)].shape"
   ]
  },
  {
   "cell_type": "code",
   "execution_count": null,
   "metadata": {},
   "outputs": [],
   "source": []
  },
  {
   "cell_type": "code",
   "execution_count": 45,
   "metadata": {},
   "outputs": [
    {
     "data": {
      "text/plain": [
       "1        0.0\n",
       "2      288.0\n",
       "3     1379.0\n",
       "5        0.0\n",
       "6      951.0\n",
       "7      334.0\n",
       "8      115.0\n",
       "9      340.0\n",
       "10     496.0\n",
       "11     259.0\n",
       "Name: lnd_ar, dtype: float64"
      ]
     },
     "execution_count": 45,
     "metadata": {},
     "output_type": "execute_result"
    }
   ],
   "source": [
    "train[\"lnd_ar\"].head(10)"
   ]
  },
  {
   "cell_type": "code",
   "execution_count": 46,
   "metadata": {},
   "outputs": [
    {
     "data": {
      "text/plain": [
       "(26821, 174)"
      ]
     },
     "execution_count": 46,
     "metadata": {},
     "output_type": "execute_result"
    }
   ],
   "source": [
    "train[train[\"lnd_ar\"]==0].shape"
   ]
  },
  {
   "cell_type": "code",
   "execution_count": 47,
   "metadata": {},
   "outputs": [
    {
     "data": {
      "text/plain": [
       "count    3.927600e+04\n",
       "mean     4.561995e+04\n",
       "std      2.651351e+06\n",
       "min      1.093000e+00\n",
       "25%      2.310000e+02\n",
       "50%      3.970000e+02\n",
       "75%      7.980000e+02\n",
       "max      2.038984e+08\n",
       "Name: lnd_ar, dtype: float64"
      ]
     },
     "execution_count": 47,
     "metadata": {},
     "output_type": "execute_result"
    }
   ],
   "source": [
    "train[train[\"lnd_ar\"]!=0][\"lnd_ar\"].describe()"
   ]
  },
  {
   "cell_type": "code",
   "execution_count": 48,
   "metadata": {},
   "outputs": [
    {
     "data": {
      "text/plain": [
       "(670, 174)"
      ]
     },
     "execution_count": 48,
     "metadata": {},
     "output_type": "execute_result"
    }
   ],
   "source": [
    "train[(train[\"bldng_ar\"]==0)&(train[\"lnd_ar\"]!=0)].shape"
   ]
  },
  {
   "cell_type": "code",
   "execution_count": 49,
   "metadata": {},
   "outputs": [
    {
     "data": {
      "text/plain": [
       "(17601, 174)"
      ]
     },
     "execution_count": 49,
     "metadata": {},
     "output_type": "execute_result"
    }
   ],
   "source": [
    "train[(train[\"bldng_ar\"]!=0)&(train[\"lnd_ar\"]==0)].shape"
   ]
  },
  {
   "cell_type": "code",
   "execution_count": null,
   "metadata": {},
   "outputs": [],
   "source": []
  },
  {
   "cell_type": "code",
   "execution_count": 50,
   "metadata": {},
   "outputs": [
    {
     "data": {
      "text/plain": [
       "<seaborn.axisgrid.FacetGrid at 0x1989b22b588>"
      ]
     },
     "execution_count": 50,
     "metadata": {},
     "output_type": "execute_result"
    },
    {
     "data": {
      "image/png": "[encoded data removed]",
      "text/plain": [
       "<Figure size 403.5x360 with 1 Axes>"
      ]
     },
     "metadata": {
      "needs_background": "light"
     },
     "output_type": "display_data"
    }
   ],
   "source": [
    "# bldng_ar과 ttl_ar의 관계\n",
    "bldng_ar_notnull = train[train[\"bldng_ar\"]!=0]\n",
    "sns.lmplot(data=bldng_ar_notnull, x=\"bldng_ar\", y=\"ttl_ar\", hue=\"fr_yn\", fit_reg=False)"
   ]
  },
  {
   "cell_type": "code",
   "execution_count": 51,
   "metadata": {},
   "outputs": [
    {
     "data": {
      "text/plain": [
       "(53216, 174)"
      ]
     },
     "execution_count": 51,
     "metadata": {},
     "output_type": "execute_result"
    }
   ],
   "source": [
    "low_bldng_ar = train[(train[\"bldng_ar\"]<4000)&(train[\"bldng_ar\"]>0)&(train[\"ttl_ar\"]<3000)&(train[\"ttl_ar\"]>0)]\n",
    "low_bldng_ar.shape"
   ]
  },
  {
   "cell_type": "code",
   "execution_count": 52,
   "metadata": {
    "scrolled": true
   },
   "outputs": [
    {
     "data": {
      "text/plain": [
       "<seaborn.axisgrid.FacetGrid at 0x1989b299860>"
      ]
     },
     "execution_count": 52,
     "metadata": {},
     "output_type": "execute_result"
    },
    {
     "data": {
      "image/png": "[encoded data removed]",
      "text/plain": [
       "<Figure size 403.5x360 with 1 Axes>"
      ]
     },
     "metadata": {
      "needs_background": "light"
     },
     "output_type": "display_data"
    }
   ],
   "source": [
    "sns.lmplot(data=low_bldng_ar, x=\"bldng_ar\", y=\"ttl_ar\", hue=\"fr_yn\", fit_reg=False)"
   ]
  },
  {
   "cell_type": "code",
   "execution_count": 53,
   "metadata": {},
   "outputs": [],
   "source": [
    "#bldng_ar과 lnd_ar의 관계\n",
    "low_bldng_ar = train[(train[\"bldng_ar\"]<4000)&(train[\"bldng_ar\"]>0)\n",
    "                     &(train[\"ttl_ar\"]<3000)&(train[\"ttl_ar\"]>0)\n",
    "                     &(train[\"lnd_ar\"]<4000)&(train[\"lnd_ar\"]>0)]"
   ]
  },
  {
   "cell_type": "code",
   "execution_count": 54,
   "metadata": {
    "scrolled": true
   },
   "outputs": [
    {
     "data": {
      "text/plain": [
       "<seaborn.axisgrid.FacetGrid at 0x198a3dd8eb8>"
      ]
     },
     "execution_count": 54,
     "metadata": {},
     "output_type": "execute_result"
    },
    {
     "data": {
      "image/png": "[encoded data removed]",
      "text/plain": [
       "<Figure size 403.5x360 with 1 Axes>"
      ]
     },
     "metadata": {
      "needs_background": "light"
     },
     "output_type": "display_data"
    }
   ],
   "source": [
    "sns.lmplot(data=low_bldng_ar, x=\"bldng_ar\", y=\"lnd_ar\", hue=\"fr_yn\", fit_reg=False)"
   ]
  },
  {
   "cell_type": "code",
   "execution_count": null,
   "metadata": {},
   "outputs": [],
   "source": []
  },
  {
   "cell_type": "code",
   "execution_count": null,
   "metadata": {},
   "outputs": [],
   "source": []
  },
  {
   "cell_type": "code",
   "execution_count": 55,
   "metadata": {},
   "outputs": [],
   "source": [
    "from sklearn.ensemble import RandomForestRegressor"
   ]
  },
  {
   "cell_type": "code",
   "execution_count": 56,
   "metadata": {},
   "outputs": [],
   "source": [
    "ttl_ar_notnull=train[train[\"ttl_ar\"]!=0]\n",
    "ttl_ar_null=train[train[\"ttl_ar\"]==0]\n"
   ]
  },
  {
   "cell_type": "code",
   "execution_count": 57,
   "metadata": {},
   "outputs": [
    {
     "name": "stderr",
     "output_type": "stream",
     "text": [
      "C:\\Users\\ejvmw\\Anaconda3\\lib\\site-packages\\sklearn\\ensemble\\forest.py:245: FutureWarning: The default value of n_estimators will change from 10 in version 0.20 to 100 in 0.22.\n",
      "  \"10 in version 0.20 to 100 in 0.22.\", FutureWarning)\n",
      "C:\\Users\\ejvmw\\Anaconda3\\lib\\site-packages\\ipykernel_launcher.py:5: SettingWithCopyWarning: \n",
      "A value is trying to be set on a copy of a slice from a DataFrame.\n",
      "Try using .loc[row_indexer,col_indexer] = value instead\n",
      "\n",
      "See the caveats in the documentation: http://pandas.pydata.org/pandas-docs/stable/indexing.html#indexing-view-versus-copy\n",
      "  \"\"\"\n"
     ]
    }
   ],
   "source": [
    "ttl_ar_variables=[\"bldng_ar\",\"lnd_ar\"]\n",
    "model_ttl_ar=RandomForestRegressor()\n",
    "model_ttl_ar.fit(ttl_ar_notnull[ttl_ar_variables], ttl_ar_notnull[\"ttl_ar\"])\n",
    "generated_ttl_ar=model_ttl_ar.predict(X=ttl_ar_null[ttl_ar_variables])\n",
    "ttl_ar_null[\"ttl_ar\"]=generated_ttl_ar.astype(int)\n",
    "train = ttl_ar_notnull.append(ttl_ar_null)"
   ]
  },
  {
   "cell_type": "code",
   "execution_count": 58,
   "metadata": {},
   "outputs": [
    {
     "data": {
      "text/plain": [
       "(90, 172)"
      ]
     },
     "execution_count": 58,
     "metadata": {},
     "output_type": "execute_result"
    }
   ],
   "source": [
    "test[test[\"ttl_ar\"]==0].shape"
   ]
  },
  {
   "cell_type": "code",
   "execution_count": 59,
   "metadata": {},
   "outputs": [
    {
     "name": "stderr",
     "output_type": "stream",
     "text": [
      "C:\\Users\\ejvmw\\Anaconda3\\lib\\site-packages\\ipykernel_launcher.py:5: SettingWithCopyWarning: \n",
      "A value is trying to be set on a copy of a slice from a DataFrame.\n",
      "Try using .loc[row_indexer,col_indexer] = value instead\n",
      "\n",
      "See the caveats in the documentation: http://pandas.pydata.org/pandas-docs/stable/indexing.html#indexing-view-versus-copy\n",
      "  \"\"\"\n"
     ]
    }
   ],
   "source": [
    "ttl_ar_notnull_test = test[test[\"ttl_ar\"]!=0]\n",
    "ttl_ar_null_test = test[test[\"ttl_ar\"]==0]\n",
    "\n",
    "generated_ttl_ar_test=model_ttl_ar.predict(X = ttl_ar_null_test[ttl_ar_variables])\n",
    "ttl_ar_null_test[\"ttl_ar\"] = generated_ttl_ar_test.astype(int)\n",
    "test = ttl_ar_notnull_test.append(ttl_ar_null_test)"
   ]
  },
  {
   "cell_type": "code",
   "execution_count": 60,
   "metadata": {},
   "outputs": [],
   "source": [
    "bldng_ar_null=train[train[\"bldng_ar\"]==0]"
   ]
  },
  {
   "cell_type": "code",
   "execution_count": 61,
   "metadata": {},
   "outputs": [
    {
     "name": "stderr",
     "output_type": "stream",
     "text": [
      "C:\\Users\\ejvmw\\Anaconda3\\lib\\site-packages\\sklearn\\ensemble\\forest.py:245: FutureWarning: The default value of n_estimators will change from 10 in version 0.20 to 100 in 0.22.\n",
      "  \"10 in version 0.20 to 100 in 0.22.\", FutureWarning)\n"
     ]
    }
   ],
   "source": [
    "bldng_ar_variables=[\"ttl_ar\",\"lnd_ar\"]\n",
    "model_bldng_ar=RandomForestRegressor()\n",
    "\n",
    "model_bldng_ar.fit(bldng_ar_notnull[bldng_ar_variables], bldng_ar_notnull[\"bldng_ar\"])\n",
    "generated_bldng_ar=model_bldng_ar.predict(X=bldng_ar_null[bldng_ar_variables])"
   ]
  },
  {
   "cell_type": "code",
   "execution_count": 62,
   "metadata": {
    "scrolled": true
   },
   "outputs": [
    {
     "name": "stderr",
     "output_type": "stream",
     "text": [
      "C:\\Users\\ejvmw\\Anaconda3\\lib\\site-packages\\ipykernel_launcher.py:1: SettingWithCopyWarning: \n",
      "A value is trying to be set on a copy of a slice from a DataFrame.\n",
      "Try using .loc[row_indexer,col_indexer] = value instead\n",
      "\n",
      "See the caveats in the documentation: http://pandas.pydata.org/pandas-docs/stable/indexing.html#indexing-view-versus-copy\n",
      "  \"\"\"Entry point for launching an IPython kernel.\n"
     ]
    }
   ],
   "source": [
    "bldng_ar_null[\"bldng_ar\"] = generated_bldng_ar.astype(int)"
   ]
  },
  {
   "cell_type": "code",
   "execution_count": 63,
   "metadata": {
    "scrolled": true
   },
   "outputs": [
    {
     "data": {
      "text/plain": [
       "134     36\n",
       "299     26\n",
       "327    156\n",
       "543    204\n",
       "681     39\n",
       "Name: bldng_ar, dtype: int32"
      ]
     },
     "execution_count": 63,
     "metadata": {},
     "output_type": "execute_result"
    }
   ],
   "source": [
    "bldng_ar_null[\"bldng_ar\"].head()"
   ]
  },
  {
   "cell_type": "code",
   "execution_count": 64,
   "metadata": {},
   "outputs": [],
   "source": [
    "train = bldng_ar_notnull.append(bldng_ar_null)"
   ]
  },
  {
   "cell_type": "code",
   "execution_count": 65,
   "metadata": {},
   "outputs": [],
   "source": [
    "bldng_ar_notnull_test=test[test[\"bldng_ar\"]!=0]\n",
    "bldng_ar_null_test=test[test[\"bldng_ar\"]==0]"
   ]
  },
  {
   "cell_type": "code",
   "execution_count": 66,
   "metadata": {},
   "outputs": [
    {
     "name": "stderr",
     "output_type": "stream",
     "text": [
      "C:\\Users\\ejvmw\\Anaconda3\\lib\\site-packages\\ipykernel_launcher.py:2: SettingWithCopyWarning: \n",
      "A value is trying to be set on a copy of a slice from a DataFrame.\n",
      "Try using .loc[row_indexer,col_indexer] = value instead\n",
      "\n",
      "See the caveats in the documentation: http://pandas.pydata.org/pandas-docs/stable/indexing.html#indexing-view-versus-copy\n",
      "  \n"
     ]
    }
   ],
   "source": [
    "generated_bldng_ar_test=model_bldng_ar.predict(X=bldng_ar_null_test[bldng_ar_variables])\n",
    "bldng_ar_null_test[\"bldng_ar\"]=generated_bldng_ar_test.astype(int)"
   ]
  },
  {
   "cell_type": "code",
   "execution_count": 67,
   "metadata": {},
   "outputs": [
    {
     "data": {
      "text/plain": [
       "id\n",
       "98877     91\n",
       "120603    51\n",
       "105251    99\n",
       "118055    26\n",
       "84732     36\n",
       "Name: bldng_ar, dtype: int32"
      ]
     },
     "execution_count": 67,
     "metadata": {},
     "output_type": "execute_result"
    }
   ],
   "source": [
    "bldng_ar_null_test[\"bldng_ar\"].head()"
   ]
  },
  {
   "cell_type": "code",
   "execution_count": 68,
   "metadata": {},
   "outputs": [],
   "source": [
    "test = bldng_ar_notnull_test.append(bldng_ar_null_test)"
   ]
  },
  {
   "cell_type": "code",
   "execution_count": 69,
   "metadata": {},
   "outputs": [],
   "source": [
    "train.reset_index(inplace=True)\n",
    "train.drop('index',inplace=True,axis=1)"
   ]
  },
  {
   "cell_type": "code",
   "execution_count": 70,
   "metadata": {
    "scrolled": true
   },
   "outputs": [
    {
     "data": {
      "text/html": [
       "<div>\n",
       "<style scoped>\n",
       "    .dataframe tbody tr th:only-of-type {\n",
       "        vertical-align: middle;\n",
       "    }\n",
       "\n",
       "    .dataframe tbody tr th {\n",
       "        vertical-align: top;\n",
       "    }\n",
       "\n",
       "    .dataframe thead th {\n",
       "        text-align: right;\n",
       "    }\n",
       "</style>\n",
       "<table border=\"1\" class=\"dataframe\">\n",
       "  <thead>\n",
       "    <tr style=\"text-align: right;\">\n",
       "      <th></th>\n",
       "      <th>dt_of_fr</th>\n",
       "      <th>bldng_us</th>\n",
       "      <th>bldng_archtctr</th>\n",
       "      <th>bldng_cnt</th>\n",
       "      <th>bldng_ar</th>\n",
       "      <th>ttl_ar</th>\n",
       "      <th>lnd_ar</th>\n",
       "      <th>dt_of_athrztn</th>\n",
       "      <th>ttl_grnd_flr</th>\n",
       "      <th>ttl_dwn_flr</th>\n",
       "      <th>...</th>\n",
       "      <th>fr_wthr_fclt_in_100m</th>\n",
       "      <th>tbc_rtl_str_dstnc</th>\n",
       "      <th>sft_emrgnc_bll_dstnc</th>\n",
       "      <th>ahsm_dstnc</th>\n",
       "      <th>no_tbc_zn_dstnc</th>\n",
       "      <th>bldng_cnt_in_50m</th>\n",
       "      <th>fr_yn</th>\n",
       "      <th>year_athrztn</th>\n",
       "      <th>fr_yn_encoded</th>\n",
       "      <th>year_athrztn_encoded</th>\n",
       "    </tr>\n",
       "  </thead>\n",
       "  <tbody>\n",
       "    <tr>\n",
       "      <th>0</th>\n",
       "      <td>2016-11-13 17:05:57</td>\n",
       "      <td>업무시설</td>\n",
       "      <td>철근콘크리트구조</td>\n",
       "      <td>3</td>\n",
       "      <td>721.82</td>\n",
       "      <td>1109.54</td>\n",
       "      <td>0.0</td>\n",
       "      <td>19881010.0</td>\n",
       "      <td>5.0</td>\n",
       "      <td>0.0</td>\n",
       "      <td>...</td>\n",
       "      <td>1</td>\n",
       "      <td>1731</td>\n",
       "      <td>2561</td>\n",
       "      <td>18136</td>\n",
       "      <td>50</td>\n",
       "      <td>0</td>\n",
       "      <td>N</td>\n",
       "      <td>1988</td>\n",
       "      <td>0</td>\n",
       "      <td>old</td>\n",
       "    </tr>\n",
       "    <tr>\n",
       "      <th>1</th>\n",
       "      <td>2016-11-21 12:46:36</td>\n",
       "      <td>단독주택</td>\n",
       "      <td>블록구조</td>\n",
       "      <td>4</td>\n",
       "      <td>47.06</td>\n",
       "      <td>47.06</td>\n",
       "      <td>288.0</td>\n",
       "      <td>19650101.0</td>\n",
       "      <td>1.0</td>\n",
       "      <td>0.0</td>\n",
       "      <td>...</td>\n",
       "      <td>0</td>\n",
       "      <td>825</td>\n",
       "      <td>3964</td>\n",
       "      <td>14944</td>\n",
       "      <td>270</td>\n",
       "      <td>1</td>\n",
       "      <td>N</td>\n",
       "      <td>1965</td>\n",
       "      <td>0</td>\n",
       "      <td>old</td>\n",
       "    </tr>\n",
       "    <tr>\n",
       "      <th>2</th>\n",
       "      <td>2016-11-07 02:50:14</td>\n",
       "      <td>위험물저장및처리시설</td>\n",
       "      <td>벽돌구조</td>\n",
       "      <td>2</td>\n",
       "      <td>171.45</td>\n",
       "      <td>176.64</td>\n",
       "      <td>1379.0</td>\n",
       "      <td>20020129.0</td>\n",
       "      <td>2.0</td>\n",
       "      <td>0.0</td>\n",
       "      <td>...</td>\n",
       "      <td>0</td>\n",
       "      <td>1264</td>\n",
       "      <td>2572</td>\n",
       "      <td>15104</td>\n",
       "      <td>132</td>\n",
       "      <td>0</td>\n",
       "      <td>N</td>\n",
       "      <td>2002</td>\n",
       "      <td>0</td>\n",
       "      <td>new</td>\n",
       "    </tr>\n",
       "    <tr>\n",
       "      <th>3</th>\n",
       "      <td>2016-11-03 09:25:00</td>\n",
       "      <td>공동주택</td>\n",
       "      <td>철근콘크리트구조</td>\n",
       "      <td>15</td>\n",
       "      <td>30351.48</td>\n",
       "      <td>316147.12</td>\n",
       "      <td>0.0</td>\n",
       "      <td>20000904.0</td>\n",
       "      <td>200.0</td>\n",
       "      <td>6.0</td>\n",
       "      <td>...</td>\n",
       "      <td>0</td>\n",
       "      <td>1306</td>\n",
       "      <td>2145</td>\n",
       "      <td>18462</td>\n",
       "      <td>151</td>\n",
       "      <td>0</td>\n",
       "      <td>Y</td>\n",
       "      <td>2000</td>\n",
       "      <td>1</td>\n",
       "      <td>new</td>\n",
       "    </tr>\n",
       "    <tr>\n",
       "      <th>4</th>\n",
       "      <td>2016-11-26 16:47:00</td>\n",
       "      <td>위험물저장및처리시설</td>\n",
       "      <td>철근콘크리트구조</td>\n",
       "      <td>3</td>\n",
       "      <td>114.15</td>\n",
       "      <td>337.61</td>\n",
       "      <td>951.0</td>\n",
       "      <td>19831208.0</td>\n",
       "      <td>2.0</td>\n",
       "      <td>1.0</td>\n",
       "      <td>...</td>\n",
       "      <td>1</td>\n",
       "      <td>211</td>\n",
       "      <td>2643</td>\n",
       "      <td>17388</td>\n",
       "      <td>78</td>\n",
       "      <td>1</td>\n",
       "      <td>Y</td>\n",
       "      <td>1983</td>\n",
       "      <td>1</td>\n",
       "      <td>old</td>\n",
       "    </tr>\n",
       "  </tbody>\n",
       "</table>\n",
       "<p>5 rows × 174 columns</p>\n",
       "</div>"
      ],
      "text/plain": [
       "             dt_of_fr    bldng_us bldng_archtctr  bldng_cnt  bldng_ar  \\\n",
       "0 2016-11-13 17:05:57        업무시설       철근콘크리트구조          3    721.82   \n",
       "1 2016-11-21 12:46:36        단독주택           블록구조          4     47.06   \n",
       "2 2016-11-07 02:50:14  위험물저장및처리시설           벽돌구조          2    171.45   \n",
       "3 2016-11-03 09:25:00        공동주택       철근콘크리트구조         15  30351.48   \n",
       "4 2016-11-26 16:47:00  위험물저장및처리시설       철근콘크리트구조          3    114.15   \n",
       "\n",
       "      ttl_ar  lnd_ar dt_of_athrztn  ttl_grnd_flr  ttl_dwn_flr  ...  \\\n",
       "0    1109.54     0.0    19881010.0           5.0          0.0  ...   \n",
       "1      47.06   288.0    19650101.0           1.0          0.0  ...   \n",
       "2     176.64  1379.0    20020129.0           2.0          0.0  ...   \n",
       "3  316147.12     0.0    20000904.0         200.0          6.0  ...   \n",
       "4     337.61   951.0    19831208.0           2.0          1.0  ...   \n",
       "\n",
       "  fr_wthr_fclt_in_100m  tbc_rtl_str_dstnc  sft_emrgnc_bll_dstnc  ahsm_dstnc  \\\n",
       "0                    1               1731                  2561       18136   \n",
       "1                    0                825                  3964       14944   \n",
       "2                    0               1264                  2572       15104   \n",
       "3                    0               1306                  2145       18462   \n",
       "4                    1                211                  2643       17388   \n",
       "\n",
       "   no_tbc_zn_dstnc  bldng_cnt_in_50m  fr_yn  year_athrztn  fr_yn_encoded  \\\n",
       "0               50                 0      N          1988              0   \n",
       "1              270                 1      N          1965              0   \n",
       "2              132                 0      N          2002              0   \n",
       "3              151                 0      Y          2000              1   \n",
       "4               78                 1      Y          1983              1   \n",
       "\n",
       "   year_athrztn_encoded  \n",
       "0                   old  \n",
       "1                   old  \n",
       "2                   new  \n",
       "3                   new  \n",
       "4                   old  \n",
       "\n",
       "[5 rows x 174 columns]"
      ]
     },
     "execution_count": 70,
     "metadata": {},
     "output_type": "execute_result"
    }
   ],
   "source": [
    "train.head()"
   ]
  },
  {
   "cell_type": "code",
   "execution_count": 71,
   "metadata": {},
   "outputs": [
    {
     "data": {
      "text/html": [
       "<div>\n",
       "<style scoped>\n",
       "    .dataframe tbody tr th:only-of-type {\n",
       "        vertical-align: middle;\n",
       "    }\n",
       "\n",
       "    .dataframe tbody tr th {\n",
       "        vertical-align: top;\n",
       "    }\n",
       "\n",
       "    .dataframe thead th {\n",
       "        text-align: right;\n",
       "    }\n",
       "</style>\n",
       "<table border=\"1\" class=\"dataframe\">\n",
       "  <thead>\n",
       "    <tr style=\"text-align: right;\">\n",
       "      <th></th>\n",
       "      <th>dt_of_fr</th>\n",
       "      <th>bldng_us</th>\n",
       "      <th>bldng_archtctr</th>\n",
       "      <th>bldng_cnt</th>\n",
       "      <th>bldng_ar</th>\n",
       "      <th>ttl_ar</th>\n",
       "      <th>lnd_ar</th>\n",
       "      <th>dt_of_athrztn</th>\n",
       "      <th>ttl_grnd_flr</th>\n",
       "      <th>ttl_dwn_flr</th>\n",
       "      <th>...</th>\n",
       "      <th>cctv_dstnc</th>\n",
       "      <th>cctv_in_100m</th>\n",
       "      <th>fr_wthr_fclt_in_100m</th>\n",
       "      <th>tbc_rtl_str_dstnc</th>\n",
       "      <th>sft_emrgnc_bll_dstnc</th>\n",
       "      <th>ahsm_dstnc</th>\n",
       "      <th>no_tbc_zn_dstnc</th>\n",
       "      <th>bldng_cnt_in_50m</th>\n",
       "      <th>year_athrztn</th>\n",
       "      <th>year_athrztn_encoded</th>\n",
       "    </tr>\n",
       "    <tr>\n",
       "      <th>id</th>\n",
       "      <th></th>\n",
       "      <th></th>\n",
       "      <th></th>\n",
       "      <th></th>\n",
       "      <th></th>\n",
       "      <th></th>\n",
       "      <th></th>\n",
       "      <th></th>\n",
       "      <th></th>\n",
       "      <th></th>\n",
       "      <th></th>\n",
       "      <th></th>\n",
       "      <th></th>\n",
       "      <th></th>\n",
       "      <th></th>\n",
       "      <th></th>\n",
       "      <th></th>\n",
       "      <th></th>\n",
       "      <th></th>\n",
       "      <th></th>\n",
       "      <th></th>\n",
       "    </tr>\n",
       "  </thead>\n",
       "  <tbody>\n",
       "    <tr>\n",
       "      <th>122699</th>\n",
       "      <td>2017-04-07 09:25:23</td>\n",
       "      <td>단독주택</td>\n",
       "      <td>벽돌구조</td>\n",
       "      <td>1</td>\n",
       "      <td>74.84</td>\n",
       "      <td>114.17</td>\n",
       "      <td>191.0</td>\n",
       "      <td>19860701.0</td>\n",
       "      <td>2.0</td>\n",
       "      <td>0.0</td>\n",
       "      <td>...</td>\n",
       "      <td>77</td>\n",
       "      <td>1</td>\n",
       "      <td>1</td>\n",
       "      <td>46</td>\n",
       "      <td>95</td>\n",
       "      <td>18159</td>\n",
       "      <td>101</td>\n",
       "      <td>6</td>\n",
       "      <td>1986</td>\n",
       "      <td>old</td>\n",
       "    </tr>\n",
       "    <tr>\n",
       "      <th>125440</th>\n",
       "      <td>2017-04-29 20:04:09</td>\n",
       "      <td>단독주택</td>\n",
       "      <td>블록구조</td>\n",
       "      <td>4</td>\n",
       "      <td>70.00</td>\n",
       "      <td>70.00</td>\n",
       "      <td>0.0</td>\n",
       "      <td>19601220.0</td>\n",
       "      <td>2.0</td>\n",
       "      <td>0.0</td>\n",
       "      <td>...</td>\n",
       "      <td>17</td>\n",
       "      <td>2</td>\n",
       "      <td>2</td>\n",
       "      <td>239</td>\n",
       "      <td>159</td>\n",
       "      <td>17172</td>\n",
       "      <td>263</td>\n",
       "      <td>4</td>\n",
       "      <td>1960</td>\n",
       "      <td>old</td>\n",
       "    </tr>\n",
       "    <tr>\n",
       "      <th>75921</th>\n",
       "      <td>2014-09-15 23:11:28</td>\n",
       "      <td>NaN</td>\n",
       "      <td>NaN</td>\n",
       "      <td>2</td>\n",
       "      <td>135.11</td>\n",
       "      <td>135.11</td>\n",
       "      <td>380.0</td>\n",
       "      <td>nan</td>\n",
       "      <td>1.0</td>\n",
       "      <td>0.0</td>\n",
       "      <td>...</td>\n",
       "      <td>448</td>\n",
       "      <td>0</td>\n",
       "      <td>0</td>\n",
       "      <td>1322</td>\n",
       "      <td>5414</td>\n",
       "      <td>12740</td>\n",
       "      <td>836</td>\n",
       "      <td>0</td>\n",
       "      <td>1986</td>\n",
       "      <td>old</td>\n",
       "    </tr>\n",
       "    <tr>\n",
       "      <th>123350</th>\n",
       "      <td>2016-02-26 03:03:54</td>\n",
       "      <td>단독주택</td>\n",
       "      <td>철근콘크리트구조</td>\n",
       "      <td>1</td>\n",
       "      <td>118.50</td>\n",
       "      <td>303.66</td>\n",
       "      <td>198.3</td>\n",
       "      <td>20120802.0</td>\n",
       "      <td>3.0</td>\n",
       "      <td>0.0</td>\n",
       "      <td>...</td>\n",
       "      <td>82</td>\n",
       "      <td>0</td>\n",
       "      <td>0</td>\n",
       "      <td>298</td>\n",
       "      <td>1033</td>\n",
       "      <td>16581</td>\n",
       "      <td>167</td>\n",
       "      <td>0</td>\n",
       "      <td>2012</td>\n",
       "      <td>new</td>\n",
       "    </tr>\n",
       "    <tr>\n",
       "      <th>123152</th>\n",
       "      <td>2018-04-11 10:08:27</td>\n",
       "      <td>단독주택</td>\n",
       "      <td>경량철골구조</td>\n",
       "      <td>1</td>\n",
       "      <td>82.95</td>\n",
       "      <td>82.95</td>\n",
       "      <td>239.0</td>\n",
       "      <td>20130430.0</td>\n",
       "      <td>1.0</td>\n",
       "      <td>0.0</td>\n",
       "      <td>...</td>\n",
       "      <td>217</td>\n",
       "      <td>0</td>\n",
       "      <td>1</td>\n",
       "      <td>717</td>\n",
       "      <td>725</td>\n",
       "      <td>7847</td>\n",
       "      <td>270</td>\n",
       "      <td>0</td>\n",
       "      <td>2013</td>\n",
       "      <td>new</td>\n",
       "    </tr>\n",
       "  </tbody>\n",
       "</table>\n",
       "<p>5 rows × 172 columns</p>\n",
       "</div>"
      ],
      "text/plain": [
       "                  dt_of_fr bldng_us bldng_archtctr  bldng_cnt  bldng_ar  \\\n",
       "id                                                                        \n",
       "122699 2017-04-07 09:25:23     단독주택           벽돌구조          1     74.84   \n",
       "125440 2017-04-29 20:04:09     단독주택           블록구조          4     70.00   \n",
       "75921  2014-09-15 23:11:28      NaN            NaN          2    135.11   \n",
       "123350 2016-02-26 03:03:54     단독주택       철근콘크리트구조          1    118.50   \n",
       "123152 2018-04-11 10:08:27     단독주택         경량철골구조          1     82.95   \n",
       "\n",
       "        ttl_ar  lnd_ar dt_of_athrztn  ttl_grnd_flr  ttl_dwn_flr  ...  \\\n",
       "id                                                               ...   \n",
       "122699  114.17   191.0    19860701.0           2.0          0.0  ...   \n",
       "125440   70.00     0.0    19601220.0           2.0          0.0  ...   \n",
       "75921   135.11   380.0           nan           1.0          0.0  ...   \n",
       "123350  303.66   198.3    20120802.0           3.0          0.0  ...   \n",
       "123152   82.95   239.0    20130430.0           1.0          0.0  ...   \n",
       "\n",
       "       cctv_dstnc  cctv_in_100m  fr_wthr_fclt_in_100m  tbc_rtl_str_dstnc  \\\n",
       "id                                                                         \n",
       "122699         77             1                     1                 46   \n",
       "125440         17             2                     2                239   \n",
       "75921         448             0                     0               1322   \n",
       "123350         82             0                     0                298   \n",
       "123152        217             0                     1                717   \n",
       "\n",
       "        sft_emrgnc_bll_dstnc  ahsm_dstnc  no_tbc_zn_dstnc  bldng_cnt_in_50m  \\\n",
       "id                                                                            \n",
       "122699                    95       18159              101                 6   \n",
       "125440                   159       17172              263                 4   \n",
       "75921                   5414       12740              836                 0   \n",
       "123350                  1033       16581              167                 0   \n",
       "123152                   725        7847              270                 0   \n",
       "\n",
       "        year_athrztn  year_athrztn_encoded  \n",
       "id                                          \n",
       "122699          1986                   old  \n",
       "125440          1960                   old  \n",
       "75921           1986                   old  \n",
       "123350          2012                   new  \n",
       "123152          2013                   new  \n",
       "\n",
       "[5 rows x 172 columns]"
      ]
     },
     "execution_count": 71,
     "metadata": {},
     "output_type": "execute_result"
    }
   ],
   "source": [
    "test.head()"
   ]
  },
  {
   "cell_type": "markdown",
   "metadata": {},
   "source": [
    "### bldng_archtctr 건물구조"
   ]
  },
  {
   "cell_type": "code",
   "execution_count": 72,
   "metadata": {},
   "outputs": [],
   "source": [
    "# 건물 구조 이름을 one hot encoding을 했다.\n",
    "# test set에 없는 기타구조, 프리케스트콘크리트구조는 최종 train features에서는 제하였다.\n",
    "\n",
    "# missing values는 어떻게 처리해야 할지...?\n",
    "# 범주 별로 묶는 게 훨씬 더 정확할 것 같으므로 조사 해서 처리해볼 것. (이 경우 기타구조, 프리케스트콘크리트구조도 범주에 넣어 처리하면 좋겠다.)"
   ]
  },
  {
   "cell_type": "code",
   "execution_count": 73,
   "metadata": {},
   "outputs": [
    {
     "data": {
      "text/plain": [
       "0    철근콘크리트구조\n",
       "1        블록구조\n",
       "2        벽돌구조\n",
       "3    철근콘크리트구조\n",
       "4    철근콘크리트구조\n",
       "Name: bldng_archtctr, dtype: object"
      ]
     },
     "execution_count": 73,
     "metadata": {},
     "output_type": "execute_result"
    }
   ],
   "source": [
    "train[\"bldng_archtctr\"].head()"
   ]
  },
  {
   "cell_type": "code",
   "execution_count": 74,
   "metadata": {},
   "outputs": [
    {
     "data": {
      "text/plain": [
       "array(['철근콘크리트구조', '블록구조', '벽돌구조', '경량철골구조', '일반목구조', '일반철골구조', nan,\n",
       "       '기타구조', '강파이프구조', '조적구조', '석구조', '기타조적구조', '통나무구조', '철골콘크리트구조',\n",
       "       '철골철근콘크리트구조', '기타강구조', '프리케스트콘크리트구조', '목구조', '기타콘크리트구조'],\n",
       "      dtype=object)"
      ]
     },
     "execution_count": 74,
     "metadata": {},
     "output_type": "execute_result"
    }
   ],
   "source": [
    "train[\"bldng_archtctr\"].unique()"
   ]
  },
  {
   "cell_type": "code",
   "execution_count": 75,
   "metadata": {},
   "outputs": [],
   "source": [
    "# train[\"bldng_archtctr\"] = train[\"bldng_archtctr\"].astype(str)"
   ]
  },
  {
   "cell_type": "code",
   "execution_count": 76,
   "metadata": {
    "scrolled": true
   },
   "outputs": [
    {
     "data": {
      "text/plain": [
       "array(['벽돌구조', '블록구조', nan, '철근콘크리트구조', '경량철골구조', '일반목구조', '일반철골구조',\n",
       "       '기타조적구조', '석구조', '철골콘크리트구조', '강파이프구조', '철골철근콘크리트구조', '기타강구조',\n",
       "       '통나무구조', '기타콘크리트구조', '조적구조', '목구조'], dtype=object)"
      ]
     },
     "execution_count": 76,
     "metadata": {},
     "output_type": "execute_result"
    }
   ],
   "source": [
    "test[\"bldng_archtctr\"].unique()"
   ]
  },
  {
   "cell_type": "code",
   "execution_count": 77,
   "metadata": {},
   "outputs": [
    {
     "name": "stdout",
     "output_type": "stream",
     "text": [
      "nan\n",
      "기타구조\n",
      "프리케스트콘크리트구조\n"
     ]
    }
   ],
   "source": [
    "for i in train[\"bldng_archtctr\"].unique():\n",
    "    if i not in test[\"bldng_archtctr\"].unique():\n",
    "        print(i)"
   ]
  },
  {
   "cell_type": "code",
   "execution_count": 78,
   "metadata": {},
   "outputs": [],
   "source": [
    "# test[\"bldng_archtctr\"] = test[\"bldng_archtctr\"].astype(str)"
   ]
  },
  {
   "cell_type": "code",
   "execution_count": 79,
   "metadata": {},
   "outputs": [
    {
     "data": {
      "text/plain": [
       "(28767, 174)"
      ]
     },
     "execution_count": 79,
     "metadata": {},
     "output_type": "execute_result"
    }
   ],
   "source": [
    "train[train[\"bldng_archtctr\"].isnull()].shape"
   ]
  },
  {
   "cell_type": "code",
   "execution_count": 80,
   "metadata": {},
   "outputs": [
    {
     "data": {
      "text/plain": [
       "(457, 172)"
      ]
     },
     "execution_count": 80,
     "metadata": {},
     "output_type": "execute_result"
    }
   ],
   "source": [
    "test[test[\"bldng_archtctr\"].isnull()].shape"
   ]
  },
  {
   "cell_type": "code",
   "execution_count": 81,
   "metadata": {},
   "outputs": [
    {
     "data": {
      "text/plain": [
       "(37330, 174)"
      ]
     },
     "execution_count": 81,
     "metadata": {},
     "output_type": "execute_result"
    }
   ],
   "source": [
    "bldng_archtctr_notnull = train[train[\"bldng_archtctr\"].notnull()]\n",
    "bldng_archtctr_notnull.shape"
   ]
  },
  {
   "cell_type": "code",
   "execution_count": 82,
   "metadata": {},
   "outputs": [
    {
     "data": {
      "text/plain": [
       "철근콘크리트구조       8727\n",
       "벽돌구조           7980\n",
       "일반목구조          7319\n",
       "블록구조           4682\n",
       "경량철골구조         3931\n",
       "일반철골구조         3157\n",
       "강파이프구조          415\n",
       "기타조적구조          414\n",
       "조적구조            404\n",
       "철골철근콘크리트구조       74\n",
       "석구조              60\n",
       "철골콘크리트구조         44\n",
       "기타강구조            39\n",
       "기타구조             34\n",
       "목구조              19\n",
       "프리케스트콘크리트구조      14\n",
       "통나무구조            12\n",
       "기타콘크리트구조          5\n",
       "dtype: int64"
      ]
     },
     "execution_count": 82,
     "metadata": {},
     "output_type": "execute_result"
    }
   ],
   "source": [
    "pd.value_counts(train[\"bldng_archtctr\"].values.flatten())"
   ]
  },
  {
   "cell_type": "code",
   "execution_count": 83,
   "metadata": {
    "scrolled": true
   },
   "outputs": [
    {
     "data": {
      "text/plain": [
       "철근콘크리트구조      896\n",
       "일반철골구조        523\n",
       "벽돌구조          262\n",
       "블록구조          255\n",
       "경량철골구조        227\n",
       "일반목구조         195\n",
       "기타조적구조        101\n",
       "강파이프구조         12\n",
       "철골콘크리트구조        9\n",
       "철골철근콘크리트구조      7\n",
       "기타강구조           4\n",
       "석구조             3\n",
       "통나무구조           2\n",
       "목구조             2\n",
       "기타콘크리트구조        1\n",
       "조적구조            1\n",
       "dtype: int64"
      ]
     },
     "execution_count": 83,
     "metadata": {},
     "output_type": "execute_result"
    }
   ],
   "source": [
    "pd.value_counts(test[\"bldng_archtctr\"].values.flatten())"
   ]
  },
  {
   "cell_type": "code",
   "execution_count": null,
   "metadata": {},
   "outputs": [],
   "source": []
  },
  {
   "cell_type": "code",
   "execution_count": 84,
   "metadata": {},
   "outputs": [],
   "source": [
    "train.loc[train[\"bldng_archtctr\"]==\"철근콘크리트구조\",\"bldng_archtctr_encoded\"]=\"A\"\n",
    "train.loc[train[\"bldng_archtctr\"]==\"벽돌구조\",\"bldng_archtctr_encoded\"]=\"B\"\n",
    "train.loc[train[\"bldng_archtctr\"]==\"일반목구조\",\"bldng_archtctr_encoded\"]=\"C\"\n",
    "train.loc[train[\"bldng_archtctr\"]==\"블록구조\",\"bldng_archtctr_encoded\"]=\"D\"\n",
    "train.loc[train[\"bldng_archtctr\"]==\"경량철골구조\",\"bldng_archtctr_encoded\"]=\"E\"\n",
    "train.loc[train[\"bldng_archtctr\"]==\"일반철골구조\",\"bldng_archtctr_encoded\"]=\"F\"\n",
    "train.loc[train[\"bldng_archtctr\"]==\"강파이프구조\",\"bldng_archtctr_encoded\"]=\"G\"\n",
    "train.loc[train[\"bldng_archtctr\"]==\"기타조적구조\",\"bldng_archtctr_encoded\"]=\"H\"\n",
    "train.loc[train[\"bldng_archtctr\"]==\"조적구조\",\"bldng_archtctr_encoded\"]=\"I\"\n",
    "train.loc[train[\"bldng_archtctr\"]==\"철골철근콘크리트구조\",\"bldng_archtctr_encoded\"]=\"J\"\n",
    "train.loc[train[\"bldng_archtctr\"]==\"석구조\",\"bldng_archtctr_encoded\"]=\"K\"\n",
    "train.loc[train[\"bldng_archtctr\"]==\"철골콘크리트구조\",\"bldng_archtctr_encoded\"]=\"L\"\n",
    "train.loc[train[\"bldng_archtctr\"]==\"기타강구조\",\"bldng_archtctr_encoded\"]=\"M\"\n",
    "train.loc[train[\"bldng_archtctr\"]==\"기타구조\",\"bldng_archtctr_encoded\"]=\"N\"\n",
    "train.loc[train[\"bldng_archtctr\"]==\"목구조\",\"bldng_archtctr_encoded\"]=\"O\"\n",
    "train.loc[train[\"bldng_archtctr\"]==\"프리케스트콘크리트구조\",\"bldng_archtctr_encoded\"]=\"P\"\n",
    "train.loc[train[\"bldng_archtctr\"]==\"통나무구조\",\"bldng_archtctr_encoded\"]=\"Q\"\n",
    "train.loc[train[\"bldng_archtctr\"]==\"기타콘크리트구조\",\"bldng_archtctr_encoded\"]=\"R\"\n"
   ]
  },
  {
   "cell_type": "code",
   "execution_count": 85,
   "metadata": {
    "scrolled": true
   },
   "outputs": [
    {
     "data": {
      "text/plain": [
       "0    A\n",
       "1    D\n",
       "2    B\n",
       "3    A\n",
       "4    A\n",
       "Name: bldng_archtctr_encoded, dtype: object"
      ]
     },
     "execution_count": 85,
     "metadata": {},
     "output_type": "execute_result"
    }
   ],
   "source": [
    "train[\"bldng_archtctr_encoded\"].head()"
   ]
  },
  {
   "cell_type": "code",
   "execution_count": 86,
   "metadata": {},
   "outputs": [
    {
     "data": {
      "text/plain": [
       "<matplotlib.axes._subplots.AxesSubplot at 0x198a7118748>"
      ]
     },
     "execution_count": 86,
     "metadata": {},
     "output_type": "execute_result"
    },
    {
     "data": {
      "image/png": "[encoded data removed]",
      "text/plain": [
       "<Figure size 432x288 with 1 Axes>"
      ]
     },
     "metadata": {
      "needs_background": "light"
     },
     "output_type": "display_data"
    }
   ],
   "source": [
    "sns.countplot(data=train, x=\"bldng_archtctr_encoded\",hue=\"fr_yn\")"
   ]
  },
  {
   "cell_type": "code",
   "execution_count": 87,
   "metadata": {},
   "outputs": [
    {
     "data": {
      "text/html": [
       "<div>\n",
       "<style scoped>\n",
       "    .dataframe tbody tr th:only-of-type {\n",
       "        vertical-align: middle;\n",
       "    }\n",
       "\n",
       "    .dataframe tbody tr th {\n",
       "        vertical-align: top;\n",
       "    }\n",
       "\n",
       "    .dataframe thead th {\n",
       "        text-align: right;\n",
       "    }\n",
       "</style>\n",
       "<table border=\"1\" class=\"dataframe\">\n",
       "  <thead>\n",
       "    <tr style=\"text-align: right;\">\n",
       "      <th></th>\n",
       "      <th>fr_yn_encoded</th>\n",
       "    </tr>\n",
       "    <tr>\n",
       "      <th>bldng_archtctr</th>\n",
       "      <th></th>\n",
       "    </tr>\n",
       "  </thead>\n",
       "  <tbody>\n",
       "    <tr>\n",
       "      <th>강파이프구조</th>\n",
       "      <td>0.253012</td>\n",
       "    </tr>\n",
       "    <tr>\n",
       "      <th>경량철골구조</th>\n",
       "      <td>0.275502</td>\n",
       "    </tr>\n",
       "    <tr>\n",
       "      <th>기타강구조</th>\n",
       "      <td>0.282051</td>\n",
       "    </tr>\n",
       "    <tr>\n",
       "      <th>기타구조</th>\n",
       "      <td>0.235294</td>\n",
       "    </tr>\n",
       "    <tr>\n",
       "      <th>기타조적구조</th>\n",
       "      <td>0.176329</td>\n",
       "    </tr>\n",
       "    <tr>\n",
       "      <th>기타콘크리트구조</th>\n",
       "      <td>0.600000</td>\n",
       "    </tr>\n",
       "    <tr>\n",
       "      <th>목구조</th>\n",
       "      <td>0.157895</td>\n",
       "    </tr>\n",
       "    <tr>\n",
       "      <th>벽돌구조</th>\n",
       "      <td>0.147870</td>\n",
       "    </tr>\n",
       "    <tr>\n",
       "      <th>블록구조</th>\n",
       "      <td>0.178983</td>\n",
       "    </tr>\n",
       "    <tr>\n",
       "      <th>석구조</th>\n",
       "      <td>0.166667</td>\n",
       "    </tr>\n",
       "    <tr>\n",
       "      <th>일반목구조</th>\n",
       "      <td>0.187867</td>\n",
       "    </tr>\n",
       "    <tr>\n",
       "      <th>일반철골구조</th>\n",
       "      <td>0.356034</td>\n",
       "    </tr>\n",
       "    <tr>\n",
       "      <th>조적구조</th>\n",
       "      <td>0.022277</td>\n",
       "    </tr>\n",
       "    <tr>\n",
       "      <th>철골철근콘크리트구조</th>\n",
       "      <td>0.702703</td>\n",
       "    </tr>\n",
       "    <tr>\n",
       "      <th>철골콘크리트구조</th>\n",
       "      <td>0.431818</td>\n",
       "    </tr>\n",
       "    <tr>\n",
       "      <th>철근콘크리트구조</th>\n",
       "      <td>0.344219</td>\n",
       "    </tr>\n",
       "    <tr>\n",
       "      <th>통나무구조</th>\n",
       "      <td>0.250000</td>\n",
       "    </tr>\n",
       "    <tr>\n",
       "      <th>프리케스트콘크리트구조</th>\n",
       "      <td>0.357143</td>\n",
       "    </tr>\n",
       "  </tbody>\n",
       "</table>\n",
       "</div>"
      ],
      "text/plain": [
       "                fr_yn_encoded\n",
       "bldng_archtctr               \n",
       "강파이프구조               0.253012\n",
       "경량철골구조               0.275502\n",
       "기타강구조                0.282051\n",
       "기타구조                 0.235294\n",
       "기타조적구조               0.176329\n",
       "기타콘크리트구조             0.600000\n",
       "목구조                  0.157895\n",
       "벽돌구조                 0.147870\n",
       "블록구조                 0.178983\n",
       "석구조                  0.166667\n",
       "일반목구조                0.187867\n",
       "일반철골구조               0.356034\n",
       "조적구조                 0.022277\n",
       "철골철근콘크리트구조           0.702703\n",
       "철골콘크리트구조             0.431818\n",
       "철근콘크리트구조             0.344219\n",
       "통나무구조                0.250000\n",
       "프리케스트콘크리트구조          0.357143"
      ]
     },
     "execution_count": 87,
     "metadata": {},
     "output_type": "execute_result"
    }
   ],
   "source": [
    "pd.pivot_table(train, index=\"bldng_archtctr\", values=\"fr_yn_encoded\")"
   ]
  },
  {
   "cell_type": "code",
   "execution_count": 88,
   "metadata": {},
   "outputs": [
    {
     "name": "stdout",
     "output_type": "stream",
     "text": [
      "(28767, 175)\n",
      "(457, 172)\n"
     ]
    }
   ],
   "source": [
    "# missing values 어떻게 채울까?\n",
    "print(train[train[\"bldng_archtctr\"].isnull()].shape)\n",
    "print(test[test[\"bldng_archtctr\"].isnull()].shape)"
   ]
  },
  {
   "cell_type": "code",
   "execution_count": 89,
   "metadata": {
    "scrolled": true
   },
   "outputs": [],
   "source": [
    "one_hot_bldng_archtctr = pd.get_dummies(train[\"bldng_archtctr\"])\n",
    "# bldng_archtctr_dropped = train.drop(\"bldng_archtctr\",axis = 1)"
   ]
  },
  {
   "cell_type": "code",
   "execution_count": 90,
   "metadata": {},
   "outputs": [],
   "source": [
    "train = train.join(one_hot_bldng_archtctr)"
   ]
  },
  {
   "cell_type": "code",
   "execution_count": 91,
   "metadata": {},
   "outputs": [
    {
     "name": "stdout",
     "output_type": "stream",
     "text": [
      "['dt_of_fr' 'bldng_us' 'bldng_archtctr' 'bldng_cnt' 'bldng_ar' 'ttl_ar'\n",
      " 'lnd_ar' 'dt_of_athrztn' 'ttl_grnd_flr' 'ttl_dwn_flr' 'bldng_us_clssfctn'\n",
      " 'tmprtr' 'prcpttn' 'wnd_spd' 'wnd_drctn' 'hmdt' 'gas_engry_us_201401'\n",
      " 'ele_engry_us_201401' 'gas_engry_us_201402' 'ele_engry_us_201402'\n",
      " 'gas_engry_us_201403' 'ele_engry_us_201403' 'gas_engry_us_201404'\n",
      " 'ele_engry_us_201404' 'gas_engry_us_201405' 'ele_engry_us_201405'\n",
      " 'gas_engry_us_201406' 'ele_engry_us_201406' 'gas_engry_us_201407'\n",
      " 'ele_engry_us_201407' 'gas_engry_us_201408' 'ele_engry_us_201408'\n",
      " 'gas_engry_us_201409' 'ele_engry_us_201409' 'gas_engry_us_201410'\n",
      " 'ele_engry_us_201410' 'gas_engry_us_201411' 'ele_engry_us_201411'\n",
      " 'gas_engry_us_201412' 'ele_engry_us_201412' 'gas_engry_us_201501'\n",
      " 'ele_engry_us_201501' 'gas_engry_us_201502' 'ele_engry_us_201502'\n",
      " 'gas_engry_us_201503' 'ele_engry_us_201503' 'gas_engry_us_201504'\n",
      " 'ele_engry_us_201504' 'gas_engry_us_201505' 'ele_engry_us_201505'\n",
      " 'gas_engry_us_201506' 'ele_engry_us_201506' 'gas_engry_us_201507'\n",
      " 'ele_engry_us_201507' 'gas_engry_us_201508' 'ele_engry_us_201508'\n",
      " 'gas_engry_us_201509' 'ele_engry_us_201509' 'gas_engry_us_201510'\n",
      " 'ele_engry_us_201510' 'gas_engry_us_201511' 'ele_engry_us_201511'\n",
      " 'gas_engry_us_201512' 'ele_engry_us_201512' 'gas_engry_us_201601'\n",
      " 'ele_engry_us_201601' 'gas_engry_us_201602' 'ele_engry_us_201602'\n",
      " 'gas_engry_us_201603' 'ele_engry_us_201603' 'gas_engry_us_201604'\n",
      " 'ele_engry_us_201604' 'gas_engry_us_201605' 'ele_engry_us_201605'\n",
      " 'gas_engry_us_201606' 'ele_engry_us_201606' 'gas_engry_us_201607'\n",
      " 'ele_engry_us_201607' 'gas_engry_us_201608' 'ele_engry_us_201608'\n",
      " 'gas_engry_us_201609' 'ele_engry_us_201609' 'gas_engry_us_201610'\n",
      " 'ele_engry_us_201610' 'gas_engry_us_201611' 'ele_engry_us_201611'\n",
      " 'gas_engry_us_201612' 'ele_engry_us_201612' 'gas_engry_us_201701'\n",
      " 'ele_engry_us_201701' 'gas_engry_us_201702' 'ele_engry_us_201702'\n",
      " 'gas_engry_us_201703' 'ele_engry_us_201703' 'gas_engry_us_201704'\n",
      " 'ele_engry_us_201704' 'gas_engry_us_201705' 'ele_engry_us_201705'\n",
      " 'gas_engry_us_201706' 'ele_engry_us_201706' 'gas_engry_us_201707'\n",
      " 'ele_engry_us_201707' 'gas_engry_us_201708' 'ele_engry_us_201708'\n",
      " 'gas_engry_us_201709' 'ele_engry_us_201709' 'gas_engry_us_201710'\n",
      " 'ele_engry_us_201710' 'gas_engry_us_201711' 'ele_engry_us_201711'\n",
      " 'gas_engry_us_201712' 'ele_engry_us_201712' 'gas_engry_us_201801'\n",
      " 'ele_engry_us_201801' 'gas_engry_us_201802' 'ele_engry_us_201802'\n",
      " 'gas_engry_us_201803' 'ele_engry_us_201803' 'gas_engry_us_201804'\n",
      " 'ele_engry_us_201804' 'gas_engry_us_201805' 'ele_engry_us_201805'\n",
      " 'gas_engry_us_201806' 'ele_engry_us_201806' 'gas_engry_us_201807'\n",
      " 'ele_engry_us_201807' 'gas_engry_us_201808' 'ele_engry_us_201808'\n",
      " 'gas_engry_us_201809' 'ele_engry_us_201809' 'gas_engry_us_201810'\n",
      " 'ele_engry_us_201810' 'gas_engry_us_201811' 'ele_engry_us_201811'\n",
      " 'gas_engry_us_201812' 'ele_engry_us_201812' 'lw_13101010' 'lw_13101110'\n",
      " 'lw_13101210' 'lw_13101211' 'lw_13101310' 'lw_13101410' 'lw_13111010'\n",
      " 'lw_13111110' 'lw_13121010' 'lw_13121011' 'lw_13131010' 'lw_13131110'\n",
      " 'lw_13141010' 'lw_13141011' 'jmk' 'rgnl_ar_nm' 'rgnl_ar_nm2'\n",
      " 'lnd_us_sttn_nm' 'rd_sd_nm' 'emd_nm' 'hm_cnt' 'fr_sttn_dstnc'\n",
      " 'bldng_ar_prc' 'fr_wthr_fclt_dstnc' 'fr_mn_cnt' 'mlt_us_yn' 'cctv_dstnc'\n",
      " 'cctv_in_100m' 'fr_wthr_fclt_in_100m' 'tbc_rtl_str_dstnc'\n",
      " 'sft_emrgnc_bll_dstnc' 'ahsm_dstnc' 'no_tbc_zn_dstnc' 'bldng_cnt_in_50m'\n",
      " 'fr_yn' 'year_athrztn' 'fr_yn_encoded' 'year_athrztn_encoded'\n",
      " 'bldng_archtctr_encoded' '강파이프구조' '경량철골구조' '기타강구조' '기타구조' '기타조적구조'\n",
      " '기타콘크리트구조' '목구조' '벽돌구조' '블록구조' '석구조' '일반목구조' '일반철골구조' '조적구조' '철골철근콘크리트구조'\n",
      " '철골콘크리트구조' '철근콘크리트구조' '통나무구조' '프리케스트콘크리트구조']\n"
     ]
    }
   ],
   "source": [
    "print(train.columns.values)"
   ]
  },
  {
   "cell_type": "code",
   "execution_count": 92,
   "metadata": {},
   "outputs": [],
   "source": [
    "one_hot_bldng_archtctr_test = pd.get_dummies(test[\"bldng_archtctr\"])\n",
    "# bldng_archtctr_test_dropped = test.drop(\"bldng_archtctr\", axis=1)"
   ]
  },
  {
   "cell_type": "code",
   "execution_count": 93,
   "metadata": {},
   "outputs": [],
   "source": [
    "test = test.join(one_hot_bldng_archtctr_test)"
   ]
  },
  {
   "cell_type": "code",
   "execution_count": 94,
   "metadata": {},
   "outputs": [
    {
     "name": "stdout",
     "output_type": "stream",
     "text": [
      "['dt_of_fr' 'bldng_us' 'bldng_archtctr' 'bldng_cnt' 'bldng_ar' 'ttl_ar'\n",
      " 'lnd_ar' 'dt_of_athrztn' 'ttl_grnd_flr' 'ttl_dwn_flr' 'bldng_us_clssfctn'\n",
      " 'tmprtr' 'prcpttn' 'wnd_spd' 'wnd_drctn' 'hmdt' 'gas_engry_us_201401'\n",
      " 'ele_engry_us_201401' 'gas_engry_us_201402' 'ele_engry_us_201402'\n",
      " 'gas_engry_us_201403' 'ele_engry_us_201403' 'gas_engry_us_201404'\n",
      " 'ele_engry_us_201404' 'gas_engry_us_201405' 'ele_engry_us_201405'\n",
      " 'gas_engry_us_201406' 'ele_engry_us_201406' 'gas_engry_us_201407'\n",
      " 'ele_engry_us_201407' 'gas_engry_us_201408' 'ele_engry_us_201408'\n",
      " 'gas_engry_us_201409' 'ele_engry_us_201409' 'gas_engry_us_201410'\n",
      " 'ele_engry_us_201410' 'gas_engry_us_201411' 'ele_engry_us_201411'\n",
      " 'gas_engry_us_201412' 'ele_engry_us_201412' 'gas_engry_us_201501'\n",
      " 'ele_engry_us_201501' 'gas_engry_us_201502' 'ele_engry_us_201502'\n",
      " 'gas_engry_us_201503' 'ele_engry_us_201503' 'gas_engry_us_201504'\n",
      " 'ele_engry_us_201504' 'gas_engry_us_201505' 'ele_engry_us_201505'\n",
      " 'gas_engry_us_201506' 'ele_engry_us_201506' 'gas_engry_us_201507'\n",
      " 'ele_engry_us_201507' 'gas_engry_us_201508' 'ele_engry_us_201508'\n",
      " 'gas_engry_us_201509' 'ele_engry_us_201509' 'gas_engry_us_201510'\n",
      " 'ele_engry_us_201510' 'gas_engry_us_201511' 'ele_engry_us_201511'\n",
      " 'gas_engry_us_201512' 'ele_engry_us_201512' 'gas_engry_us_201601'\n",
      " 'ele_engry_us_201601' 'gas_engry_us_201602' 'ele_engry_us_201602'\n",
      " 'gas_engry_us_201603' 'ele_engry_us_201603' 'gas_engry_us_201604'\n",
      " 'ele_engry_us_201604' 'gas_engry_us_201605' 'ele_engry_us_201605'\n",
      " 'gas_engry_us_201606' 'ele_engry_us_201606' 'gas_engry_us_201607'\n",
      " 'ele_engry_us_201607' 'gas_engry_us_201608' 'ele_engry_us_201608'\n",
      " 'gas_engry_us_201609' 'ele_engry_us_201609' 'gas_engry_us_201610'\n",
      " 'ele_engry_us_201610' 'gas_engry_us_201611' 'ele_engry_us_201611'\n",
      " 'gas_engry_us_201612' 'ele_engry_us_201612' 'gas_engry_us_201701'\n",
      " 'ele_engry_us_201701' 'gas_engry_us_201702' 'ele_engry_us_201702'\n",
      " 'gas_engry_us_201703' 'ele_engry_us_201703' 'gas_engry_us_201704'\n",
      " 'ele_engry_us_201704' 'gas_engry_us_201705' 'ele_engry_us_201705'\n",
      " 'gas_engry_us_201706' 'ele_engry_us_201706' 'gas_engry_us_201707'\n",
      " 'ele_engry_us_201707' 'gas_engry_us_201708' 'ele_engry_us_201708'\n",
      " 'gas_engry_us_201709' 'ele_engry_us_201709' 'gas_engry_us_201710'\n",
      " 'ele_engry_us_201710' 'gas_engry_us_201711' 'ele_engry_us_201711'\n",
      " 'gas_engry_us_201712' 'ele_engry_us_201712' 'gas_engry_us_201801'\n",
      " 'ele_engry_us_201801' 'gas_engry_us_201802' 'ele_engry_us_201802'\n",
      " 'gas_engry_us_201803' 'ele_engry_us_201803' 'gas_engry_us_201804'\n",
      " 'ele_engry_us_201804' 'gas_engry_us_201805' 'ele_engry_us_201805'\n",
      " 'gas_engry_us_201806' 'ele_engry_us_201806' 'gas_engry_us_201807'\n",
      " 'ele_engry_us_201807' 'gas_engry_us_201808' 'ele_engry_us_201808'\n",
      " 'gas_engry_us_201809' 'ele_engry_us_201809' 'gas_engry_us_201810'\n",
      " 'ele_engry_us_201810' 'gas_engry_us_201811' 'ele_engry_us_201811'\n",
      " 'gas_engry_us_201812' 'ele_engry_us_201812' 'lw_13101010' 'lw_13101110'\n",
      " 'lw_13101210' 'lw_13101211' 'lw_13101310' 'lw_13101410' 'lw_13111010'\n",
      " 'lw_13111110' 'lw_13121010' 'lw_13121011' 'lw_13131010' 'lw_13131110'\n",
      " 'lw_13141010' 'lw_13141011' 'jmk' 'rgnl_ar_nm' 'rgnl_ar_nm2'\n",
      " 'lnd_us_sttn_nm' 'rd_sd_nm' 'emd_nm' 'hm_cnt' 'fr_sttn_dstnc'\n",
      " 'bldng_ar_prc' 'fr_wthr_fclt_dstnc' 'fr_mn_cnt' 'mlt_us_yn' 'cctv_dstnc'\n",
      " 'cctv_in_100m' 'fr_wthr_fclt_in_100m' 'tbc_rtl_str_dstnc'\n",
      " 'sft_emrgnc_bll_dstnc' 'ahsm_dstnc' 'no_tbc_zn_dstnc' 'bldng_cnt_in_50m'\n",
      " 'year_athrztn' 'year_athrztn_encoded' '강파이프구조' '경량철골구조' '기타강구조' '기타조적구조'\n",
      " '기타콘크리트구조' '목구조' '벽돌구조' '블록구조' '석구조' '일반목구조' '일반철골구조' '조적구조' '철골철근콘크리트구조'\n",
      " '철골콘크리트구조' '철근콘크리트구조' '통나무구조']\n"
     ]
    }
   ],
   "source": [
    "print(test.columns.values)"
   ]
  },
  {
   "cell_type": "code",
   "execution_count": 95,
   "metadata": {},
   "outputs": [],
   "source": [
    "bldng_archtctr_features = ['철근콘크리트구조', '블록구조', '벽돌구조', '경량철골구조', '일반목구조', '일반철골구조',\n",
    "       '기타구조', '강파이프구조', '조적구조', '석구조', '기타조적구조', '통나무구조', '철골콘크리트구조',\n",
    "       '철골철근콘크리트구조', '기타강구조', '프리케스트콘크리트구조', '목구조', '기타콘크리트구조']"
   ]
  },
  {
   "cell_type": "markdown",
   "metadata": {},
   "source": [
    "### bldng_us 건물용도"
   ]
  },
  {
   "cell_type": "code",
   "execution_count": 96,
   "metadata": {},
   "outputs": [],
   "source": [
    "# 표본이 150개가 넘는 value들만 추출하였다.\n",
    "# 제1종근린생활시설과 제2종근린생활시설은 같은 값을 가지더라도 그 용도가 너무 다양하기 때문에 대표성이 없다고 생각되어 train features에서 제하였다."
   ]
  },
  {
   "cell_type": "code",
   "execution_count": 97,
   "metadata": {},
   "outputs": [
    {
     "data": {
      "text/plain": [
       "0          업무시설\n",
       "1          단독주택\n",
       "2    위험물저장및처리시설\n",
       "3          공동주택\n",
       "4    위험물저장및처리시설\n",
       "Name: bldng_us, dtype: object"
      ]
     },
     "execution_count": 97,
     "metadata": {},
     "output_type": "execute_result"
    }
   ],
   "source": [
    "train[\"bldng_us\"].head()"
   ]
  },
  {
   "cell_type": "code",
   "execution_count": 98,
   "metadata": {},
   "outputs": [
    {
     "data": {
      "text/plain": [
       "array(['업무시설', '단독주택', '위험물저장및처리시설', '공동주택', '제1종근린생활시설', '공장',\n",
       "       '제2종근린생활시설', '노유자시설', '운동시설', '동.식물 관련시설', '창고시설', '의료시설', '위락시설',\n",
       "       '자동차관련시설', '종교시설', '분뇨.쓰레기처리시설', '숙박시설', '교육연구시설', nan, '발전시설',\n",
       "       '관광휴게시설', '판매시설', '수련시설', '문화및집회시설', '묘지관련시설', '근린생활시설', '방송통신시설',\n",
       "       '장례식장', '운수시설', '교정및군사시설', '교육연구및복지시설', '파출소', '판매및영업시설', '시장',\n",
       "       '공공용시설'], dtype=object)"
      ]
     },
     "execution_count": 98,
     "metadata": {},
     "output_type": "execute_result"
    }
   ],
   "source": [
    "train[\"bldng_us\"].unique()"
   ]
  },
  {
   "cell_type": "code",
   "execution_count": 99,
   "metadata": {},
   "outputs": [
    {
     "data": {
      "text/plain": [
       "array(['단독주택', nan, '문화및집회시설', '공장', '공동주택', '제2종근린생활시설', '자동차관련시설',\n",
       "       '동.식물 관련시설', '노유자시설', '창고시설', '제1종근린생활시설', '종교시설', '숙박시설',\n",
       "       '분뇨.쓰레기처리시설', '교육연구시설', '위락시설', '위험물저장및처리시설', '업무시설', '관광휴게시설',\n",
       "       '의료시설', '운동시설', '판매시설', '근린생활시설', '교정및군사시설'], dtype=object)"
      ]
     },
     "execution_count": 99,
     "metadata": {},
     "output_type": "execute_result"
    }
   ],
   "source": [
    "test[\"bldng_us\"].unique()"
   ]
  },
  {
   "cell_type": "code",
   "execution_count": 100,
   "metadata": {},
   "outputs": [
    {
     "data": {
      "text/plain": [
       "(28792, 193)"
      ]
     },
     "execution_count": 100,
     "metadata": {},
     "output_type": "execute_result"
    }
   ],
   "source": [
    "train[train[\"bldng_us\"].isnull()].shape"
   ]
  },
  {
   "cell_type": "code",
   "execution_count": 101,
   "metadata": {},
   "outputs": [
    {
     "data": {
      "text/plain": [
       "(467, 188)"
      ]
     },
     "execution_count": 101,
     "metadata": {},
     "output_type": "execute_result"
    }
   ],
   "source": [
    "test[test[\"bldng_us\"].isnull()].shape"
   ]
  },
  {
   "cell_type": "code",
   "execution_count": 102,
   "metadata": {},
   "outputs": [
    {
     "data": {
      "text/plain": [
       "단독주택          22930\n",
       "제2종근린생활시설      2870\n",
       "제1종근린생활시설      2782\n",
       "공장             2185\n",
       "동.식물 관련시설      1656\n",
       "창고시설           1644\n",
       "공동주택           1354\n",
       "숙박시설            296\n",
       "노유자시설           233\n",
       "교육연구시설          218\n",
       "종교시설            182\n",
       "업무시설            159\n",
       "위험물저장및처리시설      158\n",
       "자동차관련시설         157\n",
       "분뇨.쓰레기처리시설       73\n",
       "판매시설             63\n",
       "운동시설             50\n",
       "위락시설             50\n",
       "문화및집회시설          43\n",
       "의료시설             37\n",
       "근린생활시설           33\n",
       "관광휴게시설           33\n",
       "교육연구및복지시설        18\n",
       "방송통신시설           16\n",
       "수련시설             15\n",
       "운수시설             12\n",
       "묘지관련시설           12\n",
       "발전시설             11\n",
       "교정및군사시설           8\n",
       "장례식장              3\n",
       "파출소               1\n",
       "시장                1\n",
       "공공용시설             1\n",
       "판매및영업시설           1\n",
       "dtype: int64"
      ]
     },
     "execution_count": 102,
     "metadata": {},
     "output_type": "execute_result"
    }
   ],
   "source": [
    "pd.value_counts(train[\"bldng_us\"].values.flatten())"
   ]
  },
  {
   "cell_type": "code",
   "execution_count": 103,
   "metadata": {},
   "outputs": [
    {
     "data": {
      "text/plain": [
       "단독주택          1190\n",
       "공장             378\n",
       "제2종근린생활시설      273\n",
       "제1종근린생활시설      199\n",
       "공동주택           184\n",
       "동.식물 관련시설       82\n",
       "창고시설            43\n",
       "숙박시설            18\n",
       "교육연구시설          16\n",
       "노유자시설           16\n",
       "위험물저장및처리시설      16\n",
       "분뇨.쓰레기처리시설      14\n",
       "자동차관련시설         14\n",
       "업무시설            11\n",
       "종교시설            10\n",
       "위락시설             7\n",
       "판매시설             5\n",
       "문화및집회시설          4\n",
       "운동시설             4\n",
       "관광휴게시설           3\n",
       "교정및군사시설          1\n",
       "근린생활시설           1\n",
       "의료시설             1\n",
       "dtype: int64"
      ]
     },
     "execution_count": 103,
     "metadata": {},
     "output_type": "execute_result"
    }
   ],
   "source": [
    "pd.value_counts(test[\"bldng_us\"].values.flatten())"
   ]
  },
  {
   "cell_type": "code",
   "execution_count": 104,
   "metadata": {
    "scrolled": true
   },
   "outputs": [
    {
     "data": {
      "text/html": [
       "<div>\n",
       "<style scoped>\n",
       "    .dataframe tbody tr th:only-of-type {\n",
       "        vertical-align: middle;\n",
       "    }\n",
       "\n",
       "    .dataframe tbody tr th {\n",
       "        vertical-align: top;\n",
       "    }\n",
       "\n",
       "    .dataframe thead th {\n",
       "        text-align: right;\n",
       "    }\n",
       "</style>\n",
       "<table border=\"1\" class=\"dataframe\">\n",
       "  <thead>\n",
       "    <tr style=\"text-align: right;\">\n",
       "      <th></th>\n",
       "      <th>fr_yn_encoded</th>\n",
       "    </tr>\n",
       "    <tr>\n",
       "      <th>bldng_us</th>\n",
       "      <th></th>\n",
       "    </tr>\n",
       "  </thead>\n",
       "  <tbody>\n",
       "    <tr>\n",
       "      <th>공공용시설</th>\n",
       "      <td>0.000000</td>\n",
       "    </tr>\n",
       "    <tr>\n",
       "      <th>공동주택</th>\n",
       "      <td>0.562777</td>\n",
       "    </tr>\n",
       "    <tr>\n",
       "      <th>공장</th>\n",
       "      <td>0.440275</td>\n",
       "    </tr>\n",
       "    <tr>\n",
       "      <th>관광휴게시설</th>\n",
       "      <td>0.696970</td>\n",
       "    </tr>\n",
       "    <tr>\n",
       "      <th>교육연구및복지시설</th>\n",
       "      <td>0.333333</td>\n",
       "    </tr>\n",
       "    <tr>\n",
       "      <th>교육연구시설</th>\n",
       "      <td>0.504587</td>\n",
       "    </tr>\n",
       "    <tr>\n",
       "      <th>교정및군사시설</th>\n",
       "      <td>0.375000</td>\n",
       "    </tr>\n",
       "    <tr>\n",
       "      <th>근린생활시설</th>\n",
       "      <td>0.242424</td>\n",
       "    </tr>\n",
       "    <tr>\n",
       "      <th>노유자시설</th>\n",
       "      <td>0.248927</td>\n",
       "    </tr>\n",
       "    <tr>\n",
       "      <th>단독주택</th>\n",
       "      <td>0.167946</td>\n",
       "    </tr>\n",
       "    <tr>\n",
       "      <th>동.식물 관련시설</th>\n",
       "      <td>0.248188</td>\n",
       "    </tr>\n",
       "    <tr>\n",
       "      <th>묘지관련시설</th>\n",
       "      <td>0.416667</td>\n",
       "    </tr>\n",
       "    <tr>\n",
       "      <th>문화및집회시설</th>\n",
       "      <td>0.418605</td>\n",
       "    </tr>\n",
       "    <tr>\n",
       "      <th>발전시설</th>\n",
       "      <td>0.181818</td>\n",
       "    </tr>\n",
       "    <tr>\n",
       "      <th>방송통신시설</th>\n",
       "      <td>0.437500</td>\n",
       "    </tr>\n",
       "    <tr>\n",
       "      <th>분뇨.쓰레기처리시설</th>\n",
       "      <td>0.575342</td>\n",
       "    </tr>\n",
       "    <tr>\n",
       "      <th>수련시설</th>\n",
       "      <td>0.600000</td>\n",
       "    </tr>\n",
       "    <tr>\n",
       "      <th>숙박시설</th>\n",
       "      <td>0.418919</td>\n",
       "    </tr>\n",
       "    <tr>\n",
       "      <th>시장</th>\n",
       "      <td>0.000000</td>\n",
       "    </tr>\n",
       "    <tr>\n",
       "      <th>업무시설</th>\n",
       "      <td>0.528302</td>\n",
       "    </tr>\n",
       "    <tr>\n",
       "      <th>운동시설</th>\n",
       "      <td>0.480000</td>\n",
       "    </tr>\n",
       "    <tr>\n",
       "      <th>운수시설</th>\n",
       "      <td>0.500000</td>\n",
       "    </tr>\n",
       "    <tr>\n",
       "      <th>위락시설</th>\n",
       "      <td>0.500000</td>\n",
       "    </tr>\n",
       "    <tr>\n",
       "      <th>위험물저장및처리시설</th>\n",
       "      <td>0.234177</td>\n",
       "    </tr>\n",
       "    <tr>\n",
       "      <th>의료시설</th>\n",
       "      <td>0.648649</td>\n",
       "    </tr>\n",
       "    <tr>\n",
       "      <th>자동차관련시설</th>\n",
       "      <td>0.541401</td>\n",
       "    </tr>\n",
       "    <tr>\n",
       "      <th>장례식장</th>\n",
       "      <td>0.666667</td>\n",
       "    </tr>\n",
       "    <tr>\n",
       "      <th>제1종근린생활시설</th>\n",
       "      <td>0.299784</td>\n",
       "    </tr>\n",
       "    <tr>\n",
       "      <th>제2종근린생활시설</th>\n",
       "      <td>0.327875</td>\n",
       "    </tr>\n",
       "    <tr>\n",
       "      <th>종교시설</th>\n",
       "      <td>0.280220</td>\n",
       "    </tr>\n",
       "    <tr>\n",
       "      <th>창고시설</th>\n",
       "      <td>0.204380</td>\n",
       "    </tr>\n",
       "    <tr>\n",
       "      <th>파출소</th>\n",
       "      <td>0.000000</td>\n",
       "    </tr>\n",
       "    <tr>\n",
       "      <th>판매및영업시설</th>\n",
       "      <td>0.000000</td>\n",
       "    </tr>\n",
       "    <tr>\n",
       "      <th>판매시설</th>\n",
       "      <td>0.666667</td>\n",
       "    </tr>\n",
       "  </tbody>\n",
       "</table>\n",
       "</div>"
      ],
      "text/plain": [
       "            fr_yn_encoded\n",
       "bldng_us                 \n",
       "공공용시설            0.000000\n",
       "공동주택             0.562777\n",
       "공장               0.440275\n",
       "관광휴게시설           0.696970\n",
       "교육연구및복지시설        0.333333\n",
       "교육연구시설           0.504587\n",
       "교정및군사시설          0.375000\n",
       "근린생활시설           0.242424\n",
       "노유자시설            0.248927\n",
       "단독주택             0.167946\n",
       "동.식물 관련시설        0.248188\n",
       "묘지관련시설           0.416667\n",
       "문화및집회시설          0.418605\n",
       "발전시설             0.181818\n",
       "방송통신시설           0.437500\n",
       "분뇨.쓰레기처리시설       0.575342\n",
       "수련시설             0.600000\n",
       "숙박시설             0.418919\n",
       "시장               0.000000\n",
       "업무시설             0.528302\n",
       "운동시설             0.480000\n",
       "운수시설             0.500000\n",
       "위락시설             0.500000\n",
       "위험물저장및처리시설       0.234177\n",
       "의료시설             0.648649\n",
       "자동차관련시설          0.541401\n",
       "장례식장             0.666667\n",
       "제1종근린생활시설        0.299784\n",
       "제2종근린생활시설        0.327875\n",
       "종교시설             0.280220\n",
       "창고시설             0.204380\n",
       "파출소              0.000000\n",
       "판매및영업시설          0.000000\n",
       "판매시설             0.666667"
      ]
     },
     "execution_count": 104,
     "metadata": {},
     "output_type": "execute_result"
    }
   ],
   "source": [
    "pd.pivot_table(train, index=\"bldng_us\", values=\"fr_yn_encoded\")"
   ]
  },
  {
   "cell_type": "code",
   "execution_count": 105,
   "metadata": {
    "scrolled": true
   },
   "outputs": [
    {
     "data": {
      "text/plain": [
       "벽돌구조           6838\n",
       "일반목구조          6760\n",
       "블록구조           3564\n",
       "철근콘크리트구조       3286\n",
       "경량철골구조         1465\n",
       "조적구조            364\n",
       "기타조적구조          303\n",
       "일반철골구조          195\n",
       "석구조              45\n",
       "기타구조             26\n",
       "강파이프구조           17\n",
       "기타강구조            16\n",
       "목구조              16\n",
       "통나무구조            10\n",
       "철골콘크리트구조          9\n",
       "프리케스트콘크리트구조       5\n",
       "기타콘크리트구조          3\n",
       "dtype: int64"
      ]
     },
     "execution_count": 105,
     "metadata": {},
     "output_type": "execute_result"
    }
   ],
   "source": [
    "pd.value_counts(train[train[\"bldng_us\"]=='단독주택'][\"bldng_archtctr\"].values.flatten())"
   ]
  },
  {
   "cell_type": "code",
   "execution_count": 106,
   "metadata": {},
   "outputs": [],
   "source": [
    "bldng_us_columns = ['업무시설', '단독주택', '위험물저장및처리시설', '공동주택', '제1종근린생활시설', '공장',\n",
    "       '제2종근린생활시설', '노유자시설', '운동시설', '동.식물 관련시설', '창고시설', '의료시설', '위락시설',\n",
    "       '자동차관련시설', '종교시설', '분뇨.쓰레기처리시설', '숙박시설', '교육연구시설', '발전시설',\n",
    "       '관광휴게시설', '판매시설', '수련시설', '문화및집회시설', '묘지관련시설', '근린생활시설', '방송통신시설',\n",
    "       '장례식장', '운수시설', '교정및군사시설', '교육연구및복지시설', '파출소', '판매및영업시설', '시장',\n",
    "       '공공용시설']\n",
    "\n",
    "train[\"bldng_us_over150\"] = train[\"bldng_us\"]\n",
    "\n",
    "for b in bldng_us_columns:\n",
    "    if (train[\"bldng_us\"].values == b).sum() < 150:\n",
    "        train.loc[train[\"bldng_us\"].values == b, \"bldng_us_over150\"] = None"
   ]
  },
  {
   "cell_type": "code",
   "execution_count": 107,
   "metadata": {},
   "outputs": [
    {
     "name": "stdout",
     "output_type": "stream",
     "text": [
      "['업무시설' '단독주택' '위험물저장및처리시설' '공동주택' '제1종근린생활시설' '공장' '제2종근린생활시설' '노유자시설'\n",
      " None '동.식물 관련시설' '창고시설' '자동차관련시설' '종교시설' '숙박시설' '교육연구시설' nan]\n"
     ]
    }
   ],
   "source": [
    "print(train[\"bldng_us_over150\"].unique())"
   ]
  },
  {
   "cell_type": "code",
   "execution_count": 108,
   "metadata": {
    "scrolled": true
   },
   "outputs": [
    {
     "data": {
      "text/plain": [
       "단독주택          22930\n",
       "제2종근린생활시설      2870\n",
       "제1종근린생활시설      2782\n",
       "공장             2185\n",
       "동.식물 관련시설      1656\n",
       "창고시설           1644\n",
       "공동주택           1354\n",
       "숙박시설            296\n",
       "노유자시설           233\n",
       "교육연구시설          218\n",
       "종교시설            182\n",
       "업무시설            159\n",
       "위험물저장및처리시설      158\n",
       "자동차관련시설         157\n",
       "Name: bldng_us_over150, dtype: int64"
      ]
     },
     "execution_count": 108,
     "metadata": {},
     "output_type": "execute_result"
    }
   ],
   "source": [
    "train[\"bldng_us_over150\"].value_counts()"
   ]
  },
  {
   "cell_type": "code",
   "execution_count": 109,
   "metadata": {},
   "outputs": [
    {
     "data": {
      "text/html": [
       "<div>\n",
       "<style scoped>\n",
       "    .dataframe tbody tr th:only-of-type {\n",
       "        vertical-align: middle;\n",
       "    }\n",
       "\n",
       "    .dataframe tbody tr th {\n",
       "        vertical-align: top;\n",
       "    }\n",
       "\n",
       "    .dataframe thead th {\n",
       "        text-align: right;\n",
       "    }\n",
       "</style>\n",
       "<table border=\"1\" class=\"dataframe\">\n",
       "  <thead>\n",
       "    <tr style=\"text-align: right;\">\n",
       "      <th></th>\n",
       "      <th>fr_yn_encoded</th>\n",
       "    </tr>\n",
       "    <tr>\n",
       "      <th>bldng_us_over150</th>\n",
       "      <th></th>\n",
       "    </tr>\n",
       "  </thead>\n",
       "  <tbody>\n",
       "    <tr>\n",
       "      <th>공동주택</th>\n",
       "      <td>0.562777</td>\n",
       "    </tr>\n",
       "    <tr>\n",
       "      <th>공장</th>\n",
       "      <td>0.440275</td>\n",
       "    </tr>\n",
       "    <tr>\n",
       "      <th>교육연구시설</th>\n",
       "      <td>0.504587</td>\n",
       "    </tr>\n",
       "    <tr>\n",
       "      <th>노유자시설</th>\n",
       "      <td>0.248927</td>\n",
       "    </tr>\n",
       "    <tr>\n",
       "      <th>단독주택</th>\n",
       "      <td>0.167946</td>\n",
       "    </tr>\n",
       "    <tr>\n",
       "      <th>동.식물 관련시설</th>\n",
       "      <td>0.248188</td>\n",
       "    </tr>\n",
       "    <tr>\n",
       "      <th>숙박시설</th>\n",
       "      <td>0.418919</td>\n",
       "    </tr>\n",
       "    <tr>\n",
       "      <th>업무시설</th>\n",
       "      <td>0.528302</td>\n",
       "    </tr>\n",
       "    <tr>\n",
       "      <th>위험물저장및처리시설</th>\n",
       "      <td>0.234177</td>\n",
       "    </tr>\n",
       "    <tr>\n",
       "      <th>자동차관련시설</th>\n",
       "      <td>0.541401</td>\n",
       "    </tr>\n",
       "    <tr>\n",
       "      <th>제1종근린생활시설</th>\n",
       "      <td>0.299784</td>\n",
       "    </tr>\n",
       "    <tr>\n",
       "      <th>제2종근린생활시설</th>\n",
       "      <td>0.327875</td>\n",
       "    </tr>\n",
       "    <tr>\n",
       "      <th>종교시설</th>\n",
       "      <td>0.280220</td>\n",
       "    </tr>\n",
       "    <tr>\n",
       "      <th>창고시설</th>\n",
       "      <td>0.204380</td>\n",
       "    </tr>\n",
       "  </tbody>\n",
       "</table>\n",
       "</div>"
      ],
      "text/plain": [
       "                  fr_yn_encoded\n",
       "bldng_us_over150               \n",
       "공동주택                   0.562777\n",
       "공장                     0.440275\n",
       "교육연구시설                 0.504587\n",
       "노유자시설                  0.248927\n",
       "단독주택                   0.167946\n",
       "동.식물 관련시설              0.248188\n",
       "숙박시설                   0.418919\n",
       "업무시설                   0.528302\n",
       "위험물저장및처리시설             0.234177\n",
       "자동차관련시설                0.541401\n",
       "제1종근린생활시설              0.299784\n",
       "제2종근린생활시설              0.327875\n",
       "종교시설                   0.280220\n",
       "창고시설                   0.204380"
      ]
     },
     "execution_count": 109,
     "metadata": {},
     "output_type": "execute_result"
    }
   ],
   "source": [
    "pd.pivot_table(train, index=\"bldng_us_over150\", values=\"fr_yn_encoded\")"
   ]
  },
  {
   "cell_type": "code",
   "execution_count": 110,
   "metadata": {},
   "outputs": [],
   "source": [
    "one_hot_bldng_us_over150 = pd.get_dummies(train[\"bldng_us_over150\"])\n",
    "train = train.join(one_hot_bldng_us_over150)"
   ]
  },
  {
   "cell_type": "code",
   "execution_count": 111,
   "metadata": {},
   "outputs": [],
   "source": [
    "bldng_us_features=['업무시설', '단독주택', '위험물저장및처리시설',\n",
    "                   '공동주택', '공장', '노유자시설', '동.식물 관련시설', '창고시설',\n",
    "                   '자동차관련시설', '종교시설', '숙박시설', '교육연구시설']"
   ]
  },
  {
   "cell_type": "code",
   "execution_count": 112,
   "metadata": {},
   "outputs": [],
   "source": [
    "one_hot_bldng_us_test = pd.get_dummies(test[\"bldng_us\"])\n",
    "test = test.join(one_hot_bldng_us_test)"
   ]
  },
  {
   "cell_type": "markdown",
   "metadata": {},
   "source": [
    "## Train"
   ]
  },
  {
   "cell_type": "code",
   "execution_count": 113,
   "metadata": {},
   "outputs": [],
   "source": [
    "feature_names = [\"bldng_ar\",\"ttl_ar\", \"year_athrztn\",\n",
    "                 '철근콘크리트구조', '블록구조', '벽돌구조', '경량철골구조', '일반목구조', '일반철골구조',\n",
    "       '강파이프구조', '조적구조', '석구조', '기타조적구조', '통나무구조', '철골콘크리트구조',\n",
    "       '철골철근콘크리트구조', '기타강구조', '목구조', '기타콘크리트구조'\n",
    "                ,'업무시설', '단독주택', '위험물저장및처리시설',\n",
    "                   '공동주택', '공장', '노유자시설', '동.식물 관련시설', '창고시설',\n",
    "                   '자동차관련시설', '종교시설', '숙박시설', '교육연구시설']\n",
    "label_name = \"fr_yn_encoded\""
   ]
  },
  {
   "cell_type": "code",
   "execution_count": 114,
   "metadata": {},
   "outputs": [
    {
     "data": {
      "text/html": [
       "<div>\n",
       "<style scoped>\n",
       "    .dataframe tbody tr th:only-of-type {\n",
       "        vertical-align: middle;\n",
       "    }\n",
       "\n",
       "    .dataframe tbody tr th {\n",
       "        vertical-align: top;\n",
       "    }\n",
       "\n",
       "    .dataframe thead th {\n",
       "        text-align: right;\n",
       "    }\n",
       "</style>\n",
       "<table border=\"1\" class=\"dataframe\">\n",
       "  <thead>\n",
       "    <tr style=\"text-align: right;\">\n",
       "      <th></th>\n",
       "      <th>bldng_ar</th>\n",
       "      <th>ttl_ar</th>\n",
       "      <th>year_athrztn</th>\n",
       "      <th>철근콘크리트구조</th>\n",
       "      <th>블록구조</th>\n",
       "      <th>벽돌구조</th>\n",
       "      <th>경량철골구조</th>\n",
       "      <th>일반목구조</th>\n",
       "      <th>일반철골구조</th>\n",
       "      <th>강파이프구조</th>\n",
       "      <th>...</th>\n",
       "      <th>위험물저장및처리시설</th>\n",
       "      <th>공동주택</th>\n",
       "      <th>공장</th>\n",
       "      <th>노유자시설</th>\n",
       "      <th>동.식물 관련시설</th>\n",
       "      <th>창고시설</th>\n",
       "      <th>자동차관련시설</th>\n",
       "      <th>종교시설</th>\n",
       "      <th>숙박시설</th>\n",
       "      <th>교육연구시설</th>\n",
       "    </tr>\n",
       "  </thead>\n",
       "  <tbody>\n",
       "    <tr>\n",
       "      <th>0</th>\n",
       "      <td>721.82</td>\n",
       "      <td>1109.54</td>\n",
       "      <td>1988</td>\n",
       "      <td>1</td>\n",
       "      <td>0</td>\n",
       "      <td>0</td>\n",
       "      <td>0</td>\n",
       "      <td>0</td>\n",
       "      <td>0</td>\n",
       "      <td>0</td>\n",
       "      <td>...</td>\n",
       "      <td>0</td>\n",
       "      <td>0</td>\n",
       "      <td>0</td>\n",
       "      <td>0</td>\n",
       "      <td>0</td>\n",
       "      <td>0</td>\n",
       "      <td>0</td>\n",
       "      <td>0</td>\n",
       "      <td>0</td>\n",
       "      <td>0</td>\n",
       "    </tr>\n",
       "    <tr>\n",
       "      <th>1</th>\n",
       "      <td>47.06</td>\n",
       "      <td>47.06</td>\n",
       "      <td>1965</td>\n",
       "      <td>0</td>\n",
       "      <td>1</td>\n",
       "      <td>0</td>\n",
       "      <td>0</td>\n",
       "      <td>0</td>\n",
       "      <td>0</td>\n",
       "      <td>0</td>\n",
       "      <td>...</td>\n",
       "      <td>0</td>\n",
       "      <td>0</td>\n",
       "      <td>0</td>\n",
       "      <td>0</td>\n",
       "      <td>0</td>\n",
       "      <td>0</td>\n",
       "      <td>0</td>\n",
       "      <td>0</td>\n",
       "      <td>0</td>\n",
       "      <td>0</td>\n",
       "    </tr>\n",
       "    <tr>\n",
       "      <th>2</th>\n",
       "      <td>171.45</td>\n",
       "      <td>176.64</td>\n",
       "      <td>2002</td>\n",
       "      <td>0</td>\n",
       "      <td>0</td>\n",
       "      <td>1</td>\n",
       "      <td>0</td>\n",
       "      <td>0</td>\n",
       "      <td>0</td>\n",
       "      <td>0</td>\n",
       "      <td>...</td>\n",
       "      <td>1</td>\n",
       "      <td>0</td>\n",
       "      <td>0</td>\n",
       "      <td>0</td>\n",
       "      <td>0</td>\n",
       "      <td>0</td>\n",
       "      <td>0</td>\n",
       "      <td>0</td>\n",
       "      <td>0</td>\n",
       "      <td>0</td>\n",
       "    </tr>\n",
       "    <tr>\n",
       "      <th>3</th>\n",
       "      <td>30351.48</td>\n",
       "      <td>316147.12</td>\n",
       "      <td>2000</td>\n",
       "      <td>1</td>\n",
       "      <td>0</td>\n",
       "      <td>0</td>\n",
       "      <td>0</td>\n",
       "      <td>0</td>\n",
       "      <td>0</td>\n",
       "      <td>0</td>\n",
       "      <td>...</td>\n",
       "      <td>0</td>\n",
       "      <td>1</td>\n",
       "      <td>0</td>\n",
       "      <td>0</td>\n",
       "      <td>0</td>\n",
       "      <td>0</td>\n",
       "      <td>0</td>\n",
       "      <td>0</td>\n",
       "      <td>0</td>\n",
       "      <td>0</td>\n",
       "    </tr>\n",
       "    <tr>\n",
       "      <th>4</th>\n",
       "      <td>114.15</td>\n",
       "      <td>337.61</td>\n",
       "      <td>1983</td>\n",
       "      <td>1</td>\n",
       "      <td>0</td>\n",
       "      <td>0</td>\n",
       "      <td>0</td>\n",
       "      <td>0</td>\n",
       "      <td>0</td>\n",
       "      <td>0</td>\n",
       "      <td>...</td>\n",
       "      <td>1</td>\n",
       "      <td>0</td>\n",
       "      <td>0</td>\n",
       "      <td>0</td>\n",
       "      <td>0</td>\n",
       "      <td>0</td>\n",
       "      <td>0</td>\n",
       "      <td>0</td>\n",
       "      <td>0</td>\n",
       "      <td>0</td>\n",
       "    </tr>\n",
       "  </tbody>\n",
       "</table>\n",
       "<p>5 rows × 31 columns</p>\n",
       "</div>"
      ],
      "text/plain": [
       "   bldng_ar     ttl_ar  year_athrztn  철근콘크리트구조  블록구조  벽돌구조  경량철골구조  일반목구조  \\\n",
       "0    721.82    1109.54          1988         1     0     0       0      0   \n",
       "1     47.06      47.06          1965         0     1     0       0      0   \n",
       "2    171.45     176.64          2002         0     0     1       0      0   \n",
       "3  30351.48  316147.12          2000         1     0     0       0      0   \n",
       "4    114.15     337.61          1983         1     0     0       0      0   \n",
       "\n",
       "   일반철골구조  강파이프구조  ...  위험물저장및처리시설  공동주택  공장  노유자시설  동.식물 관련시설  창고시설  자동차관련시설  \\\n",
       "0       0       0  ...           0     0   0      0          0     0        0   \n",
       "1       0       0  ...           0     0   0      0          0     0        0   \n",
       "2       0       0  ...           1     0   0      0          0     0        0   \n",
       "3       0       0  ...           0     1   0      0          0     0        0   \n",
       "4       0       0  ...           1     0   0      0          0     0        0   \n",
       "\n",
       "   종교시설  숙박시설  교육연구시설  \n",
       "0     0     0       0  \n",
       "1     0     0       0  \n",
       "2     0     0       0  \n",
       "3     0     0       0  \n",
       "4     0     0       0  \n",
       "\n",
       "[5 rows x 31 columns]"
      ]
     },
     "execution_count": 114,
     "metadata": {},
     "output_type": "execute_result"
    }
   ],
   "source": [
    "X_train=train[feature_names]\n",
    "X_train.head()"
   ]
  },
  {
   "cell_type": "code",
   "execution_count": 115,
   "metadata": {},
   "outputs": [
    {
     "data": {
      "text/html": [
       "<div>\n",
       "<style scoped>\n",
       "    .dataframe tbody tr th:only-of-type {\n",
       "        vertical-align: middle;\n",
       "    }\n",
       "\n",
       "    .dataframe tbody tr th {\n",
       "        vertical-align: top;\n",
       "    }\n",
       "\n",
       "    .dataframe thead th {\n",
       "        text-align: right;\n",
       "    }\n",
       "</style>\n",
       "<table border=\"1\" class=\"dataframe\">\n",
       "  <thead>\n",
       "    <tr style=\"text-align: right;\">\n",
       "      <th></th>\n",
       "      <th>bldng_ar</th>\n",
       "      <th>ttl_ar</th>\n",
       "      <th>year_athrztn</th>\n",
       "      <th>철근콘크리트구조</th>\n",
       "      <th>블록구조</th>\n",
       "      <th>벽돌구조</th>\n",
       "      <th>경량철골구조</th>\n",
       "      <th>일반목구조</th>\n",
       "      <th>일반철골구조</th>\n",
       "      <th>강파이프구조</th>\n",
       "      <th>...</th>\n",
       "      <th>위험물저장및처리시설</th>\n",
       "      <th>공동주택</th>\n",
       "      <th>공장</th>\n",
       "      <th>노유자시설</th>\n",
       "      <th>동.식물 관련시설</th>\n",
       "      <th>창고시설</th>\n",
       "      <th>자동차관련시설</th>\n",
       "      <th>종교시설</th>\n",
       "      <th>숙박시설</th>\n",
       "      <th>교육연구시설</th>\n",
       "    </tr>\n",
       "    <tr>\n",
       "      <th>id</th>\n",
       "      <th></th>\n",
       "      <th></th>\n",
       "      <th></th>\n",
       "      <th></th>\n",
       "      <th></th>\n",
       "      <th></th>\n",
       "      <th></th>\n",
       "      <th></th>\n",
       "      <th></th>\n",
       "      <th></th>\n",
       "      <th></th>\n",
       "      <th></th>\n",
       "      <th></th>\n",
       "      <th></th>\n",
       "      <th></th>\n",
       "      <th></th>\n",
       "      <th></th>\n",
       "      <th></th>\n",
       "      <th></th>\n",
       "      <th></th>\n",
       "      <th></th>\n",
       "    </tr>\n",
       "  </thead>\n",
       "  <tbody>\n",
       "    <tr>\n",
       "      <th>122699</th>\n",
       "      <td>74.84</td>\n",
       "      <td>114.17</td>\n",
       "      <td>1986</td>\n",
       "      <td>0</td>\n",
       "      <td>0</td>\n",
       "      <td>1</td>\n",
       "      <td>0</td>\n",
       "      <td>0</td>\n",
       "      <td>0</td>\n",
       "      <td>0</td>\n",
       "      <td>...</td>\n",
       "      <td>0</td>\n",
       "      <td>0</td>\n",
       "      <td>0</td>\n",
       "      <td>0</td>\n",
       "      <td>0</td>\n",
       "      <td>0</td>\n",
       "      <td>0</td>\n",
       "      <td>0</td>\n",
       "      <td>0</td>\n",
       "      <td>0</td>\n",
       "    </tr>\n",
       "    <tr>\n",
       "      <th>125440</th>\n",
       "      <td>70.00</td>\n",
       "      <td>70.00</td>\n",
       "      <td>1960</td>\n",
       "      <td>0</td>\n",
       "      <td>1</td>\n",
       "      <td>0</td>\n",
       "      <td>0</td>\n",
       "      <td>0</td>\n",
       "      <td>0</td>\n",
       "      <td>0</td>\n",
       "      <td>...</td>\n",
       "      <td>0</td>\n",
       "      <td>0</td>\n",
       "      <td>0</td>\n",
       "      <td>0</td>\n",
       "      <td>0</td>\n",
       "      <td>0</td>\n",
       "      <td>0</td>\n",
       "      <td>0</td>\n",
       "      <td>0</td>\n",
       "      <td>0</td>\n",
       "    </tr>\n",
       "    <tr>\n",
       "      <th>75921</th>\n",
       "      <td>135.11</td>\n",
       "      <td>135.11</td>\n",
       "      <td>1986</td>\n",
       "      <td>0</td>\n",
       "      <td>0</td>\n",
       "      <td>0</td>\n",
       "      <td>0</td>\n",
       "      <td>0</td>\n",
       "      <td>0</td>\n",
       "      <td>0</td>\n",
       "      <td>...</td>\n",
       "      <td>0</td>\n",
       "      <td>0</td>\n",
       "      <td>0</td>\n",
       "      <td>0</td>\n",
       "      <td>0</td>\n",
       "      <td>0</td>\n",
       "      <td>0</td>\n",
       "      <td>0</td>\n",
       "      <td>0</td>\n",
       "      <td>0</td>\n",
       "    </tr>\n",
       "    <tr>\n",
       "      <th>123350</th>\n",
       "      <td>118.50</td>\n",
       "      <td>303.66</td>\n",
       "      <td>2012</td>\n",
       "      <td>1</td>\n",
       "      <td>0</td>\n",
       "      <td>0</td>\n",
       "      <td>0</td>\n",
       "      <td>0</td>\n",
       "      <td>0</td>\n",
       "      <td>0</td>\n",
       "      <td>...</td>\n",
       "      <td>0</td>\n",
       "      <td>0</td>\n",
       "      <td>0</td>\n",
       "      <td>0</td>\n",
       "      <td>0</td>\n",
       "      <td>0</td>\n",
       "      <td>0</td>\n",
       "      <td>0</td>\n",
       "      <td>0</td>\n",
       "      <td>0</td>\n",
       "    </tr>\n",
       "    <tr>\n",
       "      <th>123152</th>\n",
       "      <td>82.95</td>\n",
       "      <td>82.95</td>\n",
       "      <td>2013</td>\n",
       "      <td>0</td>\n",
       "      <td>0</td>\n",
       "      <td>0</td>\n",
       "      <td>1</td>\n",
       "      <td>0</td>\n",
       "      <td>0</td>\n",
       "      <td>0</td>\n",
       "      <td>...</td>\n",
       "      <td>0</td>\n",
       "      <td>0</td>\n",
       "      <td>0</td>\n",
       "      <td>0</td>\n",
       "      <td>0</td>\n",
       "      <td>0</td>\n",
       "      <td>0</td>\n",
       "      <td>0</td>\n",
       "      <td>0</td>\n",
       "      <td>0</td>\n",
       "    </tr>\n",
       "  </tbody>\n",
       "</table>\n",
       "<p>5 rows × 31 columns</p>\n",
       "</div>"
      ],
      "text/plain": [
       "        bldng_ar  ttl_ar  year_athrztn  철근콘크리트구조  블록구조  벽돌구조  경량철골구조  일반목구조  \\\n",
       "id                                                                            \n",
       "122699     74.84  114.17          1986         0     0     1       0      0   \n",
       "125440     70.00   70.00          1960         0     1     0       0      0   \n",
       "75921     135.11  135.11          1986         0     0     0       0      0   \n",
       "123350    118.50  303.66          2012         1     0     0       0      0   \n",
       "123152     82.95   82.95          2013         0     0     0       1      0   \n",
       "\n",
       "        일반철골구조  강파이프구조  ...  위험물저장및처리시설  공동주택  공장  노유자시설  동.식물 관련시설  창고시설  \\\n",
       "id                      ...                                                 \n",
       "122699       0       0  ...           0     0   0      0          0     0   \n",
       "125440       0       0  ...           0     0   0      0          0     0   \n",
       "75921        0       0  ...           0     0   0      0          0     0   \n",
       "123350       0       0  ...           0     0   0      0          0     0   \n",
       "123152       0       0  ...           0     0   0      0          0     0   \n",
       "\n",
       "        자동차관련시설  종교시설  숙박시설  교육연구시설  \n",
       "id                                   \n",
       "122699        0     0     0       0  \n",
       "125440        0     0     0       0  \n",
       "75921         0     0     0       0  \n",
       "123350        0     0     0       0  \n",
       "123152        0     0     0       0  \n",
       "\n",
       "[5 rows x 31 columns]"
      ]
     },
     "execution_count": 115,
     "metadata": {},
     "output_type": "execute_result"
    }
   ],
   "source": [
    "X_test=test[feature_names]\n",
    "X_test.head()"
   ]
  },
  {
   "cell_type": "code",
   "execution_count": 116,
   "metadata": {},
   "outputs": [
    {
     "data": {
      "text/plain": [
       "0    0\n",
       "1    0\n",
       "2    0\n",
       "3    1\n",
       "4    1\n",
       "Name: fr_yn_encoded, dtype: int32"
      ]
     },
     "execution_count": 116,
     "metadata": {},
     "output_type": "execute_result"
    }
   ],
   "source": [
    "y_train=train[label_name]\n",
    "y_train.head()"
   ]
  },
  {
   "cell_type": "code",
   "execution_count": 117,
   "metadata": {},
   "outputs": [],
   "source": [
    "#df_all = pd.concat([X_train, X_test])\n",
    "\n",
    "#categorical_cols = df_all.select_dtypes(['object']).columns\n",
    "#for col in categorical_cols:\n",
    "#    df_all[col] = pd.Categorical(df_all[col]).codes\n",
    "\n",
    "#X_train = df_all[:len(train)]\n",
    "#X_test = df_all[-len(test):]"
   ]
  },
  {
   "cell_type": "code",
   "execution_count": 118,
   "metadata": {},
   "outputs": [],
   "source": [
    "#X_train = X_train.fillna(-1)\n",
    "#X_test = X_test.fillna(-1)"
   ]
  },
  {
   "cell_type": "markdown",
   "metadata": {},
   "source": [
    "## Use RandomForest"
   ]
  },
  {
   "cell_type": "code",
   "execution_count": 119,
   "metadata": {},
   "outputs": [
    {
     "data": {
      "text/plain": [
       "RandomForestClassifier(bootstrap=True, class_weight=None, criterion='gini',\n",
       "                       max_depth=None, max_features='auto', max_leaf_nodes=None,\n",
       "                       min_impurity_decrease=0.0, min_impurity_split=None,\n",
       "                       min_samples_leaf=1, min_samples_split=2,\n",
       "                       min_weight_fraction_leaf=0.0, n_estimators=500,\n",
       "                       n_jobs=-1, oob_score=False, random_state=452, verbose=0,\n",
       "                       warm_start=False)"
      ]
     },
     "execution_count": 119,
     "metadata": {},
     "output_type": "execute_result"
    }
   ],
   "source": [
    "from sklearn.metrics import f1_score\n",
    "from sklearn.ensemble import RandomForestClassifier\n",
    "from sklearn.model_selection import cross_val_score\n",
    "model = RandomForestClassifier(n_jobs=-1, n_estimators=500, random_state=452)\n",
    "model"
   ]
  },
  {
   "cell_type": "code",
   "execution_count": 120,
   "metadata": {},
   "outputs": [
    {
     "name": "stdout",
     "output_type": "stream",
     "text": [
      "Parameters currently in use:\n",
      "\n",
      "{'bootstrap': True,\n",
      " 'class_weight': None,\n",
      " 'criterion': 'gini',\n",
      " 'max_depth': None,\n",
      " 'max_features': 'auto',\n",
      " 'max_leaf_nodes': None,\n",
      " 'min_impurity_decrease': 0.0,\n",
      " 'min_impurity_split': None,\n",
      " 'min_samples_leaf': 1,\n",
      " 'min_samples_split': 2,\n",
      " 'min_weight_fraction_leaf': 0.0,\n",
      " 'n_estimators': 500,\n",
      " 'n_jobs': -1,\n",
      " 'oob_score': False,\n",
      " 'random_state': 452,\n",
      " 'verbose': 0,\n",
      " 'warm_start': False}\n"
     ]
    }
   ],
   "source": [
    "from pprint import pprint\n",
    "print('Parameters currently in use:\\n')\n",
    "pprint(model.get_params())"
   ]
  },
  {
   "cell_type": "code",
   "execution_count": 122,
   "metadata": {},
   "outputs": [],
   "source": [
    "from sklearn.model_selection import RandomizedSearchCV\n",
    "# Number of trees in random forest\n",
    "n_estimators = [int(x) for x in np.linspace(start = 200, stop = 2000, num = 10)]\n",
    "# Number of features to consider at every split\n",
    "max_features = ['auto', 'sqrt']\n",
    "# Maximum number of levels in tree\n",
    "max_depth = [int(x) for x in np.linspace(10, 110, num = 11)]\n",
    "max_depth.append(None)\n",
    "# Minimum number of samples required to split a node\n",
    "min_samples_split = [2, 5, 10]\n",
    "# Minimum number of samples required at each leaf node\n",
    "min_samples_leaf = [1, 2, 4]\n",
    "# Method of selecting samples for training each tree\n",
    "bootstrap = [True, False]"
   ]
  },
  {
   "cell_type": "code",
   "execution_count": 123,
   "metadata": {},
   "outputs": [
    {
     "name": "stdout",
     "output_type": "stream",
     "text": [
      "{'bootstrap': [True, False],\n",
      " 'max_depth': [10, 20, 30, 40, 50, 60, 70, 80, 90, 100, 110, None],\n",
      " 'max_features': ['auto', 'sqrt'],\n",
      " 'min_samples_leaf': [1, 2, 4],\n",
      " 'min_samples_split': [2, 5, 10],\n",
      " 'n_estimators': [200, 400, 600, 800, 1000, 1200, 1400, 1600, 1800, 2000]}\n"
     ]
    }
   ],
   "source": [
    "# Create the random grid\n",
    "random_grid = {'n_estimators': n_estimators,\n",
    "               'max_features': max_features,\n",
    "               'max_depth': max_depth,\n",
    "               'min_samples_split': min_samples_split,\n",
    "               'min_samples_leaf': min_samples_leaf,\n",
    "               'bootstrap': bootstrap}\n",
    "pprint(random_grid)"
   ]
  },
  {
   "cell_type": "code",
   "execution_count": 126,
   "metadata": {},
   "outputs": [
    {
     "name": "stdout",
     "output_type": "stream",
     "text": [
      "Fitting 3 folds for each of 100 candidates, totalling 300 fits\n"
     ]
    },
    {
     "name": "stderr",
     "output_type": "stream",
     "text": [
      "[Parallel(n_jobs=-1)]: Using backend LokyBackend with 4 concurrent workers.\n"
     ]
    },
    {
     "ename": "KeyboardInterrupt",
     "evalue": "",
     "output_type": "error",
     "traceback": [
      "\u001b[1;31m---------------------------------------------------------------------------\u001b[0m",
      "\u001b[1;31mKeyboardInterrupt\u001b[0m                         Traceback (most recent call last)",
      "\u001b[1;32m<ipython-input-126-bd1221cea4e2>\u001b[0m in \u001b[0;36m<module>\u001b[1;34m\u001b[0m\n\u001b[0;32m      6\u001b[0m \u001b[0mmodel_random\u001b[0m \u001b[1;33m=\u001b[0m \u001b[0mRandomizedSearchCV\u001b[0m\u001b[1;33m(\u001b[0m\u001b[0mestimator\u001b[0m \u001b[1;33m=\u001b[0m \u001b[0mmodel\u001b[0m\u001b[1;33m,\u001b[0m \u001b[0mparam_distributions\u001b[0m \u001b[1;33m=\u001b[0m \u001b[0mrandom_grid\u001b[0m\u001b[1;33m,\u001b[0m \u001b[0mn_iter\u001b[0m \u001b[1;33m=\u001b[0m \u001b[1;36m100\u001b[0m\u001b[1;33m,\u001b[0m \u001b[0mcv\u001b[0m \u001b[1;33m=\u001b[0m \u001b[1;36m3\u001b[0m\u001b[1;33m,\u001b[0m \u001b[0mverbose\u001b[0m\u001b[1;33m=\u001b[0m\u001b[1;36m2\u001b[0m\u001b[1;33m,\u001b[0m \u001b[0mrandom_state\u001b[0m\u001b[1;33m=\u001b[0m\u001b[1;36m42\u001b[0m\u001b[1;33m,\u001b[0m \u001b[0mn_jobs\u001b[0m \u001b[1;33m=\u001b[0m \u001b[1;33m-\u001b[0m\u001b[1;36m1\u001b[0m\u001b[1;33m)\u001b[0m\u001b[1;33m\u001b[0m\u001b[1;33m\u001b[0m\u001b[0m\n\u001b[0;32m      7\u001b[0m \u001b[1;31m# Fit the random search model\u001b[0m\u001b[1;33m\u001b[0m\u001b[1;33m\u001b[0m\u001b[1;33m\u001b[0m\u001b[0m\n\u001b[1;32m----> 8\u001b[1;33m \u001b[0mmodel_random\u001b[0m\u001b[1;33m.\u001b[0m\u001b[0mfit\u001b[0m\u001b[1;33m(\u001b[0m\u001b[0mX_train\u001b[0m\u001b[1;33m,\u001b[0m \u001b[0my_train\u001b[0m\u001b[1;33m)\u001b[0m\u001b[1;33m\u001b[0m\u001b[1;33m\u001b[0m\u001b[0m\n\u001b[0m",
      "\u001b[1;32m~\\Anaconda3\\lib\\site-packages\\sklearn\\model_selection\\_search.py\u001b[0m in \u001b[0;36mfit\u001b[1;34m(self, X, y, groups, **fit_params)\u001b[0m\n\u001b[0;32m    685\u001b[0m                 \u001b[1;32mreturn\u001b[0m \u001b[0mresults\u001b[0m\u001b[1;33m\u001b[0m\u001b[1;33m\u001b[0m\u001b[0m\n\u001b[0;32m    686\u001b[0m \u001b[1;33m\u001b[0m\u001b[0m\n\u001b[1;32m--> 687\u001b[1;33m             \u001b[0mself\u001b[0m\u001b[1;33m.\u001b[0m\u001b[0m_run_search\u001b[0m\u001b[1;33m(\u001b[0m\u001b[0mevaluate_candidates\u001b[0m\u001b[1;33m)\u001b[0m\u001b[1;33m\u001b[0m\u001b[1;33m\u001b[0m\u001b[0m\n\u001b[0m\u001b[0;32m    688\u001b[0m \u001b[1;33m\u001b[0m\u001b[0m\n\u001b[0;32m    689\u001b[0m         \u001b[1;31m# For multi-metric evaluation, store the best_index_, best_params_ and\u001b[0m\u001b[1;33m\u001b[0m\u001b[1;33m\u001b[0m\u001b[1;33m\u001b[0m\u001b[0m\n",
      "\u001b[1;32m~\\Anaconda3\\lib\\site-packages\\sklearn\\model_selection\\_search.py\u001b[0m in \u001b[0;36m_run_search\u001b[1;34m(self, evaluate_candidates)\u001b[0m\n\u001b[0;32m   1466\u001b[0m         evaluate_candidates(ParameterSampler(\n\u001b[0;32m   1467\u001b[0m             \u001b[0mself\u001b[0m\u001b[1;33m.\u001b[0m\u001b[0mparam_distributions\u001b[0m\u001b[1;33m,\u001b[0m \u001b[0mself\u001b[0m\u001b[1;33m.\u001b[0m\u001b[0mn_iter\u001b[0m\u001b[1;33m,\u001b[0m\u001b[1;33m\u001b[0m\u001b[1;33m\u001b[0m\u001b[0m\n\u001b[1;32m-> 1468\u001b[1;33m             random_state=self.random_state))\n\u001b[0m",
      "\u001b[1;32m~\\Anaconda3\\lib\\site-packages\\sklearn\\model_selection\\_search.py\u001b[0m in \u001b[0;36mevaluate_candidates\u001b[1;34m(candidate_params)\u001b[0m\n\u001b[0;32m    664\u001b[0m                                \u001b[1;32mfor\u001b[0m \u001b[0mparameters\u001b[0m\u001b[1;33m,\u001b[0m \u001b[1;33m(\u001b[0m\u001b[0mtrain\u001b[0m\u001b[1;33m,\u001b[0m \u001b[0mtest\u001b[0m\u001b[1;33m)\u001b[0m\u001b[1;33m\u001b[0m\u001b[1;33m\u001b[0m\u001b[0m\n\u001b[0;32m    665\u001b[0m                                in product(candidate_params,\n\u001b[1;32m--> 666\u001b[1;33m                                           cv.split(X, y, groups)))\n\u001b[0m\u001b[0;32m    667\u001b[0m \u001b[1;33m\u001b[0m\u001b[0m\n\u001b[0;32m    668\u001b[0m                 \u001b[1;32mif\u001b[0m \u001b[0mlen\u001b[0m\u001b[1;33m(\u001b[0m\u001b[0mout\u001b[0m\u001b[1;33m)\u001b[0m \u001b[1;33m<\u001b[0m \u001b[1;36m1\u001b[0m\u001b[1;33m:\u001b[0m\u001b[1;33m\u001b[0m\u001b[1;33m\u001b[0m\u001b[0m\n",
      "\u001b[1;32m~\\Anaconda3\\lib\\site-packages\\joblib\\parallel.py\u001b[0m in \u001b[0;36m__call__\u001b[1;34m(self, iterable)\u001b[0m\n\u001b[0;32m    932\u001b[0m \u001b[1;33m\u001b[0m\u001b[0m\n\u001b[0;32m    933\u001b[0m             \u001b[1;32mwith\u001b[0m \u001b[0mself\u001b[0m\u001b[1;33m.\u001b[0m\u001b[0m_backend\u001b[0m\u001b[1;33m.\u001b[0m\u001b[0mretrieval_context\u001b[0m\u001b[1;33m(\u001b[0m\u001b[1;33m)\u001b[0m\u001b[1;33m:\u001b[0m\u001b[1;33m\u001b[0m\u001b[1;33m\u001b[0m\u001b[0m\n\u001b[1;32m--> 934\u001b[1;33m                 \u001b[0mself\u001b[0m\u001b[1;33m.\u001b[0m\u001b[0mretrieve\u001b[0m\u001b[1;33m(\u001b[0m\u001b[1;33m)\u001b[0m\u001b[1;33m\u001b[0m\u001b[1;33m\u001b[0m\u001b[0m\n\u001b[0m\u001b[0;32m    935\u001b[0m             \u001b[1;31m# Make sure that we get a last message telling us we are done\u001b[0m\u001b[1;33m\u001b[0m\u001b[1;33m\u001b[0m\u001b[1;33m\u001b[0m\u001b[0m\n\u001b[0;32m    936\u001b[0m             \u001b[0melapsed_time\u001b[0m \u001b[1;33m=\u001b[0m \u001b[0mtime\u001b[0m\u001b[1;33m.\u001b[0m\u001b[0mtime\u001b[0m\u001b[1;33m(\u001b[0m\u001b[1;33m)\u001b[0m \u001b[1;33m-\u001b[0m \u001b[0mself\u001b[0m\u001b[1;33m.\u001b[0m\u001b[0m_start_time\u001b[0m\u001b[1;33m\u001b[0m\u001b[1;33m\u001b[0m\u001b[0m\n",
      "\u001b[1;32m~\\Anaconda3\\lib\\site-packages\\joblib\\parallel.py\u001b[0m in \u001b[0;36mretrieve\u001b[1;34m(self)\u001b[0m\n\u001b[0;32m    831\u001b[0m             \u001b[1;32mtry\u001b[0m\u001b[1;33m:\u001b[0m\u001b[1;33m\u001b[0m\u001b[1;33m\u001b[0m\u001b[0m\n\u001b[0;32m    832\u001b[0m                 \u001b[1;32mif\u001b[0m \u001b[0mgetattr\u001b[0m\u001b[1;33m(\u001b[0m\u001b[0mself\u001b[0m\u001b[1;33m.\u001b[0m\u001b[0m_backend\u001b[0m\u001b[1;33m,\u001b[0m \u001b[1;34m'supports_timeout'\u001b[0m\u001b[1;33m,\u001b[0m \u001b[1;32mFalse\u001b[0m\u001b[1;33m)\u001b[0m\u001b[1;33m:\u001b[0m\u001b[1;33m\u001b[0m\u001b[1;33m\u001b[0m\u001b[0m\n\u001b[1;32m--> 833\u001b[1;33m                     \u001b[0mself\u001b[0m\u001b[1;33m.\u001b[0m\u001b[0m_output\u001b[0m\u001b[1;33m.\u001b[0m\u001b[0mextend\u001b[0m\u001b[1;33m(\u001b[0m\u001b[0mjob\u001b[0m\u001b[1;33m.\u001b[0m\u001b[0mget\u001b[0m\u001b[1;33m(\u001b[0m\u001b[0mtimeout\u001b[0m\u001b[1;33m=\u001b[0m\u001b[0mself\u001b[0m\u001b[1;33m.\u001b[0m\u001b[0mtimeout\u001b[0m\u001b[1;33m)\u001b[0m\u001b[1;33m)\u001b[0m\u001b[1;33m\u001b[0m\u001b[1;33m\u001b[0m\u001b[0m\n\u001b[0m\u001b[0;32m    834\u001b[0m                 \u001b[1;32melse\u001b[0m\u001b[1;33m:\u001b[0m\u001b[1;33m\u001b[0m\u001b[1;33m\u001b[0m\u001b[0m\n\u001b[0;32m    835\u001b[0m                     \u001b[0mself\u001b[0m\u001b[1;33m.\u001b[0m\u001b[0m_output\u001b[0m\u001b[1;33m.\u001b[0m\u001b[0mextend\u001b[0m\u001b[1;33m(\u001b[0m\u001b[0mjob\u001b[0m\u001b[1;33m.\u001b[0m\u001b[0mget\u001b[0m\u001b[1;33m(\u001b[0m\u001b[1;33m)\u001b[0m\u001b[1;33m)\u001b[0m\u001b[1;33m\u001b[0m\u001b[1;33m\u001b[0m\u001b[0m\n",
      "\u001b[1;32m~\\Anaconda3\\lib\\site-packages\\joblib\\_parallel_backends.py\u001b[0m in \u001b[0;36mwrap_future_result\u001b[1;34m(future, timeout)\u001b[0m\n\u001b[0;32m    519\u001b[0m         AsyncResults.get from multiprocessing.\"\"\"\n\u001b[0;32m    520\u001b[0m         \u001b[1;32mtry\u001b[0m\u001b[1;33m:\u001b[0m\u001b[1;33m\u001b[0m\u001b[1;33m\u001b[0m\u001b[0m\n\u001b[1;32m--> 521\u001b[1;33m             \u001b[1;32mreturn\u001b[0m \u001b[0mfuture\u001b[0m\u001b[1;33m.\u001b[0m\u001b[0mresult\u001b[0m\u001b[1;33m(\u001b[0m\u001b[0mtimeout\u001b[0m\u001b[1;33m=\u001b[0m\u001b[0mtimeout\u001b[0m\u001b[1;33m)\u001b[0m\u001b[1;33m\u001b[0m\u001b[1;33m\u001b[0m\u001b[0m\n\u001b[0m\u001b[0;32m    522\u001b[0m         \u001b[1;32mexcept\u001b[0m \u001b[0mLokyTimeoutError\u001b[0m\u001b[1;33m:\u001b[0m\u001b[1;33m\u001b[0m\u001b[1;33m\u001b[0m\u001b[0m\n\u001b[0;32m    523\u001b[0m             \u001b[1;32mraise\u001b[0m \u001b[0mTimeoutError\u001b[0m\u001b[1;33m(\u001b[0m\u001b[1;33m)\u001b[0m\u001b[1;33m\u001b[0m\u001b[1;33m\u001b[0m\u001b[0m\n",
      "\u001b[1;32m~\\Anaconda3\\lib\\concurrent\\futures\\_base.py\u001b[0m in \u001b[0;36mresult\u001b[1;34m(self, timeout)\u001b[0m\n\u001b[0;32m    425\u001b[0m                 \u001b[1;32mreturn\u001b[0m \u001b[0mself\u001b[0m\u001b[1;33m.\u001b[0m\u001b[0m__get_result\u001b[0m\u001b[1;33m(\u001b[0m\u001b[1;33m)\u001b[0m\u001b[1;33m\u001b[0m\u001b[1;33m\u001b[0m\u001b[0m\n\u001b[0;32m    426\u001b[0m \u001b[1;33m\u001b[0m\u001b[0m\n\u001b[1;32m--> 427\u001b[1;33m             \u001b[0mself\u001b[0m\u001b[1;33m.\u001b[0m\u001b[0m_condition\u001b[0m\u001b[1;33m.\u001b[0m\u001b[0mwait\u001b[0m\u001b[1;33m(\u001b[0m\u001b[0mtimeout\u001b[0m\u001b[1;33m)\u001b[0m\u001b[1;33m\u001b[0m\u001b[1;33m\u001b[0m\u001b[0m\n\u001b[0m\u001b[0;32m    428\u001b[0m \u001b[1;33m\u001b[0m\u001b[0m\n\u001b[0;32m    429\u001b[0m             \u001b[1;32mif\u001b[0m \u001b[0mself\u001b[0m\u001b[1;33m.\u001b[0m\u001b[0m_state\u001b[0m \u001b[1;32min\u001b[0m \u001b[1;33m[\u001b[0m\u001b[0mCANCELLED\u001b[0m\u001b[1;33m,\u001b[0m \u001b[0mCANCELLED_AND_NOTIFIED\u001b[0m\u001b[1;33m]\u001b[0m\u001b[1;33m:\u001b[0m\u001b[1;33m\u001b[0m\u001b[1;33m\u001b[0m\u001b[0m\n",
      "\u001b[1;32m~\\Anaconda3\\lib\\threading.py\u001b[0m in \u001b[0;36mwait\u001b[1;34m(self, timeout)\u001b[0m\n\u001b[0;32m    294\u001b[0m         \u001b[1;32mtry\u001b[0m\u001b[1;33m:\u001b[0m    \u001b[1;31m# restore state no matter what (e.g., KeyboardInterrupt)\u001b[0m\u001b[1;33m\u001b[0m\u001b[1;33m\u001b[0m\u001b[0m\n\u001b[0;32m    295\u001b[0m             \u001b[1;32mif\u001b[0m \u001b[0mtimeout\u001b[0m \u001b[1;32mis\u001b[0m \u001b[1;32mNone\u001b[0m\u001b[1;33m:\u001b[0m\u001b[1;33m\u001b[0m\u001b[1;33m\u001b[0m\u001b[0m\n\u001b[1;32m--> 296\u001b[1;33m                 \u001b[0mwaiter\u001b[0m\u001b[1;33m.\u001b[0m\u001b[0macquire\u001b[0m\u001b[1;33m(\u001b[0m\u001b[1;33m)\u001b[0m\u001b[1;33m\u001b[0m\u001b[1;33m\u001b[0m\u001b[0m\n\u001b[0m\u001b[0;32m    297\u001b[0m                 \u001b[0mgotit\u001b[0m \u001b[1;33m=\u001b[0m \u001b[1;32mTrue\u001b[0m\u001b[1;33m\u001b[0m\u001b[1;33m\u001b[0m\u001b[0m\n\u001b[0;32m    298\u001b[0m             \u001b[1;32melse\u001b[0m\u001b[1;33m:\u001b[0m\u001b[1;33m\u001b[0m\u001b[1;33m\u001b[0m\u001b[0m\n",
      "\u001b[1;31mKeyboardInterrupt\u001b[0m: "
     ]
    }
   ],
   "source": [
    "# Use the random grid to search for best hyperparameters\n",
    "# First create the base model to tune\n",
    "#rf = RandomForestRegressor()\n",
    "# Random search of parameters, using 3 fold cross validation, \n",
    "# search across 100 different combinations, and use all available cores\n",
    "model_random = RandomizedSearchCV(estimator = model, param_distributions = random_grid, n_iter = 100, cv = 3, verbose=2, random_state=42, n_jobs = -1)\n",
    "# Fit the random search model\n",
    "model_random.fit(X_train, y_train)"
   ]
  },
  {
   "cell_type": "code",
   "execution_count": null,
   "metadata": {},
   "outputs": [],
   "source": [
    "model_random.best_params_"
   ]
  },
  {
   "cell_type": "code",
   "execution_count": null,
   "metadata": {},
   "outputs": [],
   "source": []
  },
  {
   "cell_type": "code",
   "execution_count": 121,
   "metadata": {},
   "outputs": [
    {
     "ename": "KeyboardInterrupt",
     "evalue": "",
     "output_type": "error",
     "traceback": [
      "\u001b[1;31m---------------------------------------------------------------------------\u001b[0m",
      "\u001b[1;31mKeyboardInterrupt\u001b[0m                         Traceback (most recent call last)",
      "\u001b[1;32m<ipython-input-121-44e6ee368e24>\u001b[0m in \u001b[0;36m<module>\u001b[1;34m\u001b[0m\n\u001b[0;32m      3\u001b[0m \u001b[1;33m\u001b[0m\u001b[0m\n\u001b[0;32m      4\u001b[0m \u001b[0mf1_score\u001b[0m \u001b[1;33m=\u001b[0m \u001b[0mmake_scorer\u001b[0m\u001b[1;33m(\u001b[0m\u001b[0mf1_score\u001b[0m\u001b[1;33m)\u001b[0m\u001b[1;33m\u001b[0m\u001b[1;33m\u001b[0m\u001b[0m\n\u001b[1;32m----> 5\u001b[1;33m \u001b[0mscore\u001b[0m \u001b[1;33m=\u001b[0m \u001b[0mcross_val_score\u001b[0m\u001b[1;33m(\u001b[0m\u001b[0mmodel\u001b[0m\u001b[1;33m,\u001b[0m\u001b[0mX_train\u001b[0m\u001b[1;33m,\u001b[0m \u001b[0my_train\u001b[0m\u001b[1;33m,\u001b[0m \u001b[0mcv\u001b[0m\u001b[1;33m=\u001b[0m\u001b[1;36m5\u001b[0m\u001b[1;33m,\u001b[0m \u001b[0mscoring\u001b[0m\u001b[1;33m=\u001b[0m\u001b[0mf1_score\u001b[0m\u001b[1;33m)\u001b[0m\u001b[1;33m.\u001b[0m\u001b[0mmean\u001b[0m\u001b[1;33m(\u001b[0m\u001b[1;33m)\u001b[0m\u001b[1;33m\u001b[0m\u001b[1;33m\u001b[0m\u001b[0m\n\u001b[0m",
      "\u001b[1;32m~\\Anaconda3\\lib\\site-packages\\sklearn\\model_selection\\_validation.py\u001b[0m in \u001b[0;36mcross_val_score\u001b[1;34m(estimator, X, y, groups, scoring, cv, n_jobs, verbose, fit_params, pre_dispatch, error_score)\u001b[0m\n\u001b[0;32m    387\u001b[0m                                 \u001b[0mfit_params\u001b[0m\u001b[1;33m=\u001b[0m\u001b[0mfit_params\u001b[0m\u001b[1;33m,\u001b[0m\u001b[1;33m\u001b[0m\u001b[1;33m\u001b[0m\u001b[0m\n\u001b[0;32m    388\u001b[0m                                 \u001b[0mpre_dispatch\u001b[0m\u001b[1;33m=\u001b[0m\u001b[0mpre_dispatch\u001b[0m\u001b[1;33m,\u001b[0m\u001b[1;33m\u001b[0m\u001b[1;33m\u001b[0m\u001b[0m\n\u001b[1;32m--> 389\u001b[1;33m                                 error_score=error_score)\n\u001b[0m\u001b[0;32m    390\u001b[0m     \u001b[1;32mreturn\u001b[0m \u001b[0mcv_results\u001b[0m\u001b[1;33m[\u001b[0m\u001b[1;34m'test_score'\u001b[0m\u001b[1;33m]\u001b[0m\u001b[1;33m\u001b[0m\u001b[1;33m\u001b[0m\u001b[0m\n\u001b[0;32m    391\u001b[0m \u001b[1;33m\u001b[0m\u001b[0m\n",
      "\u001b[1;32m~\\Anaconda3\\lib\\site-packages\\sklearn\\model_selection\\_validation.py\u001b[0m in \u001b[0;36mcross_validate\u001b[1;34m(estimator, X, y, groups, scoring, cv, n_jobs, verbose, fit_params, pre_dispatch, return_train_score, return_estimator, error_score)\u001b[0m\n\u001b[0;32m    229\u001b[0m             \u001b[0mreturn_times\u001b[0m\u001b[1;33m=\u001b[0m\u001b[1;32mTrue\u001b[0m\u001b[1;33m,\u001b[0m \u001b[0mreturn_estimator\u001b[0m\u001b[1;33m=\u001b[0m\u001b[0mreturn_estimator\u001b[0m\u001b[1;33m,\u001b[0m\u001b[1;33m\u001b[0m\u001b[1;33m\u001b[0m\u001b[0m\n\u001b[0;32m    230\u001b[0m             error_score=error_score)\n\u001b[1;32m--> 231\u001b[1;33m         for train, test in cv.split(X, y, groups))\n\u001b[0m\u001b[0;32m    232\u001b[0m \u001b[1;33m\u001b[0m\u001b[0m\n\u001b[0;32m    233\u001b[0m     \u001b[0mzipped_scores\u001b[0m \u001b[1;33m=\u001b[0m \u001b[0mlist\u001b[0m\u001b[1;33m(\u001b[0m\u001b[0mzip\u001b[0m\u001b[1;33m(\u001b[0m\u001b[1;33m*\u001b[0m\u001b[0mscores\u001b[0m\u001b[1;33m)\u001b[0m\u001b[1;33m)\u001b[0m\u001b[1;33m\u001b[0m\u001b[1;33m\u001b[0m\u001b[0m\n",
      "\u001b[1;32m~\\Anaconda3\\lib\\site-packages\\joblib\\parallel.py\u001b[0m in \u001b[0;36m__call__\u001b[1;34m(self, iterable)\u001b[0m\n\u001b[0;32m    922\u001b[0m                 \u001b[0mself\u001b[0m\u001b[1;33m.\u001b[0m\u001b[0m_iterating\u001b[0m \u001b[1;33m=\u001b[0m \u001b[0mself\u001b[0m\u001b[1;33m.\u001b[0m\u001b[0m_original_iterator\u001b[0m \u001b[1;32mis\u001b[0m \u001b[1;32mnot\u001b[0m \u001b[1;32mNone\u001b[0m\u001b[1;33m\u001b[0m\u001b[1;33m\u001b[0m\u001b[0m\n\u001b[0;32m    923\u001b[0m \u001b[1;33m\u001b[0m\u001b[0m\n\u001b[1;32m--> 924\u001b[1;33m             \u001b[1;32mwhile\u001b[0m \u001b[0mself\u001b[0m\u001b[1;33m.\u001b[0m\u001b[0mdispatch_one_batch\u001b[0m\u001b[1;33m(\u001b[0m\u001b[0miterator\u001b[0m\u001b[1;33m)\u001b[0m\u001b[1;33m:\u001b[0m\u001b[1;33m\u001b[0m\u001b[1;33m\u001b[0m\u001b[0m\n\u001b[0m\u001b[0;32m    925\u001b[0m                 \u001b[1;32mpass\u001b[0m\u001b[1;33m\u001b[0m\u001b[1;33m\u001b[0m\u001b[0m\n\u001b[0;32m    926\u001b[0m \u001b[1;33m\u001b[0m\u001b[0m\n",
      "\u001b[1;32m~\\Anaconda3\\lib\\site-packages\\joblib\\parallel.py\u001b[0m in \u001b[0;36mdispatch_one_batch\u001b[1;34m(self, iterator)\u001b[0m\n\u001b[0;32m    757\u001b[0m                 \u001b[1;32mreturn\u001b[0m \u001b[1;32mFalse\u001b[0m\u001b[1;33m\u001b[0m\u001b[1;33m\u001b[0m\u001b[0m\n\u001b[0;32m    758\u001b[0m             \u001b[1;32melse\u001b[0m\u001b[1;33m:\u001b[0m\u001b[1;33m\u001b[0m\u001b[1;33m\u001b[0m\u001b[0m\n\u001b[1;32m--> 759\u001b[1;33m                 \u001b[0mself\u001b[0m\u001b[1;33m.\u001b[0m\u001b[0m_dispatch\u001b[0m\u001b[1;33m(\u001b[0m\u001b[0mtasks\u001b[0m\u001b[1;33m)\u001b[0m\u001b[1;33m\u001b[0m\u001b[1;33m\u001b[0m\u001b[0m\n\u001b[0m\u001b[0;32m    760\u001b[0m                 \u001b[1;32mreturn\u001b[0m \u001b[1;32mTrue\u001b[0m\u001b[1;33m\u001b[0m\u001b[1;33m\u001b[0m\u001b[0m\n\u001b[0;32m    761\u001b[0m \u001b[1;33m\u001b[0m\u001b[0m\n",
      "\u001b[1;32m~\\Anaconda3\\lib\\site-packages\\joblib\\parallel.py\u001b[0m in \u001b[0;36m_dispatch\u001b[1;34m(self, batch)\u001b[0m\n\u001b[0;32m    714\u001b[0m         \u001b[1;32mwith\u001b[0m \u001b[0mself\u001b[0m\u001b[1;33m.\u001b[0m\u001b[0m_lock\u001b[0m\u001b[1;33m:\u001b[0m\u001b[1;33m\u001b[0m\u001b[1;33m\u001b[0m\u001b[0m\n\u001b[0;32m    715\u001b[0m             \u001b[0mjob_idx\u001b[0m \u001b[1;33m=\u001b[0m \u001b[0mlen\u001b[0m\u001b[1;33m(\u001b[0m\u001b[0mself\u001b[0m\u001b[1;33m.\u001b[0m\u001b[0m_jobs\u001b[0m\u001b[1;33m)\u001b[0m\u001b[1;33m\u001b[0m\u001b[1;33m\u001b[0m\u001b[0m\n\u001b[1;32m--> 716\u001b[1;33m             \u001b[0mjob\u001b[0m \u001b[1;33m=\u001b[0m \u001b[0mself\u001b[0m\u001b[1;33m.\u001b[0m\u001b[0m_backend\u001b[0m\u001b[1;33m.\u001b[0m\u001b[0mapply_async\u001b[0m\u001b[1;33m(\u001b[0m\u001b[0mbatch\u001b[0m\u001b[1;33m,\u001b[0m \u001b[0mcallback\u001b[0m\u001b[1;33m=\u001b[0m\u001b[0mcb\u001b[0m\u001b[1;33m)\u001b[0m\u001b[1;33m\u001b[0m\u001b[1;33m\u001b[0m\u001b[0m\n\u001b[0m\u001b[0;32m    717\u001b[0m             \u001b[1;31m# A job can complete so quickly than its callback is\u001b[0m\u001b[1;33m\u001b[0m\u001b[1;33m\u001b[0m\u001b[1;33m\u001b[0m\u001b[0m\n\u001b[0;32m    718\u001b[0m             \u001b[1;31m# called before we get here, causing self._jobs to\u001b[0m\u001b[1;33m\u001b[0m\u001b[1;33m\u001b[0m\u001b[1;33m\u001b[0m\u001b[0m\n",
      "\u001b[1;32m~\\Anaconda3\\lib\\site-packages\\joblib\\_parallel_backends.py\u001b[0m in \u001b[0;36mapply_async\u001b[1;34m(self, func, callback)\u001b[0m\n\u001b[0;32m    180\u001b[0m     \u001b[1;32mdef\u001b[0m \u001b[0mapply_async\u001b[0m\u001b[1;33m(\u001b[0m\u001b[0mself\u001b[0m\u001b[1;33m,\u001b[0m \u001b[0mfunc\u001b[0m\u001b[1;33m,\u001b[0m \u001b[0mcallback\u001b[0m\u001b[1;33m=\u001b[0m\u001b[1;32mNone\u001b[0m\u001b[1;33m)\u001b[0m\u001b[1;33m:\u001b[0m\u001b[1;33m\u001b[0m\u001b[1;33m\u001b[0m\u001b[0m\n\u001b[0;32m    181\u001b[0m         \u001b[1;34m\"\"\"Schedule a func to be run\"\"\"\u001b[0m\u001b[1;33m\u001b[0m\u001b[1;33m\u001b[0m\u001b[0m\n\u001b[1;32m--> 182\u001b[1;33m         \u001b[0mresult\u001b[0m \u001b[1;33m=\u001b[0m \u001b[0mImmediateResult\u001b[0m\u001b[1;33m(\u001b[0m\u001b[0mfunc\u001b[0m\u001b[1;33m)\u001b[0m\u001b[1;33m\u001b[0m\u001b[1;33m\u001b[0m\u001b[0m\n\u001b[0m\u001b[0;32m    183\u001b[0m         \u001b[1;32mif\u001b[0m \u001b[0mcallback\u001b[0m\u001b[1;33m:\u001b[0m\u001b[1;33m\u001b[0m\u001b[1;33m\u001b[0m\u001b[0m\n\u001b[0;32m    184\u001b[0m             \u001b[0mcallback\u001b[0m\u001b[1;33m(\u001b[0m\u001b[0mresult\u001b[0m\u001b[1;33m)\u001b[0m\u001b[1;33m\u001b[0m\u001b[1;33m\u001b[0m\u001b[0m\n",
      "\u001b[1;32m~\\Anaconda3\\lib\\site-packages\\joblib\\_parallel_backends.py\u001b[0m in \u001b[0;36m__init__\u001b[1;34m(self, batch)\u001b[0m\n\u001b[0;32m    547\u001b[0m         \u001b[1;31m# Don't delay the application, to avoid keeping the input\u001b[0m\u001b[1;33m\u001b[0m\u001b[1;33m\u001b[0m\u001b[1;33m\u001b[0m\u001b[0m\n\u001b[0;32m    548\u001b[0m         \u001b[1;31m# arguments in memory\u001b[0m\u001b[1;33m\u001b[0m\u001b[1;33m\u001b[0m\u001b[1;33m\u001b[0m\u001b[0m\n\u001b[1;32m--> 549\u001b[1;33m         \u001b[0mself\u001b[0m\u001b[1;33m.\u001b[0m\u001b[0mresults\u001b[0m \u001b[1;33m=\u001b[0m \u001b[0mbatch\u001b[0m\u001b[1;33m(\u001b[0m\u001b[1;33m)\u001b[0m\u001b[1;33m\u001b[0m\u001b[1;33m\u001b[0m\u001b[0m\n\u001b[0m\u001b[0;32m    550\u001b[0m \u001b[1;33m\u001b[0m\u001b[0m\n\u001b[0;32m    551\u001b[0m     \u001b[1;32mdef\u001b[0m \u001b[0mget\u001b[0m\u001b[1;33m(\u001b[0m\u001b[0mself\u001b[0m\u001b[1;33m)\u001b[0m\u001b[1;33m:\u001b[0m\u001b[1;33m\u001b[0m\u001b[1;33m\u001b[0m\u001b[0m\n",
      "\u001b[1;32m~\\Anaconda3\\lib\\site-packages\\joblib\\parallel.py\u001b[0m in \u001b[0;36m__call__\u001b[1;34m(self)\u001b[0m\n\u001b[0;32m    223\u001b[0m         \u001b[1;32mwith\u001b[0m \u001b[0mparallel_backend\u001b[0m\u001b[1;33m(\u001b[0m\u001b[0mself\u001b[0m\u001b[1;33m.\u001b[0m\u001b[0m_backend\u001b[0m\u001b[1;33m,\u001b[0m \u001b[0mn_jobs\u001b[0m\u001b[1;33m=\u001b[0m\u001b[0mself\u001b[0m\u001b[1;33m.\u001b[0m\u001b[0m_n_jobs\u001b[0m\u001b[1;33m)\u001b[0m\u001b[1;33m:\u001b[0m\u001b[1;33m\u001b[0m\u001b[1;33m\u001b[0m\u001b[0m\n\u001b[0;32m    224\u001b[0m             return [func(*args, **kwargs)\n\u001b[1;32m--> 225\u001b[1;33m                     for func, args, kwargs in self.items]\n\u001b[0m\u001b[0;32m    226\u001b[0m \u001b[1;33m\u001b[0m\u001b[0m\n\u001b[0;32m    227\u001b[0m     \u001b[1;32mdef\u001b[0m \u001b[0m__len__\u001b[0m\u001b[1;33m(\u001b[0m\u001b[0mself\u001b[0m\u001b[1;33m)\u001b[0m\u001b[1;33m:\u001b[0m\u001b[1;33m\u001b[0m\u001b[1;33m\u001b[0m\u001b[0m\n",
      "\u001b[1;32m~\\Anaconda3\\lib\\site-packages\\joblib\\parallel.py\u001b[0m in \u001b[0;36m<listcomp>\u001b[1;34m(.0)\u001b[0m\n\u001b[0;32m    223\u001b[0m         \u001b[1;32mwith\u001b[0m \u001b[0mparallel_backend\u001b[0m\u001b[1;33m(\u001b[0m\u001b[0mself\u001b[0m\u001b[1;33m.\u001b[0m\u001b[0m_backend\u001b[0m\u001b[1;33m,\u001b[0m \u001b[0mn_jobs\u001b[0m\u001b[1;33m=\u001b[0m\u001b[0mself\u001b[0m\u001b[1;33m.\u001b[0m\u001b[0m_n_jobs\u001b[0m\u001b[1;33m)\u001b[0m\u001b[1;33m:\u001b[0m\u001b[1;33m\u001b[0m\u001b[1;33m\u001b[0m\u001b[0m\n\u001b[0;32m    224\u001b[0m             return [func(*args, **kwargs)\n\u001b[1;32m--> 225\u001b[1;33m                     for func, args, kwargs in self.items]\n\u001b[0m\u001b[0;32m    226\u001b[0m \u001b[1;33m\u001b[0m\u001b[0m\n\u001b[0;32m    227\u001b[0m     \u001b[1;32mdef\u001b[0m \u001b[0m__len__\u001b[0m\u001b[1;33m(\u001b[0m\u001b[0mself\u001b[0m\u001b[1;33m)\u001b[0m\u001b[1;33m:\u001b[0m\u001b[1;33m\u001b[0m\u001b[1;33m\u001b[0m\u001b[0m\n",
      "\u001b[1;32m~\\Anaconda3\\lib\\site-packages\\sklearn\\model_selection\\_validation.py\u001b[0m in \u001b[0;36m_fit_and_score\u001b[1;34m(estimator, X, y, scorer, train, test, verbose, parameters, fit_params, return_train_score, return_parameters, return_n_test_samples, return_times, return_estimator, error_score)\u001b[0m\n\u001b[0;32m    512\u001b[0m             \u001b[0mestimator\u001b[0m\u001b[1;33m.\u001b[0m\u001b[0mfit\u001b[0m\u001b[1;33m(\u001b[0m\u001b[0mX_train\u001b[0m\u001b[1;33m,\u001b[0m \u001b[1;33m**\u001b[0m\u001b[0mfit_params\u001b[0m\u001b[1;33m)\u001b[0m\u001b[1;33m\u001b[0m\u001b[1;33m\u001b[0m\u001b[0m\n\u001b[0;32m    513\u001b[0m         \u001b[1;32melse\u001b[0m\u001b[1;33m:\u001b[0m\u001b[1;33m\u001b[0m\u001b[1;33m\u001b[0m\u001b[0m\n\u001b[1;32m--> 514\u001b[1;33m             \u001b[0mestimator\u001b[0m\u001b[1;33m.\u001b[0m\u001b[0mfit\u001b[0m\u001b[1;33m(\u001b[0m\u001b[0mX_train\u001b[0m\u001b[1;33m,\u001b[0m \u001b[0my_train\u001b[0m\u001b[1;33m,\u001b[0m \u001b[1;33m**\u001b[0m\u001b[0mfit_params\u001b[0m\u001b[1;33m)\u001b[0m\u001b[1;33m\u001b[0m\u001b[1;33m\u001b[0m\u001b[0m\n\u001b[0m\u001b[0;32m    515\u001b[0m \u001b[1;33m\u001b[0m\u001b[0m\n\u001b[0;32m    516\u001b[0m     \u001b[1;32mexcept\u001b[0m \u001b[0mException\u001b[0m \u001b[1;32mas\u001b[0m \u001b[0me\u001b[0m\u001b[1;33m:\u001b[0m\u001b[1;33m\u001b[0m\u001b[1;33m\u001b[0m\u001b[0m\n",
      "\u001b[1;32m~\\Anaconda3\\lib\\site-packages\\sklearn\\ensemble\\forest.py\u001b[0m in \u001b[0;36mfit\u001b[1;34m(self, X, y, sample_weight)\u001b[0m\n\u001b[0;32m    328\u001b[0m                     \u001b[0mt\u001b[0m\u001b[1;33m,\u001b[0m \u001b[0mself\u001b[0m\u001b[1;33m,\u001b[0m \u001b[0mX\u001b[0m\u001b[1;33m,\u001b[0m \u001b[0my\u001b[0m\u001b[1;33m,\u001b[0m \u001b[0msample_weight\u001b[0m\u001b[1;33m,\u001b[0m \u001b[0mi\u001b[0m\u001b[1;33m,\u001b[0m \u001b[0mlen\u001b[0m\u001b[1;33m(\u001b[0m\u001b[0mtrees\u001b[0m\u001b[1;33m)\u001b[0m\u001b[1;33m,\u001b[0m\u001b[1;33m\u001b[0m\u001b[1;33m\u001b[0m\u001b[0m\n\u001b[0;32m    329\u001b[0m                     verbose=self.verbose, class_weight=self.class_weight)\n\u001b[1;32m--> 330\u001b[1;33m                 for i, t in enumerate(trees))\n\u001b[0m\u001b[0;32m    331\u001b[0m \u001b[1;33m\u001b[0m\u001b[0m\n\u001b[0;32m    332\u001b[0m             \u001b[1;31m# Collect newly grown trees\u001b[0m\u001b[1;33m\u001b[0m\u001b[1;33m\u001b[0m\u001b[1;33m\u001b[0m\u001b[0m\n",
      "\u001b[1;32m~\\Anaconda3\\lib\\site-packages\\joblib\\parallel.py\u001b[0m in \u001b[0;36m__call__\u001b[1;34m(self, iterable)\u001b[0m\n\u001b[0;32m    932\u001b[0m \u001b[1;33m\u001b[0m\u001b[0m\n\u001b[0;32m    933\u001b[0m             \u001b[1;32mwith\u001b[0m \u001b[0mself\u001b[0m\u001b[1;33m.\u001b[0m\u001b[0m_backend\u001b[0m\u001b[1;33m.\u001b[0m\u001b[0mretrieval_context\u001b[0m\u001b[1;33m(\u001b[0m\u001b[1;33m)\u001b[0m\u001b[1;33m:\u001b[0m\u001b[1;33m\u001b[0m\u001b[1;33m\u001b[0m\u001b[0m\n\u001b[1;32m--> 934\u001b[1;33m                 \u001b[0mself\u001b[0m\u001b[1;33m.\u001b[0m\u001b[0mretrieve\u001b[0m\u001b[1;33m(\u001b[0m\u001b[1;33m)\u001b[0m\u001b[1;33m\u001b[0m\u001b[1;33m\u001b[0m\u001b[0m\n\u001b[0m\u001b[0;32m    935\u001b[0m             \u001b[1;31m# Make sure that we get a last message telling us we are done\u001b[0m\u001b[1;33m\u001b[0m\u001b[1;33m\u001b[0m\u001b[1;33m\u001b[0m\u001b[0m\n\u001b[0;32m    936\u001b[0m             \u001b[0melapsed_time\u001b[0m \u001b[1;33m=\u001b[0m \u001b[0mtime\u001b[0m\u001b[1;33m.\u001b[0m\u001b[0mtime\u001b[0m\u001b[1;33m(\u001b[0m\u001b[1;33m)\u001b[0m \u001b[1;33m-\u001b[0m \u001b[0mself\u001b[0m\u001b[1;33m.\u001b[0m\u001b[0m_start_time\u001b[0m\u001b[1;33m\u001b[0m\u001b[1;33m\u001b[0m\u001b[0m\n",
      "\u001b[1;32m~\\Anaconda3\\lib\\site-packages\\joblib\\parallel.py\u001b[0m in \u001b[0;36mretrieve\u001b[1;34m(self)\u001b[0m\n\u001b[0;32m    831\u001b[0m             \u001b[1;32mtry\u001b[0m\u001b[1;33m:\u001b[0m\u001b[1;33m\u001b[0m\u001b[1;33m\u001b[0m\u001b[0m\n\u001b[0;32m    832\u001b[0m                 \u001b[1;32mif\u001b[0m \u001b[0mgetattr\u001b[0m\u001b[1;33m(\u001b[0m\u001b[0mself\u001b[0m\u001b[1;33m.\u001b[0m\u001b[0m_backend\u001b[0m\u001b[1;33m,\u001b[0m \u001b[1;34m'supports_timeout'\u001b[0m\u001b[1;33m,\u001b[0m \u001b[1;32mFalse\u001b[0m\u001b[1;33m)\u001b[0m\u001b[1;33m:\u001b[0m\u001b[1;33m\u001b[0m\u001b[1;33m\u001b[0m\u001b[0m\n\u001b[1;32m--> 833\u001b[1;33m                     \u001b[0mself\u001b[0m\u001b[1;33m.\u001b[0m\u001b[0m_output\u001b[0m\u001b[1;33m.\u001b[0m\u001b[0mextend\u001b[0m\u001b[1;33m(\u001b[0m\u001b[0mjob\u001b[0m\u001b[1;33m.\u001b[0m\u001b[0mget\u001b[0m\u001b[1;33m(\u001b[0m\u001b[0mtimeout\u001b[0m\u001b[1;33m=\u001b[0m\u001b[0mself\u001b[0m\u001b[1;33m.\u001b[0m\u001b[0mtimeout\u001b[0m\u001b[1;33m)\u001b[0m\u001b[1;33m)\u001b[0m\u001b[1;33m\u001b[0m\u001b[1;33m\u001b[0m\u001b[0m\n\u001b[0m\u001b[0;32m    834\u001b[0m                 \u001b[1;32melse\u001b[0m\u001b[1;33m:\u001b[0m\u001b[1;33m\u001b[0m\u001b[1;33m\u001b[0m\u001b[0m\n\u001b[0;32m    835\u001b[0m                     \u001b[0mself\u001b[0m\u001b[1;33m.\u001b[0m\u001b[0m_output\u001b[0m\u001b[1;33m.\u001b[0m\u001b[0mextend\u001b[0m\u001b[1;33m(\u001b[0m\u001b[0mjob\u001b[0m\u001b[1;33m.\u001b[0m\u001b[0mget\u001b[0m\u001b[1;33m(\u001b[0m\u001b[1;33m)\u001b[0m\u001b[1;33m)\u001b[0m\u001b[1;33m\u001b[0m\u001b[1;33m\u001b[0m\u001b[0m\n",
      "\u001b[1;32m~\\Anaconda3\\lib\\site-packages\\joblib\\_parallel_backends.py\u001b[0m in \u001b[0;36mwrap_future_result\u001b[1;34m(future, timeout)\u001b[0m\n\u001b[0;32m    519\u001b[0m         AsyncResults.get from multiprocessing.\"\"\"\n\u001b[0;32m    520\u001b[0m         \u001b[1;32mtry\u001b[0m\u001b[1;33m:\u001b[0m\u001b[1;33m\u001b[0m\u001b[1;33m\u001b[0m\u001b[0m\n\u001b[1;32m--> 521\u001b[1;33m             \u001b[1;32mreturn\u001b[0m \u001b[0mfuture\u001b[0m\u001b[1;33m.\u001b[0m\u001b[0mresult\u001b[0m\u001b[1;33m(\u001b[0m\u001b[0mtimeout\u001b[0m\u001b[1;33m=\u001b[0m\u001b[0mtimeout\u001b[0m\u001b[1;33m)\u001b[0m\u001b[1;33m\u001b[0m\u001b[1;33m\u001b[0m\u001b[0m\n\u001b[0m\u001b[0;32m    522\u001b[0m         \u001b[1;32mexcept\u001b[0m \u001b[0mLokyTimeoutError\u001b[0m\u001b[1;33m:\u001b[0m\u001b[1;33m\u001b[0m\u001b[1;33m\u001b[0m\u001b[0m\n\u001b[0;32m    523\u001b[0m             \u001b[1;32mraise\u001b[0m \u001b[0mTimeoutError\u001b[0m\u001b[1;33m(\u001b[0m\u001b[1;33m)\u001b[0m\u001b[1;33m\u001b[0m\u001b[1;33m\u001b[0m\u001b[0m\n",
      "\u001b[1;32m~\\Anaconda3\\lib\\concurrent\\futures\\_base.py\u001b[0m in \u001b[0;36mresult\u001b[1;34m(self, timeout)\u001b[0m\n\u001b[0;32m    425\u001b[0m                 \u001b[1;32mreturn\u001b[0m \u001b[0mself\u001b[0m\u001b[1;33m.\u001b[0m\u001b[0m__get_result\u001b[0m\u001b[1;33m(\u001b[0m\u001b[1;33m)\u001b[0m\u001b[1;33m\u001b[0m\u001b[1;33m\u001b[0m\u001b[0m\n\u001b[0;32m    426\u001b[0m \u001b[1;33m\u001b[0m\u001b[0m\n\u001b[1;32m--> 427\u001b[1;33m             \u001b[0mself\u001b[0m\u001b[1;33m.\u001b[0m\u001b[0m_condition\u001b[0m\u001b[1;33m.\u001b[0m\u001b[0mwait\u001b[0m\u001b[1;33m(\u001b[0m\u001b[0mtimeout\u001b[0m\u001b[1;33m)\u001b[0m\u001b[1;33m\u001b[0m\u001b[1;33m\u001b[0m\u001b[0m\n\u001b[0m\u001b[0;32m    428\u001b[0m \u001b[1;33m\u001b[0m\u001b[0m\n\u001b[0;32m    429\u001b[0m             \u001b[1;32mif\u001b[0m \u001b[0mself\u001b[0m\u001b[1;33m.\u001b[0m\u001b[0m_state\u001b[0m \u001b[1;32min\u001b[0m \u001b[1;33m[\u001b[0m\u001b[0mCANCELLED\u001b[0m\u001b[1;33m,\u001b[0m \u001b[0mCANCELLED_AND_NOTIFIED\u001b[0m\u001b[1;33m]\u001b[0m\u001b[1;33m:\u001b[0m\u001b[1;33m\u001b[0m\u001b[1;33m\u001b[0m\u001b[0m\n",
      "\u001b[1;32m~\\Anaconda3\\lib\\threading.py\u001b[0m in \u001b[0;36mwait\u001b[1;34m(self, timeout)\u001b[0m\n\u001b[0;32m    294\u001b[0m         \u001b[1;32mtry\u001b[0m\u001b[1;33m:\u001b[0m    \u001b[1;31m# restore state no matter what (e.g., KeyboardInterrupt)\u001b[0m\u001b[1;33m\u001b[0m\u001b[1;33m\u001b[0m\u001b[0m\n\u001b[0;32m    295\u001b[0m             \u001b[1;32mif\u001b[0m \u001b[0mtimeout\u001b[0m \u001b[1;32mis\u001b[0m \u001b[1;32mNone\u001b[0m\u001b[1;33m:\u001b[0m\u001b[1;33m\u001b[0m\u001b[1;33m\u001b[0m\u001b[0m\n\u001b[1;32m--> 296\u001b[1;33m                 \u001b[0mwaiter\u001b[0m\u001b[1;33m.\u001b[0m\u001b[0macquire\u001b[0m\u001b[1;33m(\u001b[0m\u001b[1;33m)\u001b[0m\u001b[1;33m\u001b[0m\u001b[1;33m\u001b[0m\u001b[0m\n\u001b[0m\u001b[0;32m    297\u001b[0m                 \u001b[0mgotit\u001b[0m \u001b[1;33m=\u001b[0m \u001b[1;32mTrue\u001b[0m\u001b[1;33m\u001b[0m\u001b[1;33m\u001b[0m\u001b[0m\n\u001b[0;32m    298\u001b[0m             \u001b[1;32melse\u001b[0m\u001b[1;33m:\u001b[0m\u001b[1;33m\u001b[0m\u001b[1;33m\u001b[0m\u001b[0m\n",
      "\u001b[1;31mKeyboardInterrupt\u001b[0m: "
     ]
    }
   ],
   "source": [
    "import numpy as np\n",
    "from sklearn.metrics import make_scorer\n",
    "\n",
    "f1_score = make_scorer(f1_score)\n",
    "score = cross_val_score(model,X_train, y_train, cv=5, scoring=f1_score).mean()"
   ]
  },
  {
   "cell_type": "code",
   "execution_count": null,
   "metadata": {},
   "outputs": [],
   "source": [
    "print(score)"
   ]
  },
  {
   "cell_type": "code",
   "execution_count": null,
   "metadata": {},
   "outputs": [],
   "source": [
    "model.fit(X_train, y_train)\n",
    "predictions = model.predict(X_test)\n",
    "predictions.shape"
   ]
  },
  {
   "cell_type": "code",
   "execution_count": null,
   "metadata": {},
   "outputs": [],
   "source": [
    "np.count_nonzero(predictions == 1)"
   ]
  },
  {
   "cell_type": "code",
   "execution_count": null,
   "metadata": {},
   "outputs": [],
   "source": []
  },
  {
   "cell_type": "code",
   "execution_count": null,
   "metadata": {},
   "outputs": [],
   "source": []
  },
  {
   "cell_type": "code",
   "execution_count": null,
   "metadata": {},
   "outputs": [],
   "source": []
  }
 ],
 "metadata": {
  "kernelspec": {
   "display_name": "Python 3",
   "language": "python",
   "name": "python3"
  },
  "language_info": {
   "codemirror_mode": {
    "name": "ipython",
    "version": 3
   },
   "file_extension": ".py",
   "mimetype": "text/x-python",
   "name": "python",
   "nbconvert_exporter": "python",
   "pygments_lexer": "ipython3",
   "version": "3.7.4"
  }
 },
 "nbformat": 4,
 "nbformat_minor": 4
}
