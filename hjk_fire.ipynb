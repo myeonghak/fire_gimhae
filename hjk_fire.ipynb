{
 "cells": [
  {
   "cell_type": "markdown",
   "metadata": {
    "colab_type": "text",
    "id": "view-in-github"
   },
   "source": [
    "<a href=\"https://colab.research.google.com/github/HongJaeKwon/kimhae_fire_detection/blob/master/hjk_fire.ipynb\" target=\"_parent\"><img src=\"https://colab.research.google.com/assets/colab-badge.svg\" alt=\"Open In Colab\"/></a>"
   ]
  },
  {
   "cell_type": "code",
   "execution_count": null,
   "metadata": {
    "colab": {},
    "colab_type": "code",
    "id": "CohdmP0FLf7j"
   },
   "outputs": [],
   "source": [
    "# 구글 드라이브 마운트\n",
    "from google.colab import drive\n",
    "drive.mount('/gdrive', force_remount=True)\n",
    "# /gdrive/My Drive/ (폴더명)"
   ]
  },
  {
   "cell_type": "code",
   "execution_count": null,
   "metadata": {
    "colab": {},
    "colab_type": "code",
    "id": "EwLb02zvMjZ5"
   },
   "outputs": [],
   "source": [
    "import numpy as np\n",
    "import pandas as pd\n",
    "import os\n",
    "import glob\n",
    "import random\n",
    "from tqdm import tqdm\n",
    "from tensorflow.python import keras\n",
    "from tensorflow.python.keras import backend as K\n",
    "from tensorflow.python.keras import losses\n",
    "from tensorflow.python.keras import initializers\n",
    "from tensorflow.python.keras.optimizers import Adam\n",
    "from tensorflow.python.keras.models import Sequential, Model, load_model\n",
    "from tensorflow.python.keras.layers import Conv2D, Conv2DTranspose, Activation, Flatten, Dense, UpSampling2D, Reshape, Lambda, Input, Dropout, LeakyReLU, BatchNormalization\n",
    "from tensorflow.python.keras.preprocessing.image import ImageDataGenerator, Iterator\n",
    "from tensorflow.python.keras.preprocessing.image import img_to_array, array_to_img\n",
    "from tensorflow.python.keras.losses import mean_absolute_error, binary_crossentropy"
   ]
  },
  {
   "cell_type": "code",
   "execution_count": null,
   "metadata": {
    "colab": {},
    "colab_type": "code",
    "id": "DQU5rN04Mppi"
   },
   "outputs": [],
   "source": [
    "train_df = pd.read_csv('/gdrive/My Drive/김해화재/PJT002_train(1).csv')\n",
    "val_df = pd.read_csv('/gdrive/My Drive/김해화재/PJT002_validation(1).csv')\n",
    "test_df= pd.read_csv('/gdrive/My Drive/김해화재/PJT002_test(1).csv')"
   ]
  },
  {
   "cell_type": "code",
   "execution_count": null,
   "metadata": {
    "colab": {},
    "colab_type": "code",
    "id": "BqIiNNqpTNBO"
   },
   "outputs": [],
   "source": [
    "test_df['fr_yn']='U'"
   ]
  },
  {
   "cell_type": "code",
   "execution_count": null,
   "metadata": {
    "colab": {
     "base_uri": "https://localhost:8080/",
     "height": 71
    },
    "colab_type": "code",
    "id": "vP85rfrM_SXF",
    "outputId": "32b146a2-8308-4738-a59e-24d6e5948398"
   },
   "outputs": [
    {
     "name": "stdout",
     "output_type": "stream",
     "text": [
      "(59199, 173)\n",
      "(6898, 173)\n",
      "(2957, 173)\n"
     ]
    }
   ],
   "source": [
    "print(train_df.shape)\n",
    "print(val_df.shape)\n",
    "print(test_df.shape)"
   ]
  },
  {
   "cell_type": "code",
   "execution_count": null,
   "metadata": {
    "colab": {},
    "colab_type": "code",
    "id": "Vuirz5iZv_QS"
   },
   "outputs": [],
   "source": [
    "all_df=pd.concat([train_df,val_df,test_df],axis=0)"
   ]
  },
  {
   "cell_type": "code",
   "execution_count": null,
   "metadata": {
    "colab": {},
    "colab_type": "code",
    "id": "tawCJcHhwZXd"
   },
   "outputs": [],
   "source": [
    "all_f=all_df.columns.to_list()\n",
    "cat_f=all_df.columns.to_list()\n",
    "num_f=all_df.describe().columns.to_list()"
   ]
  },
  {
   "cell_type": "code",
   "execution_count": null,
   "metadata": {
    "colab": {},
    "colab_type": "code",
    "id": "dq7v_IJ02tLX"
   },
   "outputs": [],
   "source": [
    "for f in num_f:\n",
    "    cat_f.remove(f)"
   ]
  },
  {
   "cell_type": "code",
   "execution_count": null,
   "metadata": {
    "colab": {},
    "colab_type": "code",
    "id": "xloK1yki3D7x"
   },
   "outputs": [],
   "source": [
    "print(len(all_f))\n",
    "print(len(cat_f))\n",
    "print(len(num_f))\n",
    "print(all_df.shape)"
   ]
  },
  {
   "cell_type": "code",
   "execution_count": null,
   "metadata": {
    "colab": {},
    "colab_type": "code",
    "id": "4AFmSj-o4EHF"
   },
   "outputs": [],
   "source": [
    "all_df[num_f]=all_df[num_f].fillna(-1)"
   ]
  },
  {
   "cell_type": "code",
   "execution_count": null,
   "metadata": {
    "colab": {},
    "colab_type": "code",
    "id": "tgYjoGxs9gho"
   },
   "outputs": [],
   "source": [
    "all_df[cat_f]=all_df[cat_f].fillna(\"U\")"
   ]
  },
  {
   "cell_type": "code",
   "execution_count": null,
   "metadata": {
    "colab": {},
    "colab_type": "code",
    "id": "HZhqNgZ9-PWv"
   },
   "outputs": [],
   "source": [
    "for f in cat_f:\n",
    "    print(f,len(all_df[f].unique()))"
   ]
  },
  {
   "cell_type": "code",
   "execution_count": null,
   "metadata": {
    "colab": {},
    "colab_type": "code",
    "id": "G2x9Vrmp0XXE"
   },
   "outputs": [],
   "source": [
    "cat_f.remove('dt_of_athrztn')\n",
    "cat_f.remove('dt_of_fr')\n",
    "cat_f.remove('emd_nm')\n",
    "cat_f.remove('fr_yn')"
   ]
  },
  {
   "cell_type": "code",
   "execution_count": null,
   "metadata": {
    "colab": {},
    "colab_type": "code",
    "id": "-WNmTauS03pL"
   },
   "outputs": [],
   "source": [
    "for f in cat_f:\n",
    "    print(f,len(all_df[f].unique()))"
   ]
  },
  {
   "cell_type": "code",
   "execution_count": null,
   "metadata": {
    "colab": {},
    "colab_type": "code",
    "id": "rzGhlHS906fi"
   },
   "outputs": [],
   "source": [
    "one_hot=pd.get_dummies(all_df[cat_f])"
   ]
  },
  {
   "cell_type": "code",
   "execution_count": null,
   "metadata": {
    "colab": {},
    "colab_type": "code",
    "id": "ZBSyVuCw1e5q"
   },
   "outputs": [],
   "source": [
    "all_df= all_df.drop( cat_f , axis = 1)\n",
    "all_df= all_df.drop('dt_of_athrztn' , axis = 1)\n",
    "all_df= all_df.drop('dt_of_fr' , axis = 1)\n",
    "all_df= all_df.drop('emd_nm' , axis = 1)"
   ]
  },
  {
   "cell_type": "code",
   "execution_count": null,
   "metadata": {
    "colab": {},
    "colab_type": "code",
    "id": "L1CTsGPr2MMb"
   },
   "outputs": [],
   "source": [
    "all_df=pd.concat([all_df,one_hot],axis = 1)"
   ]
  },
  {
   "cell_type": "code",
   "execution_count": null,
   "metadata": {
    "colab": {},
    "colab_type": "code",
    "id": "Cb5nSaDc3kX_"
   },
   "outputs": [],
   "source": [
    "all_df['fr_yn']=all_df['fr_yn'].apply(lambda x: 0 if x=='N' else 1 if x=='Y' else -1 )"
   ]
  },
  {
   "cell_type": "code",
   "execution_count": null,
   "metadata": {
    "colab": {},
    "colab_type": "code",
    "id": "lvU3f40b73Qy"
   },
   "outputs": [],
   "source": [
    "all_f=all_df.columns.to_list()\n",
    "all_f.remove('fr_yn')"
   ]
  },
  {
   "cell_type": "code",
   "execution_count": null,
   "metadata": {
    "colab": {},
    "colab_type": "code",
    "id": "d0TwcdWhuYIT"
   },
   "outputs": [],
   "source": [
    "from sklearn.preprocessing import MinMaxScaler\n",
    "scaler = MinMaxScaler()\n",
    "all_df[all_f] =scaler.fit_transform(all_df[all_f])"
   ]
  },
  {
   "cell_type": "code",
   "execution_count": null,
   "metadata": {
    "colab": {},
    "colab_type": "code",
    "id": "k_vdO7NYBYpn"
   },
   "outputs": [],
   "source": [
    "all_y=all_df['fr_yn'].as_matrix()"
   ]
  },
  {
   "cell_type": "code",
   "execution_count": null,
   "metadata": {
    "colab": {},
    "colab_type": "code",
    "id": "Td75WFNr8gxZ"
   },
   "outputs": [],
   "source": [
    "from sklearn.decomposition import PCA\n",
    "pca = PCA(n_components=100)\n",
    "all_df_pca=pca.fit_transform(all_df[all_f]) "
   ]
  },
  {
   "cell_type": "code",
   "execution_count": null,
   "metadata": {
    "colab": {},
    "colab_type": "code",
    "id": "NhdXYx6rbiuJ"
   },
   "outputs": [],
   "source": [
    "from sklearn.preprocessing import MinMaxScaler\n",
    "scaler = MinMaxScaler()\n",
    "all_df_pca =scaler.fit_transform(all_df_pca)"
   ]
  },
  {
   "cell_type": "code",
   "execution_count": null,
   "metadata": {
    "colab": {
     "base_uri": "https://localhost:8080/",
     "height": 71
    },
    "colab_type": "code",
    "id": "LBQ0o6cjBuNl",
    "outputId": "b1dc2cc8-8739-47e3-dbe6-30125f84febe"
   },
   "outputs": [
    {
     "name": "stdout",
     "output_type": "stream",
     "text": [
      "(69054,)\n",
      "(69054, 100)\n",
      "0.9835242774972811\n"
     ]
    }
   ],
   "source": [
    "print(all_y.shape)\n",
    "print(all_df_pca.shape)\n",
    "print(pca.explained_variance_ratio_.sum())"
   ]
  },
  {
   "cell_type": "code",
   "execution_count": null,
   "metadata": {
    "colab": {},
    "colab_type": "code",
    "id": "dDcEBZZ0B-nm"
   },
   "outputs": [],
   "source": [
    "all_y=np.reshape(all_y,(-1,1))"
   ]
  },
  {
   "cell_type": "code",
   "execution_count": null,
   "metadata": {
    "colab": {},
    "colab_type": "code",
    "id": "fMxWI1dDCEwD"
   },
   "outputs": [],
   "source": [
    "all_DF=pd.DataFrame(all_df_pca,columns=list( \"col_\" + str(i) for i in range(100)))"
   ]
  },
  {
   "cell_type": "code",
   "execution_count": null,
   "metadata": {
    "colab": {},
    "colab_type": "code",
    "id": "TFdcbMWpCHOX"
   },
   "outputs": [],
   "source": [
    "all_DF_Y=pd.DataFrame(all_y,columns=['LABEL'])"
   ]
  },
  {
   "cell_type": "code",
   "execution_count": null,
   "metadata": {
    "colab": {},
    "colab_type": "code",
    "id": "-DFIvYXMCt5T"
   },
   "outputs": [],
   "source": [
    "all_DF=pd.concat([all_DF,all_DF_Y],axis = 1)"
   ]
  },
  {
   "cell_type": "code",
   "execution_count": null,
   "metadata": {
    "colab": {},
    "colab_type": "code",
    "id": "RUfg01_kC4f8"
   },
   "outputs": [],
   "source": [
    "train_DF=all_DF[:train_df.shape[0]]\n",
    "val_DF=all_DF[train_df.shape[0]:train_df.shape[0]+val_df.shape[0]]\n",
    "test_DF=all_DF[all_DF['LABEL']==-1]\n",
    "\n",
    "train_DF_Y=train_DF['LABEL']\n",
    "val_DF_Y=val_DF['LABEL']\n",
    "train_DF_normal=train_DF[train_DF['LABEL']==0]\n",
    "train_DF_fire=train_DF[train_DF['LABEL']==1]\n",
    "\n",
    "train_DF=train_DF.drop('LABEL', axis = 1)\n",
    "val_DF=val_DF.drop('LABEL', axis = 1)\n",
    "test_DF=test_DF.drop('LABEL', axis = 1)\n",
    "\n",
    "train_DF_normal=train_DF_normal.drop('LABEL', axis = 1)\n",
    "train_DF_fire=train_DF_fire.drop('LABEL', axis = 1)\n"
   ]
  },
  {
   "cell_type": "code",
   "execution_count": null,
   "metadata": {
    "colab": {},
    "colab_type": "code",
    "id": "xAIIzDdki_9g"
   },
   "outputs": [],
   "source": [
    "f=train_DF_normal.columns.to_list()"
   ]
  },
  {
   "cell_type": "code",
   "execution_count": null,
   "metadata": {
    "colab": {
     "base_uri": "https://localhost:8080/",
     "height": 1000
    },
    "colab_type": "code",
    "id": "M3bFgCT2dV9p",
    "outputId": "cc5dd5b7-7a1f-4f29-e80f-ccba563203f0"
   },
   "outputs": [
    {
     "name": "stdout",
     "output_type": "stream",
     "text": [
      "col_0 정상 평균 :  0.5650823638378032\n",
      "col_0 정상 표준편차 :  0.3745185390667692\n",
      "col_0 화재 평균 :  0.2476339213245645\n",
      "col_0 화재 표준편차 :  0.16384080250120894\n",
      "\n",
      "col_1 정상 평균 :  0.3203549174211007\n",
      "col_1 정상 표준편차 :  0.218230516334277\n",
      "col_1 화재 평균 :  0.48072378015640804\n",
      "col_1 화재 표준편차 :  0.2878127477984686\n",
      "\n",
      "col_2 정상 평균 :  0.3704506025585312\n",
      "col_2 정상 표준편차 :  0.17694438736114443\n",
      "col_2 화재 평균 :  0.4268428443415771\n",
      "col_2 화재 표준편차 :  0.19535047685043264\n",
      "\n",
      "col_3 정상 평균 :  0.42725707585024014\n",
      "col_3 정상 표준편차 :  0.1955373187186029\n",
      "col_3 화재 평균 :  0.44675184614972213\n",
      "col_3 화재 표준편차 :  0.18653603772342917\n",
      "\n",
      "col_4 정상 평균 :  0.4541843163409643\n",
      "col_4 정상 표준편차 :  0.14249426769478674\n",
      "col_4 화재 평균 :  0.5110441679876078\n",
      "col_4 화재 표준편차 :  0.17316059094543018\n",
      "\n",
      "col_5 정상 평균 :  0.47477877674722485\n",
      "col_5 정상 표준편차 :  0.16191619856571893\n",
      "col_5 화재 평균 :  0.4537946296289703\n",
      "col_5 화재 표준편차 :  0.177727524212021\n",
      "\n",
      "col_6 정상 평균 :  0.4404964046561243\n",
      "col_6 정상 표준편차 :  0.10513506744630359\n",
      "col_6 화재 평균 :  0.4550196112612747\n",
      "col_6 화재 표준편차 :  0.13178080417945526\n",
      "\n",
      "col_7 정상 평균 :  0.49242601318556445\n",
      "col_7 정상 표준편차 :  0.14855369004117122\n",
      "col_7 화재 평균 :  0.48083788908524056\n",
      "col_7 화재 표준편차 :  0.15227123882366914\n",
      "\n",
      "col_8 정상 평균 :  0.4768081302256216\n",
      "col_8 정상 표준편차 :  0.11306911226970505\n",
      "col_8 화재 평균 :  0.46001468290702074\n",
      "col_8 화재 표준편차 :  0.14022168694472195\n",
      "\n",
      "col_9 정상 평균 :  0.4385080180855156\n",
      "col_9 정상 표준편차 :  0.1043432520855398\n",
      "col_9 화재 평균 :  0.4417955878465188\n",
      "col_9 화재 표준편차 :  0.11575518409316642\n",
      "\n",
      "col_10 정상 평균 :  0.3700815962926335\n",
      "col_10 정상 표준편차 :  0.11454277515393735\n",
      "col_10 화재 평균 :  0.3628387921127582\n",
      "col_10 화재 표준편차 :  0.10296794671375373\n",
      "\n",
      "col_11 정상 평균 :  0.45859323933910046\n",
      "col_11 정상 표준편차 :  0.13732362098185144\n",
      "col_11 화재 평균 :  0.46942425317550485\n",
      "col_11 화재 표준편차 :  0.16372814195063856\n",
      "\n",
      "col_12 정상 평균 :  0.46618585891737707\n",
      "col_12 정상 표준편차 :  0.10724545095741128\n",
      "col_12 화재 평균 :  0.4716447719025492\n",
      "col_12 화재 표준편차 :  0.13002452178297147\n",
      "\n",
      "col_13 정상 평균 :  0.4964617187100609\n",
      "col_13 정상 표준편차 :  0.25943303159940306\n",
      "col_13 화재 평균 :  0.5015024928070648\n",
      "col_13 화재 표준편차 :  0.25701745476789084\n",
      "\n",
      "col_14 정상 평균 :  0.4890706994860317\n",
      "col_14 정상 표준편차 :  0.09824492069327148\n",
      "col_14 화재 평균 :  0.46311846089820297\n",
      "col_14 화재 표준편차 :  0.12736928665822897\n",
      "\n",
      "col_15 정상 평균 :  0.43122860072111907\n",
      "col_15 정상 표준편차 :  0.11004902136956796\n",
      "col_15 화재 평균 :  0.4294211698027835\n",
      "col_15 화재 표준편차 :  0.13458280272408002\n",
      "\n",
      "col_16 정상 평균 :  0.4961015082889932\n",
      "col_16 정상 표준편차 :  0.10991126901218974\n",
      "col_16 화재 평균 :  0.49886079645696274\n",
      "col_16 화재 표준편차 :  0.11374110394753201\n",
      "\n",
      "col_17 정상 평균 :  0.4643298169035735\n",
      "col_17 정상 표준편차 :  0.09718377982432366\n",
      "col_17 화재 평균 :  0.47991461590819423\n",
      "col_17 화재 표준편차 :  0.11689188706877836\n",
      "\n",
      "col_18 정상 평균 :  0.4481185666754915\n",
      "col_18 정상 표준편차 :  0.09923667953738859\n",
      "col_18 화재 평균 :  0.4503125688315518\n",
      "col_18 화재 표준편차 :  0.11889935574858843\n",
      "\n",
      "col_19 정상 평균 :  0.4338252991542717\n",
      "col_19 정상 표준편차 :  0.10205201760747322\n",
      "col_19 화재 평균 :  0.43896409756141447\n",
      "col_19 화재 표준편차 :  0.12684084870093898\n",
      "\n",
      "col_20 정상 평균 :  0.452205957952289\n",
      "col_20 정상 표준편차 :  0.09513184158876119\n",
      "col_20 화재 평균 :  0.45845778075130517\n",
      "col_20 화재 표준편차 :  0.13513513532462307\n",
      "\n",
      "col_21 정상 평균 :  0.4216989106609108\n",
      "col_21 정상 표준편차 :  0.08758300083171142\n",
      "col_21 화재 평균 :  0.4213176452678114\n",
      "col_21 화재 표준편차 :  0.1285901872024908\n",
      "\n",
      "col_22 정상 평균 :  0.46297144678426266\n",
      "col_22 정상 표준편차 :  0.07132513198014756\n",
      "col_22 화재 평균 :  0.4732162021418168\n",
      "col_22 화재 표준편차 :  0.1049841438657503\n",
      "\n",
      "col_23 정상 평균 :  0.43287605809957735\n",
      "col_23 정상 표준편차 :  0.1451561314243395\n",
      "col_23 화재 평균 :  0.47242884753438463\n",
      "col_23 화재 표준편차 :  0.14608934727767015\n",
      "\n",
      "col_24 정상 평균 :  0.3611370030179436\n",
      "col_24 정상 표준편차 :  0.06532494325323543\n",
      "col_24 화재 평균 :  0.3643360240050248\n",
      "col_24 화재 표준편차 :  0.0933485751379834\n",
      "\n",
      "col_25 정상 평균 :  0.4962683448306485\n",
      "col_25 정상 표준편차 :  0.0814276030079994\n",
      "col_25 화재 평균 :  0.49779270505303397\n",
      "col_25 화재 표준편차 :  0.09132305609895656\n",
      "\n",
      "col_26 정상 평균 :  0.49032744049197985\n",
      "col_26 정상 표준편차 :  0.07482116349320656\n",
      "col_26 화재 평균 :  0.4900645637829769\n",
      "col_26 화재 표준편차 :  0.1026114604920332\n",
      "\n",
      "col_27 정상 평균 :  0.4574755905175403\n",
      "col_27 정상 표준편차 :  0.08177578142781415\n",
      "col_27 화재 평균 :  0.4607206355680981\n",
      "col_27 화재 표준편차 :  0.11567806770575889\n",
      "\n",
      "col_28 정상 평균 :  0.4388542348235642\n",
      "col_28 정상 표준편차 :  0.09538566809863366\n",
      "col_28 화재 평균 :  0.4373682951490555\n",
      "col_28 화재 표준편차 :  0.12496125214693247\n",
      "\n",
      "col_29 정상 평균 :  0.4077707613059389\n",
      "col_29 정상 표준편차 :  0.07984942497046524\n",
      "col_29 화재 평균 :  0.4065611882248967\n",
      "col_29 화재 표준편차 :  0.09697892369104537\n",
      "\n",
      "col_30 정상 평균 :  0.46690483213436085\n",
      "col_30 정상 표준편차 :  0.08422972233387989\n",
      "col_30 화재 평균 :  0.4491973301579872\n",
      "col_30 화재 표준편차 :  0.10483600261280211\n",
      "\n",
      "col_31 정상 평균 :  0.4666149639229343\n",
      "col_31 정상 표준편차 :  0.08930997056646305\n",
      "col_31 화재 평균 :  0.4683491556624431\n",
      "col_31 화재 표준편차 :  0.09930329260114096\n",
      "\n",
      "col_32 정상 평균 :  0.4760494040255861\n",
      "col_32 정상 표준편차 :  0.0992387990007633\n",
      "col_32 화재 평균 :  0.4613215888031596\n",
      "col_32 화재 표준편차 :  0.096662650207211\n",
      "\n",
      "col_33 정상 평균 :  0.4733178257089148\n",
      "col_33 정상 표준편차 :  0.08649903460652833\n",
      "col_33 화재 평균 :  0.47918132952669246\n",
      "col_33 화재 표준편차 :  0.09563475804394822\n",
      "\n",
      "col_34 정상 평균 :  0.48588539637703865\n",
      "col_34 정상 표준편차 :  0.14060380028308012\n",
      "col_34 화재 평균 :  0.5020181259621577\n",
      "col_34 화재 표준편차 :  0.14821943529928053\n",
      "\n",
      "col_35 정상 평균 :  0.4191047523794455\n",
      "col_35 정상 표준편차 :  0.09351302658228416\n",
      "col_35 화재 평균 :  0.4360477238254819\n",
      "col_35 화재 표준편차 :  0.10297169242674253\n",
      "\n",
      "col_36 정상 평균 :  0.2643381932490605\n",
      "col_36 정상 표준편차 :  0.051082924053443814\n",
      "col_36 화재 평균 :  0.2698643270860179\n",
      "col_36 화재 표준편차 :  0.08667212484583439\n",
      "\n",
      "col_37 정상 평균 :  0.47257986671253577\n",
      "col_37 정상 표준편차 :  0.08498099484450956\n",
      "col_37 화재 평균 :  0.4782656383693112\n",
      "col_37 화재 표준편차 :  0.07849848857556507\n",
      "\n",
      "col_38 정상 평균 :  0.4757746066186458\n",
      "col_38 정상 표준편차 :  0.08181453482098126\n",
      "col_38 화재 평균 :  0.4847000050650006\n",
      "col_38 화재 표준편차 :  0.09508964048587709\n",
      "\n",
      "col_39 정상 평균 :  0.4436852463073036\n",
      "col_39 정상 표준편차 :  0.05987115375823628\n",
      "col_39 화재 평균 :  0.4329240679832948\n",
      "col_39 화재 표준편차 :  0.0939744884907119\n",
      "\n",
      "col_40 정상 평균 :  0.48816875225675804\n",
      "col_40 정상 표준편차 :  0.056984191639799085\n",
      "col_40 화재 평균 :  0.4795860709065916\n",
      "col_40 화재 표준편차 :  0.08537220044986198\n",
      "\n",
      "col_41 정상 평균 :  0.4480504257707725\n",
      "col_41 정상 표준편차 :  0.0639216974941075\n",
      "col_41 화재 평균 :  0.4559795478151966\n",
      "col_41 화재 표준편차 :  0.08728578349296638\n",
      "\n",
      "col_42 정상 평균 :  0.44057912180868286\n",
      "col_42 정상 표준편차 :  0.05455505505464479\n",
      "col_42 화재 평균 :  0.43909797724054167\n",
      "col_42 화재 표준편차 :  0.06515987805410486\n",
      "\n",
      "col_43 정상 평균 :  0.4324976616382318\n",
      "col_43 정상 표준편차 :  0.1022387748195338\n",
      "col_43 화재 평균 :  0.4091693572834781\n",
      "col_43 화재 표준편차 :  0.09031224589355898\n",
      "\n",
      "col_44 정상 평균 :  0.3219230296113283\n",
      "col_44 정상 표준편차 :  0.0404266263021981\n",
      "col_44 화재 평균 :  0.3173125856356763\n",
      "col_44 화재 표준편차 :  0.04892362777390356\n",
      "\n",
      "col_45 정상 평균 :  0.18323937934775458\n",
      "col_45 정상 표준편차 :  0.03065724841423518\n",
      "col_45 화재 평균 :  0.18418181721522106\n",
      "col_45 화재 표준편차 :  0.042131901665383\n",
      "\n",
      "col_46 정상 평균 :  0.47695470964528447\n",
      "col_46 정상 표준편차 :  0.06109990653405202\n",
      "col_46 화재 평균 :  0.4731529608563111\n",
      "col_46 화재 표준편차 :  0.06532556916458321\n",
      "\n",
      "col_47 정상 평균 :  0.18561067900308403\n",
      "col_47 정상 표준편차 :  0.02604478690678191\n",
      "col_47 화재 평균 :  0.18680136292355523\n",
      "col_47 화재 표준편차 :  0.037339033452974485\n",
      "\n",
      "col_48 정상 평균 :  0.3272034228942147\n",
      "col_48 정상 표준편차 :  0.05292527734410869\n",
      "col_48 화재 평균 :  0.3302176890070416\n",
      "col_48 화재 표준편차 :  0.08550933282647884\n",
      "\n",
      "col_49 정상 평균 :  0.4328511804131577\n",
      "col_49 정상 표준편차 :  0.06321073547533491\n",
      "col_49 화재 평균 :  0.43296995048252934\n",
      "col_49 화재 표준편차 :  0.0697575094972453\n",
      "\n",
      "col_50 정상 평균 :  0.4453086200296473\n",
      "col_50 정상 표준편차 :  0.05753799616172908\n",
      "col_50 화재 평균 :  0.4463500743368206\n",
      "col_50 화재 표준편차 :  0.07560602753247221\n",
      "\n",
      "col_51 정상 평균 :  0.4141684067207376\n",
      "col_51 정상 표준편차 :  0.06361196263796115\n",
      "col_51 화재 평균 :  0.4144006808993633\n",
      "col_51 화재 표준편차 :  0.05976694325841476\n",
      "\n",
      "col_52 정상 평균 :  0.4323247022707311\n",
      "col_52 정상 표준편차 :  0.07405455352012902\n",
      "col_52 화재 평균 :  0.44695133630581874\n",
      "col_52 화재 표준편차 :  0.09203316236272104\n",
      "\n",
      "col_53 정상 평균 :  0.2214538630713701\n",
      "col_53 정상 표준편차 :  0.03215466533763251\n",
      "col_53 화재 평균 :  0.21871364635971408\n",
      "col_53 화재 표준편차 :  0.0443136423371036\n",
      "\n",
      "col_54 정상 평균 :  0.40700552744155694\n",
      "col_54 정상 표준편차 :  0.042594626865464516\n",
      "col_54 화재 평균 :  0.40664013106172486\n",
      "col_54 화재 표준편차 :  0.04898978666360724\n",
      "\n",
      "col_55 정상 평균 :  0.21282144527110922\n",
      "col_55 정상 표준편차 :  0.031224798003216234\n",
      "col_55 화재 평균 :  0.20926240939721752\n",
      "col_55 화재 표준편차 :  0.0460373133159866\n",
      "\n",
      "col_56 정상 평균 :  0.30942984190169354\n",
      "col_56 정상 표준편차 :  0.062145196264084865\n",
      "col_56 화재 평균 :  0.30918536460935914\n",
      "col_56 화재 표준편차 :  0.04837100099122407\n",
      "\n",
      "col_57 정상 평균 :  0.4386909051778126\n",
      "col_57 정상 표준편차 :  0.06896551025142804\n",
      "col_57 화재 평균 :  0.4429540887072746\n",
      "col_57 화재 표준편차 :  0.07171561512372693\n",
      "\n",
      "col_58 정상 평균 :  0.4321852434074406\n",
      "col_58 정상 표준편차 :  0.058153944484803585\n",
      "col_58 화재 평균 :  0.43296214439165764\n",
      "col_58 화재 표준편차 :  0.0505311127785902\n",
      "\n",
      "col_59 정상 평균 :  0.4781423457640938\n",
      "col_59 정상 표준편차 :  0.06258581418994771\n",
      "col_59 화재 평균 :  0.48117030096362023\n",
      "col_59 화재 표준편차 :  0.06389140465423326\n",
      "\n",
      "col_60 정상 평균 :  0.4299848201510488\n",
      "col_60 정상 표준편차 :  0.07163785048686622\n",
      "col_60 화재 평균 :  0.4328656356392511\n",
      "col_60 화재 표준편차 :  0.08399642008067697\n",
      "\n",
      "col_61 정상 평균 :  0.4291565604273555\n",
      "col_61 정상 표준편차 :  0.05739611665614887\n",
      "col_61 화재 평균 :  0.4319382027342035\n",
      "col_61 화재 표준편차 :  0.06928999652051285\n",
      "\n",
      "col_62 정상 평균 :  0.45963836465583396\n",
      "col_62 정상 표준편차 :  0.05414352212960872\n",
      "col_62 화재 평균 :  0.4593176272854289\n",
      "col_62 화재 표준편차 :  0.0679790600794468\n",
      "\n",
      "col_63 정상 평균 :  0.4437651518071524\n",
      "col_63 정상 표준편차 :  0.06343758448890263\n",
      "col_63 화재 평균 :  0.4445437462262484\n",
      "col_63 화재 표준편차 :  0.06931801212790382\n",
      "\n",
      "col_64 정상 평균 :  0.4465157045492467\n",
      "col_64 정상 표준편차 :  0.0629146380092527\n",
      "col_64 화재 평균 :  0.444904380249252\n",
      "col_64 화재 표준편차 :  0.06922622902391085\n",
      "\n",
      "col_65 정상 평균 :  0.4777535657602603\n",
      "col_65 정상 표준편차 :  0.0700908693289268\n",
      "col_65 화재 평균 :  0.47744134414473605\n",
      "col_65 화재 표준편차 :  0.07347644214158322\n",
      "\n",
      "col_66 정상 평균 :  0.3251798913426197\n",
      "col_66 정상 표준편차 :  0.05319341050039258\n",
      "col_66 화재 평균 :  0.3247982525002943\n",
      "col_66 화재 표준편차 :  0.06500597372474988\n",
      "\n",
      "col_67 정상 평균 :  0.41761152091838566\n",
      "col_67 정상 표준편차 :  0.05659683698180073\n",
      "col_67 화재 평균 :  0.4240363921347507\n",
      "col_67 화재 표준편차 :  0.06673958979774353\n",
      "\n",
      "col_68 정상 평균 :  0.3927816064282737\n",
      "col_68 정상 표준편차 :  0.08444239476917774\n",
      "col_68 화재 평균 :  0.3949424425731842\n",
      "col_68 화재 표준편차 :  0.09159043617496024\n",
      "\n",
      "col_69 정상 평균 :  0.39971252404755614\n",
      "col_69 정상 표준편차 :  0.06418285568789169\n",
      "col_69 화재 평균 :  0.3979513838309506\n",
      "col_69 화재 표준편차 :  0.08760134758242481\n",
      "\n",
      "col_70 정상 평균 :  0.46348630485391185\n",
      "col_70 정상 표준편차 :  0.05090177918835542\n",
      "col_70 화재 평균 :  0.46543909015364776\n",
      "col_70 화재 표준편차 :  0.06639423575802311\n",
      "\n",
      "col_71 정상 평균 :  0.28764511381302293\n",
      "col_71 정상 표준편차 :  0.10102195318105782\n",
      "col_71 화재 평균 :  0.28751813003206195\n",
      "col_71 화재 표준편차 :  0.10427476444960271\n",
      "\n",
      "col_72 정상 평균 :  0.46994320555505664\n",
      "col_72 정상 표준편차 :  0.05201828623279441\n",
      "col_72 화재 평균 :  0.4697729777558475\n",
      "col_72 화재 표준편차 :  0.06855994769371193\n",
      "\n",
      "col_73 정상 평균 :  0.4692330646026245\n",
      "col_73 정상 표준편차 :  0.08373468869193888\n",
      "col_73 화재 평균 :  0.4684494565372839\n",
      "col_73 화재 표준편차 :  0.09643471087141077\n",
      "\n",
      "col_74 정상 평균 :  0.4296460830371058\n",
      "col_74 정상 표준편차 :  0.06248119794154045\n",
      "col_74 화재 평균 :  0.43334070421239573\n",
      "col_74 화재 표준편차 :  0.07115341425617538\n",
      "\n",
      "col_75 정상 평균 :  0.44488695289468866\n",
      "col_75 정상 표준편차 :  0.06716697819591642\n",
      "col_75 화재 평균 :  0.4458875922672728\n",
      "col_75 화재 표준편차 :  0.08057431425130311\n",
      "\n",
      "col_76 정상 평균 :  0.3260545649369641\n",
      "col_76 정상 표준편차 :  0.05079545138792931\n",
      "col_76 화재 평균 :  0.32656010708405725\n",
      "col_76 화재 표준편차 :  0.05490380617987667\n",
      "\n",
      "col_77 정상 평균 :  0.4297836054097126\n",
      "col_77 정상 표준편차 :  0.03477468048877035\n",
      "col_77 화재 평균 :  0.4312168597712352\n",
      "col_77 화재 표준편차 :  0.047680722862715914\n",
      "\n",
      "col_78 정상 평균 :  0.25288367788258964\n",
      "col_78 정상 표준편차 :  0.05987922110359069\n",
      "col_78 화재 평균 :  0.2552512349711425\n",
      "col_78 화재 표준편차 :  0.07702636380786301\n",
      "\n",
      "col_79 정상 평균 :  0.41749346980566254\n",
      "col_79 정상 표준편차 :  0.05228492070369835\n",
      "col_79 화재 평균 :  0.4168945081574637\n",
      "col_79 화재 표준편차 :  0.0603373339751551\n",
      "\n",
      "col_80 정상 평균 :  0.40761676984137996\n",
      "col_80 정상 표준편차 :  0.04961100026378329\n",
      "col_80 화재 평균 :  0.40821396510886715\n",
      "col_80 화재 표준편차 :  0.06351227034893107\n",
      "\n",
      "col_81 정상 평균 :  0.3341719692750067\n",
      "col_81 정상 표준편차 :  0.044893051933276966\n",
      "col_81 화재 평균 :  0.33777500721644776\n",
      "col_81 화재 표준편차 :  0.07047968034051894\n",
      "\n",
      "col_82 정상 평균 :  0.21286708669409096\n",
      "col_82 정상 표준편차 :  0.03735537177558135\n",
      "col_82 화재 평균 :  0.219107925106105\n",
      "col_82 화재 표준편차 :  0.08417184563305638\n",
      "\n",
      "col_83 정상 평균 :  0.47081384495039014\n",
      "col_83 정상 표준편차 :  0.07535107755719067\n",
      "col_83 화재 평균 :  0.4699286527912389\n",
      "col_83 화재 표준편차 :  0.08382373534450283\n",
      "\n",
      "col_84 정상 평균 :  0.3553112592166482\n",
      "col_84 정상 표준편차 :  0.043818566972380485\n",
      "col_84 화재 평균 :  0.3542303720432503\n",
      "col_84 화재 표준편차 :  0.06070252835006805\n",
      "\n",
      "col_85 정상 평균 :  0.43914295666825837\n",
      "col_85 정상 표준편차 :  0.04831320394861629\n",
      "col_85 화재 평균 :  0.4380975023776953\n",
      "col_85 화재 표준편차 :  0.046603715373203014\n",
      "\n",
      "col_86 정상 평균 :  0.4275633798524454\n",
      "col_86 정상 표준편차 :  0.044162906042253626\n",
      "col_86 화재 평균 :  0.4262865398578015\n",
      "col_86 화재 표준편차 :  0.04090134566054127\n",
      "\n",
      "col_87 정상 평균 :  0.23340736626696953\n",
      "col_87 정상 표준편차 :  0.06212399210761483\n",
      "col_87 화재 평균 :  0.23283536243623668\n",
      "col_87 화재 표준편차 :  0.07053888403886673\n",
      "\n",
      "col_88 정상 평균 :  0.3871711844179942\n",
      "col_88 정상 표준편차 :  0.04522175136526948\n",
      "col_88 화재 평균 :  0.38850535392977514\n",
      "col_88 화재 표준편차 :  0.05503391495067984\n",
      "\n",
      "col_89 정상 평균 :  0.40621590534313046\n",
      "col_89 정상 표준편차 :  0.04243294261020134\n",
      "col_89 화재 평균 :  0.40339094968111405\n",
      "col_89 화재 표준편차 :  0.05288166582602308\n",
      "\n",
      "col_90 정상 평균 :  0.37886579429115197\n",
      "col_90 정상 표준편차 :  0.042041149268736394\n",
      "col_90 화재 평균 :  0.37821247091043\n",
      "col_90 화재 표준편차 :  0.05646327024147423\n",
      "\n",
      "col_91 정상 평균 :  0.35881489034690917\n",
      "col_91 정상 표준편차 :  0.03181680112520373\n",
      "col_91 화재 평균 :  0.3595274448770647\n",
      "col_91 화재 표준편차 :  0.05064555768319333\n",
      "\n",
      "col_92 정상 평균 :  0.329062849203969\n",
      "col_92 정상 표준편차 :  0.029940116209639604\n",
      "col_92 화재 평균 :  0.32879152601292944\n",
      "col_92 화재 표준편차 :  0.04600903254538651\n",
      "\n",
      "col_93 정상 평균 :  0.48731904663302816\n",
      "col_93 정상 표준편차 :  0.04197147498467078\n",
      "col_93 화재 평균 :  0.48698125502690537\n",
      "col_93 화재 표준편차 :  0.03367431590317308\n",
      "\n",
      "col_94 정상 평균 :  0.2780346991281057\n",
      "col_94 정상 표준편차 :  0.041431723847075774\n",
      "col_94 화재 평균 :  0.27778185869238387\n",
      "col_94 화재 표준편차 :  0.05454382570357973\n",
      "\n",
      "col_95 정상 평균 :  0.4814497706143642\n",
      "col_95 정상 표준편차 :  0.04624487474289955\n",
      "col_95 화재 평균 :  0.4805742577818285\n",
      "col_95 화재 표준편차 :  0.05839545155624934\n",
      "\n",
      "col_96 정상 평균 :  0.2501026310262541\n",
      "col_96 정상 표준편차 :  0.019477605545435837\n",
      "col_96 화재 평균 :  0.2511566179366482\n",
      "col_96 화재 표준편차 :  0.030300393059178577\n",
      "\n",
      "col_97 정상 평균 :  0.15063156137558018\n",
      "col_97 정상 표준편차 :  0.006565888805207125\n",
      "col_97 화재 평균 :  0.15149502518945493\n",
      "col_97 화재 표준편차 :  0.025764010341753834\n",
      "\n",
      "col_98 정상 평균 :  0.2566742186104977\n",
      "col_98 정상 표준편차 :  0.018533395230850316\n",
      "col_98 화재 평균 :  0.25562311328718873\n",
      "col_98 화재 표준편차 :  0.039721311810269735\n",
      "\n",
      "col_99 정상 평균 :  0.4315965930651103\n",
      "col_99 정상 표준편차 :  0.02784324994966046\n",
      "col_99 화재 평균 :  0.4319297619317058\n",
      "col_99 화재 표준편차 :  0.03109957176538416\n",
      "\n"
     ]
    }
   ],
   "source": [
    "for fe in f:\n",
    "    print (fe,\"정상 평균 : \", train_DF_normal[fe].mean())\n",
    "    print (fe,\"정상 표준편차 : \", train_DF_normal[fe].std())\n",
    "    print (fe,\"화재 평균 : \", train_DF_fire[fe].mean())\n",
    "    print (fe,\"화재 표준편차 : \", train_DF_fire[fe].std())\n",
    "    print (\"\")"
   ]
  },
  {
   "cell_type": "code",
   "execution_count": null,
   "metadata": {
    "colab": {},
    "colab_type": "code",
    "id": "BZ2aO3_AryNe"
   },
   "outputs": [],
   "source": [
    "from sklearn.tree import DecisionTreeClassifier\n",
    "from sklearn.metrics import f1_score\n",
    "decision_tree = DecisionTreeClassifier(random_state=0, max_depth=5)\n",
    "decision_tree = decision_tree.fit(train_DF, train_DF_Y)\n"
   ]
  },
  {
   "cell_type": "code",
   "execution_count": null,
   "metadata": {
    "colab": {
     "base_uri": "https://localhost:8080/",
     "height": 35
    },
    "colab_type": "code",
    "id": "uL1gbywYt1cW",
    "outputId": "0b774b21-ede9-45a8-8791-f1b0616da954"
   },
   "outputs": [
    {
     "data": {
      "text/plain": [
       "0.20703653585926926"
      ]
     },
     "execution_count": 34,
     "metadata": {
      "tags": []
     },
     "output_type": "execute_result"
    }
   ],
   "source": [
    "y_pred=decision_tree.predict(val_DF)\n",
    "f1_score(val_DF_Y, y_pred)"
   ]
  },
  {
   "cell_type": "code",
   "execution_count": null,
   "metadata": {
    "colab": {
     "base_uri": "https://localhost:8080/",
     "height": 35
    },
    "colab_type": "code",
    "id": "cm7k2JyoBbQ5",
    "outputId": "23ae0031-182d-4f49-975c-fbb33d471989"
   },
   "outputs": [
    {
     "data": {
      "text/plain": [
       "0.40503035559410233"
      ]
     },
     "execution_count": 35,
     "metadata": {
      "tags": []
     },
     "output_type": "execute_result"
    }
   ],
   "source": [
    "from  sklearn.ensemble import RandomForestClassifier\n",
    "rf_clf = RandomForestClassifier(n_jobs=-1, n_estimators=100, random_state=42)\n",
    "rf_clf.fit(train_DF, train_DF_Y)\n",
    "y_pred=rf_clf.predict(val_DF)\n",
    "f1_score(val_DF_Y, y_pred)"
   ]
  },
  {
   "cell_type": "code",
   "execution_count": null,
   "metadata": {
    "colab": {},
    "colab_type": "code",
    "id": "fU_BJDDj1tCH"
   },
   "outputs": [],
   "source": [
    "class HJK_AE:\n",
    "    def __init__(self,batch_size=128, input_size=100):\n",
    "        self.batch_size=batch_size\n",
    "        self.input_size=input_size\n",
    "        self.lr = 0.001\n",
    "        self.z_size=10\n",
    "        \n",
    "    def buld_model(self):\n",
    "        inputs=Input(self.input_size,)\n",
    "        encoder=self.build_encoder(self.input_size,self.z_size)  \n",
    "        self.decoder=self.build_decoder(self.input_size,self.z_size)\n",
    "              \n",
    "        self.AE=Model(inputs=inputs,outputs=self.decoder(encoder(inputs))) \n",
    "        self.AE.compile(loss='mse', optimizer=Adam(self.lr))\n",
    "\n",
    "        self.discriminator=self.build_discriminator(self.input_size,self.z_size)\n",
    "        self.discriminator.compile(loss='binary_crossentropy',metrics=['acc',self.f1_m,self.precision_m, self.recall_m],optimizer=Adam(self.lr))\n",
    "\n",
    "    def hjk_train_AE(self,trian_X,epochs=20):\n",
    "        self.AE.fit(trian_X,trian_X,batch_size=self.batch_size,epochs=epochs)\n",
    "    \n",
    "    def hjk_train_discriminator(self,train_X,train_Y,epochs = 20):\n",
    "        AE_train_X=self.AE.predict(train_X)\n",
    "        self.discriminator.fit(AE_train_X,train_Y,validation_split=0.3, epochs=epochs)\n",
    "            \n",
    "    def hjk_predict(self,trian_X):\n",
    "        return self.discriminator.predict(self.AE.predict(trian_X))\n",
    "    \n",
    "    def build_discriminator(self,input_size,z_size):\n",
    "        model = Sequential()\n",
    "        model.add(Dense(15,activation='relu',input_shape=(input_size,)))\n",
    "        model.add(Dense(z_size,activation='relu'))\n",
    "        model.add(Dense(1,activation='sigmoid'))\n",
    "        return model\n",
    "\n",
    "    def build_encoder(self,input_size, z_size):\n",
    "        model = Sequential()\n",
    "        # model.add(Lambda((lambda x: x/16.),input_shape=(input_size,)))\n",
    "        model.add(Dense(15,activation='relu'))\n",
    "        model.add(Dense(z_size,activation='tanh'))\n",
    "        return model\n",
    "    \n",
    "    def build_decoder(self,input_size, z_size):\n",
    "        model = Sequential()\n",
    "        model.add(Dense(15,activation='relu',input_shape=(z_size,)))\n",
    "        model.add(Dense(input_size,activation='sigmoid'))\n",
    "        # model.add(Lambda(lambda x: x * 16.))      \n",
    "        return model\n",
    "    \n",
    "    def recall_m(self,y_true, y_pred):\n",
    "        true_positives = K.sum(K.round(K.clip(y_true * y_pred, 0, 1)))\n",
    "        possible_positives = K.sum(K.round(K.clip(y_true, 0, 1)))\n",
    "        recall = true_positives / (possible_positives + K.epsilon())\n",
    "        return recall\n",
    "\n",
    "    def precision_m(self,y_true, y_pred):\n",
    "        true_positives = K.sum(K.round(K.clip(y_true * y_pred, 0, 1)))\n",
    "        predicted_positives = K.sum(K.round(K.clip(y_pred, 0, 1)))\n",
    "        precision = true_positives / (predicted_positives + K.epsilon())\n",
    "        return precision\n",
    "\n",
    "    def f1_m(self,y_true, y_pred):\n",
    "        precision = self.precision_m(y_true, y_pred)\n",
    "        recall = self.recall_m(y_true, y_pred)\n",
    "        return 2*((precision*recall)/(precision+recall+K.epsilon()))"
   ]
  },
  {
   "cell_type": "code",
   "execution_count": null,
   "metadata": {
    "colab": {},
    "colab_type": "code",
    "id": "AlTR_dnr2Y1m"
   },
   "outputs": [],
   "source": [
    "hjk=HJK_AE()\n",
    "hjk.buld_model()"
   ]
  },
  {
   "cell_type": "code",
   "execution_count": null,
   "metadata": {
    "colab": {},
    "colab_type": "code",
    "id": "CXbXXKQuJ8V9"
   },
   "outputs": [],
   "source": [
    "hjk.hjk_train_AE(train_DF_fire.as_matrix(),100)"
   ]
  },
  {
   "cell_type": "code",
   "execution_count": null,
   "metadata": {
    "colab": {},
    "colab_type": "code",
    "id": "_wmNsOZBKMkZ"
   },
   "outputs": [],
   "source": [
    "hjk.hjk_train_discriminator(train_DF.as_matrix(),train_DF_Y.as_matrix(),50)"
   ]
  },
  {
   "cell_type": "code",
   "execution_count": null,
   "metadata": {
    "colab": {
     "base_uri": "https://localhost:8080/",
     "height": 107
    },
    "colab_type": "code",
    "id": "4zdB0uFo5I8V",
    "outputId": "1463fa5d-6503-4fd2-a11c-6ad92f856d7a"
   },
   "outputs": [
    {
     "name": "stderr",
     "output_type": "stream",
     "text": [
      "/usr/local/lib/python3.6/dist-packages/ipykernel_launcher.py:1: FutureWarning: Method .as_matrix will be removed in a future version. Use .values instead.\n",
      "  \"\"\"Entry point for launching an IPython kernel.\n"
     ]
    },
    {
     "name": "stdout",
     "output_type": "stream",
     "text": [
      "(59199, 1)\n",
      "(59199, 1)\n",
      "(59199, 1)\n"
     ]
    }
   ],
   "source": [
    "real_list=np.reshape(hjk.hjk_predict(train_DF.as_matrix()),(-1,1))\n",
    "dt_list=np.reshape(decision_tree.predict_proba(train_DF)[:,1],(-1,1))\n",
    "rf_list=np.reshape(rf_clf.predict_proba(train_DF)[:,1],(-1,1))\n",
    "print(real_list.shape)\n",
    "print(dt_list.shape)\n",
    "print(rf_list.shape)"
   ]
  },
  {
   "cell_type": "code",
   "execution_count": null,
   "metadata": {
    "colab": {},
    "colab_type": "code",
    "id": "eLBqnoAKE6MU"
   },
   "outputs": [],
   "source": [
    "t_X=np.hstack((real_list,dt_list,rf_list))"
   ]
  },
  {
   "cell_type": "code",
   "execution_count": null,
   "metadata": {
    "colab": {},
    "colab_type": "code",
    "id": "Uj1yS2h-5PzL"
   },
   "outputs": [],
   "source": [
    "stack_model = Sequential()\n",
    "stack_model.add(Dense(10,activation='relu',input_shape=(3,)))\n",
    "stack_model.add(Dense(5,activation='relu'))\n",
    "stack_model.add(Dense(1,activation='sigmoid'))\n",
    "def recall_m(y_true, y_pred):\n",
    "    true_positives = K.sum(K.round(K.clip(y_true * y_pred, 0, 1)))\n",
    "    possible_positives = K.sum(K.round(K.clip(y_true, 0, 1)))\n",
    "    recall = true_positives / (possible_positives + K.epsilon())\n",
    "    return recall\n",
    "\n",
    "def precision_m(y_true, y_pred):\n",
    "    true_positives = K.sum(K.round(K.clip(y_true * y_pred, 0, 1)))\n",
    "    predicted_positives = K.sum(K.round(K.clip(y_pred, 0, 1)))\n",
    "    precision = true_positives / (predicted_positives + K.epsilon())\n",
    "    return precision\n",
    "\n",
    "def f1_m(y_true, y_pred):\n",
    "    precision = precision_m(y_true, y_pred)\n",
    "    recall = recall_m(y_true, y_pred)\n",
    "    return 2*((precision*recall)/(precision+recall+K.epsilon()))\n",
    "\n",
    "def hjk_loss(y_true,y_pred):\n",
    "    bce = 5*y_true * K.log(y_pred + K.epsilon())\n",
    "    bce += (1 - y_true) * K.log(1 - y_pred + K.epsilon())\n",
    "    return -bce   \n",
    "\n",
    "stack_model.compile(loss=hjk_loss,metrics=['acc',f1_m,precision_m, recall_m],optimizer=Adam(0.01))"
   ]
  },
  {
   "cell_type": "code",
   "execution_count": null,
   "metadata": {
    "colab": {
     "base_uri": "https://localhost:8080/",
     "height": 269
    },
    "colab_type": "code",
    "id": "nrC2AmYNNKkb",
    "outputId": "5c0bf98f-b534-44f4-ca4a-252c9aadf588"
   },
   "outputs": [
    {
     "name": "stderr",
     "output_type": "stream",
     "text": [
      "/usr/local/lib/python3.6/dist-packages/ipykernel_launcher.py:1: FutureWarning: Method .as_matrix will be removed in a future version. Use .values instead.\n",
      "  \"\"\"Entry point for launching an IPython kernel.\n"
     ]
    },
    {
     "name": "stdout",
     "output_type": "stream",
     "text": [
      "Train on 59199 samples\n",
      "Epoch 1/5\n",
      "59199/59199 [==============================] - 2s 36us/sample - loss: 0.0564 - acc: 0.9933 - f1_m: 0.9858 - precision_m: 0.9794 - recall_m: 1.0000\n",
      "Epoch 2/5\n",
      "59199/59199 [==============================] - 2s 34us/sample - loss: 1.6249e-04 - acc: 1.0000 - f1_m: 1.0000 - precision_m: 1.0000 - recall_m: 1.0000\n",
      "Epoch 3/5\n",
      "59199/59199 [==============================] - 2s 35us/sample - loss: 5.9280e-05 - acc: 1.0000 - f1_m: 1.0000 - precision_m: 1.0000 - recall_m: 1.0000\n",
      "Epoch 4/5\n",
      "59199/59199 [==============================] - 2s 34us/sample - loss: 3.1344e-05 - acc: 1.0000 - f1_m: 1.0000 - precision_m: 1.0000 - recall_m: 1.0000\n",
      "Epoch 5/5\n",
      "59199/59199 [==============================] - 2s 34us/sample - loss: 1.9905e-05 - acc: 1.0000 - f1_m: 1.0000 - precision_m: 1.0000 - recall_m: 1.0000\n"
     ]
    },
    {
     "data": {
      "text/plain": [
       "<tensorflow.python.keras.callbacks.History at 0x7f54202ceb70>"
      ]
     },
     "execution_count": 57,
     "metadata": {
      "tags": []
     },
     "output_type": "execute_result"
    }
   ],
   "source": [
    "stack_model.fit(t_X,train_DF_Y.as_matrix(),batch_size=100,epochs=5)"
   ]
  },
  {
   "cell_type": "code",
   "execution_count": null,
   "metadata": {
    "colab": {
     "base_uri": "https://localhost:8080/",
     "height": 107
    },
    "colab_type": "code",
    "id": "pxbGZhTAFndO",
    "outputId": "54196ce7-18e4-4168-d35c-87972099c3fe"
   },
   "outputs": [
    {
     "name": "stderr",
     "output_type": "stream",
     "text": [
      "/usr/local/lib/python3.6/dist-packages/ipykernel_launcher.py:1: FutureWarning: Method .as_matrix will be removed in a future version. Use .values instead.\n",
      "  \"\"\"Entry point for launching an IPython kernel.\n"
     ]
    },
    {
     "name": "stdout",
     "output_type": "stream",
     "text": [
      "(6898, 1)\n",
      "(6898, 1)\n",
      "(6898, 1)\n"
     ]
    }
   ],
   "source": [
    "real_list=np.reshape(hjk.hjk_predict(val_DF.as_matrix()),(-1,1))\n",
    "dt_list=np.reshape(decision_tree.predict_proba(val_DF)[:,1],(-1,1))\n",
    "rf_list=np.reshape(rf_clf.predict_proba(val_DF)[:,1],(-1,1))\n",
    "print(real_list.shape)\n",
    "print(dt_list.shape)\n",
    "print(rf_list.shape)"
   ]
  },
  {
   "cell_type": "code",
   "execution_count": null,
   "metadata": {
    "colab": {},
    "colab_type": "code",
    "id": "fIMlcSW2FyPj"
   },
   "outputs": [],
   "source": [
    "v_X=np.hstack((real_list,dt_list,rf_list))"
   ]
  },
  {
   "cell_type": "code",
   "execution_count": null,
   "metadata": {
    "colab": {
     "base_uri": "https://localhost:8080/",
     "height": 109
    },
    "colab_type": "code",
    "id": "gBDf6OmBS5Df",
    "outputId": "344e63e9-3a27-46bd-d74b-ea551206eed3"
   },
   "outputs": [
    {
     "name": "stdout",
     "output_type": "stream",
     "text": [
      "  32/6898 [..............................] - ETA: 13s - loss: 4.9505 - acc: 0.8125 - f1_m: 0.2500 - precision_m: 0.3333 - recall_m: 0.2000"
     ]
    },
    {
     "name": "stderr",
     "output_type": "stream",
     "text": [
      "/usr/local/lib/python3.6/dist-packages/ipykernel_launcher.py:1: FutureWarning: Method .as_matrix will be removed in a future version. Use .values instead.\n",
      "  \"\"\"Entry point for launching an IPython kernel.\n"
     ]
    },
    {
     "name": "stdout",
     "output_type": "stream",
     "text": [
      "6898/6898 [==============================] - 1s 75us/sample - loss: 3.8536 - acc: 0.7802 - f1_m: 0.3832 - precision_m: 0.4106 - recall_m: 0.4042\n"
     ]
    },
    {
     "data": {
      "text/plain": [
       "[3.853619851800593, 0.7802262, 0.38317773, 0.41064316, 0.4041876]"
      ]
     },
     "execution_count": 60,
     "metadata": {
      "tags": []
     },
     "output_type": "execute_result"
    }
   ],
   "source": [
    "stack_model.evaluate(v_X,val_DF_Y.as_matrix())"
   ]
  }
 ],
 "metadata": {
  "accelerator": "GPU",
  "colab": {
   "collapsed_sections": [],
   "include_colab_link": true,
   "name": "hjk_fire.ipynb",
   "provenance": []
  },
  "kernelspec": {
   "display_name": "Python 3",
   "language": "python",
   "name": "python3"
  },
  "language_info": {
   "codemirror_mode": {
    "name": "ipython",
    "version": 3
   },
   "file_extension": ".py",
   "mimetype": "text/x-python",
   "name": "python",
   "nbconvert_exporter": "python",
   "pygments_lexer": "ipython3",
   "version": "3.7.4"
  }
 },
 "nbformat": 4,
 "nbformat_minor": 4
}
