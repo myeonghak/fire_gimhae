{
 "cells": [
  {
   "cell_type": "code",
   "execution_count": 2,
   "metadata": {},
   "outputs": [],
   "source": [
    "import os\n",
    "import pandas as pd\n",
    "import numpy as np\n",
    "import sklearn as sk\n",
    "import warnings\n",
    "import itertools as IT\n",
    "import glob\n",
    "import datetime as dt\n",
    "import time\n",
    "import sys\n",
    "\n",
    "sys.path.insert(0, '/data/aithe/data/customercube/code/common/')\n",
    "# import common_path\n",
    "from dateutil.relativedelta import relativedelta\n",
    "\n",
    "# from xgboost import plot_importance\n",
    "from sklearn.model_selection import cross_val_score,KFold\n",
    "from sklearn.metrics import mean_absolute_error\n",
    "from sklearn.model_selection import GridSearchCV   #Perforing grid search\n",
    "\n",
    "#Common Model Algorithms\n",
    "from sklearn import svm, tree, linear_model, neighbors, naive_bayes, ensemble, discriminant_analysis, gaussian_process\n",
    "import xgboost\n",
    "\n",
    "#Common Model Helpers\n",
    "from sklearn.preprocessing import OneHotEncoder, LabelEncoder\n",
    "from sklearn import feature_selection\n",
    "from sklearn import model_selection\n",
    "from sklearn import metrics\n",
    "\n",
    "#Visualization\n",
    "import matplotlib as mpl\n",
    "import matplotlib.pyplot as plt\n",
    "import matplotlib.pylab as pylab\n",
    "import seaborn as sns\n",
    "from pandas.plotting import scatter_matrix\n",
    "\n",
    "%matplotlib inline\n",
    "mpl.style.use('ggplot')\n",
    "sns.set_style('white')\n",
    "pylab.rcParams['figure.figsize'] = 12,8\n",
    "\n",
    "\n",
    "warnings.filterwarnings('ignore')\n",
    "pd.set_option('display.max_rows',100)\n",
    "pd.set_option('display.max_columns',500)\n",
    "pd.set_option('display.width',500)\n",
    "pd.set_option('max_info_columns',500)\n",
    "pd.set_option('display.float_format', lambda x : '%.3f' % x )\n",
    "\n",
    "\n",
    "\n",
    "from sklearn.linear_model import LogisticRegression\n",
    "from sklearn.svm import SVC\n",
    "from sklearn.neighbors import KNeighborsClassifier\n",
    "from sklearn.tree import DecisionTreeClassifier\n",
    "from sklearn.ensemble import RandomForestClassifier\n",
    "import collections\n",
    "# Other Libraries\n",
    "from sklearn.model_selection import train_test_split\n",
    "from sklearn.pipeline import make_pipeline\n",
    "from imblearn.pipeline import make_pipeline as imbalanced_make_pipeline\n",
    "from imblearn.over_sampling import SMOTE\n",
    "from imblearn.under_sampling import NearMiss\n",
    "from imblearn.metrics import classification_report_imbalanced\n",
    "from sklearn.metrics import precision_score, recall_score, f1_score, roc_auc_score, accuracy_score, classification_report\n",
    "from collections import Counter\n",
    "from sklearn.model_selection import KFold, StratifiedKFold\n",
    "\n",
    "\n",
    "from sklearn.manifold import TSNE\n",
    "from sklearn.decomposition import PCA, TruncatedSVD"
   ]
  },
  {
   "cell_type": "code",
   "execution_count": 3,
   "metadata": {},
   "outputs": [
    {
     "data": {
      "text/plain": [
       "(59199, 180)"
      ]
     },
     "execution_count": 3,
     "metadata": {},
     "output_type": "execute_result"
    }
   ],
   "source": [
    "data=pd.read_csv(\"PJT002_train.csv\",encoding=\"UTF-8-sig\")\n",
    "\n",
    "data.shape"
   ]
  },
  {
   "cell_type": "code",
   "execution_count": 4,
   "metadata": {},
   "outputs": [
    {
     "name": "stdout",
     "output_type": "stream",
     "text": [
      "NON RETURN 87.07 % of the dataset\n",
      "RETURN 12.93 % of the dataset\n",
      "Train: [11653 11654 11655 ... 59196 59197 59198] Test: [    0     1     2 ... 12779 12786 12791]\n",
      "Train: [    0     1     2 ... 59196 59197 59198] Test: [11653 11654 11655 ... 27866 27869 27879]\n",
      "Train: [    0     1     2 ... 59196 59197 59198] Test: [23132 23133 23134 ... 40962 40968 40980]\n",
      "Train: [    0     1     2 ... 59196 59197 59198] Test: [34787 34788 34789 ... 51751 51753 51755]\n",
      "Train: [    0     1     2 ... 51751 51753 51755] Test: [46538 46539 46540 ... 59196 59197 59198]\n"
     ]
    }
   ],
   "source": [
    "print('NON RETURN', round(data['fr_yn'].value_counts()[0]/len(data) * 100,2), '% of the dataset')\n",
    "print('RETURN', round(data['fr_yn'].value_counts()[1]/len(data) * 100,2), '% of the dataset')\n",
    "\n",
    "X = data.drop('fr_yn', axis=1)\n",
    "y = data['fr_yn']\n",
    "\n",
    "sss = StratifiedKFold(n_splits=5, random_state=None, shuffle=False)\n",
    "\n",
    "for train_index, test_index in sss.split(X, y):\n",
    "    print(\"Train:\", train_index, \"Test:\", test_index)\n",
    "    original_Xtrain, original_Xtest = X.iloc[train_index], X.iloc[test_index]\n",
    "    original_ytrain, original_ytest = y.iloc[train_index], y.iloc[test_index]"
   ]
  },
  {
   "cell_type": "code",
   "execution_count": 5,
   "metadata": {},
   "outputs": [
    {
     "name": "stdout",
     "output_type": "stream",
     "text": [
      "----------------------------------------------------------------------------------------------------\n",
      "Label Distributions: \n",
      "\n",
      "[0.87065034 0.12934966]\n",
      "[0.87068165 0.12931835]\n"
     ]
    }
   ],
   "source": [
    "# We already have X_train and y_train for undersample data thats why I am using original to distinguish and to not overwrite these variables.\n",
    "# original_Xtrain, original_Xtest, original_ytrain, original_ytest = train_test_split(X, y, test_size=0.2, random_state=42)\n",
    "\n",
    "# Check the Distribution of the labels\n",
    "\n",
    "\n",
    "# Turn into an array\n",
    "original_Xtrain = original_Xtrain.values\n",
    "original_Xtest = original_Xtest.values\n",
    "original_ytrain = original_ytrain.values\n",
    "original_ytest = original_ytest.values\n",
    "\n",
    "# See if both the train and test label distribution are similarly distributed\n",
    "train_unique_label, train_counts_label = np.unique(original_ytrain, return_counts=True)\n",
    "test_unique_label, test_counts_label = np.unique(original_ytest, return_counts=True)\n",
    "print('-' * 100)\n",
    "\n",
    "print('Label Distributions: \\n')\n",
    "print(train_counts_label/ len(original_ytrain))\n",
    "print(test_counts_label/ len(original_ytest))"
   ]
  },
  {
   "cell_type": "code",
   "execution_count": 5,
   "metadata": {},
   "outputs": [
    {
     "name": "stdout",
     "output_type": "stream",
     "text": [
      "['2017-10-20 05:54' '2018-09-30 08:26' '2016-10-30 14:57' ...\n",
      " '2018-03-03 19:49' '2017-09-27 11:10' '2015-09-20 07:34'] dt_of_fr\n",
      "['Y' 'N'] fr_yn\n",
      "['단독주택' nan '공동주택' '종교시설' '공장' '제1종근린생활시설' '숙박시설' '동.식물 관련시설' '창고시설'\n",
      " '제2종근린생활시설' '문화및집회시설' '자동차관련시설' '업무시설' '판매시설' '교육연구시설' '분뇨.쓰레기처리시설'\n",
      " '수련시설' '의료시설' '노유자시설' '운동시설' '위락시설' '위험물저장및처리시설' '공공용시설' '교정및군사시설'\n",
      " '교육연구및복지시설' '장례식장' '운수시설' '관광휴게시설' '근린생활시설' '시장' '방송통신시설' '묘지관련시설' '발전시설'\n",
      " '판매및영업시설' '파출소'] bldng_us\n",
      "['블록구조' nan '철근콘크리트구조' '일반목구조' '벽돌구조' '경량철골구조' '일반철골구조' '철골콘크리트구조' '통나무구조'\n",
      " '강파이프구조' '목구조' '석구조' '조적구조' '기타강구조' '철골철근콘크리트구조' '기타구조' '기타조적구조'\n",
      " '프리케스트콘크리트구조' '기타콘크리트구조'] bldng_archtctr\n",
      "[1977.0 nan 20001104.0 ... 20040914.0 19880624.0 20120327.0] dt_of_athrztn\n",
      "['주거용' nan '상업용' '문교사회용' '공업용' '농수산용' '기타' '공공용'] bldng_us_clssfctn\n",
      "['대' '답' '임' '종' '장' '전' '잡' '목' '도' '천' '양' '구' '과' '체' '창' '학' '원' '공'\n",
      " '유' '수' '주' '철' '묘' '제' '차' '사'] jmk\n",
      "['자연녹지지역' '계획관리지역' '제2종일반주거지역' '제1종일반주거지역' '자연환경보전지역' '보전관리지역' '일반상업지역'\n",
      " '생산관리지역' '준주거지역' '생산녹지지역' '농림지역' nan '준공업지역' '일반공업지역' '근린상업지역'\n",
      " '제1종전용주거지역' '개발제한구역' '제3종일반주거지역' '제2종전용주거지역' '보전녹지지역' '유통상업지역' '중심상업지역'\n",
      " '관리지역' '용도미지정'] rgnl_ar_nm\n",
      "['지정되지않음' nan '농림지역' '제2종일반주거지역' '관리지역' '자연녹지지역' '계획관리지역' '자연환경보전지역'\n",
      " '일반공업지역' '제1종일반주거지역' '일반상업지역' '개발제한구역' '보전녹지지역' '생산관리지역' '보전관리지역' '준주거지역'\n",
      " '생산녹지지역' '준공업지역' '제3종일반주거지역' '근린상업지역'] rgnl_ar_nm2\n",
      "['단독' '연립' '자연림' '주거기타' '아파트' '상업용' '주거나지' '공업용' '답' '업무용' '주상용' '주상나지'\n",
      " '전기타' '위험시설' '전' '조림' nan '답기타' '과수원' '토지임야' '공업기타' '골프장 회원제' '주상기타'\n",
      " '다세대' '도로등' '상업기타' '임야기타' '유원지' '운동장등' '공원등' '하천등' '유해.혐오시설' '공업나지' '기타'\n",
      " '상업나지' '주차장등' '목장용지' '여객자동차터미널' '고속도로휴게소' '스키장' '특수기타' '콘도미니엄' '공원묘지'\n",
      " '골프장 대중제' '발전소'] lnd_us_sttn_nm\n",
      "['세로한면(불)' '세로한면(가)' '중로한면' '소로한면' '맹지' '광대로한면' '세로각지(불)' '중로각지' '세로각지(가)'\n",
      " '소로각지' nan '광대세각' '광대소각' '지정되지않음'] rd_sd_nm\n",
      "['경상남도 창녕군 창녕읍' '경상남도 의령군 가례면' '경상남도 창원시의창구 대산면' '경상남도 함안군 칠서면'\n",
      " '경상남도 창녕군 남지읍' '경상남도 진주시 판문동' '경상남도 남해군 창선면' '경상남도 거창군 주상면'\n",
      " '경상남도 창녕군 고암면' '경상남도 밀양시 무안면' '경상남도 함안군 가야읍' '경상남도 창녕군 성산면'\n",
      " '경상남도 창녕군 대합면' '경상남도 밀양시 삼문동' '경상남도 통영시 북신동' '경상남도 함안군 칠북면'\n",
      " '경상남도 통영시 욕지면' '경상남도 양산시 서창동' '경상남도 창녕군 이방면' '경상남도 창녕군 유어면'\n",
      " '경상남도 거창군 남상면' '경상남도 의령군 용덕면' '경상남도 창녕군 계성면' '경상남도 하동군 악양면'\n",
      " '경상남도 창녕군 영산면' '경상남도 거제시 일운면' '경상남도 창녕군 장마면' '경상남도 통영시 광도면'\n",
      " '경상남도 창녕군 도천면' '경상남도 통영시 한산면' '경상남도 창녕군 길곡면' '경상남도 창녕군 부곡면'\n",
      " '경상남도 양산시 삼성동' '경상남도 거창군 가조면' '경상남도 창녕군 대지면' '경상남도 고성군 대가면'\n",
      " '경상남도 거제시 능포동' '경상남도 양산시 하북면' '경상남도 거제시 장평동' '경상남도 거제시 옥포2동'\n",
      " '경상남도 거제시 옥포1동' '경상남도 밀양시 하남읍' '경상남도 거제시 장승포동' '경상남도 거창군 위천면'\n",
      " '경상남도 거창군 고제면' '경상남도 창원시마산합포구 오동동' '경상남도 거제시 둔덕면' '경상남도 거제시 고현동'\n",
      " '경상남도 사천시 서포면' '경상남도 거제시 아주동' '경상남도 사천시 벌룡동' '경상남도 밀양시 산내면'\n",
      " '경상남도 창원시마산회원구 합성1동' '경상남도 고성군 동해면' '경상남도 사천시 용현면' '경상남도 창원시진해구 여좌동'\n",
      " '경상남도 거제시 거제면' '경상남도 함안군 함안면' '경상남도 양산시 동면' '경상남도 거제시 사등면' '경상남도 거제시 남부면'\n",
      " '경상남도 창원시마산합포구 교방동' '경상남도 거제시 동부면' '경상남도 거제시 장목면' '경상남도 합천군 대병면'\n",
      " '경상남도 함안군 군북면' '경상남도 창원시진해구 태백동' '경상남도 하동군 옥종면' '경상남도 하동군 하동읍'\n",
      " '경상남도 산청군 단성면' '경상남도 의령군 칠곡면' '경상남도 사천시 사천읍' '경상남도 사천시 선구동'\n",
      " '경상남도 사천시 동서금동' '경상남도 사천시 곤명면' '경상남도 사천시 정동면' '경상남도 창원시진해구 웅동1동'\n",
      " '경상남도 함양군 지곡면' '경상남도 창원시의창구 팔룡동' '경상남도 함양군 함양읍' '경상남도 합천군 삼가면'\n",
      " '경상남도 창원시성산구 웅남동' '경상남도 창원시의창구 봉림동' '경상남도 진주시 천전동' '경상남도 진주시 금곡면'\n",
      " '경상남도 진주시 수곡면' '경상남도 남해군 이동면' '경상남도 사천시 동서동' '경상남도 사천시 곤양면'\n",
      " '경상남도 창원시진해구 경화동' '경상남도 고성군 삼산면' '경상남도 창원시의창구 북면' '경상남도 함안군 여항면'\n",
      " '경상남도 진주시 내동면' '경상남도 진주시 진성면' '경상남도 창원시마산합포구 진동면' '경상남도 진주시 상대동'\n",
      " '경상남도 진주시 이현동' '경상남도 거창군 웅양면' '경상남도 밀양시 단장면' '경상남도 남해군 남면' '경상남도 거창군 신원면'\n",
      " '경상남도 산청군 산청읍' '경상남도 남해군 서면' '경상남도 창원시성산구 반송동' '경상남도 창원시성산구 성주동'\n",
      " '경상남도 하동군 적량면' '경상남도 거창군 북상면' '경상남도 거제시 수양동' '경상남도 거제시 연초면'\n",
      " '경상남도 거제시 하청면' '경상남도 창원시성산구 상남동' '경상남도 통영시 미수동' '경상남도 통영시 사량면'\n",
      " '경상남도 양산시 물금읍' '경상남도 거제시 거제면 오수리' '경상남도 창원시의창구 동읍' '경상남도 합천군 덕곡면'\n",
      " '경상남도 의령군 정곡면' '경상남도 거제시 상문동' '경상남도 거제시 거제면 법동리' '경상남도 의령군 부림면'\n",
      " '경상남도 양산시 원동면' '경상남도 거창군 남하면' '경상남도 의령군 유곡면' '경상남도 진주시 상봉동'\n",
      " '경상남도 의령군 의령읍' '경상남도 의령군 낙서면' '경상남도 의령군 화정면' '경상남도 의령군 지정면'\n",
      " '경상남도 양산시 덕계동' '경상남도 의령군 봉수면' '경상남도 의령군 궁류면' '경상남도 의령군 대의면'\n",
      " '경상남도 사천시 향촌동' '경상남도 사천시 남양동' '경상남도 거창군 거창읍' '경상남도 함안군 법수면'\n",
      " '경상남도 하동군 고전면' '경상남도 사천시 사남면' '경상남도 진주시 중앙동' '경상남도 창원시마산합포구 구산면'\n",
      " '경상남도 함안군 산인면' '경상남도 사천시 축동면' '경상남도 함안군 대산면' '경상남도 통영시 도천동'\n",
      " '경상남도 사천시 실안동' '경상남도 남해군 남해읍' '경상남도 창원시진해구 이동' '경상남도 창원시진해구 자은동'\n",
      " '경상남도 창원시진해구 석동' '경상남도 창원시진해구 중앙동' '경상남도 진주시 명석면' '경상남도 창원시진해구 덕산동'\n",
      " '경상남도 창원시진해구 풍호동' '경상남도 창원시진해구 충무동' '경상남도 창원시진해구 병암동' '경상남도 창원시진해구 웅동2동'\n",
      " '경상남도 남해군 삼동면' '경상남도 합천군 합천읍' '경상남도 창원시진해구 태평동' '경상남도 창원시진해구 웅천동'\n",
      " '경상남도 하동군 금남면' '경상남도 창원시마산회원구 합성2동' '경상남도 창원시마산합포구 진북면'\n",
      " '경상남도 창원시마산회원구 회원2동' '경상남도 창원시마산회원구 구암1동' '경상남도 창원시마산회원구 구암2동'\n",
      " '경상남도 창원시마산회원구 봉암동' '경상남도 함안군 칠원읍' '경상남도 창원시마산합포구 산호동'\n",
      " '경상남도 창원시마산회원구 회성동' '경상남도 창원시 마산합포구 중앙동1가' '경상남도 창원시마산합포구 노산동'\n",
      " '경상남도 창원시마산합포구 합포동' '경상남도 창원시 마산회원구 석전동' '경상남도 진주시 하대동'\n",
      " '경상남도 창원시마산합포구 진전면' '경상남도 창원시마산합포구 가포동' '경상남도 창원시마산합포구 월영동'\n",
      " '경상남도 창원시마산회원구 양덕2동' '경상남도 창원시마산회원구 석전동' '경상남도 창원시마산회원구 회원1동'\n",
      " '경상남도 통영시 도산면' '경상남도 창원시마산회원구 양덕1동' '경상남도 창원시마산회원구 내서읍'\n",
      " '경상남도 창원시 마산합포구 반월동' '경상남도 창원시마산합포구 반월중앙동' '경상남도 진주시 문산읍'\n",
      " '경상남도 창원시마산합포구 현동' '경상남도 합천군 야로면' '경상남도 창원시마산합포구 문화동'\n",
      " '경상남도 창원시 마산합포구 장군동1가' '경상남도 창원시 마산합포구 월영동' '경상남도 창원시 마산합포구 신월동'\n",
      " '경상남도 창원시 마산합포구 완월동' '경상남도 창원시 마산회원구 회성동' '경상남도 창원시의창구 명곡동'\n",
      " '경상남도 창원시성산구 사파동' '경상남도 고성군 거류면' '경상남도 하동군 횡천면' '경상남도 합천군 용주면'\n",
      " '경상남도 진주시 사봉면' '경상남도 진주시 대곡면' '경상남도 진주시 상평동' '경상남도 진주시 대평면'\n",
      " '경상남도 진주시 일반성면' '경상남도 진주시 초장동' '경상남도 하동군 진교면' '경상남도 진주시 평거동'\n",
      " '경상남도 하동군 양보면' '경상남도 하동군 북천면' '경상남도 진주시 집현면' '경상남도 거창군 마리면'\n",
      " '경상남도 산청군 생초면' '경상남도 합천군 초계면' '경상남도 합천군 적중면' '경상남도 고성군 상리면'\n",
      " '경상남도 통영시 산양읍' '경상남도 밀양시 초동면' '경상남도 밀양시 삼랑진읍' '경상남도 밀양시 상남면'\n",
      " '경상남도 양산시 소주동' '경상남도 양산시 상북면' '경상남도 창원시마산합포구 완월동' '경상남도 창원시마산합포구 자산동'\n",
      " '경상남도 고성군 고성읍' '경상남도 창원시성산구 가음정동' '경상남도 거창군 가북면' '경상남도 창원시성산구 중앙동'\n",
      " '경상남도 합천군 쌍백면' '경상남도 창원시의창구 용지동' '경상남도 합천군 가회면' '경상남도 합천군 청덕면'\n",
      " '경상남도 창원시의창구 의창동' '경상남도 통영시 중앙동' '경상남도 밀양시 가곡동' '경상남도 밀양시 교동'\n",
      " '경상남도 통영시 용남면' '경상남도 통영시 정량동' '경상남도 합천군 가야면' '경상남도 고성군 구만면'\n",
      " '경상남도 통영시 무전동' '경상남도 밀양시 내이동' '경상남도 통영시 명정동' '경상남도 통영시 봉평동'\n",
      " '경상남도 밀양시 부북면' '경상남도 밀양시 상동면' '경상남도 밀양시 산외면' '경상남도 함양군 유림면'\n",
      " '경상남도 밀양시 청도면' '경상남도 남해군 미조면' '경상남도 함양군 병곡면' '경상남도 양산시 강서동'\n",
      " '경상남도 양산시 양주동' '경상남도 고성군 하일면' '경상남도 합천군 율곡면' '경상남도 고성군 회화면'\n",
      " '경상남도 남해군 설천면' '경상남도 고성군 마암면' '경상남도 진주시 성북동' '경상남도 진주시 충무공동'\n",
      " '경상남도 함양군 백전면' '경상남도 진주시 가호동' '경상남도 진주시 지수면' '경상남도 진주시 정촌면'\n",
      " '경상남도 고성군 영오면' '경상남도 진주시 이반성면' '경상남도 산청군 삼장면' '경상남도 진주시 금산면'\n",
      " '경상남도 진주시 미천면' '경상남도 양산시 평산동' '경상남도 진주시 신안동' '경상남도 하동군 화개면'\n",
      " '경상남도 산청군 신등면' '경상남도 하동군 금성면' '경상남도 함안군 칠원읍 용정리' '경상남도 산청군 오부면'\n",
      " '경상남도 함양군 안의면' '경상남도 함양군 서하면' '경상남도 하동군 청암면' '경상남도 남해군 상주면'\n",
      " '경상남도 산청군 생비량면' '경상남도 함양군 수동면' '경상남도 합천군 묘산면' '경상남도 통영시 욕지면 동항리'\n",
      " '경상남도 산청군 차황면' '경상남도 남해군 고현면' '경상남도 합천군 쌍책면' '경상남도 합천군 봉산면'\n",
      " '경상남도 산청군 금서면' '경상남도 창원시 마산회원구 합성동' '경상남도 산청군 시천면' '경상남도 산청군 신안면'\n",
      " '경상남도 합천군 대양면' '경상남도 고성군 하이면' '경상남도 고성군 영현면' '경상남도 고성군 개천면'\n",
      " '경상남도 함양군 서상면' '경상남도 함양군 마천면' '경상남도 함양군 휴천면' '경상남도 통영시 용남면 지도리'\n",
      " '경상남도 밀양시 내일동' '경상남도 양산시 중앙동' '경상남도 함안군 칠원읍 구성리' '경상남도 함안군 칠원읍 오곡리'\n",
      " '경상남도 함안군 칠원읍 무기리' '경상남도 함안군 칠원읍 예곡리' '경상남도 창원시 마산합포구 대성동1가'\n",
      " '경상남도 창원시 마산합포구 신흥동' '경상남도 창원시 마산합포구 장군동2가' '경상남도 창원시 진해구 안골동'\n",
      " '경상남도 남해군 창선면 당항리' '경상남도 하동군 진교면 양포리' '경상남도 함안군 칠원읍 유원리'\n",
      " '경상남도 창원시 진해구 연도동' '경상남도 창원시 마산합포구 월포동' '경상남도 창원시 마산합포구 진전면 창포리'\n",
      " '경상남도 통영시 산양읍 풍화리' '경상남도 함안군 칠원읍 용산리' nan '경상남도 함안군 칠원읍 운서리'\n",
      " '경상남도 함안군 칠원읍 운곡리' '경상남도 창녕군 이방면 송곡리' '경상남도 창원시 진해구 행암동'\n",
      " '경상남도 창원시 마산합포구 중앙동2가' '경상남도 창원시 마산합포구 장군동3가' '경상남도 하동군 금남면 대도리'\n",
      " '경상남도 창원시 마산합포구 중앙동3가' '경상남도 고성군 거류면 당동리' '경상남도 통영시 용남면 화삼리'\n",
      " '경상남도 통영시 욕지면 두미리' '경상남도 양산시 하북면 순지리' '경상남도 창원시 진해구 명동'\n",
      " '경상남도 함안군 칠원읍 장암리' '경상남도 고성군 회화면 당항리' '경상남도 통영시 산양읍 영운리'\n",
      " '경상남도 창녕군 대합면 목단리' '경상남도 거제시 장목면 시방리' '경상남도 통영시 산양읍 신전리'\n",
      " '경상남도 거제시 둔덕면 학산리' '경상남도 창원시 진해구 가주동' '경상남도 창원시 진해구 남양동'\n",
      " '경상남도 창원시 진해구 용원동' '경상남도 창원시 마산합포구 대성동2가' '경상남도 남해군 남해읍 입현리'\n",
      " '경상남도 남해군 고현면 갈화리' '경상남도 통영시 산양읍 삼덕리' '경상남도 사천시 동금동' '경상남도 남해군 이동면 석평리'\n",
      " '경상남도 통영시 도산면 오륜리' '경상남도 창원시 마산합포구 오동동'] emd_nm\n",
      "['N' 'Y'] mlt_us_yn\n",
      "[nan '일반대상물' '민박7실이하' '옥내소화전설치대상' '민박7실이상' '자동화재탐지설치대상' '11층이상'\n",
      " '연면적 15,000 이상' '기타(가설건축물분류)' '펜션7실이하' '스프링클러,물분무등설치대상' '콘테이너하우스'\n",
      " '주거용비닐하우스' '공동주택(주택법시행령제63조제1항각호1에해당)' '견본주택(모델하우스)' '임시사무실,창고,숙소' '기타'\n",
      " '펜션7실이상'] trgt_crtr\n",
      "[nan 'N'] fr_fghtng_fclt_spcl_css_5_yn\n",
      "[nan 'N'] fr_fghtng_fclt_spcl_css_6_yn\n",
      "[nan 'Y' 'N' 'T'] us_yn\n",
      "[nan 'N' 'Y'] dngrs_thng_yn\n",
      "[nan 'N'] slf_fr_brgd_yn\n",
      "[nan 'N' 'Y'] blk_dngrs_thng_mnfctr_yn\n",
      "[nan 'N' 'Y'] cltrl_hrtg_yn\n"
     ]
    }
   ],
   "source": [
    "for col in data:\n",
    "    if data[col].dtype =='object':\n",
    "        print(data[col].unique(),col)"
   ]
  },
  {
   "cell_type": "markdown",
   "metadata": {},
   "source": [
    "for col in data:\n",
    "    try:\n",
    "        if data[col].dtype !='object':\n",
    "            sns.distplot(data[col],label=col)\n",
    "            plt.show()\n",
    "    except ValueError:\n",
    "        pass\n",
    "data.info()"
   ]
  },
  {
   "cell_type": "code",
   "execution_count": null,
   "metadata": {},
   "outputs": [],
   "source": [
    "for col in data:\n",
    "    if data[col].dtype==\"object\":\n",
    "        print(data[col].describe())\n",
    "        print(\"#############################################\")"
   ]
  },
  {
   "cell_type": "code",
   "execution_count": null,
   "metadata": {},
   "outputs": [],
   "source": [
    "결측치없는칼럼=list(data.isnull().sum()[data.isnull().sum()==0].index)\n",
    "결측치있는칼럼=list(data.isnull().sum()[data.isnull().sum()!=0].index)"
   ]
  },
  {
   "cell_type": "code",
   "execution_count": null,
   "metadata": {},
   "outputs": [],
   "source": [
    "data.loc[:,data.dtypes==\"object\"]\n",
    "\n",
    "data.groupby(\"bldng_us\").count().sort_values(\"dt_of_fr\",ascending=False)"
   ]
  },
  {
   "cell_type": "code",
   "execution_count": null,
   "metadata": {},
   "outputs": [],
   "source": [
    "for col in data:\n",
    "    if data[col].dtype==\"int64\":\n",
    "        print(data[col].describe())\n",
    "        sns.distplot(data[col])\n",
    "        plt.show()\n",
    "        print(\"#############################################\")"
   ]
  },
  {
   "cell_type": "code",
   "execution_count": null,
   "metadata": {},
   "outputs": [],
   "source": []
  },
  {
   "cell_type": "code",
   "execution_count": null,
   "metadata": {},
   "outputs": [],
   "source": []
  },
  {
   "cell_type": "code",
   "execution_count": null,
   "metadata": {},
   "outputs": [],
   "source": []
  },
  {
   "cell_type": "markdown",
   "metadata": {},
   "source": [
    "## OBJECT 타입 데이터 칼럼부터 다듬기"
   ]
  },
  {
   "cell_type": "code",
   "execution_count": 8,
   "metadata": {},
   "outputs": [],
   "source": [
    "object_list=[]\n",
    "for col in data:\n",
    "    if data[col].dtype ==\"object\":\n",
    "        object_list.append(col)\n",
    "    "
   ]
  },
  {
   "cell_type": "code",
   "execution_count": 9,
   "metadata": {},
   "outputs": [],
   "source": [
    "object_data=data[object_list[:]]\n",
    "\n",
    "numeric_data=list(set(data.columns.tolist()) - set(object_list))\n",
    "numeric_data=sorted(numeric_data)"
   ]
  },
  {
   "cell_type": "code",
   "execution_count": 10,
   "metadata": {},
   "outputs": [],
   "source": [
    "object_data['dt_of_fr']=object_data['dt_of_fr'].astype('datetime64[ns]')"
   ]
  },
  {
   "cell_type": "code",
   "execution_count": 11,
   "metadata": {},
   "outputs": [],
   "source": [
    "object_data.fr_yn=object_data.fr_yn.apply(lambda x: 1 if x==\"Y\" else 0)"
   ]
  },
  {
   "cell_type": "code",
   "execution_count": 12,
   "metadata": {},
   "outputs": [
    {
     "data": {
      "text/plain": [
       "array(['단독주택', nan, '공동주택', '종교시설', '공장', '제1종근린생활시설', '숙박시설',\n",
       "       '동.식물 관련시설', '창고시설', '제2종근린생활시설', '문화및집회시설', '자동차관련시설', '업무시설',\n",
       "       '판매시설', '교육연구시설', '분뇨.쓰레기처리시설', '수련시설', '의료시설', '노유자시설', '운동시설',\n",
       "       '위락시설', '위험물저장및처리시설', '공공용시설', '교정및군사시설', '교육연구및복지시설', '장례식장',\n",
       "       '운수시설', '관광휴게시설', '근린생활시설', '시장', '방송통신시설', '묘지관련시설', '발전시설',\n",
       "       '판매및영업시설', '파출소'], dtype=object)"
      ]
     },
     "execution_count": 12,
     "metadata": {},
     "output_type": "execute_result"
    }
   ],
   "source": [
    "object_data.bldng_us.unique()"
   ]
  },
  {
   "cell_type": "code",
   "execution_count": 13,
   "metadata": {},
   "outputs": [],
   "source": [
    "object_data['주거시설YN']=object_data.bldng_us.apply(lambda x: 1 if x==\"단독주택\" else x)\n",
    "object_data['주거시설YN']=object_data.주거시설YN.apply(lambda x: 1 if x==\"공동주택\" else x)\n",
    "object_data['주거시설YN']=object_data.주거시설YN.apply(lambda x: 1 if x==1 else 0)\n",
    "\n"
   ]
  },
  {
   "cell_type": "code",
   "execution_count": 14,
   "metadata": {},
   "outputs": [],
   "source": [
    "object_data['편의시설YN']=object_data.bldng_us.apply(lambda x: 1 if x==\"제1종근린생활시설\" else x)\n",
    "\n",
    "object_data['편의시설YN']=object_data.편의시설YN.apply(lambda x: 1 if x==\"제2종근린생활시설\" else x)\n",
    "\n",
    "object_data['편의시설YN']=object_data.편의시설YN.apply(lambda x: 1 if x==\"문화및집회시설\" else x)\n",
    "\n",
    "object_data['편의시설YN']=object_data.편의시설YN.apply(lambda x: 1 if x==1 else 0)"
   ]
  },
  {
   "cell_type": "code",
   "execution_count": 15,
   "metadata": {},
   "outputs": [
    {
     "data": {
      "text/plain": [
       "bldng_us\n",
       "단독주택          20232\n",
       "제1종근린생활시설      2350\n",
       "제2종근린생활시설      2262\n",
       "창고시설           1513\n",
       "동.식물 관련시설      1467\n",
       "공장             1179\n",
       "공동주택            941\n",
       "숙박시설            262\n",
       "노유자시설           205\n",
       "교육연구시설          185\n",
       "종교시설            161\n",
       "업무시설            131\n",
       "자동차관련시설         119\n",
       "위험물저장및처리시설      115\n",
       "분뇨.쓰레기처리시설       55\n",
       "판매시설             52\n",
       "운동시설             42\n",
       "문화및집회시설          38\n",
       "위락시설             35\n",
       "근린생활시설           31\n",
       "관광휴게시설           30\n",
       "의료시설             27\n",
       "교육연구및복지시설        18\n",
       "수련시설             15\n",
       "운수시설             12\n",
       "발전시설             11\n",
       "방송통신시설           11\n",
       "묘지관련시설            9\n",
       "교정및군사시설           7\n",
       "장례식장              3\n",
       "판매및영업시설           1\n",
       "시장                1\n",
       "파출소               1\n",
       "공공용시설             1\n",
       "dtype: int64"
      ]
     },
     "execution_count": 15,
     "metadata": {},
     "output_type": "execute_result"
    }
   ],
   "source": [
    "object_data.groupby(\"bldng_us\").size().sort_values(ascending=False)"
   ]
  },
  {
   "cell_type": "code",
   "execution_count": 16,
   "metadata": {},
   "outputs": [
    {
     "data": {
      "text/plain": [
       "<matplotlib.axes._subplots.AxesSubplot at 0x246014d00c8>"
      ]
     },
     "execution_count": 16,
     "metadata": {},
     "output_type": "execute_result"
    },
    {
     "data": {
      "image/png": "[encoded data removed]",
      "text/plain": [
       "<Figure size 864x576 with 1 Axes>"
      ]
     },
     "metadata": {},
     "output_type": "display_data"
    }
   ],
   "source": [
    "# 6자리 혹은 nan 혹은 10자리임을 알 수 있음.\n",
    "sns.distplot(object_data.dt_of_athrztn.astype(str).apply(len))"
   ]
  },
  {
   "cell_type": "code",
   "execution_count": 17,
   "metadata": {},
   "outputs": [
    {
     "data": {
      "text/plain": [
       "'dssd'"
      ]
     },
     "execution_count": 17,
     "metadata": {},
     "output_type": "execute_result"
    }
   ],
   "source": [
    "'dssds'[0:4]"
   ]
  },
  {
   "cell_type": "code",
   "execution_count": 18,
   "metadata": {},
   "outputs": [],
   "source": [
    "object_data.dt_of_athrztn=object_data.dt_of_athrztn.apply(lambda x: str(x)[0:4] if len(str(x))==10 else x)"
   ]
  },
  {
   "cell_type": "code",
   "execution_count": 19,
   "metadata": {},
   "outputs": [],
   "source": [
    "object_data.dt_of_athrztn=object_data.dt_of_athrztn.apply(lambda x: str(x)[0:4] if len(str(x))==6 else x)"
   ]
  },
  {
   "cell_type": "code",
   "execution_count": 21,
   "metadata": {},
   "outputs": [],
   "source": [
    "object_data['목재구조YN']=object_data.bldng_archtctr.apply(lambda x: 1 if x==\"일반목구조\" else x)\n",
    "object_data['목재구조YN']=object_data.목재구조YN.apply(lambda x: 1 if x==\"통나무구조\" else x)\n",
    "object_data['목재구조YN']=object_data.목재구조YN.apply(lambda x: 1 if x==\"목구조\" else x)\n",
    "object_data['목재구조YN']=object_data.목재구조YN.apply(lambda x: 1 if x==1 else 0)"
   ]
  },
  {
   "cell_type": "code",
   "execution_count": 22,
   "metadata": {},
   "outputs": [],
   "source": [
    "object_data.bldng_us_clssfctn.unique()\n",
    "\n",
    "object_data.groupby(\"bldng_us_clssfctn\").size().sort_values(ascending=False)\n",
    "\n",
    "object_data['주거용YN']=object_data.bldng_us_clssfctn.apply(lambda x: 1 if x==\"주거용\" else 0)"
   ]
  },
  {
   "cell_type": "code",
   "execution_count": 25,
   "metadata": {},
   "outputs": [
    {
     "data": {
      "text/plain": [
       "array(['대', '답', '임', '종', '장', '전', '잡', '목', '도', '천', '양', '구', '과',\n",
       "       '체', '창', '학', '원', '공', '유', '수', '주', '철', '묘', '제', '차', '사'],\n",
       "      dtype=object)"
      ]
     },
     "execution_count": 25,
     "metadata": {},
     "output_type": "execute_result"
    }
   ],
   "source": [
    "object_data.jmk.unique()"
   ]
  },
  {
   "cell_type": "code",
   "execution_count": 35,
   "metadata": {},
   "outputs": [],
   "source": [
    "빌딩결측분류_인덱스=object_data.bldng_us[object_data.bldng_us_clssfctn.isna()].index"
   ]
  },
  {
   "cell_type": "code",
   "execution_count": 42,
   "metadata": {},
   "outputs": [
    {
     "data": {
      "text/plain": [
       "array(['단독주택', nan, '공동주택', '종교시설', '공장', '제1종근린생활시설', '숙박시설',\n",
       "       '동.식물 관련시설', '창고시설', '제2종근린생활시설', '문화및집회시설', '자동차관련시설', '업무시설',\n",
       "       '판매시설', '교육연구시설', '분뇨.쓰레기처리시설', '수련시설', '의료시설', '노유자시설', '운동시설',\n",
       "       '위락시설', '위험물저장및처리시설', '공공용시설', '교정및군사시설', '교육연구및복지시설', '장례식장',\n",
       "       '운수시설', '관광휴게시설', '근린생활시설', '시장', '방송통신시설', '묘지관련시설', '발전시설',\n",
       "       '판매및영업시설', '파출소'], dtype=object)"
      ]
     },
     "execution_count": 42,
     "metadata": {},
     "output_type": "execute_result"
    }
   ],
   "source": [
    "object_data.bldng_us.unique()"
   ]
  },
  {
   "cell_type": "code",
   "execution_count": 36,
   "metadata": {},
   "outputs": [
    {
     "data": {
      "text/plain": [
       "array(['주거용', nan, '상업용', '문교사회용', '공업용', '농수산용', '기타', '공공용'],\n",
       "      dtype=object)"
      ]
     },
     "execution_count": 36,
     "metadata": {},
     "output_type": "execute_result"
    }
   ],
   "source": [
    "object_data.bldng_us_clssfctn.unique()"
   ]
  },
  {
   "cell_type": "code",
   "execution_count": 44,
   "metadata": {},
   "outputs": [
    {
     "data": {
      "text/plain": [
       "bldng_us_clssfctn\n",
       "공공용         34\n",
       "공업용       1043\n",
       "기타        1899\n",
       "농수산용      1225\n",
       "문교사회용      677\n",
       "상업용       5389\n",
       "주거용      19589\n",
       "dtype: int64"
      ]
     },
     "execution_count": 44,
     "metadata": {},
     "output_type": "execute_result"
    }
   ],
   "source": [
    "object_data.groupby(\"bldng_us_clssfctn\").size()"
   ]
  },
  {
   "cell_type": "code",
   "execution_count": null,
   "metadata": {},
   "outputs": [],
   "source": []
  },
  {
   "cell_type": "code",
   "execution_count": 41,
   "metadata": {},
   "outputs": [
    {
     "data": {
      "text/plain": [
       "0        주거용\n",
       "1        NaN\n",
       "2        주거용\n",
       "3        주거용\n",
       "4        NaN\n",
       "        ... \n",
       "59194    NaN\n",
       "59195    NaN\n",
       "59196    NaN\n",
       "59197    상업용\n",
       "59198     기타\n",
       "Name: bldng_us_clssfctn, Length: 59199, dtype: object"
      ]
     },
     "execution_count": 41,
     "metadata": {},
     "output_type": "execute_result"
    }
   ],
   "source": [
    "object_data.bldng_us.apply(lambda x: \"주거용\" if x ==\"대\" else x)\n",
    "object_data.bldng_us.apply(lambda x: \"상업용\" if x ==\"대\" else x)\n",
    "object_data.bldng_us.apply(lambda x: \"주거용\" if x ==\"대\" else x)\n",
    "object_data.bldng_us.apply(lambda x: \"주거용\" if x ==\"대\" else x)\n"
   ]
  },
  {
   "cell_type": "code",
   "execution_count": 20,
   "metadata": {},
   "outputs": [
    {
     "data": {
      "text/html": [
       "<div>\n",
       "<style scoped>\n",
       "    .dataframe tbody tr th:only-of-type {\n",
       "        vertical-align: middle;\n",
       "    }\n",
       "\n",
       "    .dataframe tbody tr th {\n",
       "        vertical-align: top;\n",
       "    }\n",
       "\n",
       "    .dataframe thead th {\n",
       "        text-align: right;\n",
       "    }\n",
       "</style>\n",
       "<table border=\"1\" class=\"dataframe\">\n",
       "  <thead>\n",
       "    <tr style=\"text-align: right;\">\n",
       "      <th></th>\n",
       "      <th>dt_of_fr</th>\n",
       "      <th>fr_yn</th>\n",
       "      <th>bldng_us</th>\n",
       "      <th>bldng_archtctr</th>\n",
       "      <th>dt_of_athrztn</th>\n",
       "      <th>bldng_us_clssfctn</th>\n",
       "      <th>jmk</th>\n",
       "      <th>rgnl_ar_nm</th>\n",
       "      <th>rgnl_ar_nm2</th>\n",
       "      <th>lnd_us_sttn_nm</th>\n",
       "      <th>rd_sd_nm</th>\n",
       "      <th>emd_nm</th>\n",
       "      <th>mlt_us_yn</th>\n",
       "      <th>trgt_crtr</th>\n",
       "      <th>fr_fghtng_fclt_spcl_css_5_yn</th>\n",
       "      <th>fr_fghtng_fclt_spcl_css_6_yn</th>\n",
       "      <th>us_yn</th>\n",
       "      <th>dngrs_thng_yn</th>\n",
       "      <th>slf_fr_brgd_yn</th>\n",
       "      <th>blk_dngrs_thng_mnfctr_yn</th>\n",
       "      <th>cltrl_hrtg_yn</th>\n",
       "      <th>주거시설YN</th>\n",
       "      <th>편의시설YN</th>\n",
       "    </tr>\n",
       "  </thead>\n",
       "  <tbody>\n",
       "    <tr>\n",
       "      <td>27478</td>\n",
       "      <td>2018-03-30 23:07:00</td>\n",
       "      <td>0</td>\n",
       "      <td>제1종근린생활시설</td>\n",
       "      <td>철근콘크리트구조</td>\n",
       "      <td>1992</td>\n",
       "      <td>상업용</td>\n",
       "      <td>대</td>\n",
       "      <td>제2종일반주거지역</td>\n",
       "      <td>지정되지않음</td>\n",
       "      <td>주상기타</td>\n",
       "      <td>세로각지(가)</td>\n",
       "      <td>경상남도 진주시 초장동</td>\n",
       "      <td>N</td>\n",
       "      <td>NaN</td>\n",
       "      <td>NaN</td>\n",
       "      <td>NaN</td>\n",
       "      <td>NaN</td>\n",
       "      <td>NaN</td>\n",
       "      <td>NaN</td>\n",
       "      <td>NaN</td>\n",
       "      <td>NaN</td>\n",
       "      <td>0</td>\n",
       "      <td>1</td>\n",
       "    </tr>\n",
       "    <tr>\n",
       "      <td>31451</td>\n",
       "      <td>2015-07-30 18:47:00</td>\n",
       "      <td>0</td>\n",
       "      <td>NaN</td>\n",
       "      <td>NaN</td>\n",
       "      <td>NaN</td>\n",
       "      <td>NaN</td>\n",
       "      <td>대</td>\n",
       "      <td>계획관리지역</td>\n",
       "      <td>지정되지않음</td>\n",
       "      <td>단독</td>\n",
       "      <td>세로한면(가)</td>\n",
       "      <td>경상남도 의령군 봉수면</td>\n",
       "      <td>N</td>\n",
       "      <td>NaN</td>\n",
       "      <td>NaN</td>\n",
       "      <td>NaN</td>\n",
       "      <td>NaN</td>\n",
       "      <td>NaN</td>\n",
       "      <td>NaN</td>\n",
       "      <td>NaN</td>\n",
       "      <td>NaN</td>\n",
       "      <td>0</td>\n",
       "      <td>0</td>\n",
       "    </tr>\n",
       "    <tr>\n",
       "      <td>25928</td>\n",
       "      <td>2015-01-16 07:39:00</td>\n",
       "      <td>0</td>\n",
       "      <td>NaN</td>\n",
       "      <td>NaN</td>\n",
       "      <td>NaN</td>\n",
       "      <td>NaN</td>\n",
       "      <td>대</td>\n",
       "      <td>일반상업지역</td>\n",
       "      <td>지정되지않음</td>\n",
       "      <td>단독</td>\n",
       "      <td>세로한면(불)</td>\n",
       "      <td>경상남도 창원시마산합포구 오동동</td>\n",
       "      <td>N</td>\n",
       "      <td>NaN</td>\n",
       "      <td>NaN</td>\n",
       "      <td>NaN</td>\n",
       "      <td>NaN</td>\n",
       "      <td>NaN</td>\n",
       "      <td>NaN</td>\n",
       "      <td>NaN</td>\n",
       "      <td>NaN</td>\n",
       "      <td>0</td>\n",
       "      <td>0</td>\n",
       "    </tr>\n",
       "    <tr>\n",
       "      <td>39454</td>\n",
       "      <td>2014-04-27 20:14:00</td>\n",
       "      <td>0</td>\n",
       "      <td>NaN</td>\n",
       "      <td>NaN</td>\n",
       "      <td>NaN</td>\n",
       "      <td>NaN</td>\n",
       "      <td>대</td>\n",
       "      <td>계획관리지역</td>\n",
       "      <td>지정되지않음</td>\n",
       "      <td>단독</td>\n",
       "      <td>세로한면(불)</td>\n",
       "      <td>경상남도 진주시 수곡면</td>\n",
       "      <td>N</td>\n",
       "      <td>NaN</td>\n",
       "      <td>NaN</td>\n",
       "      <td>NaN</td>\n",
       "      <td>NaN</td>\n",
       "      <td>NaN</td>\n",
       "      <td>NaN</td>\n",
       "      <td>NaN</td>\n",
       "      <td>NaN</td>\n",
       "      <td>0</td>\n",
       "      <td>0</td>\n",
       "    </tr>\n",
       "    <tr>\n",
       "      <td>3485</td>\n",
       "      <td>2015-04-11 04:19:00</td>\n",
       "      <td>0</td>\n",
       "      <td>단독주택</td>\n",
       "      <td>벽돌구조</td>\n",
       "      <td>1996</td>\n",
       "      <td>주거용</td>\n",
       "      <td>대</td>\n",
       "      <td>계획관리지역</td>\n",
       "      <td>지정되지않음</td>\n",
       "      <td>단독</td>\n",
       "      <td>세로각지(가)</td>\n",
       "      <td>경상남도 남해군 창선면</td>\n",
       "      <td>N</td>\n",
       "      <td>NaN</td>\n",
       "      <td>NaN</td>\n",
       "      <td>NaN</td>\n",
       "      <td>NaN</td>\n",
       "      <td>NaN</td>\n",
       "      <td>NaN</td>\n",
       "      <td>NaN</td>\n",
       "      <td>NaN</td>\n",
       "      <td>1</td>\n",
       "      <td>0</td>\n",
       "    </tr>\n",
       "    <tr>\n",
       "      <td>35435</td>\n",
       "      <td>2016-03-24 19:46:00</td>\n",
       "      <td>1</td>\n",
       "      <td>단독주택</td>\n",
       "      <td>경량철골구조</td>\n",
       "      <td>1996</td>\n",
       "      <td>주거용</td>\n",
       "      <td>전</td>\n",
       "      <td>농림지역</td>\n",
       "      <td>지정되지않음</td>\n",
       "      <td>전</td>\n",
       "      <td>세로한면(가)</td>\n",
       "      <td>경상남도 함양군 함양읍</td>\n",
       "      <td>N</td>\n",
       "      <td>NaN</td>\n",
       "      <td>NaN</td>\n",
       "      <td>NaN</td>\n",
       "      <td>NaN</td>\n",
       "      <td>NaN</td>\n",
       "      <td>NaN</td>\n",
       "      <td>NaN</td>\n",
       "      <td>NaN</td>\n",
       "      <td>1</td>\n",
       "      <td>0</td>\n",
       "    </tr>\n",
       "    <tr>\n",
       "      <td>27276</td>\n",
       "      <td>2016-01-14 10:37:00</td>\n",
       "      <td>0</td>\n",
       "      <td>단독주택</td>\n",
       "      <td>벽돌구조</td>\n",
       "      <td>1990</td>\n",
       "      <td>주거용</td>\n",
       "      <td>대</td>\n",
       "      <td>일반상업지역</td>\n",
       "      <td>지정되지않음</td>\n",
       "      <td>단독</td>\n",
       "      <td>세로한면(불)</td>\n",
       "      <td>경상남도 진주시 성북동</td>\n",
       "      <td>N</td>\n",
       "      <td>NaN</td>\n",
       "      <td>NaN</td>\n",
       "      <td>NaN</td>\n",
       "      <td>NaN</td>\n",
       "      <td>NaN</td>\n",
       "      <td>NaN</td>\n",
       "      <td>NaN</td>\n",
       "      <td>NaN</td>\n",
       "      <td>1</td>\n",
       "      <td>0</td>\n",
       "    </tr>\n",
       "    <tr>\n",
       "      <td>24544</td>\n",
       "      <td>2017-02-18 18:03:00</td>\n",
       "      <td>0</td>\n",
       "      <td>단독주택</td>\n",
       "      <td>일반목구조</td>\n",
       "      <td>1951</td>\n",
       "      <td>NaN</td>\n",
       "      <td>대</td>\n",
       "      <td>계획관리지역</td>\n",
       "      <td>지정되지않음</td>\n",
       "      <td>단독</td>\n",
       "      <td>세로한면(가)</td>\n",
       "      <td>경상남도 창녕군 창녕읍</td>\n",
       "      <td>N</td>\n",
       "      <td>NaN</td>\n",
       "      <td>NaN</td>\n",
       "      <td>NaN</td>\n",
       "      <td>NaN</td>\n",
       "      <td>NaN</td>\n",
       "      <td>NaN</td>\n",
       "      <td>NaN</td>\n",
       "      <td>NaN</td>\n",
       "      <td>1</td>\n",
       "      <td>0</td>\n",
       "    </tr>\n",
       "    <tr>\n",
       "      <td>51873</td>\n",
       "      <td>2015-06-18 10:41:00</td>\n",
       "      <td>0</td>\n",
       "      <td>단독주택</td>\n",
       "      <td>일반목구조</td>\n",
       "      <td>2005</td>\n",
       "      <td>주거용</td>\n",
       "      <td>대</td>\n",
       "      <td>계획관리지역</td>\n",
       "      <td>지정되지않음</td>\n",
       "      <td>주거기타</td>\n",
       "      <td>세로한면(가)</td>\n",
       "      <td>경상남도 거제시 일운면</td>\n",
       "      <td>N</td>\n",
       "      <td>펜션7실이하</td>\n",
       "      <td>N</td>\n",
       "      <td>N</td>\n",
       "      <td>N</td>\n",
       "      <td>N</td>\n",
       "      <td>N</td>\n",
       "      <td>N</td>\n",
       "      <td>N</td>\n",
       "      <td>1</td>\n",
       "      <td>0</td>\n",
       "    </tr>\n",
       "    <tr>\n",
       "      <td>38371</td>\n",
       "      <td>2018-12-29 04:35:00</td>\n",
       "      <td>0</td>\n",
       "      <td>NaN</td>\n",
       "      <td>NaN</td>\n",
       "      <td>NaN</td>\n",
       "      <td>NaN</td>\n",
       "      <td>대</td>\n",
       "      <td>계획관리지역</td>\n",
       "      <td>지정되지않음</td>\n",
       "      <td>단독</td>\n",
       "      <td>세로각지(가)</td>\n",
       "      <td>경상남도 남해군 삼동면</td>\n",
       "      <td>N</td>\n",
       "      <td>NaN</td>\n",
       "      <td>NaN</td>\n",
       "      <td>NaN</td>\n",
       "      <td>NaN</td>\n",
       "      <td>NaN</td>\n",
       "      <td>NaN</td>\n",
       "      <td>NaN</td>\n",
       "      <td>NaN</td>\n",
       "      <td>0</td>\n",
       "      <td>0</td>\n",
       "    </tr>\n",
       "  </tbody>\n",
       "</table>\n",
       "</div>"
      ],
      "text/plain": [
       "                 dt_of_fr  fr_yn   bldng_us bldng_archtctr dt_of_athrztn bldng_us_clssfctn jmk rgnl_ar_nm rgnl_ar_nm2 lnd_us_sttn_nm rd_sd_nm             emd_nm mlt_us_yn trgt_crtr fr_fghtng_fclt_spcl_css_5_yn fr_fghtng_fclt_spcl_css_6_yn us_yn dngrs_thng_yn slf_fr_brgd_yn blk_dngrs_thng_mnfctr_yn cltrl_hrtg_yn  주거시설YN  편의시설YN\n",
       "27478 2018-03-30 23:07:00      0  제1종근린생활시설       철근콘크리트구조          1992               상업용   대  제2종일반주거지역      지정되지않음           주상기타  세로각지(가)       경상남도 진주시 초장동         N       NaN                          NaN                          NaN   NaN           NaN            NaN                      NaN           NaN       0       1\n",
       "31451 2015-07-30 18:47:00      0        NaN            NaN           NaN               NaN   대     계획관리지역      지정되지않음             단독  세로한면(가)       경상남도 의령군 봉수면         N       NaN                          NaN                          NaN   NaN           NaN            NaN                      NaN           NaN       0       0\n",
       "25928 2015-01-16 07:39:00      0        NaN            NaN           NaN               NaN   대     일반상업지역      지정되지않음             단독  세로한면(불)  경상남도 창원시마산합포구 오동동         N       NaN                          NaN                          NaN   NaN           NaN            NaN                      NaN           NaN       0       0\n",
       "39454 2014-04-27 20:14:00      0        NaN            NaN           NaN               NaN   대     계획관리지역      지정되지않음             단독  세로한면(불)       경상남도 진주시 수곡면         N       NaN                          NaN                          NaN   NaN           NaN            NaN                      NaN           NaN       0       0\n",
       "3485  2015-04-11 04:19:00      0       단독주택           벽돌구조          1996               주거용   대     계획관리지역      지정되지않음             단독  세로각지(가)       경상남도 남해군 창선면         N       NaN                          NaN                          NaN   NaN           NaN            NaN                      NaN           NaN       1       0\n",
       "35435 2016-03-24 19:46:00      1       단독주택         경량철골구조          1996               주거용   전       농림지역      지정되지않음              전  세로한면(가)       경상남도 함양군 함양읍         N       NaN                          NaN                          NaN   NaN           NaN            NaN                      NaN           NaN       1       0\n",
       "27276 2016-01-14 10:37:00      0       단독주택           벽돌구조          1990               주거용   대     일반상업지역      지정되지않음             단독  세로한면(불)       경상남도 진주시 성북동         N       NaN                          NaN                          NaN   NaN           NaN            NaN                      NaN           NaN       1       0\n",
       "24544 2017-02-18 18:03:00      0       단독주택          일반목구조          1951               NaN   대     계획관리지역      지정되지않음             단독  세로한면(가)       경상남도 창녕군 창녕읍         N       NaN                          NaN                          NaN   NaN           NaN            NaN                      NaN           NaN       1       0\n",
       "51873 2015-06-18 10:41:00      0       단독주택          일반목구조          2005               주거용   대     계획관리지역      지정되지않음           주거기타  세로한면(가)       경상남도 거제시 일운면         N    펜션7실이하                            N                            N     N             N              N                        N             N       1       0\n",
       "38371 2018-12-29 04:35:00      0        NaN            NaN           NaN               NaN   대     계획관리지역      지정되지않음             단독  세로각지(가)       경상남도 남해군 삼동면         N       NaN                          NaN                          NaN   NaN           NaN            NaN                      NaN           NaN       0       0"
      ]
     },
     "execution_count": 20,
     "metadata": {},
     "output_type": "execute_result"
    }
   ],
   "source": [
    "object_data.sample(10)"
   ]
  },
  {
   "cell_type": "code",
   "execution_count": null,
   "metadata": {},
   "outputs": [],
   "source": []
  }
 ],
 "metadata": {
  "kernelspec": {
   "display_name": "Python 3",
   "language": "python",
   "name": "python3"
  },
  "language_info": {
   "codemirror_mode": {
    "name": "ipython",
    "version": 3
   },
   "file_extension": ".py",
   "mimetype": "text/x-python",
   "name": "python",
   "nbconvert_exporter": "python",
   "pygments_lexer": "ipython3",
   "version": "3.7.4"
  }
 },
 "nbformat": 4,
 "nbformat_minor": 4
}
