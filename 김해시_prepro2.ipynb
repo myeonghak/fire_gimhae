{
 "cells": [
  {
   "cell_type": "code",
   "execution_count": 1,
   "metadata": {},
   "outputs": [],
   "source": [
    "import os\n",
    "import pandas as pd\n",
    "import numpy as np\n",
    "import sklearn as sk\n",
    "import warnings\n",
    "import itertools as IT\n",
    "import glob\n",
    "import datetime as dt\n",
    "import time\n",
    "import sys"
   ]
  },
  {
   "cell_type": "code",
   "execution_count": 2,
   "metadata": {},
   "outputs": [],
   "source": [
    "from dateutil.relativedelta import relativedelta\n",
    "\n",
    "# from xgboost import plot_importance\n",
    "from sklearn.model_selection import cross_val_score,KFold\n",
    "from sklearn.metrics import mean_absolute_error\n",
    "from sklearn.model_selection import GridSearchCV   #Perforing grid search\n",
    "from sklearn.model_selection import KFold, StratifiedKFold\n",
    "from sklearn.model_selection import train_test_split\n",
    "from sklearn.model_selection import StratifiedShuffleSplit\n",
    "from sklearn.preprocessing import RobustScaler\n",
    "\n",
    "\n",
    "# #Common Model Algorithms\n",
    "# from sklearn import svm, tree, linear_model, neighbors, naive_bayes, ensemble, discriminant_analysis, gaussian_process\n",
    "# import xgboost\n",
    "\n",
    "#Common Model Helpers\n",
    "from sklearn.preprocessing import OneHotEncoder, LabelEncoder\n",
    "from sklearn import feature_selection\n",
    "from sklearn import model_selection\n",
    "from sklearn import metrics\n",
    "\n",
    "#Visualization\n",
    "import matplotlib as mpl\n",
    "import matplotlib.pyplot as plt\n",
    "import matplotlib.pylab as pylab\n",
    "import seaborn as sns\n",
    "from pandas.plotting import scatter_matrix\n",
    "\n",
    "%matplotlib inline\n",
    "mpl.style.use('ggplot')\n",
    "sns.set_style('white')\n",
    "pylab.rcParams['figure.figsize'] = 12,8\n",
    "warnings.filterwarnings('ignore')\n",
    "\n",
    "pd.set_option('display.max_rows',100)\n",
    "pd.set_option('display.max_columns',500)\n",
    "pd.set_option('display.width',500)\n",
    "pd.set_option('max_info_columns',500)\n",
    "pd.set_option('display.float_format', lambda x : '%.3f' % x )\n",
    "\n",
    "from sklearn.linear_model import LogisticRegression\n",
    "from sklearn.svm import SVC\n",
    "from sklearn.neighbors import KNeighborsClassifier\n",
    "from sklearn.tree import DecisionTreeClassifier\n",
    "from sklearn.ensemble import RandomForestClassifier\n",
    "import collections\n",
    "# Other Libraries\n",
    "from sklearn.model_selection import train_test_split\n",
    "from sklearn.pipeline import make_pipeline\n",
    "#from imblearn.pipeline import make_pipeline as imbalanced_make_pipeline\n",
    "#from imblearn.over_sampling import SMOTE\n",
    "#from imblearn.under_sampling import NearMiss\n",
    "#from imblearn.metrics import classification_report_imbalanced\n",
    "from sklearn.metrics import precision_score, recall_score, f1_score, roc_auc_score, accuracy_score, classification_report\n",
    "from collections import Counter\n",
    "from sklearn.model_selection import KFold, StratifiedKFold\n",
    "\n",
    "\n",
    "from sklearn.manifold import TSNE\n",
    "from sklearn.decomposition import PCA, TruncatedSVD"
   ]
  },
  {
   "cell_type": "code",
   "execution_count": 3,
   "metadata": {},
   "outputs": [],
   "source": [
    "from sklearn.linear_model import LogisticRegression\n",
    "from sklearn.svm import SVC\n",
    "from sklearn.neighbors import KNeighborsClassifier\n",
    "from sklearn.tree import DecisionTreeClassifier\n",
    "from sklearn.ensemble import RandomForestClassifier\n",
    "import collections\n",
    "# Other Libraries\n",
    "from sklearn.model_selection import train_test_split\n",
    "from sklearn.pipeline import make_pipeline\n",
    "from imblearn.pipeline import make_pipeline as imbalanced_make_pipeline\n",
    "from imblearn.over_sampling import SMOTE\n",
    "from imblearn.under_sampling import NearMiss\n",
    "from imblearn.metrics import classification_report_imbalanced\n",
    "from sklearn.metrics import precision_score, recall_score, f1_score, roc_auc_score, accuracy_score, classification_report\n",
    "from collections import Counter\n",
    "from sklearn.model_selection import KFold, StratifiedKFold\n",
    "\n",
    "# Our data is already scaled we should split our training and test sets\n",
    "from sklearn.model_selection import train_test_split\n",
    "\n",
    "from sklearn.manifold import TSNE\n",
    "from sklearn.decomposition import PCA, TruncatedSVD\n",
    "\n",
    "# Use GridSearchCV to find the best parameters.\n",
    "from sklearn.model_selection import GridSearchCV\n",
    "import xgboost\n",
    "from sklearn.model_selection import cross_val_score\n",
    "\n"
   ]
  },
  {
   "cell_type": "code",
   "execution_count": 4,
   "metadata": {},
   "outputs": [
    {
     "name": "stdout",
     "output_type": "stream",
     "text": [
      "NON FIRE 87.07 % of the dataset\n",
      "FIRE 12.93 % of the dataset\n"
     ]
    }
   ],
   "source": [
    "data=pd.read_csv(\"PJT002_train.csv\",encoding=\"UTF-8-sig\")\n",
    "\n",
    "data.shape\n",
    "\n",
    "print('NON FIRE', round(data['fr_yn'].value_counts()[0]/len(data) * 100,2), '% of the dataset')\n",
    "print('FIRE', round(data['fr_yn'].value_counts()[1]/len(data) * 100,2), '% of the dataset')"
   ]
  },
  {
   "cell_type": "markdown",
   "metadata": {},
   "source": [
    "X = data.drop('fr_yn', axis=1)\n",
    "y = data['fr_yn']\n",
    "sss = StratifiedKFold(n_splits=5, random_state=None, shuffle=False)\n",
    "\n",
    "for train_index, test_index in sss.split(X, y):\n",
    "    print(\"Train:\", train_index, \"Test:\", test_index)\n",
    "    original_Xtrain, original_Xtest = X.iloc[train_index], X.iloc[test_index]\n",
    "    original_ytrain, original_ytest = y.iloc[train_index], y.iloc[test_index]"
   ]
  },
  {
   "cell_type": "markdown",
   "metadata": {},
   "source": [
    "# We already have X_train and y_train for undersample data thats why I am using original to distinguish and to not overwrite these variables.\n",
    "# original_Xtrain, original_Xtest, original_ytrain, original_ytest = train_test_split(X, y, test_size=0.2, random_state=42)\n",
    "\n",
    "# Check the Distribution of the labels\n",
    "\n",
    "\n",
    "# Turn into an array\n",
    "original_Xtrain = original_Xtrain.values\n",
    "original_Xtest = original_Xtest.values\n",
    "original_ytrain = original_ytrain.values\n",
    "original_ytest = original_ytest.values\n",
    "\n",
    "# See if both the train and test label distribution are similarly distributed\n",
    "train_unique_label, train_counts_label = np.unique(original_ytrain, return_counts=True)\n",
    "test_unique_label, test_counts_label = np.unique(original_ytest, return_counts=True)\n",
    "print('-' * 100)\n",
    "\n",
    "print('Label Distributions: \\n')\n",
    "print(train_counts_label/ len(original_ytrain))\n",
    "print(test_counts_label/ len(original_ytest))"
   ]
  },
  {
   "cell_type": "code",
   "execution_count": 172,
   "metadata": {},
   "outputs": [
    {
     "data": {
      "text/plain": [
       "dt_of_fr                        0\n",
       "fr_yn                           0\n",
       "bldng_us                    27677\n",
       "bldng_archtctr              27665\n",
       "bldng_cnt                       0\n",
       "                            ...  \n",
       "us_yn                       49447\n",
       "dngrs_thng_yn               49447\n",
       "slf_fr_brgd_yn              49447\n",
       "blk_dngrs_thng_mnfctr_yn    49447\n",
       "cltrl_hrtg_yn               49447\n",
       "Length: 180, dtype: int64"
      ]
     },
     "execution_count": 172,
     "metadata": {},
     "output_type": "execute_result"
    }
   ],
   "source": [
    "data.isnull().sum()"
   ]
  },
  {
   "cell_type": "markdown",
   "metadata": {},
   "source": [
    "# 오브젝트 먼저 전처리"
   ]
  },
  {
   "cell_type": "code",
   "execution_count": 5,
   "metadata": {},
   "outputs": [],
   "source": [
    "data.iloc[:,2].dtype=='O'\n",
    "\n",
    "object_list=[]\n",
    "for col in data:\n",
    "    if data[col].dtype ==\"object\":\n",
    "        object_list.append(col)"
   ]
  },
  {
   "cell_type": "code",
   "execution_count": 6,
   "metadata": {},
   "outputs": [],
   "source": [
    "# 수치형 데이터 따로 정리\n",
    "\n",
    "object_data=data[object_list[:]]\n",
    "\n",
    "numeric_list=list(set(data.columns.tolist()) - set(object_list))\n",
    "numeric_list=sorted(numeric_list)\n",
    "numeric_data=data[numeric_list[:]]\n",
    "\n",
    "\n",
    "# 화재 발생 시기 데이터 타입 변경\n",
    "object_data['dt_of_fr']=object_data['dt_of_fr'].astype('datetime64[ns]')"
   ]
  },
  {
   "cell_type": "markdown",
   "metadata": {},
   "source": [
    "### bldng_us(사용용도)"
   ]
  },
  {
   "cell_type": "code",
   "execution_count": 7,
   "metadata": {},
   "outputs": [],
   "source": [
    "object_data[\"주거용YN\"]=object_data.lnd_us_sttn_nm.apply(lambda x: 1 if x ==\"단독\" else x)\n",
    "object_data[\"주거용YN\"]=object_data.주거용YN.apply(lambda x: 1 if x ==\"연립\" else x)\n",
    "object_data[\"주거용YN\"]=object_data.주거용YN.apply(lambda x: 1 if x ==\"아파트\" else x)\n",
    "object_data[\"주거용YN\"]=object_data.주거용YN.apply(lambda x: 1 if x ==\"다세대\" else x)\n",
    "object_data[\"주거용YN\"]=object_data.주거용YN.apply(lambda x: 1 if x ==\"주거기타\" else x)\n",
    "object_data['주거용YN']=object_data.주거용YN.apply(lambda x: 1 if x==1 else 0)\n"
   ]
  },
  {
   "cell_type": "code",
   "execution_count": 8,
   "metadata": {},
   "outputs": [],
   "source": [
    "object_data[\"공업용YN\"]=object_data.lnd_us_sttn_nm.apply(lambda x: 1 if x ==\"공업용\" else x)\n",
    "object_data[\"공업용YN\"]=object_data.공업용YN.apply(lambda x: 1 if x ==\"공업기타\" else x)\n",
    "object_data[\"공업용YN\"]=object_data.공업용YN.apply(lambda x: 1 if x ==\"발전소\" else x)\n",
    "object_data[\"공업용YN\"]=object_data.공업용YN.apply(lambda x: 1 if x ==\"유해.혐오시설\" else x)\n",
    "object_data[\"공업용YN\"]=object_data.공업용YN.apply(lambda x: 1 if x ==\"공업나지\" else x)\n",
    "object_data['공업용YN']=object_data.공업용YN.apply(lambda x: 1 if x==1 else 0)\n"
   ]
  },
  {
   "cell_type": "code",
   "execution_count": 9,
   "metadata": {},
   "outputs": [],
   "source": [
    "object_data[\"농업용YN\"]=object_data.lnd_us_sttn_nm.apply(lambda x: 1 if x ==\"자연림\" else x)\n",
    "object_data[\"농업용YN\"]=object_data.농업용YN.apply(lambda x: 1 if x ==\"답\" else x)\n",
    "object_data[\"농업용YN\"]=object_data.농업용YN.apply(lambda x: 1 if x ==\"전\" else x)\n",
    "object_data[\"농업용YN\"]=object_data.농업용YN.apply(lambda x: 1 if x ==\"조림\" else x)\n",
    "object_data[\"농업용YN\"]=object_data.농업용YN.apply(lambda x: 1 if x ==\"답기타\" else x)\n",
    "object_data[\"농업용YN\"]=object_data.농업용YN.apply(lambda x: 1 if x ==\"과수원\" else x)\n",
    "object_data[\"농업용YN\"]=object_data.농업용YN.apply(lambda x: 1 if x ==\"토지임야\" else x)\n",
    "object_data[\"농업용YN\"]=object_data.농업용YN.apply(lambda x: 1 if x ==\"임야기타\" else x)\n",
    "object_data[\"농업용YN\"]=object_data.농업용YN.apply(lambda x: 1 if x ==\"목장용지\" else x)\n",
    "object_data['농업용YN']=object_data.농업용YN.apply(lambda x: 1 if x==1 else 0)\n"
   ]
  },
  {
   "cell_type": "code",
   "execution_count": null,
   "metadata": {},
   "outputs": [],
   "source": []
  },
  {
   "cell_type": "code",
   "execution_count": 10,
   "metadata": {},
   "outputs": [
    {
     "ename": "NameError",
     "evalue": "name '사용현황_널값' is not defined",
     "output_type": "error",
     "traceback": [
      "\u001b[1;31m---------------------------------------------------------------------------\u001b[0m",
      "\u001b[1;31mNameError\u001b[0m                                 Traceback (most recent call last)",
      "\u001b[1;32m<ipython-input-10-8bf31d06c409>\u001b[0m in \u001b[0;36m<module>\u001b[1;34m\u001b[0m\n\u001b[1;32m----> 1\u001b[1;33m \u001b[0m사용현황_널값\u001b[0m\u001b[1;33m[\u001b[0m\u001b[1;34m\"lnd_us_sttn_nm\"\u001b[0m\u001b[1;33m]\u001b[0m\u001b[1;33m=\u001b[0m\u001b[0m사용현황_널값\u001b[0m\u001b[1;33m.\u001b[0m\u001b[0mjmk\u001b[0m\u001b[1;33m.\u001b[0m\u001b[0mapply\u001b[0m\u001b[1;33m(\u001b[0m\u001b[1;32mlambda\u001b[0m \u001b[0mx\u001b[0m\u001b[1;33m:\u001b[0m \u001b[1;34m\"단독\"\u001b[0m \u001b[1;32mif\u001b[0m \u001b[0mx\u001b[0m \u001b[1;33m==\u001b[0m\u001b[1;34m\"대\"\u001b[0m \u001b[1;32melse\u001b[0m \u001b[0mx\u001b[0m\u001b[1;33m)\u001b[0m\u001b[1;33m\u001b[0m\u001b[1;33m\u001b[0m\u001b[0m\n\u001b[0m",
      "\u001b[1;31mNameError\u001b[0m: name '사용현황_널값' is not defined"
     ]
    }
   ],
   "source": [
    "사용현황_널값[\"lnd_us_sttn_nm\"]=사용현황_널값.jmk.apply(lambda x: \"단독\" if x ==\"대\" else x)"
   ]
  },
  {
   "cell_type": "code",
   "execution_count": null,
   "metadata": {},
   "outputs": [],
   "source": [
    "사용현황_널값[\"lnd_us_sttn_nm\"]=사용현황_널값.lnd_us_sttn_nm.apply(lambda x: \"주거기타\" if x ==\"창\" else x)"
   ]
  },
  {
   "cell_type": "code",
   "execution_count": 11,
   "metadata": {},
   "outputs": [
    {
     "ename": "NameError",
     "evalue": "name '사용현황_널값' is not defined",
     "output_type": "error",
     "traceback": [
      "\u001b[1;31m---------------------------------------------------------------------------\u001b[0m",
      "\u001b[1;31mNameError\u001b[0m                                 Traceback (most recent call last)",
      "\u001b[1;32m<ipython-input-11-db59ade74ca5>\u001b[0m in \u001b[0;36m<module>\u001b[1;34m\u001b[0m\n\u001b[1;32m----> 1\u001b[1;33m \u001b[0m사용현황_널값\u001b[0m\u001b[1;33m[\u001b[0m\u001b[1;34m\"lnd_us_sttn_nm\"\u001b[0m\u001b[1;33m]\u001b[0m\u001b[1;33m=\u001b[0m\u001b[0m사용현황_널값\u001b[0m\u001b[1;33m.\u001b[0m\u001b[0mlnd_us_sttn_nm\u001b[0m\u001b[1;33m.\u001b[0m\u001b[0mapply\u001b[0m\u001b[1;33m(\u001b[0m\u001b[1;32mlambda\u001b[0m \u001b[0mx\u001b[0m\u001b[1;33m:\u001b[0m \u001b[1;34m\"상업용\"\u001b[0m \u001b[1;32mif\u001b[0m \u001b[0mx\u001b[0m \u001b[1;33m==\u001b[0m\u001b[1;34m\"잡\"\u001b[0m \u001b[1;32melse\u001b[0m \u001b[0mx\u001b[0m\u001b[1;33m)\u001b[0m\u001b[1;33m\u001b[0m\u001b[1;33m\u001b[0m\u001b[0m\n\u001b[0m",
      "\u001b[1;31mNameError\u001b[0m: name '사용현황_널값' is not defined"
     ]
    }
   ],
   "source": [
    "사용현황_널값[\"lnd_us_sttn_nm\"]=사용현황_널값.lnd_us_sttn_nm.apply(lambda x: \"상업용\" if x ==\"잡\" else x)\n"
   ]
  },
  {
   "cell_type": "code",
   "execution_count": 230,
   "metadata": {},
   "outputs": [],
   "source": [
    "사용현황_널값[\"lnd_us_sttn_nm\"]=사용현황_널값.lnd_us_sttn_nm.apply(lambda x: \"공업용\" if x ==\"장\" else x)"
   ]
  },
  {
   "cell_type": "code",
   "execution_count": 231,
   "metadata": {},
   "outputs": [],
   "source": [
    "사용현황_널값[\"lnd_us_sttn_nm\"]=사용현황_널값.lnd_us_sttn_nm.apply(lambda x: \"주거나지\" if x ==\"창\" else x)"
   ]
  },
  {
   "cell_type": "code",
   "execution_count": 236,
   "metadata": {},
   "outputs": [
    {
     "data": {
      "text/plain": [
       "90          답\n",
       "106         도\n",
       "184         천\n",
       "247         구\n",
       "328         도\n",
       "         ... \n",
       "58962       목\n",
       "58987       목\n",
       "59001       목\n",
       "59107    주거기타\n",
       "59176       목\n",
       "Name: lnd_us_sttn_nm, Length: 1776, dtype: object"
      ]
     },
     "execution_count": 236,
     "metadata": {},
     "output_type": "execute_result"
    }
   ],
   "source": [
    "사용현황_널값[\"lnd_us_sttn_nm\"]"
   ]
  },
  {
   "cell_type": "code",
   "execution_count": 264,
   "metadata": {},
   "outputs": [],
   "source": [
    "object_data[object_data.lnd_us_sttn_nm.isnull()][\"lnd_us_sttn_nm\"].fillna(0,inplace=True)"
   ]
  },
  {
   "cell_type": "code",
   "execution_count": 271,
   "metadata": {},
   "outputs": [
    {
     "data": {
      "text/plain": [
       "90       NaN\n",
       "106      NaN\n",
       "184      NaN\n",
       "247      NaN\n",
       "328      NaN\n",
       "        ... \n",
       "58962    NaN\n",
       "58987    NaN\n",
       "59001    NaN\n",
       "59107    NaN\n",
       "59176    NaN\n",
       "Name: lnd_us_sttn_nm, Length: 1776, dtype: object"
      ]
     },
     "execution_count": 271,
     "metadata": {},
     "output_type": "execute_result"
    }
   ],
   "source": [
    "object_data[object_data.lnd_us_sttn_nm.isnull()][\"lnd_us_sttn_nm\"]"
   ]
  },
  {
   "cell_type": "code",
   "execution_count": 295,
   "metadata": {
    "collapsed": true,
    "jupyter": {
     "outputs_hidden": true
    }
   },
   "outputs": [
    {
     "ename": "TypeError",
     "evalue": "'Series' object is not callable",
     "output_type": "error",
     "traceback": [
      "\u001b[1;31m---------------------------------------------------------------------------\u001b[0m",
      "\u001b[1;31mTypeError\u001b[0m                                 Traceback (most recent call last)",
      "\u001b[1;32m<ipython-input-295-62c1deacd1a3>\u001b[0m in \u001b[0;36m<module>\u001b[1;34m\u001b[0m\n\u001b[1;32m----> 1\u001b[1;33m \u001b[0mobject_data\u001b[0m\u001b[1;33m[\u001b[0m\u001b[0mobject_data\u001b[0m\u001b[1;33m.\u001b[0m\u001b[0mlnd_us_sttn_nm\u001b[0m\u001b[1;33m.\u001b[0m\u001b[0misnull\u001b[0m\u001b[1;33m(\u001b[0m\u001b[1;33m)\u001b[0m\u001b[1;33m]\u001b[0m\u001b[1;33m[\u001b[0m\u001b[1;34m\"lnd_us_sttn_nm\"\u001b[0m\u001b[1;33m]\u001b[0m\u001b[1;33m.\u001b[0m\u001b[0mapply\u001b[0m\u001b[1;33m(\u001b[0m\u001b[0m사용현황_널값\u001b[0m\u001b[1;33m[\u001b[0m\u001b[1;34m\"lnd_us_sttn_nm\"\u001b[0m\u001b[1;33m]\u001b[0m\u001b[1;33m,\u001b[0m\u001b[0maxis\u001b[0m\u001b[1;33m=\u001b[0m\u001b[1;36m1\u001b[0m\u001b[1;33m)\u001b[0m\u001b[1;33m\u001b[0m\u001b[1;33m\u001b[0m\u001b[0m\n\u001b[0m",
      "\u001b[1;32m~\\Anaconda3\\lib\\site-packages\\pandas\\core\\series.py\u001b[0m in \u001b[0;36mapply\u001b[1;34m(self, func, convert_dtype, args, **kwds)\u001b[0m\n\u001b[0;32m   4040\u001b[0m             \u001b[1;32melse\u001b[0m\u001b[1;33m:\u001b[0m\u001b[1;33m\u001b[0m\u001b[1;33m\u001b[0m\u001b[0m\n\u001b[0;32m   4041\u001b[0m                 \u001b[0mvalues\u001b[0m \u001b[1;33m=\u001b[0m \u001b[0mself\u001b[0m\u001b[1;33m.\u001b[0m\u001b[0mastype\u001b[0m\u001b[1;33m(\u001b[0m\u001b[0mobject\u001b[0m\u001b[1;33m)\u001b[0m\u001b[1;33m.\u001b[0m\u001b[0mvalues\u001b[0m\u001b[1;33m\u001b[0m\u001b[1;33m\u001b[0m\u001b[0m\n\u001b[1;32m-> 4042\u001b[1;33m                 \u001b[0mmapped\u001b[0m \u001b[1;33m=\u001b[0m \u001b[0mlib\u001b[0m\u001b[1;33m.\u001b[0m\u001b[0mmap_infer\u001b[0m\u001b[1;33m(\u001b[0m\u001b[0mvalues\u001b[0m\u001b[1;33m,\u001b[0m \u001b[0mf\u001b[0m\u001b[1;33m,\u001b[0m \u001b[0mconvert\u001b[0m\u001b[1;33m=\u001b[0m\u001b[0mconvert_dtype\u001b[0m\u001b[1;33m)\u001b[0m\u001b[1;33m\u001b[0m\u001b[1;33m\u001b[0m\u001b[0m\n\u001b[0m\u001b[0;32m   4043\u001b[0m \u001b[1;33m\u001b[0m\u001b[0m\n\u001b[0;32m   4044\u001b[0m         \u001b[1;32mif\u001b[0m \u001b[0mlen\u001b[0m\u001b[1;33m(\u001b[0m\u001b[0mmapped\u001b[0m\u001b[1;33m)\u001b[0m \u001b[1;32mand\u001b[0m \u001b[0misinstance\u001b[0m\u001b[1;33m(\u001b[0m\u001b[0mmapped\u001b[0m\u001b[1;33m[\u001b[0m\u001b[1;36m0\u001b[0m\u001b[1;33m]\u001b[0m\u001b[1;33m,\u001b[0m \u001b[0mSeries\u001b[0m\u001b[1;33m)\u001b[0m\u001b[1;33m:\u001b[0m\u001b[1;33m\u001b[0m\u001b[1;33m\u001b[0m\u001b[0m\n",
      "\u001b[1;32mpandas\\_libs\\lib.pyx\u001b[0m in \u001b[0;36mpandas._libs.lib.map_infer\u001b[1;34m()\u001b[0m\n",
      "\u001b[1;32m~\\Anaconda3\\lib\\site-packages\\pandas\\core\\series.py\u001b[0m in \u001b[0;36mf\u001b[1;34m(x)\u001b[0m\n\u001b[0;32m   4026\u001b[0m \u001b[1;33m\u001b[0m\u001b[0m\n\u001b[0;32m   4027\u001b[0m             \u001b[1;32mdef\u001b[0m \u001b[0mf\u001b[0m\u001b[1;33m(\u001b[0m\u001b[0mx\u001b[0m\u001b[1;33m)\u001b[0m\u001b[1;33m:\u001b[0m\u001b[1;33m\u001b[0m\u001b[1;33m\u001b[0m\u001b[0m\n\u001b[1;32m-> 4028\u001b[1;33m                 \u001b[1;32mreturn\u001b[0m \u001b[0mfunc\u001b[0m\u001b[1;33m(\u001b[0m\u001b[0mx\u001b[0m\u001b[1;33m,\u001b[0m \u001b[1;33m*\u001b[0m\u001b[0margs\u001b[0m\u001b[1;33m,\u001b[0m \u001b[1;33m**\u001b[0m\u001b[0mkwds\u001b[0m\u001b[1;33m)\u001b[0m\u001b[1;33m\u001b[0m\u001b[1;33m\u001b[0m\u001b[0m\n\u001b[0m\u001b[0;32m   4029\u001b[0m \u001b[1;33m\u001b[0m\u001b[0m\n\u001b[0;32m   4030\u001b[0m         \u001b[1;32melse\u001b[0m\u001b[1;33m:\u001b[0m\u001b[1;33m\u001b[0m\u001b[1;33m\u001b[0m\u001b[0m\n",
      "\u001b[1;31mTypeError\u001b[0m: 'Series' object is not callable"
     ]
    }
   ],
   "source": [
    "object_data[object_data.lnd_us_sttn_nm.isnull()][\"lnd_us_sttn_nm\"].apply(사용현황_널값[\"lnd_us_sttn_nm\"],axis=1)"
   ]
  },
  {
   "cell_type": "code",
   "execution_count": null,
   "metadata": {},
   "outputs": [],
   "source": []
  },
  {
   "cell_type": "code",
   "execution_count": 278,
   "metadata": {},
   "outputs": [],
   "source": [
    "\n",
    "object_data[object_data.lnd_us_sttn_nm.isnull()][\"lnd_us_sttn_nm\"]=object_data[object_data.lnd_us_sttn_nm.isnull()][\"lnd_us_sttn_nm\"].fillna(사용현황_널값[\"lnd_us_sttn_nm\"],axis='index')"
   ]
  },
  {
   "cell_type": "code",
   "execution_count": 281,
   "metadata": {},
   "outputs": [],
   "source": [
    "object_data[object_data.lnd_us_sttn_nm.isnull()][\"lnd_us_sttn_nm\"]=object_data[object_data.lnd_us_sttn_nm.isnull()][\"lnd_us_sttn_nm\"].astype('str')"
   ]
  },
  {
   "cell_type": "code",
   "execution_count": 279,
   "metadata": {},
   "outputs": [
    {
     "data": {
      "text/plain": [
       "90       NaN\n",
       "106      NaN\n",
       "184      NaN\n",
       "247      NaN\n",
       "328      NaN\n",
       "        ... \n",
       "58962    NaN\n",
       "58987    NaN\n",
       "59001    NaN\n",
       "59107    NaN\n",
       "59176    NaN\n",
       "Name: lnd_us_sttn_nm, Length: 1776, dtype: object"
      ]
     },
     "execution_count": 279,
     "metadata": {},
     "output_type": "execute_result"
    }
   ],
   "source": [
    "object_data[object_data.lnd_us_sttn_nm.isnull()][\"lnd_us_sttn_nm\"].replace(NaN,사용현황_널값[\"lnd_us_sttn_nm\"])"
   ]
  },
  {
   "cell_type": "code",
   "execution_count": 211,
   "metadata": {},
   "outputs": [
    {
     "data": {
      "text/plain": [
       "jmk\n",
       "대    45515\n",
       "전     2302\n",
       "답     2267\n",
       "장     1971\n",
       "잡     1389\n",
       "창     1179\n",
       "임     1163\n",
       "목      946\n",
       "도      620\n",
       "종      391\n",
       "학      364\n",
       "구      239\n",
       "과      161\n",
       "천      133\n",
       "주      117\n",
       "양       69\n",
       "차       64\n",
       "체       54\n",
       "묘       53\n",
       "원       40\n",
       "철       38\n",
       "유       36\n",
       "공       30\n",
       "제       25\n",
       "수       23\n",
       "사       10\n",
       "dtype: int64"
      ]
     },
     "execution_count": 211,
     "metadata": {},
     "output_type": "execute_result"
    }
   ],
   "source": [
    "data.groupby(\"jmk\").size().sort_values(ascending=False)"
   ]
  },
  {
   "cell_type": "code",
   "execution_count": 222,
   "metadata": {},
   "outputs": [
    {
     "data": {
      "text/plain": [
       "jmk\n",
       "구      1\n",
       "답     80\n",
       "대    872\n",
       "도      1\n",
       "목      3\n",
       "묘      1\n",
       "양      3\n",
       "유      1\n",
       "임     15\n",
       "잡     57\n",
       "장      2\n",
       "전    103\n",
       "종      2\n",
       "주      1\n",
       "차      2\n",
       "창      5\n",
       "천      3\n",
       "철      2\n",
       "학      5\n",
       "dtype: int64"
      ]
     },
     "execution_count": 222,
     "metadata": {},
     "output_type": "execute_result"
    }
   ],
   "source": [
    "# jmk로 토지 이용을 채우고, 토지 이용으로 새로운 더미 변수 치환하는 방식 적용\n",
    "\n",
    "object_data[[\"lnd_us_sttn_nm\",\"jmk\"]][object_data[\"lnd_us_sttn_nm\"].notnull()][object_data[[\"lnd_us_sttn_nm\",\"jmk\"]][object_data[\"lnd_us_sttn_nm\"].notnull()][\"lnd_us_sttn_nm\"]==\"주거나지\"].groupby(\"jmk\").size()\n",
    "\n"
   ]
  },
  {
   "cell_type": "code",
   "execution_count": 191,
   "metadata": {},
   "outputs": [
    {
     "data": {
      "text/plain": [
       "lnd_us_sttn_nm\n",
       "단독          34739\n",
       "주거기타         3966\n",
       "상업용          3191\n",
       "주상용          2957\n",
       "공업용          2000\n",
       "전            1525\n",
       "답            1291\n",
       "주거나지         1159\n",
       "답기타          1081\n",
       "전기타           826\n",
       "아파트           737\n",
       "자연림           719\n",
       "주상기타          471\n",
       "도로등           358\n",
       "과수원           276\n",
       "상업기타          258\n",
       "업무용           231\n",
       "다세대           229\n",
       "주상나지          189\n",
       "공업기타          147\n",
       "연립            144\n",
       "상업나지          142\n",
       "하천등           133\n",
       "토지임야          125\n",
       "공업나지          115\n",
       "임야기타           75\n",
       "조림             63\n",
       "주차장등           48\n",
       "공원등            43\n",
       "기타             41\n",
       "운동장등           37\n",
       "유해.혐오시설        35\n",
       "목장용지           21\n",
       "고속도로휴게소        15\n",
       "여객자동차터미널       12\n",
       "골프장 회원제         8\n",
       "위험시설            5\n",
       "유원지             3\n",
       "특수기타            2\n",
       "공원묘지            2\n",
       "콘도미니엄           1\n",
       "발전소             1\n",
       "골프장 대중제         1\n",
       "스키장             1\n",
       "dtype: int64"
      ]
     },
     "execution_count": 191,
     "metadata": {},
     "output_type": "execute_result"
    }
   ],
   "source": [
    "object_data.groupby(\"lnd_us_sttn_nm\").size().sort_values(ascending=False)"
   ]
  },
  {
   "cell_type": "markdown",
   "metadata": {},
   "source": [
    "# object_data.fr_yn=object_data.fr_yn.apply(lambda x: 1 if x==\"Y\" else 0)\n",
    "\n",
    "# 사용 용도에 따라 주거시설/편의시설 여부로 더미화\n",
    "\n",
    "object_data.bldng_us.unique()\n",
    "\n",
    "object_data['주거시설YN']=object_data.bldng_us.apply(lambda x: 1 if x==\"단독주택\" else x)\n",
    "object_data['주거시설YN']=object_data.주거시설YN.apply(lambda x: 1 if x==\"공동주택\" else x)\n",
    "object_data['주거시설YN']=object_data.주거시설YN.apply(lambda x: 1 if x==1 else 0)"
   ]
  },
  {
   "cell_type": "code",
   "execution_count": 12,
   "metadata": {},
   "outputs": [],
   "source": [
    "object_data['편의시설YN']=object_data.bldng_us.apply(lambda x: 1 if x==\"제1종근린생활시설\" else x)\n",
    "object_data['편의시설YN']=object_data.편의시설YN.apply(lambda x: 1 if x==\"제2종근린생활시설\" else x)\n",
    "object_data['편의시설YN']=object_data.편의시설YN.apply(lambda x: 1 if x==\"문화및집회시설\" else x)\n",
    "object_data['편의시설YN']=object_data.편의시설YN.apply(lambda x: 1 if x==1 else 0)"
   ]
  },
  {
   "cell_type": "markdown",
   "metadata": {},
   "source": [
    "object_data.groupby(\"bldng_us\").size().sort_values(ascending=False)"
   ]
  },
  {
   "cell_type": "code",
   "execution_count": 13,
   "metadata": {},
   "outputs": [],
   "source": [
    "# 6자리 혹은 nan 혹은 10자리임을 알 수 있음.\n",
    "#  sns.distplot(object_data.dt_of_athrztn.astype(str).apply(len))"
   ]
  },
  {
   "cell_type": "markdown",
   "metadata": {},
   "source": [
    "### dt_of_athrztn(건물승인일자)"
   ]
  },
  {
   "cell_type": "code",
   "execution_count": 14,
   "metadata": {},
   "outputs": [],
   "source": [
    "# 건축 날짜의 데이터 타입이 2종류, 따라서 이 모양을 연도 형식으로 바꾸어줄 필요가 있음.\n",
    "\n",
    "object_data.dt_of_athrztn=object_data.dt_of_athrztn.apply(lambda x: str(x)[0:4] if len(str(x))==10 else x)\n",
    "object_data.dt_of_athrztn=object_data.dt_of_athrztn.apply(lambda x: str(x)[0:4] if len(str(x))==8 else x)\n",
    "object_data.dt_of_athrztn=object_data.dt_of_athrztn.apply(lambda x: str(x)[0:4] if len(str(x))==6 else x)"
   ]
  },
  {
   "cell_type": "code",
   "execution_count": 15,
   "metadata": {},
   "outputs": [],
   "source": [
    "dirty_date_idx=object_data.dt_of_athrztn[object_data.dt_of_athrztn.astype(str).apply(len)>4].index"
   ]
  },
  {
   "cell_type": "code",
   "execution_count": 16,
   "metadata": {},
   "outputs": [],
   "source": [
    "object_data.dt_of_athrztn[dirty_date_idx[0]]=\"1980\"\n",
    "object_data.dt_of_athrztn[dirty_date_idx[1]]=\"1890\"\n",
    "object_data.dt_of_athrztn[dirty_date_idx[2]]=\"1890\"\n",
    "object_data.dt_of_athrztn[dirty_date_idx[3]]=\"1990\"\n",
    "object_data.dt_of_athrztn[dirty_date_idx[4]]=\"1990\"\n",
    "object_data.dt_of_athrztn[dirty_date_idx[5]]=\"1982\"\n",
    "object_data.dt_of_athrztn[dirty_date_idx[6]]=\"1978\"\n",
    "object_data.dt_of_athrztn[dirty_date_idx[7]]=\"1994\"\n",
    "\n",
    "#결측치가 아닌 연도 데이터를 시각화 하는 코드\n",
    "\n",
    "#sns.distplot(object_data.dt_of_athrztn[~(object_data.dt_of_athrztn.isna)()].astype(int))\n",
    "\n",
    "말도안돼_연도=object_data.dt_of_athrztn[~(object_data.dt_of_athrztn.isna)()].astype(int)[object_data.dt_of_athrztn[~(object_data.dt_of_athrztn.isna)()].astype(int)>2019].index\n",
    "\n",
    "object_data.dt_of_athrztn[말도안돼_연도]=\"1997\"\n",
    "\n",
    "있는_연도=object_data.dt_of_athrztn[~(object_data.dt_of_athrztn.isna())].astype(int)"
   ]
  },
  {
   "cell_type": "code",
   "execution_count": 17,
   "metadata": {},
   "outputs": [],
   "source": [
    "object_data.dt_of_athrztn.fillna(\"1988\",inplace=True)"
   ]
  },
  {
   "cell_type": "code",
   "execution_count": 18,
   "metadata": {},
   "outputs": [],
   "source": [
    "object_data.dt_of_athrztn=object_data.dt_of_athrztn.astype(int)"
   ]
  },
  {
   "cell_type": "code",
   "execution_count": 19,
   "metadata": {},
   "outputs": [],
   "source": [
    "object_data[\"건물연령\"]=object_data.dt_of_athrztn.apply(lambda x: 2019-x)"
   ]
  },
  {
   "cell_type": "markdown",
   "metadata": {},
   "source": [
    "### rd_sd_nm(도로측면명)"
   ]
  },
  {
   "cell_type": "code",
   "execution_count": 20,
   "metadata": {},
   "outputs": [
    {
     "data": {
      "text/plain": [
       "array(['세로한면(불)', '세로한면(가)', '중로한면', '소로한면', '맹지', '광대로한면', '세로각지(불)',\n",
       "       '중로각지', '세로각지(가)', '소로각지', nan, '광대세각', '광대소각', '지정되지않음'],\n",
       "      dtype=object)"
      ]
     },
     "execution_count": 20,
     "metadata": {},
     "output_type": "execute_result"
    }
   ],
   "source": [
    "object_data.rd_sd_nm.unique()"
   ]
  },
  {
   "cell_type": "markdown",
   "metadata": {},
   "source": [
    "data.isnull().sum(axis=1)[data.isnull().sum(axis=1)<150].index"
   ]
  },
  {
   "cell_type": "code",
   "execution_count": 21,
   "metadata": {},
   "outputs": [],
   "source": [
    "object_data['차량통행YN']=object_data.rd_sd_nm.apply(lambda x: 1 if x==\"세로한면(가)\" else x)\n",
    "object_data['차량통행YN']=object_data.차량통행YN.apply(lambda x: 1 if x==\"세로각지(가)\" else x)\n",
    "object_data['차량통행YN']=object_data.차량통행YN.apply(lambda x: 1 if x==\"소로각지\" else x)\n",
    "object_data['차량통행YN']=object_data.차량통행YN.apply(lambda x: 1 if x==\"중로한면\" else x)\n",
    "object_data['차량통행YN']=object_data.차량통행YN.apply(lambda x: 1 if x==\"중로각지\" else x)\n",
    "object_data['차량통행YN']=object_data.차량통행YN.apply(lambda x: 1 if x==\"소로한면\" else x)\n",
    "object_data['차량통행YN']=object_data.차량통행YN.apply(lambda x: 1 if x==1 else 0)"
   ]
  },
  {
   "cell_type": "code",
   "execution_count": 22,
   "metadata": {},
   "outputs": [],
   "source": [
    "object_data['대로인접YN']=object_data.rd_sd_nm.apply(lambda x: 1 if x==\"중로각지\" else x)\n",
    "object_data['대로인접YN']=object_data.대로인접YN.apply(lambda x: 1 if x==\"중로한면\" else x)\n",
    "object_data['대로인접YN']=object_data.대로인접YN.apply(lambda x: 1 if x==\"광대세각\" else x)\n",
    "object_data['대로인접YN']=object_data.대로인접YN.apply(lambda x: 1 if x==\"광대소각\" else x)\n",
    "object_data['대로인접YN']=object_data.대로인접YN.apply(lambda x: 1 if x==\"광대로한면\" else x)\n",
    "object_data['대로인접YN']=object_data.대로인접YN.apply(lambda x: 1 if x==1 else 0)"
   ]
  },
  {
   "cell_type": "markdown",
   "metadata": {},
   "source": [
    "### bldng_archtctr(건물구조)"
   ]
  },
  {
   "cell_type": "code",
   "execution_count": 23,
   "metadata": {},
   "outputs": [],
   "source": [
    "object_data['목재구조YN']=object_data.bldng_archtctr.apply(lambda x: 1 if x==\"일반목구조\" else x)\n",
    "object_data['목재구조YN']=object_data.목재구조YN.apply(lambda x: 1 if x==\"통나무구조\" else x)\n",
    "object_data['목재구조YN']=object_data.목재구조YN.apply(lambda x: 1 if x==\"목구조\" else x)\n",
    "object_data['목재구조YN']=object_data.목재구조YN.apply(lambda x: 1 if x==1 else 0)"
   ]
  },
  {
   "cell_type": "markdown",
   "metadata": {},
   "source": [
    "### bldng_us_clssfctn(건물용도분류명)"
   ]
  },
  {
   "cell_type": "markdown",
   "metadata": {},
   "source": [
    "### rgnl_ar_nm(용도지역지구명)"
   ]
  },
  {
   "cell_type": "code",
   "execution_count": 24,
   "metadata": {},
   "outputs": [
    {
     "data": {
      "text/plain": [
       "array(['자연녹지지역', '계획관리지역', '제2종일반주거지역', '제1종일반주거지역', '자연환경보전지역', '보전관리지역',\n",
       "       '일반상업지역', '생산관리지역', '준주거지역', '생산녹지지역', '농림지역', nan, '준공업지역',\n",
       "       '일반공업지역', '근린상업지역', '제1종전용주거지역', '개발제한구역', '제3종일반주거지역',\n",
       "       '제2종전용주거지역', '보전녹지지역', '유통상업지역', '중심상업지역', '관리지역', '용도미지정'],\n",
       "      dtype=object)"
      ]
     },
     "execution_count": 24,
     "metadata": {},
     "output_type": "execute_result"
    }
   ],
   "source": [
    "object_data.rgnl_ar_nm.unique()"
   ]
  },
  {
   "cell_type": "code",
   "execution_count": 25,
   "metadata": {},
   "outputs": [
    {
     "data": {
      "text/plain": [
       "rgnl_ar_nm\n",
       "계획관리지역       25552\n",
       "제2종일반주거지역     9967\n",
       "제1종일반주거지역     4438\n",
       "자연녹지지역        3399\n",
       "일반상업지역        3043\n",
       "생산관리지역        2103\n",
       "농림지역          2024\n",
       "보전관리지역        1982\n",
       "일반공업지역         902\n",
       "제3종일반주거지역      827\n",
       "제1종전용주거지역      751\n",
       "자연환경보전지역       708\n",
       "준주거지역          614\n",
       "생산녹지지역         414\n",
       "준공업지역          400\n",
       "개발제한구역         252\n",
       "보전녹지지역         157\n",
       "제2종전용주거지역       72\n",
       "근린상업지역          53\n",
       "유통상업지역          28\n",
       "중심상업지역          16\n",
       "관리지역             4\n",
       "용도미지정            2\n",
       "dtype: int64"
      ]
     },
     "execution_count": 25,
     "metadata": {},
     "output_type": "execute_result"
    }
   ],
   "source": [
    "object_data.groupby(\"rgnl_ar_nm\").size().sort_values(ascending=False)"
   ]
  },
  {
   "cell_type": "code",
   "execution_count": 26,
   "metadata": {},
   "outputs": [
    {
     "data": {
      "text/plain": [
       "array(['주거용', nan, '상업용', '문교사회용', '공업용', '농수산용', '기타', '공공용'],\n",
       "      dtype=object)"
      ]
     },
     "execution_count": 26,
     "metadata": {},
     "output_type": "execute_result"
    }
   ],
   "source": [
    "object_data.bldng_us_clssfctn.unique()"
   ]
  },
  {
   "cell_type": "code",
   "execution_count": 27,
   "metadata": {},
   "outputs": [
    {
     "data": {
      "text/plain": [
       "bldng_us_clssfctn\n",
       "주거용      19589\n",
       "상업용       5389\n",
       "기타        1899\n",
       "농수산용      1225\n",
       "공업용       1043\n",
       "문교사회용      677\n",
       "공공용         34\n",
       "dtype: int64"
      ]
     },
     "execution_count": 27,
     "metadata": {},
     "output_type": "execute_result"
    }
   ],
   "source": [
    "object_data.groupby(\"bldng_us_clssfctn\").size().sort_values(ascending=False)"
   ]
  },
  {
   "cell_type": "code",
   "execution_count": 28,
   "metadata": {},
   "outputs": [],
   "source": [
    "object_data['주거용YN']=object_data.bldng_us_clssfctn.apply(lambda x: 1 if x==\"주거용\" else 0)"
   ]
  },
  {
   "cell_type": "code",
   "execution_count": 29,
   "metadata": {},
   "outputs": [],
   "source": [
    "object_data['target_value']=object_data.fr_yn.apply(lambda x: 1 if x==\"Y\" else 0)"
   ]
  },
  {
   "cell_type": "code",
   "execution_count": null,
   "metadata": {},
   "outputs": [],
   "source": []
  },
  {
   "cell_type": "markdown",
   "metadata": {},
   "source": [
    "### emd_nm(행정구역명) 데이터"
   ]
  },
  {
   "cell_type": "markdown",
   "metadata": {},
   "source": [
    "sns.distplot(object_data.emd_nm.astype(str).apply(len))"
   ]
  },
  {
   "cell_type": "code",
   "execution_count": 30,
   "metadata": {},
   "outputs": [
    {
     "data": {
      "text/plain": [
       "17885    NaN\n",
       "20869    NaN\n",
       "52035    NaN\n",
       "58625    NaN\n",
       "Name: emd_nm, dtype: object"
      ]
     },
     "execution_count": 30,
     "metadata": {},
     "output_type": "execute_result"
    }
   ],
   "source": [
    "object_data.emd_nm[object_data.emd_nm.astype(str).apply(len)[object_data.emd_nm.astype(str).apply(len)<4].index]\n"
   ]
  },
  {
   "cell_type": "code",
   "execution_count": 31,
   "metadata": {},
   "outputs": [],
   "source": [
    "object_data.emd_nm=object_data.emd_nm.str[4:]"
   ]
  },
  {
   "cell_type": "code",
   "execution_count": 32,
   "metadata": {},
   "outputs": [
    {
     "data": {
      "text/plain": [
       "0            창녕군 창녕읍\n",
       "1            의령군 가례면\n",
       "2            창녕군 창녕읍\n",
       "3         창원시의창구 대산면\n",
       "4            창녕군 창녕읍\n",
       "            ...     \n",
       "59194        함안군 칠원읍\n",
       "59195        함안군 칠원읍\n",
       "59196        함안군 법수면\n",
       "59197        함안군 대산면\n",
       "59198        창녕군 대지면\n",
       "Name: emd_nm, Length: 59195, dtype: object"
      ]
     },
     "execution_count": 32,
     "metadata": {},
     "output_type": "execute_result"
    }
   ],
   "source": [
    "object_data.emd_nm[object_data.emd_nm.notnull()]"
   ]
  },
  {
   "cell_type": "code",
   "execution_count": 33,
   "metadata": {},
   "outputs": [
    {
     "data": {
      "text/plain": [
       "17885    NaN\n",
       "20869    NaN\n",
       "52035    NaN\n",
       "58625    NaN\n",
       "Name: emd_nm, dtype: object"
      ]
     },
     "execution_count": 33,
     "metadata": {},
     "output_type": "execute_result"
    }
   ],
   "source": [
    "object_data.emd_nm[object_data.emd_nm.isnull()]"
   ]
  },
  {
   "cell_type": "code",
   "execution_count": 34,
   "metadata": {},
   "outputs": [],
   "source": [
    "object_data[\"시YN\"]=object_data.emd_nm[object_data.emd_nm.notnull()].apply(lambda x: \"1\" if x[3]==\"시\" else \"0\")"
   ]
  },
  {
   "cell_type": "code",
   "execution_count": null,
   "metadata": {},
   "outputs": [],
   "source": []
  },
  {
   "cell_type": "code",
   "execution_count": 35,
   "metadata": {},
   "outputs": [
    {
     "data": {
      "text/plain": [
       "emd_nm\n",
       " 남해군 남해읍 입현리            1\n",
       " 진주시 금산면              217\n",
       " 거제시 하청면              247\n",
       " 창원시 마산합포구 완월동          1\n",
       " 창원시의창구 봉림동           336\n",
       " 함안군 칠원읍 운곡리            3\n",
       " 창원시성산구 반송동           126\n",
       " 창녕군 도천면              199\n",
       " 거창군 거창읍              897\n",
       " 함양군 마천면              183\n",
       " 창녕군 대합면 목단리            2\n",
       " 진주시 상평동              294\n",
       " 진주시 이반성면             184\n",
       " 거제시 옥포1동              84\n",
       " 창원시진해구 충무동            78\n",
       " 창원시마산합포구 오동동         194\n",
       " 진주시 정촌면              181\n",
       " 합천군 가야면              313\n",
       " 거창군 북상면              137\n",
       " 고성군 거류면              356\n",
       " 남해군 서면               267\n",
       " 진주시 명석면              253\n",
       " 진주시 상봉동              266\n",
       " 의령군 가례면              139\n",
       " 창원시마산회원구 내서읍         288\n",
       " 남해군 삼동면              338\n",
       " 통영시 욕지면 두미리            1\n",
       " 함안군 칠원읍              320\n",
       " 밀양시 삼문동              163\n",
       " 합천군 청덕면              169\n",
       " 창원시성산구 중앙동           110\n",
       " 양산시 덕계동              107\n",
       " 창원시 마산합포구 진전면 창포리      1\n",
       " 창녕군 계성면              201\n",
       " 하동군 악양면              287\n",
       " 함양군 서상면              176\n",
       " 거창군 마리면              182\n",
       " 함안군 칠원읍 유원리            2\n",
       " 하동군 고전면              204\n",
       " 하동군 양보면              179\n",
       " 창원시성산구 상남동            46\n",
       " 함양군 휴천면              124\n",
       " 합천군 대양면              167\n",
       " 밀양시 내일동              129\n",
       " 창녕군 대지면              169\n",
       " 밀양시 부북면              396\n",
       " 의령군 용덕면              133\n",
       " 진주시 하대동              256\n",
       " 사천시 남양동              239\n",
       " 창원시마산합포구 문화동          89\n",
       " 함안군 칠원읍 구성리           12\n",
       " 통영시 욕지면              155\n",
       " 의령군 낙서면               59\n",
       " 사천시 동금동                3\n",
       " 통영시 산양읍 풍화리            3\n",
       " 거제시 일운면              212\n",
       " 함안군 칠원읍 무기리            9\n",
       " 창원시마산회원구 합성1동         86\n",
       " 고성군 영오면              145\n",
       " 고성군 동해면              271\n",
       " 의령군 지정면              155\n",
       " 합천군 덕곡면               96\n",
       " 통영시 도천동              155\n",
       " 하동군 금남면 대도리            2\n",
       " 통영시 명정동              129\n",
       " 의령군 화정면              109\n",
       " 남해군 이동면              350\n",
       " 창원시마산합포구 완월동          80\n",
       " 산청군 금서면              229\n",
       " 사천시 향촌동              209\n",
       " 사천시 사남면              278\n",
       " 창녕군 성산면              155\n",
       " 진주시 중앙동              346\n",
       " 의령군 궁류면              103\n",
       " 밀양시 하남읍              384\n",
       " 사천시 곤명면              205\n",
       " 하동군 하동읍              337\n",
       " 밀양시 상남면              434\n",
       " 거창군 남하면              162\n",
       " 창원시진해구 웅천동           137\n",
       " 통영시 미수동               79\n",
       " 진주시 미천면              168\n",
       " 통영시 도산면              215\n",
       " 거창군 위천면              166\n",
       " 고성군 고성읍              803\n",
       " 양산시 중앙동              245\n",
       " 산청군 단성면              462\n",
       " 진주시 수곡면              153\n",
       " 합천군 율곡면              217\n",
       " 함안군 칠원읍 장암리            6\n",
       " 창녕군 유어면              168\n",
       " 창원시 마산회원구 합성동          4\n",
       " 창원시진해구 중앙동            37\n",
       " 사천시 서포면              262\n",
       " 고성군 하이면              180\n",
       " 거제시 둔덕면              186\n",
       " 밀양시 내이동              230\n",
       " 창원시진해구 여좌동           204\n",
       " 창원시 진해구 안골동            1\n",
       " 합천군 쌍백면              189\n",
       "dtype: int64"
      ]
     },
     "execution_count": 35,
     "metadata": {},
     "output_type": "execute_result"
    }
   ],
   "source": [
    "object_data.groupby(\"emd_nm\").size().sort_values(ascending=False).sample(100)"
   ]
  },
  {
   "cell_type": "markdown",
   "metadata": {},
   "source": [
    "# 수치형 데이터"
   ]
  },
  {
   "cell_type": "code",
   "execution_count": 36,
   "metadata": {},
   "outputs": [],
   "source": [
    "numeric_list_not_engry=[s for s in numeric_list if not \"engry\" in s]\n"
   ]
  },
  {
   "cell_type": "code",
   "execution_count": 37,
   "metadata": {},
   "outputs": [],
   "source": [
    "numeric_data_on=numeric_data.loc[:,numeric_list_not_engry]"
   ]
  },
  {
   "cell_type": "code",
   "execution_count": 38,
   "metadata": {},
   "outputs": [
    {
     "data": {
      "text/html": [
       "<div>\n",
       "<style scoped>\n",
       "    .dataframe tbody tr th:only-of-type {\n",
       "        vertical-align: middle;\n",
       "    }\n",
       "\n",
       "    .dataframe tbody tr th {\n",
       "        vertical-align: top;\n",
       "    }\n",
       "\n",
       "    .dataframe thead th {\n",
       "        text-align: right;\n",
       "    }\n",
       "</style>\n",
       "<table border=\"1\" class=\"dataframe\">\n",
       "  <thead>\n",
       "    <tr style=\"text-align: right;\">\n",
       "      <th></th>\n",
       "      <th>ahsm_dstnc</th>\n",
       "      <th>bldng_ar</th>\n",
       "      <th>bldng_ar_prc</th>\n",
       "      <th>bldng_cnt</th>\n",
       "      <th>bldng_cnt_in_50m</th>\n",
       "      <th>cctv_dstnc</th>\n",
       "      <th>cctv_in_100m</th>\n",
       "      <th>fr_mn_cnt</th>\n",
       "      <th>fr_sttn_dstnc</th>\n",
       "      <th>fr_wthr_fclt_dstnc</th>\n",
       "      <th>fr_wthr_fclt_in_100m</th>\n",
       "      <th>hm_cnt</th>\n",
       "      <th>hmdt</th>\n",
       "      <th>id</th>\n",
       "      <th>lnd_ar</th>\n",
       "      <th>lw_13101010</th>\n",
       "      <th>lw_13101110</th>\n",
       "      <th>lw_13101210</th>\n",
       "      <th>lw_13101211</th>\n",
       "      <th>lw_13101310</th>\n",
       "      <th>lw_13101410</th>\n",
       "      <th>lw_13111010</th>\n",
       "      <th>lw_13111110</th>\n",
       "      <th>lw_13121010</th>\n",
       "      <th>lw_13121011</th>\n",
       "      <th>lw_13131010</th>\n",
       "      <th>lw_13131110</th>\n",
       "      <th>lw_13141010</th>\n",
       "      <th>lw_13141011</th>\n",
       "      <th>no_tbc_zn_dstnc</th>\n",
       "      <th>prcpttn</th>\n",
       "      <th>sft_emrgnc_bll_dstnc</th>\n",
       "      <th>tbc_rtl_str_dstnc</th>\n",
       "      <th>tmprtr</th>\n",
       "      <th>ttl_ar</th>\n",
       "      <th>ttl_dwn_flr</th>\n",
       "      <th>ttl_grnd_flr</th>\n",
       "      <th>wnd_drctn</th>\n",
       "      <th>wnd_spd</th>\n",
       "    </tr>\n",
       "  </thead>\n",
       "  <tbody>\n",
       "    <tr>\n",
       "      <td>count</td>\n",
       "      <td>59199.000</td>\n",
       "      <td>59199.000</td>\n",
       "      <td>37304.000</td>\n",
       "      <td>59199.000</td>\n",
       "      <td>59199.000</td>\n",
       "      <td>59199.000</td>\n",
       "      <td>59199.000</td>\n",
       "      <td>59158.000</td>\n",
       "      <td>59199.000</td>\n",
       "      <td>59199.000</td>\n",
       "      <td>59199.000</td>\n",
       "      <td>58498.000</td>\n",
       "      <td>59177.000</td>\n",
       "      <td>59199.000</td>\n",
       "      <td>59199.000</td>\n",
       "      <td>302.000</td>\n",
       "      <td>291.000</td>\n",
       "      <td>297.000</td>\n",
       "      <td>298.000</td>\n",
       "      <td>292.000</td>\n",
       "      <td>283.000</td>\n",
       "      <td>300.000</td>\n",
       "      <td>281.000</td>\n",
       "      <td>273.000</td>\n",
       "      <td>273.000</td>\n",
       "      <td>296.000</td>\n",
       "      <td>296.000</td>\n",
       "      <td>292.000</td>\n",
       "      <td>291.000</td>\n",
       "      <td>59199.000</td>\n",
       "      <td>5570.000</td>\n",
       "      <td>59199.000</td>\n",
       "      <td>59199.000</td>\n",
       "      <td>59186.000</td>\n",
       "      <td>59199.000</td>\n",
       "      <td>48194.000</td>\n",
       "      <td>48989.000</td>\n",
       "      <td>58978.000</td>\n",
       "      <td>59166.000</td>\n",
       "    </tr>\n",
       "    <tr>\n",
       "      <td>mean</td>\n",
       "      <td>8974.287</td>\n",
       "      <td>633.563</td>\n",
       "      <td>639759.631</td>\n",
       "      <td>3.454</td>\n",
       "      <td>3.815</td>\n",
       "      <td>760.095</td>\n",
       "      <td>0.415</td>\n",
       "      <td>151.219</td>\n",
       "      <td>5738.526</td>\n",
       "      <td>1910.027</td>\n",
       "      <td>0.246</td>\n",
       "      <td>10921.538</td>\n",
       "      <td>65.848</td>\n",
       "      <td>103558.890</td>\n",
       "      <td>29000.264</td>\n",
       "      <td>3.465</td>\n",
       "      <td>3.133</td>\n",
       "      <td>3.529</td>\n",
       "      <td>3.456</td>\n",
       "      <td>3.317</td>\n",
       "      <td>1.693</td>\n",
       "      <td>3.711</td>\n",
       "      <td>1.654</td>\n",
       "      <td>0.408</td>\n",
       "      <td>0.393</td>\n",
       "      <td>2.930</td>\n",
       "      <td>2.930</td>\n",
       "      <td>2.707</td>\n",
       "      <td>2.778</td>\n",
       "      <td>1146.475</td>\n",
       "      <td>1.722</td>\n",
       "      <td>31396.046</td>\n",
       "      <td>3253.293</td>\n",
       "      <td>14.016</td>\n",
       "      <td>2477.958</td>\n",
       "      <td>0.132</td>\n",
       "      <td>3.193</td>\n",
       "      <td>159.750</td>\n",
       "      <td>1.535</td>\n",
       "    </tr>\n",
       "    <tr>\n",
       "      <td>std</td>\n",
       "      <td>11377.904</td>\n",
       "      <td>9211.774</td>\n",
       "      <td>493829.723</td>\n",
       "      <td>7.221</td>\n",
       "      <td>8.410</td>\n",
       "      <td>1337.103</td>\n",
       "      <td>1.177</td>\n",
       "      <td>36.763</td>\n",
       "      <td>4908.276</td>\n",
       "      <td>2638.502</td>\n",
       "      <td>0.609</td>\n",
       "      <td>12858.179</td>\n",
       "      <td>23.510</td>\n",
       "      <td>19921.312</td>\n",
       "      <td>2157306.099</td>\n",
       "      <td>0.583</td>\n",
       "      <td>1.275</td>\n",
       "      <td>0.702</td>\n",
       "      <td>0.967</td>\n",
       "      <td>1.142</td>\n",
       "      <td>1.616</td>\n",
       "      <td>0.680</td>\n",
       "      <td>1.747</td>\n",
       "      <td>1.077</td>\n",
       "      <td>1.040</td>\n",
       "      <td>1.219</td>\n",
       "      <td>1.219</td>\n",
       "      <td>1.516</td>\n",
       "      <td>1.490</td>\n",
       "      <td>1671.200</td>\n",
       "      <td>3.989</td>\n",
       "      <td>24248.944</td>\n",
       "      <td>3329.986</td>\n",
       "      <td>9.786</td>\n",
       "      <td>78319.359</td>\n",
       "      <td>1.002</td>\n",
       "      <td>16.301</td>\n",
       "      <td>125.752</td>\n",
       "      <td>1.298</td>\n",
       "    </tr>\n",
       "    <tr>\n",
       "      <td>min</td>\n",
       "      <td>0.000</td>\n",
       "      <td>0.000</td>\n",
       "      <td>17537.000</td>\n",
       "      <td>1.000</td>\n",
       "      <td>0.000</td>\n",
       "      <td>0.000</td>\n",
       "      <td>0.000</td>\n",
       "      <td>85.000</td>\n",
       "      <td>4.000</td>\n",
       "      <td>0.000</td>\n",
       "      <td>0.000</td>\n",
       "      <td>778.000</td>\n",
       "      <td>0.000</td>\n",
       "      <td>69056.000</td>\n",
       "      <td>0.000</td>\n",
       "      <td>1.500</td>\n",
       "      <td>0.000</td>\n",
       "      <td>0.000</td>\n",
       "      <td>0.000</td>\n",
       "      <td>0.000</td>\n",
       "      <td>0.000</td>\n",
       "      <td>0.000</td>\n",
       "      <td>0.000</td>\n",
       "      <td>0.000</td>\n",
       "      <td>0.000</td>\n",
       "      <td>0.000</td>\n",
       "      <td>0.000</td>\n",
       "      <td>0.000</td>\n",
       "      <td>0.000</td>\n",
       "      <td>0.000</td>\n",
       "      <td>0.000</td>\n",
       "      <td>5.000</td>\n",
       "      <td>0.000</td>\n",
       "      <td>-14.100</td>\n",
       "      <td>0.000</td>\n",
       "      <td>0.000</td>\n",
       "      <td>0.000</td>\n",
       "      <td>0.000</td>\n",
       "      <td>0.000</td>\n",
       "    </tr>\n",
       "    <tr>\n",
       "      <td>25%</td>\n",
       "      <td>761.000</td>\n",
       "      <td>46.280</td>\n",
       "      <td>274865.000</td>\n",
       "      <td>1.000</td>\n",
       "      <td>0.000</td>\n",
       "      <td>100.000</td>\n",
       "      <td>0.000</td>\n",
       "      <td>112.000</td>\n",
       "      <td>1651.000</td>\n",
       "      <td>114.000</td>\n",
       "      <td>0.000</td>\n",
       "      <td>2880.000</td>\n",
       "      <td>48.000</td>\n",
       "      <td>86303.500</td>\n",
       "      <td>0.000</td>\n",
       "      <td>3.000</td>\n",
       "      <td>3.000</td>\n",
       "      <td>3.000</td>\n",
       "      <td>3.000</td>\n",
       "      <td>3.000</td>\n",
       "      <td>0.000</td>\n",
       "      <td>3.477</td>\n",
       "      <td>0.000</td>\n",
       "      <td>0.000</td>\n",
       "      <td>0.000</td>\n",
       "      <td>2.737</td>\n",
       "      <td>2.737</td>\n",
       "      <td>2.073</td>\n",
       "      <td>2.469</td>\n",
       "      <td>115.000</td>\n",
       "      <td>0.000</td>\n",
       "      <td>11229.000</td>\n",
       "      <td>527.000</td>\n",
       "      <td>6.100</td>\n",
       "      <td>50.550</td>\n",
       "      <td>0.000</td>\n",
       "      <td>1.000</td>\n",
       "      <td>20.000</td>\n",
       "      <td>0.600</td>\n",
       "    </tr>\n",
       "    <tr>\n",
       "      <td>50%</td>\n",
       "      <td>3210.000</td>\n",
       "      <td>87.730</td>\n",
       "      <td>550517.500</td>\n",
       "      <td>2.000</td>\n",
       "      <td>0.000</td>\n",
       "      <td>288.000</td>\n",
       "      <td>0.000</td>\n",
       "      <td>161.000</td>\n",
       "      <td>4444.000</td>\n",
       "      <td>643.000</td>\n",
       "      <td>0.000</td>\n",
       "      <td>5740.000</td>\n",
       "      <td>68.000</td>\n",
       "      <td>103561.000</td>\n",
       "      <td>160.000</td>\n",
       "      <td>3.500</td>\n",
       "      <td>3.500</td>\n",
       "      <td>4.000</td>\n",
       "      <td>4.000</td>\n",
       "      <td>4.000</td>\n",
       "      <td>2.000</td>\n",
       "      <td>4.000</td>\n",
       "      <td>0.000</td>\n",
       "      <td>0.000</td>\n",
       "      <td>0.000</td>\n",
       "      <td>3.000</td>\n",
       "      <td>3.000</td>\n",
       "      <td>3.000</td>\n",
       "      <td>3.000</td>\n",
       "      <td>422.000</td>\n",
       "      <td>0.400</td>\n",
       "      <td>27037.000</td>\n",
       "      <td>2184.000</td>\n",
       "      <td>14.700</td>\n",
       "      <td>97.200</td>\n",
       "      <td>0.000</td>\n",
       "      <td>1.000</td>\n",
       "      <td>160.000</td>\n",
       "      <td>1.200</td>\n",
       "    </tr>\n",
       "    <tr>\n",
       "      <td>75%</td>\n",
       "      <td>14239.500</td>\n",
       "      <td>155.100</td>\n",
       "      <td>864379.250</td>\n",
       "      <td>4.000</td>\n",
       "      <td>3.000</td>\n",
       "      <td>889.000</td>\n",
       "      <td>0.000</td>\n",
       "      <td>176.000</td>\n",
       "      <td>8603.000</td>\n",
       "      <td>2494.000</td>\n",
       "      <td>0.000</td>\n",
       "      <td>13501.000</td>\n",
       "      <td>87.000</td>\n",
       "      <td>120781.500</td>\n",
       "      <td>446.000</td>\n",
       "      <td>4.000</td>\n",
       "      <td>4.000</td>\n",
       "      <td>4.000</td>\n",
       "      <td>4.000</td>\n",
       "      <td>4.000</td>\n",
       "      <td>3.000</td>\n",
       "      <td>4.000</td>\n",
       "      <td>3.409</td>\n",
       "      <td>0.000</td>\n",
       "      <td>0.000</td>\n",
       "      <td>4.000</td>\n",
       "      <td>4.000</td>\n",
       "      <td>4.000</td>\n",
       "      <td>4.000</td>\n",
       "      <td>1486.500</td>\n",
       "      <td>1.500</td>\n",
       "      <td>45713.000</td>\n",
       "      <td>4958.000</td>\n",
       "      <td>22.000</td>\n",
       "      <td>214.415</td>\n",
       "      <td>0.000</td>\n",
       "      <td>2.000</td>\n",
       "      <td>270.000</td>\n",
       "      <td>2.200</td>\n",
       "    </tr>\n",
       "    <tr>\n",
       "      <td>max</td>\n",
       "      <td>56485.000</td>\n",
       "      <td>572897.955</td>\n",
       "      <td>15689300.000</td>\n",
       "      <td>705.000</td>\n",
       "      <td>84.000</td>\n",
       "      <td>12278.000</td>\n",
       "      <td>24.000</td>\n",
       "      <td>210.000</td>\n",
       "      <td>38044.000</td>\n",
       "      <td>17716.000</td>\n",
       "      <td>10.000</td>\n",
       "      <td>115081.000</td>\n",
       "      <td>100.000</td>\n",
       "      <td>138108.000</td>\n",
       "      <td>203898366.000</td>\n",
       "      <td>5.000</td>\n",
       "      <td>5.000</td>\n",
       "      <td>6.000</td>\n",
       "      <td>5.500</td>\n",
       "      <td>5.000</td>\n",
       "      <td>5.000</td>\n",
       "      <td>5.000</td>\n",
       "      <td>5.000</td>\n",
       "      <td>4.000</td>\n",
       "      <td>4.000</td>\n",
       "      <td>5.000</td>\n",
       "      <td>5.000</td>\n",
       "      <td>5.000</td>\n",
       "      <td>5.000</td>\n",
       "      <td>16164.000</td>\n",
       "      <td>93.000</td>\n",
       "      <td>103571.000</td>\n",
       "      <td>23228.000</td>\n",
       "      <td>38.100</td>\n",
       "      <td>12351844.468</td>\n",
       "      <td>60.000</td>\n",
       "      <td>594.000</td>\n",
       "      <td>360.000</td>\n",
       "      <td>15.300</td>\n",
       "    </tr>\n",
       "  </tbody>\n",
       "</table>\n",
       "</div>"
      ],
      "text/plain": [
       "       ahsm_dstnc   bldng_ar  bldng_ar_prc  bldng_cnt  bldng_cnt_in_50m  cctv_dstnc  cctv_in_100m  fr_mn_cnt  fr_sttn_dstnc  fr_wthr_fclt_dstnc  fr_wthr_fclt_in_100m     hm_cnt      hmdt         id        lnd_ar  lw_13101010  lw_13101110  lw_13101210  lw_13101211  lw_13101310  lw_13101410  lw_13111010  lw_13111110  lw_13121010  lw_13121011  lw_13131010  lw_13131110  lw_13141010  lw_13141011  no_tbc_zn_dstnc  prcpttn  sft_emrgnc_bll_dstnc  tbc_rtl_str_dstnc    tmprtr       ttl_ar  ttl_dwn_flr  \\\n",
       "count   59199.000  59199.000     37304.000  59199.000         59199.000   59199.000     59199.000  59158.000      59199.000           59199.000             59199.000  58498.000 59177.000  59199.000     59199.000      302.000      291.000      297.000      298.000      292.000      283.000      300.000      281.000      273.000      273.000      296.000      296.000      292.000      291.000        59199.000 5570.000             59199.000          59199.000 59186.000    59199.000    48194.000   \n",
       "mean     8974.287    633.563    639759.631      3.454             3.815     760.095         0.415    151.219       5738.526            1910.027                 0.246  10921.538    65.848 103558.890     29000.264        3.465        3.133        3.529        3.456        3.317        1.693        3.711        1.654        0.408        0.393        2.930        2.930        2.707        2.778         1146.475    1.722             31396.046           3253.293    14.016     2477.958        0.132   \n",
       "std     11377.904   9211.774    493829.723      7.221             8.410    1337.103         1.177     36.763       4908.276            2638.502                 0.609  12858.179    23.510  19921.312   2157306.099        0.583        1.275        0.702        0.967        1.142        1.616        0.680        1.747        1.077        1.040        1.219        1.219        1.516        1.490         1671.200    3.989             24248.944           3329.986     9.786    78319.359        1.002   \n",
       "min         0.000      0.000     17537.000      1.000             0.000       0.000         0.000     85.000          4.000               0.000                 0.000    778.000     0.000  69056.000         0.000        1.500        0.000        0.000        0.000        0.000        0.000        0.000        0.000        0.000        0.000        0.000        0.000        0.000        0.000            0.000    0.000                 5.000              0.000   -14.100        0.000        0.000   \n",
       "25%       761.000     46.280    274865.000      1.000             0.000     100.000         0.000    112.000       1651.000             114.000                 0.000   2880.000    48.000  86303.500         0.000        3.000        3.000        3.000        3.000        3.000        0.000        3.477        0.000        0.000        0.000        2.737        2.737        2.073        2.469          115.000    0.000             11229.000            527.000     6.100       50.550        0.000   \n",
       "50%      3210.000     87.730    550517.500      2.000             0.000     288.000         0.000    161.000       4444.000             643.000                 0.000   5740.000    68.000 103561.000       160.000        3.500        3.500        4.000        4.000        4.000        2.000        4.000        0.000        0.000        0.000        3.000        3.000        3.000        3.000          422.000    0.400             27037.000           2184.000    14.700       97.200        0.000   \n",
       "75%     14239.500    155.100    864379.250      4.000             3.000     889.000         0.000    176.000       8603.000            2494.000                 0.000  13501.000    87.000 120781.500       446.000        4.000        4.000        4.000        4.000        4.000        3.000        4.000        3.409        0.000        0.000        4.000        4.000        4.000        4.000         1486.500    1.500             45713.000           4958.000    22.000      214.415        0.000   \n",
       "max     56485.000 572897.955  15689300.000    705.000            84.000   12278.000        24.000    210.000      38044.000           17716.000                10.000 115081.000   100.000 138108.000 203898366.000        5.000        5.000        6.000        5.500        5.000        5.000        5.000        5.000        4.000        4.000        5.000        5.000        5.000        5.000        16164.000   93.000            103571.000          23228.000    38.100 12351844.468       60.000   \n",
       "\n",
       "       ttl_grnd_flr  wnd_drctn   wnd_spd  \n",
       "count     48989.000  58978.000 59166.000  \n",
       "mean          3.193    159.750     1.535  \n",
       "std          16.301    125.752     1.298  \n",
       "min           0.000      0.000     0.000  \n",
       "25%           1.000     20.000     0.600  \n",
       "50%           1.000    160.000     1.200  \n",
       "75%           2.000    270.000     2.200  \n",
       "max         594.000    360.000    15.300  "
      ]
     },
     "execution_count": 38,
     "metadata": {},
     "output_type": "execute_result"
    }
   ],
   "source": [
    "numeric_data_on.describe()"
   ]
  },
  {
   "cell_type": "code",
   "execution_count": 39,
   "metadata": {},
   "outputs": [
    {
     "data": {
      "image/png": "[encoded data removed]",
      "text/plain": [
       "<Figure size 432x288 with 1 Axes>"
      ]
     },
     "metadata": {
      "needs_background": "light"
     },
     "output_type": "display_data"
    },
    {
     "data": {
      "image/png": "[encoded data removed]",
      "text/plain": [
       "<Figure size 432x288 with 1 Axes>"
      ]
     },
     "metadata": {
      "needs_background": "light"
     },
     "output_type": "display_data"
    },
    {
     "data": {
      "image/png": "[encoded data removed]",
      "text/plain": [
       "<Figure size 432x288 with 1 Axes>"
      ]
     },
     "metadata": {
      "needs_background": "light"
     },
     "output_type": "display_data"
    },
    {
     "data": {
      "image/png": "[encoded data removed]",
      "text/plain": [
       "<Figure size 432x288 with 1 Axes>"
      ]
     },
     "metadata": {
      "needs_background": "light"
     },
     "output_type": "display_data"
    },
    {
     "data": {
      "image/png": "[encoded data removed]",
      "text/plain": [
       "<Figure size 432x288 with 1 Axes>"
      ]
     },
     "metadata": {
      "needs_background": "light"
     },
     "output_type": "display_data"
    },
    {
     "data": {
      "image/png": "[encoded data removed]",
      "text/plain": [
       "<Figure size 432x288 with 1 Axes>"
      ]
     },
     "metadata": {
      "needs_background": "light"
     },
     "output_type": "display_data"
    },
    {
     "data": {
      "image/png": "[encoded data removed]",
      "text/plain": [
       "<Figure size 432x288 with 1 Axes>"
      ]
     },
     "metadata": {
      "needs_background": "light"
     },
     "output_type": "display_data"
    },
    {
     "data": {
      "image/png": "[encoded data removed]",
      "text/plain": [
       "<Figure size 432x288 with 1 Axes>"
      ]
     },
     "metadata": {
      "needs_background": "light"
     },
     "output_type": "display_data"
    },
    {
     "data": {
      "image/png": "[encoded data removed]",
      "text/plain": [
       "<Figure size 432x288 with 1 Axes>"
      ]
     },
     "metadata": {
      "needs_background": "light"
     },
     "output_type": "display_data"
    },
    {
     "data": {
      "image/png": "[encoded data removed]",
      "text/plain": [
       "<Figure size 432x288 with 1 Axes>"
      ]
     },
     "metadata": {
      "needs_background": "light"
     },
     "output_type": "display_data"
    },
    {
     "data": {
      "image/png": "[encoded data removed]",
      "text/plain": [
       "<Figure size 432x288 with 1 Axes>"
      ]
     },
     "metadata": {
      "needs_background": "light"
     },
     "output_type": "display_data"
    },
    {
     "data": {
      "image/png": "[encoded data removed]",
      "text/plain": [
       "<Figure size 432x288 with 1 Axes>"
      ]
     },
     "metadata": {
      "needs_background": "light"
     },
     "output_type": "display_data"
    },
    {
     "data": {
      "image/png": "[encoded data removed]",
      "text/plain": [
       "<Figure size 432x288 with 1 Axes>"
      ]
     },
     "metadata": {
      "needs_background": "light"
     },
     "output_type": "display_data"
    },
    {
     "data": {
      "image/png": "[encoded data removed]",
      "text/plain": [
       "<Figure size 432x288 with 1 Axes>"
      ]
     },
     "metadata": {
      "needs_background": "light"
     },
     "output_type": "display_data"
    },
    {
     "data": {
      "image/png": "[encoded data removed]",
      "text/plain": [
       "<Figure size 432x288 with 1 Axes>"
      ]
     },
     "metadata": {
      "needs_background": "light"
     },
     "output_type": "display_data"
    },
    {
     "data": {
      "image/png": "[encoded data removed]",
      "text/plain": [
       "<Figure size 432x288 with 1 Axes>"
      ]
     },
     "metadata": {
      "needs_background": "light"
     },
     "output_type": "display_data"
    },
    {
     "data": {
      "image/png": "[encoded data removed]",
      "text/plain": [
       "<Figure size 432x288 with 1 Axes>"
      ]
     },
     "metadata": {
      "needs_background": "light"
     },
     "output_type": "display_data"
    }
   ],
   "source": [
    "for col in numeric_data_on:\n",
    "    try:\n",
    "        if data[col].dtype !='object':\n",
    "            sns.distplot(data[col],label=col)\n",
    "            plt.show()\n",
    "    except ValueError:\n",
    "        pass\n",
    "    \n",
    "    "
   ]
  },
  {
   "cell_type": "code",
   "execution_count": 40,
   "metadata": {},
   "outputs": [],
   "source": [
    "DF=object_data.join(numeric_data_on)"
   ]
  },
  {
   "cell_type": "code",
   "execution_count": 42,
   "metadata": {},
   "outputs": [
    {
     "data": {
      "text/plain": [
       "Index(['dt_of_fr', 'fr_yn', 'bldng_us', 'bldng_archtctr', 'dt_of_athrztn', 'bldng_us_clssfctn', 'jmk', 'rgnl_ar_nm', 'rgnl_ar_nm2', 'lnd_us_sttn_nm', 'rd_sd_nm', 'emd_nm', 'mlt_us_yn', 'trgt_crtr', 'fr_fghtng_fclt_spcl_css_5_yn', 'fr_fghtng_fclt_spcl_css_6_yn', 'us_yn', 'dngrs_thng_yn', 'slf_fr_brgd_yn', 'blk_dngrs_thng_mnfctr_yn', 'cltrl_hrtg_yn', '주거용YN', '공업용YN', '농업용YN', '편의시설YN', '건물연령', '차량통행YN', '대로인접YN', '목재구조YN', 'target_value', '시YN', 'ahsm_dstnc', 'bldng_ar', 'bldng_ar_prc',\n",
       "       'bldng_cnt', 'bldng_cnt_in_50m', 'cctv_dstnc', 'cctv_in_100m', 'fr_mn_cnt', 'fr_sttn_dstnc', 'fr_wthr_fclt_dstnc', 'fr_wthr_fclt_in_100m', 'hm_cnt', 'hmdt', 'id', 'lnd_ar', 'lw_13101010', 'lw_13101110', 'lw_13101210', 'lw_13101211', 'lw_13101310', 'lw_13101410', 'lw_13111010', 'lw_13111110', 'lw_13121010', 'lw_13121011', 'lw_13131010', 'lw_13131110', 'lw_13141010', 'lw_13141011', 'no_tbc_zn_dstnc', 'prcpttn', 'sft_emrgnc_bll_dstnc', 'tbc_rtl_str_dstnc', 'tmprtr', 'ttl_ar', 'ttl_dwn_flr',\n",
       "       'ttl_grnd_flr', 'wnd_drctn', 'wnd_spd'],\n",
       "      dtype='object')"
      ]
     },
     "execution_count": 42,
     "metadata": {},
     "output_type": "execute_result"
    }
   ],
   "source": [
    "DF.columns"
   ]
  },
  {
   "cell_type": "code",
   "execution_count": 67,
   "metadata": {},
   "outputs": [],
   "source": [
    "data=DF.drop([\"dt_of_fr\",\"fr_yn\",\"bldng_us\",\"bldng_archtctr\",\"dt_of_athrztn\",\"bldng_us_clssfctn\",\"jmk\",\"rgnl_ar_nm\",\"rgnl_ar_nm2\",\"lnd_us_sttn_nm\",\"rd_sd_nm\",\"emd_nm\",\"mlt_us_yn\",\\\n",
    "             \"trgt_crtr\",\"fr_fghtng_fclt_spcl_css_5_yn\",\"fr_fghtng_fclt_spcl_css_6_yn\",\"us_yn\",\"dngrs_thng_yn\",\"slf_fr_brgd_yn\",\"blk_dngrs_thng_mnfctr_yn\",\"cltrl_hrtg_yn\"],axis=1)"
   ]
  },
  {
   "cell_type": "code",
   "execution_count": 68,
   "metadata": {},
   "outputs": [],
   "source": [
    "data.fillna(0,inplace=True)"
   ]
  },
  {
   "cell_type": "code",
   "execution_count": null,
   "metadata": {},
   "outputs": [],
   "source": []
  },
  {
   "cell_type": "code",
   "execution_count": 69,
   "metadata": {},
   "outputs": [],
   "source": [
    "data_index=data[\"id\"]\n",
    "\n",
    "data=data.set_index(\"id\")"
   ]
  },
  {
   "cell_type": "code",
   "execution_count": 70,
   "metadata": {},
   "outputs": [],
   "source": [
    "# 스케일링 후 다시 칼럼 네임 붙이기\n",
    "colnames=data.columns\n",
    "\n",
    "transformer = RobustScaler().fit(data)\n",
    "data=transformer.transform(data)\n",
    "\n",
    "\n",
    "data=pd.DataFrame(data)\n",
    "\n",
    "data.columns=colnames"
   ]
  },
  {
   "cell_type": "code",
   "execution_count": 50,
   "metadata": {},
   "outputs": [
    {
     "name": "stdout",
     "output_type": "stream",
     "text": [
      "NON FIRE 87.07 % of the dataset\n",
      "FIRE 12.93 % of the dataset\n"
     ]
    }
   ],
   "source": [
    "print('NON FIRE', round(data['target_value'].value_counts()[0]/len(data) * 100,2), '% of the dataset')\n",
    "print('FIRE', round(data['target_value'].value_counts()[1]/len(data) * 100,2), '% of the dataset')\n",
    "\n",
    "X = data.drop('target_value', axis=1)\n",
    "y = data['target_value']"
   ]
  },
  {
   "cell_type": "markdown",
   "metadata": {},
   "source": [
    "# Feature Selection"
   ]
  },
  {
   "cell_type": "code",
   "execution_count": 51,
   "metadata": {},
   "outputs": [
    {
     "name": "stdout",
     "output_type": "stream",
     "text": [
      "[2.64497107e-02 1.68625960e-02 4.59742401e-03 2.90570781e-02\n",
      " 7.45844637e-02 1.19308623e-02 1.90305632e-02 9.02370904e-03\n",
      " 1.00028746e-02 3.93083529e-02 5.47930689e-02 2.85918559e-02\n",
      " 3.37104980e-02 2.54910571e-02 3.31720519e-02 1.54582967e-02\n",
      " 2.74311463e-02 3.40770050e-02 5.12323280e-02 1.59282284e-02\n",
      " 3.57491186e-02 4.99859365e-02 3.65989361e-02 5.69996111e-04\n",
      " 1.16980660e-03 1.22658033e-03 1.21957167e-03 5.17854152e-04\n",
      " 4.38359958e-04 5.25375226e-04 4.48551320e-04 2.87212199e-05\n",
      " 6.40442318e-05 8.19160936e-04 4.52251632e-04 5.12913177e-04\n",
      " 4.95109624e-04 3.49896044e-02 7.44198122e-03 3.50261328e-02\n",
      " 3.46005515e-02 3.55032757e-02 4.80739756e-02 1.13201543e-02\n",
      " 3.34825721e-02 3.14648698e-02 3.65414243e-02]\n"
     ]
    },
    {
     "data": {
      "image/png": "[encoded data removed]",
      "text/plain": [
       "<Figure size 432x288 with 1 Axes>"
      ]
     },
     "metadata": {
      "needs_background": "light"
     },
     "output_type": "display_data"
    }
   ],
   "source": [
    "from sklearn.ensemble import ExtraTreesClassifier\n",
    "import matplotlib.pyplot as plt\n",
    "model = ExtraTreesClassifier()\n",
    "model.fit(X,y)\n",
    "print(model.feature_importances_) #use inbuilt class feature_importances of tree based classifiers\n",
    "#plot graph of feature importances for better visualization\n",
    "feat_importances = pd.Series(model.feature_importances_, index=X.columns)\n",
    "feat_importances.nlargest(10).plot(kind='barh')\n",
    "plt.show()"
   ]
  },
  {
   "cell_type": "code",
   "execution_count": 55,
   "metadata": {},
   "outputs": [
    {
     "data": {
      "text/plain": [
       "건물연령                   0.075\n",
       "bldng_ar               0.055\n",
       "fr_wthr_fclt_dstnc     0.051\n",
       "hmdt                   0.050\n",
       "ttl_ar                 0.048\n",
       "ahsm_dstnc             0.039\n",
       "lnd_ar                 0.037\n",
       "wnd_spd                0.037\n",
       "hm_cnt                 0.036\n",
       "tmprtr                 0.036\n",
       "sft_emrgnc_bll_dstnc   0.035\n",
       "no_tbc_zn_dstnc        0.035\n",
       "tbc_rtl_str_dstnc      0.035\n",
       "fr_sttn_dstnc          0.034\n",
       "bldng_cnt              0.034\n",
       "ttl_grnd_flr           0.033\n",
       "cctv_dstnc             0.033\n",
       "wnd_drctn              0.031\n",
       "편의시설YN                 0.029\n",
       "bldng_ar_prc           0.029\n",
       "fr_mn_cnt              0.027\n",
       "주거용YN                  0.026\n",
       "bldng_cnt_in_50m       0.025\n",
       "대로인접YN                 0.019\n",
       "공업용YN                  0.017\n",
       "fr_wthr_fclt_in_100m   0.016\n",
       "cctv_in_100m           0.015\n",
       "차량통행YN                 0.012\n",
       "ttl_dwn_flr            0.011\n",
       "시YN                    0.010\n",
       "목재구조YN                 0.009\n",
       "prcpttn                0.007\n",
       "농업용YN                  0.005\n",
       "lw_13101210            0.001\n",
       "lw_13101211            0.001\n",
       "lw_13101110            0.001\n",
       "lw_13131010            0.001\n",
       "lw_13101010            0.001\n",
       "lw_13111010            0.001\n",
       "lw_13101310            0.001\n",
       "lw_13141010            0.001\n",
       "lw_13141011            0.000\n",
       "lw_13131110            0.000\n",
       "lw_13111110            0.000\n",
       "lw_13101410            0.000\n",
       "lw_13121011            0.000\n",
       "lw_13121010            0.000\n",
       "dtype: float64"
      ]
     },
     "execution_count": 55,
     "metadata": {},
     "output_type": "execute_result"
    }
   ],
   "source": [
    "feat_importances.sort_values(ascending=False)"
   ]
  },
  {
   "cell_type": "code",
   "execution_count": 77,
   "metadata": {},
   "outputs": [],
   "source": [
    "중요_변수_리스트=feat_importances[feat_importances>0.002].index.tolist()"
   ]
  },
  {
   "cell_type": "code",
   "execution_count": 79,
   "metadata": {},
   "outputs": [],
   "source": [
    "중요_변수_리스트.append(\"target_value\")"
   ]
  },
  {
   "cell_type": "code",
   "execution_count": 81,
   "metadata": {},
   "outputs": [
    {
     "data": {
      "text/html": [
       "<div>\n",
       "<style scoped>\n",
       "    .dataframe tbody tr th:only-of-type {\n",
       "        vertical-align: middle;\n",
       "    }\n",
       "\n",
       "    .dataframe tbody tr th {\n",
       "        vertical-align: top;\n",
       "    }\n",
       "\n",
       "    .dataframe thead th {\n",
       "        text-align: right;\n",
       "    }\n",
       "</style>\n",
       "<table border=\"1\" class=\"dataframe\">\n",
       "  <thead>\n",
       "    <tr style=\"text-align: right;\">\n",
       "      <th></th>\n",
       "      <th>주거용YN</th>\n",
       "      <th>공업용YN</th>\n",
       "      <th>농업용YN</th>\n",
       "      <th>편의시설YN</th>\n",
       "      <th>건물연령</th>\n",
       "      <th>차량통행YN</th>\n",
       "      <th>대로인접YN</th>\n",
       "      <th>목재구조YN</th>\n",
       "      <th>시YN</th>\n",
       "      <th>ahsm_dstnc</th>\n",
       "      <th>bldng_ar</th>\n",
       "      <th>bldng_ar_prc</th>\n",
       "      <th>bldng_cnt</th>\n",
       "      <th>bldng_cnt_in_50m</th>\n",
       "      <th>cctv_dstnc</th>\n",
       "      <th>cctv_in_100m</th>\n",
       "      <th>fr_mn_cnt</th>\n",
       "      <th>fr_sttn_dstnc</th>\n",
       "      <th>fr_wthr_fclt_dstnc</th>\n",
       "      <th>fr_wthr_fclt_in_100m</th>\n",
       "      <th>hm_cnt</th>\n",
       "      <th>hmdt</th>\n",
       "      <th>lnd_ar</th>\n",
       "      <th>no_tbc_zn_dstnc</th>\n",
       "      <th>prcpttn</th>\n",
       "      <th>sft_emrgnc_bll_dstnc</th>\n",
       "      <th>tbc_rtl_str_dstnc</th>\n",
       "      <th>tmprtr</th>\n",
       "      <th>ttl_ar</th>\n",
       "      <th>ttl_dwn_flr</th>\n",
       "      <th>ttl_grnd_flr</th>\n",
       "      <th>wnd_drctn</th>\n",
       "      <th>wnd_spd</th>\n",
       "      <th>target_value</th>\n",
       "    </tr>\n",
       "  </thead>\n",
       "  <tbody>\n",
       "    <tr>\n",
       "      <td>0</td>\n",
       "      <td>1.000</td>\n",
       "      <td>0.000</td>\n",
       "      <td>0.000</td>\n",
       "      <td>0.000</td>\n",
       "      <td>1.833</td>\n",
       "      <td>-1.000</td>\n",
       "      <td>0.000</td>\n",
       "      <td>0.000</td>\n",
       "      <td>-1.000</td>\n",
       "      <td>0.602</td>\n",
       "      <td>-0.168</td>\n",
       "      <td>-0.351</td>\n",
       "      <td>0.333</td>\n",
       "      <td>0.000</td>\n",
       "      <td>-0.223</td>\n",
       "      <td>0.000</td>\n",
       "      <td>-0.375</td>\n",
       "      <td>0.015</td>\n",
       "      <td>-0.214</td>\n",
       "      <td>0.000</td>\n",
       "      <td>1.097</td>\n",
       "      <td>0.718</td>\n",
       "      <td>-0.359</td>\n",
       "      <td>-0.244</td>\n",
       "      <td>0.000</td>\n",
       "      <td>0.064</td>\n",
       "      <td>-0.066</td>\n",
       "      <td>-0.252</td>\n",
       "      <td>-0.170</td>\n",
       "      <td>0.000</td>\n",
       "      <td>0.000</td>\n",
       "      <td>0.160</td>\n",
       "      <td>-0.187</td>\n",
       "      <td>1.000</td>\n",
       "    </tr>\n",
       "    <tr>\n",
       "      <td>1</td>\n",
       "      <td>0.000</td>\n",
       "      <td>0.000</td>\n",
       "      <td>0.000</td>\n",
       "      <td>0.000</td>\n",
       "      <td>0.000</td>\n",
       "      <td>0.000</td>\n",
       "      <td>0.000</td>\n",
       "      <td>0.000</td>\n",
       "      <td>-1.000</td>\n",
       "      <td>0.012</td>\n",
       "      <td>-0.381</td>\n",
       "      <td>-0.169</td>\n",
       "      <td>0.333</td>\n",
       "      <td>0.000</td>\n",
       "      <td>0.672</td>\n",
       "      <td>0.000</td>\n",
       "      <td>-1.188</td>\n",
       "      <td>0.280</td>\n",
       "      <td>-0.065</td>\n",
       "      <td>0.000</td>\n",
       "      <td>-0.369</td>\n",
       "      <td>0.154</td>\n",
       "      <td>-0.359</td>\n",
       "      <td>5.326</td>\n",
       "      <td>0.000</td>\n",
       "      <td>-0.190</td>\n",
       "      <td>0.530</td>\n",
       "      <td>0.302</td>\n",
       "      <td>-0.311</td>\n",
       "      <td>0.000</td>\n",
       "      <td>0.000</td>\n",
       "      <td>-0.560</td>\n",
       "      <td>-0.437</td>\n",
       "      <td>0.000</td>\n",
       "    </tr>\n",
       "    <tr>\n",
       "      <td>2</td>\n",
       "      <td>1.000</td>\n",
       "      <td>0.000</td>\n",
       "      <td>0.000</td>\n",
       "      <td>0.000</td>\n",
       "      <td>-2.000</td>\n",
       "      <td>0.000</td>\n",
       "      <td>1.000</td>\n",
       "      <td>0.000</td>\n",
       "      <td>-1.000</td>\n",
       "      <td>0.686</td>\n",
       "      <td>4.559</td>\n",
       "      <td>0.564</td>\n",
       "      <td>-0.333</td>\n",
       "      <td>4.667</td>\n",
       "      <td>-0.156</td>\n",
       "      <td>0.000</td>\n",
       "      <td>-0.375</td>\n",
       "      <td>-0.159</td>\n",
       "      <td>-0.210</td>\n",
       "      <td>0.000</td>\n",
       "      <td>1.090</td>\n",
       "      <td>-1.205</td>\n",
       "      <td>2.883</td>\n",
       "      <td>-0.255</td>\n",
       "      <td>0.000</td>\n",
       "      <td>0.121</td>\n",
       "      <td>-0.430</td>\n",
       "      <td>0.050</td>\n",
       "      <td>14.766</td>\n",
       "      <td>0.000</td>\n",
       "      <td>4.000</td>\n",
       "      <td>-0.280</td>\n",
       "      <td>0.500</td>\n",
       "      <td>1.000</td>\n",
       "    </tr>\n",
       "    <tr>\n",
       "      <td>3</td>\n",
       "      <td>1.000</td>\n",
       "      <td>0.000</td>\n",
       "      <td>0.000</td>\n",
       "      <td>0.000</td>\n",
       "      <td>8.667</td>\n",
       "      <td>-1.000</td>\n",
       "      <td>0.000</td>\n",
       "      <td>1.000</td>\n",
       "      <td>0.000</td>\n",
       "      <td>-0.208</td>\n",
       "      <td>-0.357</td>\n",
       "      <td>0.715</td>\n",
       "      <td>0.000</td>\n",
       "      <td>3.667</td>\n",
       "      <td>-0.199</td>\n",
       "      <td>0.000</td>\n",
       "      <td>0.234</td>\n",
       "      <td>-0.613</td>\n",
       "      <td>0.396</td>\n",
       "      <td>0.000</td>\n",
       "      <td>0.152</td>\n",
       "      <td>0.590</td>\n",
       "      <td>-0.359</td>\n",
       "      <td>0.063</td>\n",
       "      <td>0.000</td>\n",
       "      <td>-0.660</td>\n",
       "      <td>-0.394</td>\n",
       "      <td>0.371</td>\n",
       "      <td>-0.295</td>\n",
       "      <td>0.000</td>\n",
       "      <td>0.000</td>\n",
       "      <td>-0.640</td>\n",
       "      <td>-0.500</td>\n",
       "      <td>0.000</td>\n",
       "    </tr>\n",
       "    <tr>\n",
       "      <td>4</td>\n",
       "      <td>0.000</td>\n",
       "      <td>0.000</td>\n",
       "      <td>1.000</td>\n",
       "      <td>0.000</td>\n",
       "      <td>0.000</td>\n",
       "      <td>-1.000</td>\n",
       "      <td>0.000</td>\n",
       "      <td>0.000</td>\n",
       "      <td>-1.000</td>\n",
       "      <td>0.688</td>\n",
       "      <td>-0.806</td>\n",
       "      <td>-0.351</td>\n",
       "      <td>0.000</td>\n",
       "      <td>0.000</td>\n",
       "      <td>0.504</td>\n",
       "      <td>0.000</td>\n",
       "      <td>-0.375</td>\n",
       "      <td>0.054</td>\n",
       "      <td>-0.017</td>\n",
       "      <td>0.000</td>\n",
       "      <td>1.089</td>\n",
       "      <td>0.538</td>\n",
       "      <td>-0.359</td>\n",
       "      <td>0.208</td>\n",
       "      <td>0.000</td>\n",
       "      <td>0.079</td>\n",
       "      <td>-0.109</td>\n",
       "      <td>-0.126</td>\n",
       "      <td>-0.593</td>\n",
       "      <td>0.000</td>\n",
       "      <td>-1.000</td>\n",
       "      <td>0.800</td>\n",
       "      <td>-0.375</td>\n",
       "      <td>0.000</td>\n",
       "    </tr>\n",
       "    <tr>\n",
       "      <td>...</td>\n",
       "      <td>...</td>\n",
       "      <td>...</td>\n",
       "      <td>...</td>\n",
       "      <td>...</td>\n",
       "      <td>...</td>\n",
       "      <td>...</td>\n",
       "      <td>...</td>\n",
       "      <td>...</td>\n",
       "      <td>...</td>\n",
       "      <td>...</td>\n",
       "      <td>...</td>\n",
       "      <td>...</td>\n",
       "      <td>...</td>\n",
       "      <td>...</td>\n",
       "      <td>...</td>\n",
       "      <td>...</td>\n",
       "      <td>...</td>\n",
       "      <td>...</td>\n",
       "      <td>...</td>\n",
       "      <td>...</td>\n",
       "      <td>...</td>\n",
       "      <td>...</td>\n",
       "      <td>...</td>\n",
       "      <td>...</td>\n",
       "      <td>...</td>\n",
       "      <td>...</td>\n",
       "      <td>...</td>\n",
       "      <td>...</td>\n",
       "      <td>...</td>\n",
       "      <td>...</td>\n",
       "      <td>...</td>\n",
       "      <td>...</td>\n",
       "      <td>...</td>\n",
       "      <td>...</td>\n",
       "    </tr>\n",
       "    <tr>\n",
       "      <td>59194</td>\n",
       "      <td>0.000</td>\n",
       "      <td>0.000</td>\n",
       "      <td>0.000</td>\n",
       "      <td>0.000</td>\n",
       "      <td>-1.333</td>\n",
       "      <td>0.000</td>\n",
       "      <td>0.000</td>\n",
       "      <td>0.000</td>\n",
       "      <td>-1.000</td>\n",
       "      <td>0.257</td>\n",
       "      <td>3.081</td>\n",
       "      <td>-0.351</td>\n",
       "      <td>0.000</td>\n",
       "      <td>0.000</td>\n",
       "      <td>1.068</td>\n",
       "      <td>0.000</td>\n",
       "      <td>-0.344</td>\n",
       "      <td>-0.145</td>\n",
       "      <td>0.106</td>\n",
       "      <td>0.000</td>\n",
       "      <td>1.435</td>\n",
       "      <td>-0.692</td>\n",
       "      <td>6.390</td>\n",
       "      <td>0.359</td>\n",
       "      <td>0.000</td>\n",
       "      <td>-0.679</td>\n",
       "      <td>0.318</td>\n",
       "      <td>-0.220</td>\n",
       "      <td>1.988</td>\n",
       "      <td>0.000</td>\n",
       "      <td>-1.000</td>\n",
       "      <td>-0.640</td>\n",
       "      <td>-0.625</td>\n",
       "      <td>0.000</td>\n",
       "    </tr>\n",
       "    <tr>\n",
       "      <td>59195</td>\n",
       "      <td>0.000</td>\n",
       "      <td>0.000</td>\n",
       "      <td>0.000</td>\n",
       "      <td>0.000</td>\n",
       "      <td>0.000</td>\n",
       "      <td>0.000</td>\n",
       "      <td>0.000</td>\n",
       "      <td>0.000</td>\n",
       "      <td>-1.000</td>\n",
       "      <td>-0.143</td>\n",
       "      <td>50.597</td>\n",
       "      <td>2.388</td>\n",
       "      <td>11.000</td>\n",
       "      <td>0.000</td>\n",
       "      <td>-0.228</td>\n",
       "      <td>0.000</td>\n",
       "      <td>-0.344</td>\n",
       "      <td>-0.476</td>\n",
       "      <td>-0.233</td>\n",
       "      <td>0.000</td>\n",
       "      <td>1.441</td>\n",
       "      <td>0.103</td>\n",
       "      <td>-0.359</td>\n",
       "      <td>-0.212</td>\n",
       "      <td>0.000</td>\n",
       "      <td>-0.782</td>\n",
       "      <td>0.100</td>\n",
       "      <td>0.006</td>\n",
       "      <td>334.042</td>\n",
       "      <td>0.000</td>\n",
       "      <td>170.000</td>\n",
       "      <td>-0.560</td>\n",
       "      <td>0.437</td>\n",
       "      <td>0.000</td>\n",
       "    </tr>\n",
       "    <tr>\n",
       "      <td>59196</td>\n",
       "      <td>0.000</td>\n",
       "      <td>1.000</td>\n",
       "      <td>0.000</td>\n",
       "      <td>0.000</td>\n",
       "      <td>0.000</td>\n",
       "      <td>0.000</td>\n",
       "      <td>1.000</td>\n",
       "      <td>0.000</td>\n",
       "      <td>-1.000</td>\n",
       "      <td>0.124</td>\n",
       "      <td>21.587</td>\n",
       "      <td>-0.351</td>\n",
       "      <td>0.000</td>\n",
       "      <td>0.000</td>\n",
       "      <td>0.862</td>\n",
       "      <td>0.000</td>\n",
       "      <td>-0.344</td>\n",
       "      <td>0.206</td>\n",
       "      <td>-0.260</td>\n",
       "      <td>2.000</td>\n",
       "      <td>-0.254</td>\n",
       "      <td>-0.256</td>\n",
       "      <td>14.242</td>\n",
       "      <td>0.268</td>\n",
       "      <td>0.000</td>\n",
       "      <td>-0.606</td>\n",
       "      <td>0.471</td>\n",
       "      <td>-0.088</td>\n",
       "      <td>14.473</td>\n",
       "      <td>0.000</td>\n",
       "      <td>3.000</td>\n",
       "      <td>0.280</td>\n",
       "      <td>1.250</td>\n",
       "      <td>0.000</td>\n",
       "    </tr>\n",
       "    <tr>\n",
       "      <td>59197</td>\n",
       "      <td>0.000</td>\n",
       "      <td>0.000</td>\n",
       "      <td>1.000</td>\n",
       "      <td>1.000</td>\n",
       "      <td>-2.833</td>\n",
       "      <td>-1.000</td>\n",
       "      <td>0.000</td>\n",
       "      <td>0.000</td>\n",
       "      <td>-1.000</td>\n",
       "      <td>0.027</td>\n",
       "      <td>1.796</td>\n",
       "      <td>-0.351</td>\n",
       "      <td>0.000</td>\n",
       "      <td>0.000</td>\n",
       "      <td>-0.141</td>\n",
       "      <td>0.000</td>\n",
       "      <td>-0.344</td>\n",
       "      <td>0.595</td>\n",
       "      <td>-0.056</td>\n",
       "      <td>0.000</td>\n",
       "      <td>-0.184</td>\n",
       "      <td>0.692</td>\n",
       "      <td>-0.359</td>\n",
       "      <td>0.139</td>\n",
       "      <td>1.000</td>\n",
       "      <td>-0.490</td>\n",
       "      <td>-0.180</td>\n",
       "      <td>0.220</td>\n",
       "      <td>0.674</td>\n",
       "      <td>0.000</td>\n",
       "      <td>1.000</td>\n",
       "      <td>0.800</td>\n",
       "      <td>0.125</td>\n",
       "      <td>0.000</td>\n",
       "    </tr>\n",
       "    <tr>\n",
       "      <td>59198</td>\n",
       "      <td>0.000</td>\n",
       "      <td>0.000</td>\n",
       "      <td>1.000</td>\n",
       "      <td>0.000</td>\n",
       "      <td>-2.333</td>\n",
       "      <td>-1.000</td>\n",
       "      <td>0.000</td>\n",
       "      <td>0.000</td>\n",
       "      <td>-1.000</td>\n",
       "      <td>0.635</td>\n",
       "      <td>0.749</td>\n",
       "      <td>-0.351</td>\n",
       "      <td>0.333</td>\n",
       "      <td>0.000</td>\n",
       "      <td>0.038</td>\n",
       "      <td>0.000</td>\n",
       "      <td>-0.375</td>\n",
       "      <td>-0.580</td>\n",
       "      <td>-0.129</td>\n",
       "      <td>0.000</td>\n",
       "      <td>-0.292</td>\n",
       "      <td>0.590</td>\n",
       "      <td>0.845</td>\n",
       "      <td>-0.005</td>\n",
       "      <td>0.000</td>\n",
       "      <td>0.185</td>\n",
       "      <td>-0.082</td>\n",
       "      <td>0.113</td>\n",
       "      <td>0.440</td>\n",
       "      <td>0.000</td>\n",
       "      <td>0.000</td>\n",
       "      <td>0.160</td>\n",
       "      <td>-0.250</td>\n",
       "      <td>0.000</td>\n",
       "    </tr>\n",
       "  </tbody>\n",
       "</table>\n",
       "<p>59199 rows × 34 columns</p>\n",
       "</div>"
      ],
      "text/plain": [
       "       주거용YN  공업용YN  농업용YN  편의시설YN   건물연령  차량통행YN  대로인접YN  목재구조YN    시YN  ahsm_dstnc  bldng_ar  bldng_ar_prc  bldng_cnt  bldng_cnt_in_50m  cctv_dstnc  cctv_in_100m  fr_mn_cnt  fr_sttn_dstnc  fr_wthr_fclt_dstnc  fr_wthr_fclt_in_100m  hm_cnt   hmdt  lnd_ar  no_tbc_zn_dstnc  prcpttn  sft_emrgnc_bll_dstnc  tbc_rtl_str_dstnc  tmprtr  ttl_ar  ttl_dwn_flr  ttl_grnd_flr  wnd_drctn  wnd_spd  target_value\n",
       "0      1.000  0.000  0.000   0.000  1.833  -1.000   0.000   0.000 -1.000       0.602    -0.168        -0.351      0.333             0.000      -0.223         0.000     -0.375          0.015              -0.214                 0.000   1.097  0.718  -0.359           -0.244    0.000                 0.064             -0.066  -0.252  -0.170        0.000         0.000      0.160   -0.187         1.000\n",
       "1      0.000  0.000  0.000   0.000  0.000   0.000   0.000   0.000 -1.000       0.012    -0.381        -0.169      0.333             0.000       0.672         0.000     -1.188          0.280              -0.065                 0.000  -0.369  0.154  -0.359            5.326    0.000                -0.190              0.530   0.302  -0.311        0.000         0.000     -0.560   -0.437         0.000\n",
       "2      1.000  0.000  0.000   0.000 -2.000   0.000   1.000   0.000 -1.000       0.686     4.559         0.564     -0.333             4.667      -0.156         0.000     -0.375         -0.159              -0.210                 0.000   1.090 -1.205   2.883           -0.255    0.000                 0.121             -0.430   0.050  14.766        0.000         4.000     -0.280    0.500         1.000\n",
       "3      1.000  0.000  0.000   0.000  8.667  -1.000   0.000   1.000  0.000      -0.208    -0.357         0.715      0.000             3.667      -0.199         0.000      0.234         -0.613               0.396                 0.000   0.152  0.590  -0.359            0.063    0.000                -0.660             -0.394   0.371  -0.295        0.000         0.000     -0.640   -0.500         0.000\n",
       "4      0.000  0.000  1.000   0.000  0.000  -1.000   0.000   0.000 -1.000       0.688    -0.806        -0.351      0.000             0.000       0.504         0.000     -0.375          0.054              -0.017                 0.000   1.089  0.538  -0.359            0.208    0.000                 0.079             -0.109  -0.126  -0.593        0.000        -1.000      0.800   -0.375         0.000\n",
       "...      ...    ...    ...     ...    ...     ...     ...     ...    ...         ...       ...           ...        ...               ...         ...           ...        ...            ...                 ...                   ...     ...    ...     ...              ...      ...                   ...                ...     ...     ...          ...           ...        ...      ...           ...\n",
       "59194  0.000  0.000  0.000   0.000 -1.333   0.000   0.000   0.000 -1.000       0.257     3.081        -0.351      0.000             0.000       1.068         0.000     -0.344         -0.145               0.106                 0.000   1.435 -0.692   6.390            0.359    0.000                -0.679              0.318  -0.220   1.988        0.000        -1.000     -0.640   -0.625         0.000\n",
       "59195  0.000  0.000  0.000   0.000  0.000   0.000   0.000   0.000 -1.000      -0.143    50.597         2.388     11.000             0.000      -0.228         0.000     -0.344         -0.476              -0.233                 0.000   1.441  0.103  -0.359           -0.212    0.000                -0.782              0.100   0.006 334.042        0.000       170.000     -0.560    0.437         0.000\n",
       "59196  0.000  1.000  0.000   0.000  0.000   0.000   1.000   0.000 -1.000       0.124    21.587        -0.351      0.000             0.000       0.862         0.000     -0.344          0.206              -0.260                 2.000  -0.254 -0.256  14.242            0.268    0.000                -0.606              0.471  -0.088  14.473        0.000         3.000      0.280    1.250         0.000\n",
       "59197  0.000  0.000  1.000   1.000 -2.833  -1.000   0.000   0.000 -1.000       0.027     1.796        -0.351      0.000             0.000      -0.141         0.000     -0.344          0.595              -0.056                 0.000  -0.184  0.692  -0.359            0.139    1.000                -0.490             -0.180   0.220   0.674        0.000         1.000      0.800    0.125         0.000\n",
       "59198  0.000  0.000  1.000   0.000 -2.333  -1.000   0.000   0.000 -1.000       0.635     0.749        -0.351      0.333             0.000       0.038         0.000     -0.375         -0.580              -0.129                 0.000  -0.292  0.590   0.845           -0.005    0.000                 0.185             -0.082   0.113   0.440        0.000         0.000      0.160   -0.250         0.000\n",
       "\n",
       "[59199 rows x 34 columns]"
      ]
     },
     "execution_count": 81,
     "metadata": {},
     "output_type": "execute_result"
    }
   ],
   "source": [
    "data[중요_변수_리스트]"
   ]
  },
  {
   "cell_type": "code",
   "execution_count": 82,
   "metadata": {},
   "outputs": [
    {
     "name": "stdout",
     "output_type": "stream",
     "text": [
      "NON FIRE 87.07 % of the dataset\n",
      "FIRE 12.93 % of the dataset\n"
     ]
    }
   ],
   "source": [
    "print('NON FIRE', round(data['target_value'].value_counts()[0]/len(data) * 100,2), '% of the dataset')\n",
    "print('FIRE', round(data['target_value'].value_counts()[1]/len(data) * 100,2), '% of the dataset')\n",
    "\n",
    "X = data.drop('target_value', axis=1)\n",
    "y = data['target_value']"
   ]
  },
  {
   "cell_type": "code",
   "execution_count": 86,
   "metadata": {},
   "outputs": [
    {
     "name": "stdout",
     "output_type": "stream",
     "text": [
      "7657 and 51542\n"
     ]
    }
   ],
   "source": [
    "# 타겟의 샘플 수\n",
    "target_sample=data.groupby('target_value').count().iloc[1,1]\n",
    "print(target_sample,\"and\",data.groupby('target_value').count().iloc[0,1])"
   ]
  },
  {
   "cell_type": "code",
   "execution_count": 87,
   "metadata": {},
   "outputs": [
    {
     "name": "stdout",
     "output_type": "stream",
     "text": [
      "Train: [11653 11654 11655 ... 59196 59197 59198] Test: [    0     1     2 ... 12779 12786 12791]\n",
      "Train: [    0     1     2 ... 59196 59197 59198] Test: [11653 11654 11655 ... 27866 27869 27879]\n",
      "Train: [    0     1     2 ... 59196 59197 59198] Test: [23132 23133 23134 ... 40962 40968 40980]\n",
      "Train: [    0     1     2 ... 59196 59197 59198] Test: [34787 34788 34789 ... 51751 51753 51755]\n",
      "Train: [    0     1     2 ... 51751 51753 51755] Test: [46538 46539 46540 ... 59196 59197 59198]\n"
     ]
    }
   ],
   "source": [
    "sss = StratifiedKFold(n_splits=5, random_state=None, shuffle=False)\n",
    "\n",
    "for train_index, test_index in sss.split(X, y):\n",
    "    print(\"Train:\", train_index, \"Test:\", test_index)\n",
    "    original_Xtrain, original_Xtest = X.iloc[train_index], X.iloc[test_index]\n",
    "    original_ytrain, original_ytest = y.iloc[train_index], y.iloc[test_index]"
   ]
  },
  {
   "cell_type": "code",
   "execution_count": 88,
   "metadata": {},
   "outputs": [
    {
     "name": "stdout",
     "output_type": "stream",
     "text": [
      "----------------------------------------------------------------------------------------------------\n",
      "Label Distributions: \n",
      "\n",
      "[0.87065034 0.12934966]\n",
      "[0.87068165 0.12931835]\n"
     ]
    }
   ],
   "source": [
    "# We already have X_train and y_train for undersample data thats why I am using original to distinguish and to not overwrite these variables.\n",
    "# original_Xtrain, original_Xtest, original_ytrain, original_ytest = train_test_split(X, y, test_size=0.2, random_state=42)\n",
    "\n",
    "# Check the Distribution of the labels\n",
    "\n",
    "\n",
    "# Turn into an array\n",
    "original_Xtrain = original_Xtrain.values\n",
    "original_Xtest = original_Xtest.values\n",
    "original_ytrain = original_ytrain.values\n",
    "original_ytest = original_ytest.values\n",
    "\n",
    "# See if both the train and test label distribution are similarly distributed\n",
    "train_unique_label, train_counts_label = np.unique(original_ytrain, return_counts=True)\n",
    "test_unique_label, test_counts_label = np.unique(original_ytest, return_counts=True)\n",
    "print('-' * 100)\n",
    "\n",
    "print('Label Distributions: \\n')\n",
    "print(train_counts_label/ len(original_ytrain))\n",
    "print(test_counts_label/ len(original_ytest))"
   ]
  },
  {
   "cell_type": "code",
   "execution_count": 89,
   "metadata": {},
   "outputs": [],
   "source": [
    "# Random Under-Sampling\n",
    "\n",
    "data = data.sample(frac=1)\n",
    "\n",
    "# amount of fraud classes 492 rows.\n",
    "Return = data.loc[data['target_value'] == 1]\n",
    "Non_Return = data.loc[data['target_value'] == 0][:target_sample]\n",
    "\n",
    "normal_distributed_df = pd.concat([Return, Non_Return])"
   ]
  },
  {
   "cell_type": "code",
   "execution_count": 90,
   "metadata": {},
   "outputs": [
    {
     "data": {
      "text/html": [
       "<div>\n",
       "<style scoped>\n",
       "    .dataframe tbody tr th:only-of-type {\n",
       "        vertical-align: middle;\n",
       "    }\n",
       "\n",
       "    .dataframe tbody tr th {\n",
       "        vertical-align: top;\n",
       "    }\n",
       "\n",
       "    .dataframe thead th {\n",
       "        text-align: right;\n",
       "    }\n",
       "</style>\n",
       "<table border=\"1\" class=\"dataframe\">\n",
       "  <thead>\n",
       "    <tr style=\"text-align: right;\">\n",
       "      <th></th>\n",
       "      <th>주거용YN</th>\n",
       "      <th>공업용YN</th>\n",
       "      <th>농업용YN</th>\n",
       "      <th>편의시설YN</th>\n",
       "      <th>건물연령</th>\n",
       "      <th>차량통행YN</th>\n",
       "      <th>대로인접YN</th>\n",
       "      <th>목재구조YN</th>\n",
       "      <th>target_value</th>\n",
       "      <th>시YN</th>\n",
       "      <th>ahsm_dstnc</th>\n",
       "      <th>bldng_ar</th>\n",
       "      <th>bldng_ar_prc</th>\n",
       "      <th>bldng_cnt</th>\n",
       "      <th>bldng_cnt_in_50m</th>\n",
       "      <th>cctv_dstnc</th>\n",
       "      <th>cctv_in_100m</th>\n",
       "      <th>fr_mn_cnt</th>\n",
       "      <th>fr_sttn_dstnc</th>\n",
       "      <th>fr_wthr_fclt_dstnc</th>\n",
       "      <th>fr_wthr_fclt_in_100m</th>\n",
       "      <th>hm_cnt</th>\n",
       "      <th>hmdt</th>\n",
       "      <th>lnd_ar</th>\n",
       "      <th>lw_13101010</th>\n",
       "      <th>lw_13101110</th>\n",
       "      <th>lw_13101210</th>\n",
       "      <th>lw_13101211</th>\n",
       "      <th>lw_13101310</th>\n",
       "      <th>lw_13101410</th>\n",
       "      <th>lw_13111010</th>\n",
       "      <th>lw_13111110</th>\n",
       "      <th>lw_13121010</th>\n",
       "      <th>lw_13121011</th>\n",
       "      <th>lw_13131010</th>\n",
       "      <th>lw_13131110</th>\n",
       "      <th>lw_13141010</th>\n",
       "      <th>lw_13141011</th>\n",
       "      <th>no_tbc_zn_dstnc</th>\n",
       "      <th>prcpttn</th>\n",
       "      <th>sft_emrgnc_bll_dstnc</th>\n",
       "      <th>tbc_rtl_str_dstnc</th>\n",
       "      <th>tmprtr</th>\n",
       "      <th>ttl_ar</th>\n",
       "      <th>ttl_dwn_flr</th>\n",
       "      <th>ttl_grnd_flr</th>\n",
       "      <th>wnd_drctn</th>\n",
       "      <th>wnd_spd</th>\n",
       "    </tr>\n",
       "  </thead>\n",
       "  <tbody>\n",
       "    <tr>\n",
       "      <td>56915</td>\n",
       "      <td>0.000</td>\n",
       "      <td>0.000</td>\n",
       "      <td>0.000</td>\n",
       "      <td>1.000</td>\n",
       "      <td>-0.833</td>\n",
       "      <td>0.000</td>\n",
       "      <td>0.000</td>\n",
       "      <td>0.000</td>\n",
       "      <td>0.000</td>\n",
       "      <td>0.000</td>\n",
       "      <td>2.745</td>\n",
       "      <td>2.245</td>\n",
       "      <td>0.821</td>\n",
       "      <td>0.000</td>\n",
       "      <td>0.000</td>\n",
       "      <td>-0.274</td>\n",
       "      <td>2.000</td>\n",
       "      <td>0.688</td>\n",
       "      <td>0.414</td>\n",
       "      <td>-0.238</td>\n",
       "      <td>1.000</td>\n",
       "      <td>0.947</td>\n",
       "      <td>0.538</td>\n",
       "      <td>0.914</td>\n",
       "      <td>0.000</td>\n",
       "      <td>0.000</td>\n",
       "      <td>0.000</td>\n",
       "      <td>0.000</td>\n",
       "      <td>0.000</td>\n",
       "      <td>0.000</td>\n",
       "      <td>0.000</td>\n",
       "      <td>0.000</td>\n",
       "      <td>0.000</td>\n",
       "      <td>0.000</td>\n",
       "      <td>0.000</td>\n",
       "      <td>0.000</td>\n",
       "      <td>0.000</td>\n",
       "      <td>0.000</td>\n",
       "      <td>-0.253</td>\n",
       "      <td>0.000</td>\n",
       "      <td>-0.029</td>\n",
       "      <td>-0.391</td>\n",
       "      <td>0.579</td>\n",
       "      <td>1.433</td>\n",
       "      <td>0.000</td>\n",
       "      <td>0.000</td>\n",
       "      <td>-0.640</td>\n",
       "      <td>-0.750</td>\n",
       "    </tr>\n",
       "    <tr>\n",
       "      <td>50300</td>\n",
       "      <td>0.000</td>\n",
       "      <td>0.000</td>\n",
       "      <td>0.000</td>\n",
       "      <td>0.000</td>\n",
       "      <td>0.000</td>\n",
       "      <td>0.000</td>\n",
       "      <td>0.000</td>\n",
       "      <td>0.000</td>\n",
       "      <td>0.000</td>\n",
       "      <td>0.000</td>\n",
       "      <td>-0.127</td>\n",
       "      <td>-0.806</td>\n",
       "      <td>-0.351</td>\n",
       "      <td>0.000</td>\n",
       "      <td>5.000</td>\n",
       "      <td>0.918</td>\n",
       "      <td>0.000</td>\n",
       "      <td>0.234</td>\n",
       "      <td>0.276</td>\n",
       "      <td>0.259</td>\n",
       "      <td>0.000</td>\n",
       "      <td>-0.136</td>\n",
       "      <td>0.000</td>\n",
       "      <td>0.753</td>\n",
       "      <td>0.000</td>\n",
       "      <td>0.000</td>\n",
       "      <td>0.000</td>\n",
       "      <td>0.000</td>\n",
       "      <td>0.000</td>\n",
       "      <td>0.000</td>\n",
       "      <td>0.000</td>\n",
       "      <td>0.000</td>\n",
       "      <td>0.000</td>\n",
       "      <td>0.000</td>\n",
       "      <td>0.000</td>\n",
       "      <td>0.000</td>\n",
       "      <td>0.000</td>\n",
       "      <td>0.000</td>\n",
       "      <td>2.485</td>\n",
       "      <td>0.000</td>\n",
       "      <td>-0.204</td>\n",
       "      <td>0.137</td>\n",
       "      <td>-0.528</td>\n",
       "      <td>-0.593</td>\n",
       "      <td>0.000</td>\n",
       "      <td>1.000</td>\n",
       "      <td>0.800</td>\n",
       "      <td>-0.312</td>\n",
       "    </tr>\n",
       "    <tr>\n",
       "      <td>49986</td>\n",
       "      <td>1.000</td>\n",
       "      <td>0.000</td>\n",
       "      <td>0.000</td>\n",
       "      <td>0.000</td>\n",
       "      <td>-3.167</td>\n",
       "      <td>0.000</td>\n",
       "      <td>0.000</td>\n",
       "      <td>0.000</td>\n",
       "      <td>0.000</td>\n",
       "      <td>-1.000</td>\n",
       "      <td>0.123</td>\n",
       "      <td>0.408</td>\n",
       "      <td>0.622</td>\n",
       "      <td>1.333</td>\n",
       "      <td>0.000</td>\n",
       "      <td>0.049</td>\n",
       "      <td>0.000</td>\n",
       "      <td>-0.344</td>\n",
       "      <td>-0.079</td>\n",
       "      <td>0.139</td>\n",
       "      <td>0.000</td>\n",
       "      <td>-0.338</td>\n",
       "      <td>0.744</td>\n",
       "      <td>-0.359</td>\n",
       "      <td>0.000</td>\n",
       "      <td>0.000</td>\n",
       "      <td>0.000</td>\n",
       "      <td>0.000</td>\n",
       "      <td>0.000</td>\n",
       "      <td>0.000</td>\n",
       "      <td>0.000</td>\n",
       "      <td>0.000</td>\n",
       "      <td>0.000</td>\n",
       "      <td>0.000</td>\n",
       "      <td>0.000</td>\n",
       "      <td>0.000</td>\n",
       "      <td>0.000</td>\n",
       "      <td>0.000</td>\n",
       "      <td>-0.201</td>\n",
       "      <td>0.000</td>\n",
       "      <td>-0.672</td>\n",
       "      <td>0.137</td>\n",
       "      <td>-0.774</td>\n",
       "      <td>0.213</td>\n",
       "      <td>0.000</td>\n",
       "      <td>2.000</td>\n",
       "      <td>0.520</td>\n",
       "      <td>-0.187</td>\n",
       "    </tr>\n",
       "    <tr>\n",
       "      <td>34642</td>\n",
       "      <td>0.000</td>\n",
       "      <td>0.000</td>\n",
       "      <td>1.000</td>\n",
       "      <td>0.000</td>\n",
       "      <td>-2.833</td>\n",
       "      <td>0.000</td>\n",
       "      <td>0.000</td>\n",
       "      <td>0.000</td>\n",
       "      <td>1.000</td>\n",
       "      <td>-1.000</td>\n",
       "      <td>0.009</td>\n",
       "      <td>11.618</td>\n",
       "      <td>-0.351</td>\n",
       "      <td>1.000</td>\n",
       "      <td>0.000</td>\n",
       "      <td>0.247</td>\n",
       "      <td>0.000</td>\n",
       "      <td>-0.781</td>\n",
       "      <td>0.452</td>\n",
       "      <td>0.697</td>\n",
       "      <td>0.000</td>\n",
       "      <td>-0.259</td>\n",
       "      <td>-0.077</td>\n",
       "      <td>6.296</td>\n",
       "      <td>0.000</td>\n",
       "      <td>0.000</td>\n",
       "      <td>0.000</td>\n",
       "      <td>0.000</td>\n",
       "      <td>0.000</td>\n",
       "      <td>0.000</td>\n",
       "      <td>0.000</td>\n",
       "      <td>0.000</td>\n",
       "      <td>0.000</td>\n",
       "      <td>0.000</td>\n",
       "      <td>0.000</td>\n",
       "      <td>0.000</td>\n",
       "      <td>0.000</td>\n",
       "      <td>0.000</td>\n",
       "      <td>0.561</td>\n",
       "      <td>0.000</td>\n",
       "      <td>1.209</td>\n",
       "      <td>1.357</td>\n",
       "      <td>-1.170</td>\n",
       "      <td>7.658</td>\n",
       "      <td>0.000</td>\n",
       "      <td>1.000</td>\n",
       "      <td>0.640</td>\n",
       "      <td>0.875</td>\n",
       "    </tr>\n",
       "    <tr>\n",
       "      <td>9237</td>\n",
       "      <td>0.000</td>\n",
       "      <td>0.000</td>\n",
       "      <td>0.000</td>\n",
       "      <td>0.000</td>\n",
       "      <td>0.000</td>\n",
       "      <td>0.000</td>\n",
       "      <td>0.000</td>\n",
       "      <td>0.000</td>\n",
       "      <td>0.000</td>\n",
       "      <td>0.000</td>\n",
       "      <td>-0.234</td>\n",
       "      <td>0.057</td>\n",
       "      <td>0.805</td>\n",
       "      <td>0.000</td>\n",
       "      <td>1.667</td>\n",
       "      <td>-0.337</td>\n",
       "      <td>1.000</td>\n",
       "      <td>0.047</td>\n",
       "      <td>-0.489</td>\n",
       "      <td>-0.231</td>\n",
       "      <td>0.000</td>\n",
       "      <td>1.063</td>\n",
       "      <td>-0.949</td>\n",
       "      <td>-0.359</td>\n",
       "      <td>0.000</td>\n",
       "      <td>0.000</td>\n",
       "      <td>0.000</td>\n",
       "      <td>0.000</td>\n",
       "      <td>0.000</td>\n",
       "      <td>0.000</td>\n",
       "      <td>0.000</td>\n",
       "      <td>0.000</td>\n",
       "      <td>0.000</td>\n",
       "      <td>0.000</td>\n",
       "      <td>0.000</td>\n",
       "      <td>0.000</td>\n",
       "      <td>0.000</td>\n",
       "      <td>0.000</td>\n",
       "      <td>3.287</td>\n",
       "      <td>0.000</td>\n",
       "      <td>0.045</td>\n",
       "      <td>-0.452</td>\n",
       "      <td>-0.698</td>\n",
       "      <td>-0.020</td>\n",
       "      <td>0.000</td>\n",
       "      <td>0.000</td>\n",
       "      <td>0.360</td>\n",
       "      <td>0.687</td>\n",
       "    </tr>\n",
       "  </tbody>\n",
       "</table>\n",
       "</div>"
      ],
      "text/plain": [
       "       주거용YN  공업용YN  농업용YN  편의시설YN   건물연령  차량통행YN  대로인접YN  목재구조YN  target_value    시YN  ahsm_dstnc  bldng_ar  bldng_ar_prc  bldng_cnt  bldng_cnt_in_50m  cctv_dstnc  cctv_in_100m  fr_mn_cnt  fr_sttn_dstnc  fr_wthr_fclt_dstnc  fr_wthr_fclt_in_100m  hm_cnt   hmdt  lnd_ar  lw_13101010  lw_13101110  lw_13101210  lw_13101211  lw_13101310  lw_13101410  lw_13111010  lw_13111110  lw_13121010  lw_13121011  lw_13131010  lw_13131110  lw_13141010  lw_13141011  no_tbc_zn_dstnc  prcpttn  \\\n",
       "56915  0.000  0.000  0.000   1.000 -0.833   0.000   0.000   0.000         0.000  0.000       2.745     2.245         0.821      0.000             0.000      -0.274         2.000      0.688          0.414              -0.238                 1.000   0.947  0.538   0.914        0.000        0.000        0.000        0.000        0.000        0.000        0.000        0.000        0.000        0.000        0.000        0.000        0.000        0.000           -0.253    0.000   \n",
       "50300  0.000  0.000  0.000   0.000  0.000   0.000   0.000   0.000         0.000  0.000      -0.127    -0.806        -0.351      0.000             5.000       0.918         0.000      0.234          0.276               0.259                 0.000  -0.136  0.000   0.753        0.000        0.000        0.000        0.000        0.000        0.000        0.000        0.000        0.000        0.000        0.000        0.000        0.000        0.000            2.485    0.000   \n",
       "49986  1.000  0.000  0.000   0.000 -3.167   0.000   0.000   0.000         0.000 -1.000       0.123     0.408         0.622      1.333             0.000       0.049         0.000     -0.344         -0.079               0.139                 0.000  -0.338  0.744  -0.359        0.000        0.000        0.000        0.000        0.000        0.000        0.000        0.000        0.000        0.000        0.000        0.000        0.000        0.000           -0.201    0.000   \n",
       "34642  0.000  0.000  1.000   0.000 -2.833   0.000   0.000   0.000         1.000 -1.000       0.009    11.618        -0.351      1.000             0.000       0.247         0.000     -0.781          0.452               0.697                 0.000  -0.259 -0.077   6.296        0.000        0.000        0.000        0.000        0.000        0.000        0.000        0.000        0.000        0.000        0.000        0.000        0.000        0.000            0.561    0.000   \n",
       "9237   0.000  0.000  0.000   0.000  0.000   0.000   0.000   0.000         0.000  0.000      -0.234     0.057         0.805      0.000             1.667      -0.337         1.000      0.047         -0.489              -0.231                 0.000   1.063 -0.949  -0.359        0.000        0.000        0.000        0.000        0.000        0.000        0.000        0.000        0.000        0.000        0.000        0.000        0.000        0.000            3.287    0.000   \n",
       "\n",
       "       sft_emrgnc_bll_dstnc  tbc_rtl_str_dstnc  tmprtr  ttl_ar  ttl_dwn_flr  ttl_grnd_flr  wnd_drctn  wnd_spd  \n",
       "56915                -0.029             -0.391   0.579   1.433        0.000         0.000     -0.640   -0.750  \n",
       "50300                -0.204              0.137  -0.528  -0.593        0.000         1.000      0.800   -0.312  \n",
       "49986                -0.672              0.137  -0.774   0.213        0.000         2.000      0.520   -0.187  \n",
       "34642                 1.209              1.357  -1.170   7.658        0.000         1.000      0.640    0.875  \n",
       "9237                  0.045             -0.452  -0.698  -0.020        0.000         0.000      0.360    0.687  "
      ]
     },
     "execution_count": 90,
     "metadata": {},
     "output_type": "execute_result"
    }
   ],
   "source": [
    "# Shuffle dataframe rows\n",
    "new_df = normal_distributed_df.sample(frac=1, random_state=42)\n",
    "\n",
    "new_df.head()"
   ]
  },
  {
   "cell_type": "code",
   "execution_count": 91,
   "metadata": {},
   "outputs": [
    {
     "name": "stdout",
     "output_type": "stream",
     "text": [
      "Distribution of the Classes in the subsample dataset\n",
      "1.000   0.500\n",
      "0.000   0.500\n",
      "Name: target_value, dtype: float64\n"
     ]
    }
   ],
   "source": [
    "print('Distribution of the Classes in the subsample dataset')\n",
    "print(new_df['target_value'].value_counts()/len(new_df))\n",
    "\n",
    "colors = [\"#0101DF\", \"#DF0101\"]"
   ]
  },
  {
   "cell_type": "code",
   "execution_count": 92,
   "metadata": {},
   "outputs": [
    {
     "data": {
      "image/png": "[encoded data removed]",
      "text/plain": [
       "<Figure size 432x288 with 1 Axes>"
      ]
     },
     "metadata": {
      "needs_background": "light"
     },
     "output_type": "display_data"
    }
   ],
   "source": [
    "sns.countplot('target_value', data=new_df, palette=colors)\n",
    "plt.title('Equally Distributed Classes', fontsize=14)\n",
    "plt.show()"
   ]
  },
  {
   "cell_type": "code",
   "execution_count": 93,
   "metadata": {},
   "outputs": [
    {
     "data": {
      "image/png": "[encoded data removed]",
      "text/plain": [
       "<Figure size 1728x1440 with 4 Axes>"
      ]
     },
     "metadata": {
      "needs_background": "light"
     },
     "output_type": "display_data"
    }
   ],
   "source": [
    "f, (ax1, ax2) = plt.subplots(2, 1, figsize=(24,20))\n",
    "\n",
    "# Entire DataFrame\n",
    "corr = data.corr()\n",
    "sns.heatmap(corr, cmap='coolwarm_r', annot_kws={'size':20}, ax=ax1)\n",
    "ax1.set_title(\"Imbalanced Correlation Matrix \\n (don't use for reference)\", fontsize=14)\n",
    "\n",
    "\n",
    "sub_sample_corr = new_df.corr()\n",
    "sns.heatmap(sub_sample_corr, cmap='coolwarm_r', annot_kws={'size':20}, ax=ax2)\n",
    "ax2.set_title('SubSample Correlation Matrix \\n (use for reference)', fontsize=14)\n",
    "plt.show()\n",
    "\n",
    "# New_df is from the random undersample data (fewer instances)\n",
    "X_us = new_df.drop('target_value', axis=1)\n",
    "y_us = new_df['target_value']"
   ]
  },
  {
   "cell_type": "code",
   "execution_count": 94,
   "metadata": {},
   "outputs": [],
   "source": [
    "# This is explicitly used for undersampling.\n",
    "X_train, X_test, y_train, y_test = train_test_split(X_us, y_us, test_size=0.2, random_state=42)\n",
    "\n",
    "# Turn the values into an array for feeding the classification algorithms.\n",
    "X_train = X_train.values\n",
    "X_test = X_test.values\n",
    "y_train = y_train.values\n",
    "y_test = y_test.values"
   ]
  },
  {
   "cell_type": "code",
   "execution_count": 95,
   "metadata": {},
   "outputs": [],
   "source": [
    "# Let's implement simple classifiers\n",
    "\n",
    "classifiers = {\n",
    "    \"LogisiticRegression\": LogisticRegression(),\n",
    "    \"KNearest\": KNeighborsClassifier(),\n",
    "    \"Support Vector Classifier\": SVC(),\n",
    "    \"DecisionTreeClassifier\": DecisionTreeClassifier()\n",
    "}"
   ]
  },
  {
   "cell_type": "code",
   "execution_count": 96,
   "metadata": {},
   "outputs": [
    {
     "name": "stdout",
     "output_type": "stream",
     "text": [
      "Classifiers:  LogisticRegression Has a training score of 71.72 % accuracy score\n",
      "Classifiers:  KNeighborsClassifier Has a training score of 74.26 % accuracy score\n",
      "Classifiers:  SVC Has a training score of 78.17 % accuracy score\n",
      "Classifiers:  DecisionTreeClassifier Has a training score of 75.8 % accuracy score\n"
     ]
    }
   ],
   "source": [
    "# Wow our scores are getting even high scores even when applying cross validation.\n",
    "\n",
    "for key, classifier in classifiers.items():\n",
    "    classifier.fit(X_train, y_train)\n",
    "    training_score = cross_val_score(classifier, X_train, y_train, cv=5)\n",
    "    print(\"Classifiers: \", classifier.__class__.__name__, \"Has a training score of\", round(training_score.mean(), 4) * 100, \"% accuracy score\")"
   ]
  },
  {
   "cell_type": "code",
   "execution_count": 97,
   "metadata": {
    "collapsed": true,
    "jupyter": {
     "outputs_hidden": true
    }
   },
   "outputs": [
    {
     "ename": "KeyboardInterrupt",
     "evalue": "",
     "output_type": "error",
     "traceback": [
      "\u001b[1;31m---------------------------------------------------------------------------\u001b[0m",
      "\u001b[1;31mKeyboardInterrupt\u001b[0m                         Traceback (most recent call last)",
      "\u001b[1;32m<ipython-input-97-bb17c1c43ddd>\u001b[0m in \u001b[0;36m<module>\u001b[1;34m\u001b[0m\n\u001b[0;32m     11\u001b[0m \u001b[1;33m\u001b[0m\u001b[0m\n\u001b[0;32m     12\u001b[0m \u001b[0mbest_xgb_model\u001b[0m\u001b[1;33m.\u001b[0m\u001b[0mfit\u001b[0m\u001b[1;33m(\u001b[0m\u001b[0mX_train\u001b[0m\u001b[1;33m,\u001b[0m\u001b[0my_train\u001b[0m\u001b[1;33m)\u001b[0m\u001b[1;33m\u001b[0m\u001b[1;33m\u001b[0m\u001b[0m\n\u001b[1;32m---> 13\u001b[1;33m \u001b[0mtraining_score\u001b[0m \u001b[1;33m=\u001b[0m \u001b[0mcross_val_score\u001b[0m\u001b[1;33m(\u001b[0m\u001b[0mbest_xgb_model\u001b[0m\u001b[1;33m,\u001b[0m \u001b[0mX_train\u001b[0m\u001b[1;33m,\u001b[0m \u001b[0my_train\u001b[0m\u001b[1;33m,\u001b[0m \u001b[0mcv\u001b[0m\u001b[1;33m=\u001b[0m\u001b[1;36m5\u001b[0m\u001b[1;33m)\u001b[0m\u001b[1;33m\u001b[0m\u001b[1;33m\u001b[0m\u001b[0m\n\u001b[0m",
      "\u001b[1;32m~\\Anaconda3\\lib\\site-packages\\sklearn\\model_selection\\_validation.py\u001b[0m in \u001b[0;36mcross_val_score\u001b[1;34m(estimator, X, y, groups, scoring, cv, n_jobs, verbose, fit_params, pre_dispatch, error_score)\u001b[0m\n\u001b[0;32m    389\u001b[0m                                 \u001b[0mfit_params\u001b[0m\u001b[1;33m=\u001b[0m\u001b[0mfit_params\u001b[0m\u001b[1;33m,\u001b[0m\u001b[1;33m\u001b[0m\u001b[1;33m\u001b[0m\u001b[0m\n\u001b[0;32m    390\u001b[0m                                 \u001b[0mpre_dispatch\u001b[0m\u001b[1;33m=\u001b[0m\u001b[0mpre_dispatch\u001b[0m\u001b[1;33m,\u001b[0m\u001b[1;33m\u001b[0m\u001b[1;33m\u001b[0m\u001b[0m\n\u001b[1;32m--> 391\u001b[1;33m                                 error_score=error_score)\n\u001b[0m\u001b[0;32m    392\u001b[0m     \u001b[1;32mreturn\u001b[0m \u001b[0mcv_results\u001b[0m\u001b[1;33m[\u001b[0m\u001b[1;34m'test_score'\u001b[0m\u001b[1;33m]\u001b[0m\u001b[1;33m\u001b[0m\u001b[1;33m\u001b[0m\u001b[0m\n\u001b[0;32m    393\u001b[0m \u001b[1;33m\u001b[0m\u001b[0m\n",
      "\u001b[1;32m~\\Anaconda3\\lib\\site-packages\\sklearn\\model_selection\\_validation.py\u001b[0m in \u001b[0;36mcross_validate\u001b[1;34m(estimator, X, y, groups, scoring, cv, n_jobs, verbose, fit_params, pre_dispatch, return_train_score, return_estimator, error_score)\u001b[0m\n\u001b[0;32m    230\u001b[0m             \u001b[0mreturn_times\u001b[0m\u001b[1;33m=\u001b[0m\u001b[1;32mTrue\u001b[0m\u001b[1;33m,\u001b[0m \u001b[0mreturn_estimator\u001b[0m\u001b[1;33m=\u001b[0m\u001b[0mreturn_estimator\u001b[0m\u001b[1;33m,\u001b[0m\u001b[1;33m\u001b[0m\u001b[1;33m\u001b[0m\u001b[0m\n\u001b[0;32m    231\u001b[0m             error_score=error_score)\n\u001b[1;32m--> 232\u001b[1;33m         for train, test in cv.split(X, y, groups))\n\u001b[0m\u001b[0;32m    233\u001b[0m \u001b[1;33m\u001b[0m\u001b[0m\n\u001b[0;32m    234\u001b[0m     \u001b[0mzipped_scores\u001b[0m \u001b[1;33m=\u001b[0m \u001b[0mlist\u001b[0m\u001b[1;33m(\u001b[0m\u001b[0mzip\u001b[0m\u001b[1;33m(\u001b[0m\u001b[1;33m*\u001b[0m\u001b[0mscores\u001b[0m\u001b[1;33m)\u001b[0m\u001b[1;33m)\u001b[0m\u001b[1;33m\u001b[0m\u001b[1;33m\u001b[0m\u001b[0m\n",
      "\u001b[1;32m~\\Anaconda3\\lib\\site-packages\\joblib\\parallel.py\u001b[0m in \u001b[0;36m__call__\u001b[1;34m(self, iterable)\u001b[0m\n\u001b[0;32m    922\u001b[0m                 \u001b[0mself\u001b[0m\u001b[1;33m.\u001b[0m\u001b[0m_iterating\u001b[0m \u001b[1;33m=\u001b[0m \u001b[0mself\u001b[0m\u001b[1;33m.\u001b[0m\u001b[0m_original_iterator\u001b[0m \u001b[1;32mis\u001b[0m \u001b[1;32mnot\u001b[0m \u001b[1;32mNone\u001b[0m\u001b[1;33m\u001b[0m\u001b[1;33m\u001b[0m\u001b[0m\n\u001b[0;32m    923\u001b[0m \u001b[1;33m\u001b[0m\u001b[0m\n\u001b[1;32m--> 924\u001b[1;33m             \u001b[1;32mwhile\u001b[0m \u001b[0mself\u001b[0m\u001b[1;33m.\u001b[0m\u001b[0mdispatch_one_batch\u001b[0m\u001b[1;33m(\u001b[0m\u001b[0miterator\u001b[0m\u001b[1;33m)\u001b[0m\u001b[1;33m:\u001b[0m\u001b[1;33m\u001b[0m\u001b[1;33m\u001b[0m\u001b[0m\n\u001b[0m\u001b[0;32m    925\u001b[0m                 \u001b[1;32mpass\u001b[0m\u001b[1;33m\u001b[0m\u001b[1;33m\u001b[0m\u001b[0m\n\u001b[0;32m    926\u001b[0m \u001b[1;33m\u001b[0m\u001b[0m\n",
      "\u001b[1;32m~\\Anaconda3\\lib\\site-packages\\joblib\\parallel.py\u001b[0m in \u001b[0;36mdispatch_one_batch\u001b[1;34m(self, iterator)\u001b[0m\n\u001b[0;32m    757\u001b[0m                 \u001b[1;32mreturn\u001b[0m \u001b[1;32mFalse\u001b[0m\u001b[1;33m\u001b[0m\u001b[1;33m\u001b[0m\u001b[0m\n\u001b[0;32m    758\u001b[0m             \u001b[1;32melse\u001b[0m\u001b[1;33m:\u001b[0m\u001b[1;33m\u001b[0m\u001b[1;33m\u001b[0m\u001b[0m\n\u001b[1;32m--> 759\u001b[1;33m                 \u001b[0mself\u001b[0m\u001b[1;33m.\u001b[0m\u001b[0m_dispatch\u001b[0m\u001b[1;33m(\u001b[0m\u001b[0mtasks\u001b[0m\u001b[1;33m)\u001b[0m\u001b[1;33m\u001b[0m\u001b[1;33m\u001b[0m\u001b[0m\n\u001b[0m\u001b[0;32m    760\u001b[0m                 \u001b[1;32mreturn\u001b[0m \u001b[1;32mTrue\u001b[0m\u001b[1;33m\u001b[0m\u001b[1;33m\u001b[0m\u001b[0m\n\u001b[0;32m    761\u001b[0m \u001b[1;33m\u001b[0m\u001b[0m\n",
      "\u001b[1;32m~\\Anaconda3\\lib\\site-packages\\joblib\\parallel.py\u001b[0m in \u001b[0;36m_dispatch\u001b[1;34m(self, batch)\u001b[0m\n\u001b[0;32m    714\u001b[0m         \u001b[1;32mwith\u001b[0m \u001b[0mself\u001b[0m\u001b[1;33m.\u001b[0m\u001b[0m_lock\u001b[0m\u001b[1;33m:\u001b[0m\u001b[1;33m\u001b[0m\u001b[1;33m\u001b[0m\u001b[0m\n\u001b[0;32m    715\u001b[0m             \u001b[0mjob_idx\u001b[0m \u001b[1;33m=\u001b[0m \u001b[0mlen\u001b[0m\u001b[1;33m(\u001b[0m\u001b[0mself\u001b[0m\u001b[1;33m.\u001b[0m\u001b[0m_jobs\u001b[0m\u001b[1;33m)\u001b[0m\u001b[1;33m\u001b[0m\u001b[1;33m\u001b[0m\u001b[0m\n\u001b[1;32m--> 716\u001b[1;33m             \u001b[0mjob\u001b[0m \u001b[1;33m=\u001b[0m \u001b[0mself\u001b[0m\u001b[1;33m.\u001b[0m\u001b[0m_backend\u001b[0m\u001b[1;33m.\u001b[0m\u001b[0mapply_async\u001b[0m\u001b[1;33m(\u001b[0m\u001b[0mbatch\u001b[0m\u001b[1;33m,\u001b[0m \u001b[0mcallback\u001b[0m\u001b[1;33m=\u001b[0m\u001b[0mcb\u001b[0m\u001b[1;33m)\u001b[0m\u001b[1;33m\u001b[0m\u001b[1;33m\u001b[0m\u001b[0m\n\u001b[0m\u001b[0;32m    717\u001b[0m             \u001b[1;31m# A job can complete so quickly than its callback is\u001b[0m\u001b[1;33m\u001b[0m\u001b[1;33m\u001b[0m\u001b[1;33m\u001b[0m\u001b[0m\n\u001b[0;32m    718\u001b[0m             \u001b[1;31m# called before we get here, causing self._jobs to\u001b[0m\u001b[1;33m\u001b[0m\u001b[1;33m\u001b[0m\u001b[1;33m\u001b[0m\u001b[0m\n",
      "\u001b[1;32m~\\Anaconda3\\lib\\site-packages\\joblib\\_parallel_backends.py\u001b[0m in \u001b[0;36mapply_async\u001b[1;34m(self, func, callback)\u001b[0m\n\u001b[0;32m    180\u001b[0m     \u001b[1;32mdef\u001b[0m \u001b[0mapply_async\u001b[0m\u001b[1;33m(\u001b[0m\u001b[0mself\u001b[0m\u001b[1;33m,\u001b[0m \u001b[0mfunc\u001b[0m\u001b[1;33m,\u001b[0m \u001b[0mcallback\u001b[0m\u001b[1;33m=\u001b[0m\u001b[1;32mNone\u001b[0m\u001b[1;33m)\u001b[0m\u001b[1;33m:\u001b[0m\u001b[1;33m\u001b[0m\u001b[1;33m\u001b[0m\u001b[0m\n\u001b[0;32m    181\u001b[0m         \u001b[1;34m\"\"\"Schedule a func to be run\"\"\"\u001b[0m\u001b[1;33m\u001b[0m\u001b[1;33m\u001b[0m\u001b[0m\n\u001b[1;32m--> 182\u001b[1;33m         \u001b[0mresult\u001b[0m \u001b[1;33m=\u001b[0m \u001b[0mImmediateResult\u001b[0m\u001b[1;33m(\u001b[0m\u001b[0mfunc\u001b[0m\u001b[1;33m)\u001b[0m\u001b[1;33m\u001b[0m\u001b[1;33m\u001b[0m\u001b[0m\n\u001b[0m\u001b[0;32m    183\u001b[0m         \u001b[1;32mif\u001b[0m \u001b[0mcallback\u001b[0m\u001b[1;33m:\u001b[0m\u001b[1;33m\u001b[0m\u001b[1;33m\u001b[0m\u001b[0m\n\u001b[0;32m    184\u001b[0m             \u001b[0mcallback\u001b[0m\u001b[1;33m(\u001b[0m\u001b[0mresult\u001b[0m\u001b[1;33m)\u001b[0m\u001b[1;33m\u001b[0m\u001b[1;33m\u001b[0m\u001b[0m\n",
      "\u001b[1;32m~\\Anaconda3\\lib\\site-packages\\joblib\\_parallel_backends.py\u001b[0m in \u001b[0;36m__init__\u001b[1;34m(self, batch)\u001b[0m\n\u001b[0;32m    547\u001b[0m         \u001b[1;31m# Don't delay the application, to avoid keeping the input\u001b[0m\u001b[1;33m\u001b[0m\u001b[1;33m\u001b[0m\u001b[1;33m\u001b[0m\u001b[0m\n\u001b[0;32m    548\u001b[0m         \u001b[1;31m# arguments in memory\u001b[0m\u001b[1;33m\u001b[0m\u001b[1;33m\u001b[0m\u001b[1;33m\u001b[0m\u001b[0m\n\u001b[1;32m--> 549\u001b[1;33m         \u001b[0mself\u001b[0m\u001b[1;33m.\u001b[0m\u001b[0mresults\u001b[0m \u001b[1;33m=\u001b[0m \u001b[0mbatch\u001b[0m\u001b[1;33m(\u001b[0m\u001b[1;33m)\u001b[0m\u001b[1;33m\u001b[0m\u001b[1;33m\u001b[0m\u001b[0m\n\u001b[0m\u001b[0;32m    550\u001b[0m \u001b[1;33m\u001b[0m\u001b[0m\n\u001b[0;32m    551\u001b[0m     \u001b[1;32mdef\u001b[0m \u001b[0mget\u001b[0m\u001b[1;33m(\u001b[0m\u001b[0mself\u001b[0m\u001b[1;33m)\u001b[0m\u001b[1;33m:\u001b[0m\u001b[1;33m\u001b[0m\u001b[1;33m\u001b[0m\u001b[0m\n",
      "\u001b[1;32m~\\Anaconda3\\lib\\site-packages\\joblib\\parallel.py\u001b[0m in \u001b[0;36m__call__\u001b[1;34m(self)\u001b[0m\n\u001b[0;32m    223\u001b[0m         \u001b[1;32mwith\u001b[0m \u001b[0mparallel_backend\u001b[0m\u001b[1;33m(\u001b[0m\u001b[0mself\u001b[0m\u001b[1;33m.\u001b[0m\u001b[0m_backend\u001b[0m\u001b[1;33m,\u001b[0m \u001b[0mn_jobs\u001b[0m\u001b[1;33m=\u001b[0m\u001b[0mself\u001b[0m\u001b[1;33m.\u001b[0m\u001b[0m_n_jobs\u001b[0m\u001b[1;33m)\u001b[0m\u001b[1;33m:\u001b[0m\u001b[1;33m\u001b[0m\u001b[1;33m\u001b[0m\u001b[0m\n\u001b[0;32m    224\u001b[0m             return [func(*args, **kwargs)\n\u001b[1;32m--> 225\u001b[1;33m                     for func, args, kwargs in self.items]\n\u001b[0m\u001b[0;32m    226\u001b[0m \u001b[1;33m\u001b[0m\u001b[0m\n\u001b[0;32m    227\u001b[0m     \u001b[1;32mdef\u001b[0m \u001b[0m__len__\u001b[0m\u001b[1;33m(\u001b[0m\u001b[0mself\u001b[0m\u001b[1;33m)\u001b[0m\u001b[1;33m:\u001b[0m\u001b[1;33m\u001b[0m\u001b[1;33m\u001b[0m\u001b[0m\n",
      "\u001b[1;32m~\\Anaconda3\\lib\\site-packages\\joblib\\parallel.py\u001b[0m in \u001b[0;36m<listcomp>\u001b[1;34m(.0)\u001b[0m\n\u001b[0;32m    223\u001b[0m         \u001b[1;32mwith\u001b[0m \u001b[0mparallel_backend\u001b[0m\u001b[1;33m(\u001b[0m\u001b[0mself\u001b[0m\u001b[1;33m.\u001b[0m\u001b[0m_backend\u001b[0m\u001b[1;33m,\u001b[0m \u001b[0mn_jobs\u001b[0m\u001b[1;33m=\u001b[0m\u001b[0mself\u001b[0m\u001b[1;33m.\u001b[0m\u001b[0m_n_jobs\u001b[0m\u001b[1;33m)\u001b[0m\u001b[1;33m:\u001b[0m\u001b[1;33m\u001b[0m\u001b[1;33m\u001b[0m\u001b[0m\n\u001b[0;32m    224\u001b[0m             return [func(*args, **kwargs)\n\u001b[1;32m--> 225\u001b[1;33m                     for func, args, kwargs in self.items]\n\u001b[0m\u001b[0;32m    226\u001b[0m \u001b[1;33m\u001b[0m\u001b[0m\n\u001b[0;32m    227\u001b[0m     \u001b[1;32mdef\u001b[0m \u001b[0m__len__\u001b[0m\u001b[1;33m(\u001b[0m\u001b[0mself\u001b[0m\u001b[1;33m)\u001b[0m\u001b[1;33m:\u001b[0m\u001b[1;33m\u001b[0m\u001b[1;33m\u001b[0m\u001b[0m\n",
      "\u001b[1;32m~\\Anaconda3\\lib\\site-packages\\sklearn\\model_selection\\_validation.py\u001b[0m in \u001b[0;36m_fit_and_score\u001b[1;34m(estimator, X, y, scorer, train, test, verbose, parameters, fit_params, return_train_score, return_parameters, return_n_test_samples, return_times, return_estimator, error_score)\u001b[0m\n\u001b[0;32m    514\u001b[0m             \u001b[0mestimator\u001b[0m\u001b[1;33m.\u001b[0m\u001b[0mfit\u001b[0m\u001b[1;33m(\u001b[0m\u001b[0mX_train\u001b[0m\u001b[1;33m,\u001b[0m \u001b[1;33m**\u001b[0m\u001b[0mfit_params\u001b[0m\u001b[1;33m)\u001b[0m\u001b[1;33m\u001b[0m\u001b[1;33m\u001b[0m\u001b[0m\n\u001b[0;32m    515\u001b[0m         \u001b[1;32melse\u001b[0m\u001b[1;33m:\u001b[0m\u001b[1;33m\u001b[0m\u001b[1;33m\u001b[0m\u001b[0m\n\u001b[1;32m--> 516\u001b[1;33m             \u001b[0mestimator\u001b[0m\u001b[1;33m.\u001b[0m\u001b[0mfit\u001b[0m\u001b[1;33m(\u001b[0m\u001b[0mX_train\u001b[0m\u001b[1;33m,\u001b[0m \u001b[0my_train\u001b[0m\u001b[1;33m,\u001b[0m \u001b[1;33m**\u001b[0m\u001b[0mfit_params\u001b[0m\u001b[1;33m)\u001b[0m\u001b[1;33m\u001b[0m\u001b[1;33m\u001b[0m\u001b[0m\n\u001b[0m\u001b[0;32m    517\u001b[0m \u001b[1;33m\u001b[0m\u001b[0m\n\u001b[0;32m    518\u001b[0m     \u001b[1;32mexcept\u001b[0m \u001b[0mException\u001b[0m \u001b[1;32mas\u001b[0m \u001b[0me\u001b[0m\u001b[1;33m:\u001b[0m\u001b[1;33m\u001b[0m\u001b[1;33m\u001b[0m\u001b[0m\n",
      "\u001b[1;32m~\\Anaconda3\\lib\\site-packages\\xgboost\\sklearn.py\u001b[0m in \u001b[0;36mfit\u001b[1;34m(self, X, y, sample_weight, eval_set, eval_metric, early_stopping_rounds, verbose, xgb_model, sample_weight_eval_set, callbacks)\u001b[0m\n\u001b[0;32m    730\u001b[0m                               \u001b[0mevals_result\u001b[0m\u001b[1;33m=\u001b[0m\u001b[0mevals_result\u001b[0m\u001b[1;33m,\u001b[0m \u001b[0mobj\u001b[0m\u001b[1;33m=\u001b[0m\u001b[0mobj\u001b[0m\u001b[1;33m,\u001b[0m \u001b[0mfeval\u001b[0m\u001b[1;33m=\u001b[0m\u001b[0mfeval\u001b[0m\u001b[1;33m,\u001b[0m\u001b[1;33m\u001b[0m\u001b[1;33m\u001b[0m\u001b[0m\n\u001b[0;32m    731\u001b[0m                               \u001b[0mverbose_eval\u001b[0m\u001b[1;33m=\u001b[0m\u001b[0mverbose\u001b[0m\u001b[1;33m,\u001b[0m \u001b[0mxgb_model\u001b[0m\u001b[1;33m=\u001b[0m\u001b[0mxgb_model\u001b[0m\u001b[1;33m,\u001b[0m\u001b[1;33m\u001b[0m\u001b[1;33m\u001b[0m\u001b[0m\n\u001b[1;32m--> 732\u001b[1;33m                               callbacks=callbacks)\n\u001b[0m\u001b[0;32m    733\u001b[0m \u001b[1;33m\u001b[0m\u001b[0m\n\u001b[0;32m    734\u001b[0m         \u001b[0mself\u001b[0m\u001b[1;33m.\u001b[0m\u001b[0mobjective\u001b[0m \u001b[1;33m=\u001b[0m \u001b[0mxgb_options\u001b[0m\u001b[1;33m[\u001b[0m\u001b[1;34m\"objective\"\u001b[0m\u001b[1;33m]\u001b[0m\u001b[1;33m\u001b[0m\u001b[1;33m\u001b[0m\u001b[0m\n",
      "\u001b[1;32m~\\Anaconda3\\lib\\site-packages\\xgboost\\training.py\u001b[0m in \u001b[0;36mtrain\u001b[1;34m(params, dtrain, num_boost_round, evals, obj, feval, maximize, early_stopping_rounds, evals_result, verbose_eval, xgb_model, callbacks, learning_rates)\u001b[0m\n\u001b[0;32m    214\u001b[0m                            \u001b[0mevals\u001b[0m\u001b[1;33m=\u001b[0m\u001b[0mevals\u001b[0m\u001b[1;33m,\u001b[0m\u001b[1;33m\u001b[0m\u001b[1;33m\u001b[0m\u001b[0m\n\u001b[0;32m    215\u001b[0m                            \u001b[0mobj\u001b[0m\u001b[1;33m=\u001b[0m\u001b[0mobj\u001b[0m\u001b[1;33m,\u001b[0m \u001b[0mfeval\u001b[0m\u001b[1;33m=\u001b[0m\u001b[0mfeval\u001b[0m\u001b[1;33m,\u001b[0m\u001b[1;33m\u001b[0m\u001b[1;33m\u001b[0m\u001b[0m\n\u001b[1;32m--> 216\u001b[1;33m                            xgb_model=xgb_model, callbacks=callbacks)\n\u001b[0m\u001b[0;32m    217\u001b[0m \u001b[1;33m\u001b[0m\u001b[0m\n\u001b[0;32m    218\u001b[0m \u001b[1;33m\u001b[0m\u001b[0m\n",
      "\u001b[1;32m~\\Anaconda3\\lib\\site-packages\\xgboost\\training.py\u001b[0m in \u001b[0;36m_train_internal\u001b[1;34m(params, dtrain, num_boost_round, evals, obj, feval, xgb_model, callbacks)\u001b[0m\n\u001b[0;32m     72\u001b[0m         \u001b[1;31m# Skip the first update if it is a recovery step.\u001b[0m\u001b[1;33m\u001b[0m\u001b[1;33m\u001b[0m\u001b[1;33m\u001b[0m\u001b[0m\n\u001b[0;32m     73\u001b[0m         \u001b[1;32mif\u001b[0m \u001b[0mversion\u001b[0m \u001b[1;33m%\u001b[0m \u001b[1;36m2\u001b[0m \u001b[1;33m==\u001b[0m \u001b[1;36m0\u001b[0m\u001b[1;33m:\u001b[0m\u001b[1;33m\u001b[0m\u001b[1;33m\u001b[0m\u001b[0m\n\u001b[1;32m---> 74\u001b[1;33m             \u001b[0mbst\u001b[0m\u001b[1;33m.\u001b[0m\u001b[0mupdate\u001b[0m\u001b[1;33m(\u001b[0m\u001b[0mdtrain\u001b[0m\u001b[1;33m,\u001b[0m \u001b[0mi\u001b[0m\u001b[1;33m,\u001b[0m \u001b[0mobj\u001b[0m\u001b[1;33m)\u001b[0m\u001b[1;33m\u001b[0m\u001b[1;33m\u001b[0m\u001b[0m\n\u001b[0m\u001b[0;32m     75\u001b[0m             \u001b[0mbst\u001b[0m\u001b[1;33m.\u001b[0m\u001b[0msave_rabit_checkpoint\u001b[0m\u001b[1;33m(\u001b[0m\u001b[1;33m)\u001b[0m\u001b[1;33m\u001b[0m\u001b[1;33m\u001b[0m\u001b[0m\n\u001b[0;32m     76\u001b[0m             \u001b[0mversion\u001b[0m \u001b[1;33m+=\u001b[0m \u001b[1;36m1\u001b[0m\u001b[1;33m\u001b[0m\u001b[1;33m\u001b[0m\u001b[0m\n",
      "\u001b[1;32m~\\Anaconda3\\lib\\site-packages\\xgboost\\core.py\u001b[0m in \u001b[0;36mupdate\u001b[1;34m(self, dtrain, iteration, fobj)\u001b[0m\n\u001b[0;32m   1107\u001b[0m         \u001b[1;32mif\u001b[0m \u001b[0mfobj\u001b[0m \u001b[1;32mis\u001b[0m \u001b[1;32mNone\u001b[0m\u001b[1;33m:\u001b[0m\u001b[1;33m\u001b[0m\u001b[1;33m\u001b[0m\u001b[0m\n\u001b[0;32m   1108\u001b[0m             _check_call(_LIB.XGBoosterUpdateOneIter(self.handle, ctypes.c_int(iteration),\n\u001b[1;32m-> 1109\u001b[1;33m                                                     dtrain.handle))\n\u001b[0m\u001b[0;32m   1110\u001b[0m         \u001b[1;32melse\u001b[0m\u001b[1;33m:\u001b[0m\u001b[1;33m\u001b[0m\u001b[1;33m\u001b[0m\u001b[0m\n\u001b[0;32m   1111\u001b[0m             \u001b[0mpred\u001b[0m \u001b[1;33m=\u001b[0m \u001b[0mself\u001b[0m\u001b[1;33m.\u001b[0m\u001b[0mpredict\u001b[0m\u001b[1;33m(\u001b[0m\u001b[0mdtrain\u001b[0m\u001b[1;33m)\u001b[0m\u001b[1;33m\u001b[0m\u001b[1;33m\u001b[0m\u001b[0m\n",
      "\u001b[1;31mKeyboardInterrupt\u001b[0m: "
     ]
    }
   ],
   "source": [
    "best_xgb_model = xgboost.XGBClassifier(colsample_bytree=0.4,\n",
    "                 gamma=0.3,                 \n",
    "                 learning_rate=0.1,\n",
    "                 max_depth=5,\n",
    "                 min_child_weight=1.5,\n",
    "                 n_estimators=10000,                                                                    \n",
    "                 reg_alpha=1e-05,\n",
    "                 reg_lambda=0.01,\n",
    "                 subsample=0.95,\n",
    "                 )\n",
    "\n",
    "best_xgb_model.fit(X_train,y_train)\n",
    "training_score = cross_val_score(best_xgb_model, X_train, y_train, cv=5)"
   ]
  },
  {
   "cell_type": "code",
   "execution_count": 98,
   "metadata": {},
   "outputs": [],
   "source": [
    "# 가장 우수한 성능을 보이는 SVC\n",
    "\n",
    "model_SVC=SVC()\n",
    "model_SVC.fit(X=X_train, y=y_train)\n",
    "\n",
    "y_pred_SVC = model_SVC.predict(X_test)"
   ]
  },
  {
   "cell_type": "code",
   "execution_count": null,
   "metadata": {},
   "outputs": [],
   "source": [
    "# 선형 커널 만들어보기\n",
    "from sklearn.svm import LinearSVC\n",
    "model_LSVC = LinearSVC()\n",
    "model_LSVC.fit(X_train,y_train)\n",
    "\n",
    "# proba = model_LSVC.decision_function(X_train)\n",
    "# prob = (proba - proba.min()) / (proba.max() - proba.min())\n",
    "# print('Prob[0]: %.3f' % (1-prob[0]))\n",
    "# print('Prob[1]: %.3f' % (prob[0]))\n",
    "\n",
    "cross_val_score(model_LSVC, X_train, y_train, cv=5)"
   ]
  },
  {
   "cell_type": "code",
   "execution_count": null,
   "metadata": {},
   "outputs": [],
   "source": [
    "# Logistic Regression model\n",
    "\n",
    "model_LR =LogisticRegression()\n",
    "model_LR.fit(X_train, y_train)\n",
    "\n",
    "\n",
    "y_pred_LR = model_LR.predict(X_test)\n",
    "\n",
    "\n",
    "model_LR.coef_"
   ]
  },
  {
   "cell_type": "code",
   "execution_count": null,
   "metadata": {},
   "outputs": [],
   "source": [
    "model_RF =RandomForestClassifier(n_estimators=500, n_jobs=-1, random_state=42)\n",
    "model_RF.fit(X_train, y_train)\n",
    "# Random Forest model\n",
    "\n",
    "y_pred_RF = model_RF.predict(X_test)\n",
    "\n",
    "# for name, importance in zip(X_train, model_RF.feature_importances_):\n",
    "#     print(name, \"=\", importance)"
   ]
  },
  {
   "cell_type": "code",
   "execution_count": null,
   "metadata": {},
   "outputs": [],
   "source": [
    "X_train1=pd.DataFrame(X_train)\n",
    "\n",
    "# RF 모델의 피처 중요도 플롯\n",
    "\n",
    "feat_importances = pd.Series(model_RF.feature_importances_, index=X_train1.columns)\n",
    "feat_importances.nlargest(15).plot(kind='barh')"
   ]
  },
  {
   "cell_type": "code",
   "execution_count": null,
   "metadata": {},
   "outputs": [],
   "source": [
    "# y_pred = best_xgb_model.predict(X_test)\n",
    "\n",
    "y_pred2 = best_xgb_model.predict(X.values)\n",
    "\n",
    "y_pred2 = model_LSVC.predict(X)"
   ]
  },
  {
   "cell_type": "code",
   "execution_count": 104,
   "metadata": {},
   "outputs": [],
   "source": [
    "#original_Xtest, original_ytest\n",
    "\n",
    "예측=model_SVC.predict(original_Xtest)\n",
    "정답=original_ytest"
   ]
  },
  {
   "cell_type": "code",
   "execution_count": 100,
   "metadata": {},
   "outputs": [],
   "source": [
    "#original_Xtest, original_ytest\n",
    "\n",
    "예측=model_SVC.predict(X_test)\n",
    "정답=y_test"
   ]
  },
  {
   "cell_type": "code",
   "execution_count": null,
   "metadata": {},
   "outputs": [],
   "source": []
  },
  {
   "cell_type": "code",
   "execution_count": 163,
   "metadata": {},
   "outputs": [
    {
     "name": "stdout",
     "output_type": "stream",
     "text": [
      "[[6326 3982]\n",
      " [  78 1453]]\n"
     ]
    },
    {
     "data": {
      "image/png": "[encoded data removed]",
      "text/plain": [
       "<Figure size 432x288 with 1 Axes>"
      ]
     },
     "metadata": {
      "needs_background": "light"
     },
     "output_type": "display_data"
    }
   ],
   "source": [
    "from sklearn.metrics import confusion_matrix\n",
    "\n",
    "cm = confusion_matrix(정답, 예측)\n",
    "print(cm)\n",
    "\n",
    "plt.clf()\n",
    "plt.imshow(cm, interpolation='nearest', cmap=plt.cm.Wistia)\n",
    "classNames = ['Negative','Positive']\n",
    "plt.title('Versicolor or Not Versicolor Confusion Matrix - Test Data')\n",
    "plt.ylabel('True label')\n",
    "plt.xlabel('Predicted label')\n",
    "tick_marks = np.arange(len(classNames))\n",
    "plt.xticks(tick_marks, classNames, rotation=45)\n",
    "plt.yticks(tick_marks, classNames)\n",
    "s = [['TN','FP'], ['FN', 'TP']]\n",
    "for i in range(2):\n",
    "    for j in range(2):\n",
    "        plt.text(j,i, str(s[i][j])+\" = \"+str(cm[i][j]))\n",
    "plt.show()"
   ]
  },
  {
   "cell_type": "code",
   "execution_count": 164,
   "metadata": {},
   "outputs": [
    {
     "name": "stdout",
     "output_type": "stream",
     "text": [
      "0.9490529065969955\n",
      "0.2673413063477461\n",
      "0.6570656305431202\n",
      "이게중요! 0.4171691070915877\n",
      "(array([0.12931835, 0.26734131, 1.        ]), array([1.        , 0.94905291, 0.        ]), array([0., 1.]))\n"
     ]
    }
   ],
   "source": [
    "import sklearn.metrics\n",
    "\n",
    "print(sklearn.metrics.recall_score(정답,예측))\n",
    "print(sklearn.metrics.precision_score(정답,예측))\n",
    "\n",
    "print(sklearn.metrics.accuracy_score(정답,예측))\n",
    "print(\"이게중요!\",sklearn.metrics.f1_score(정답,예측))\n",
    "print(sklearn.metrics.precision_recall_curve(정답,예측))"
   ]
  },
  {
   "cell_type": "code",
   "execution_count": null,
   "metadata": {},
   "outputs": [],
   "source": []
  },
  {
   "cell_type": "code",
   "execution_count": null,
   "metadata": {},
   "outputs": [],
   "source": []
  },
  {
   "cell_type": "markdown",
   "metadata": {},
   "source": [
    "# Feature importance"
   ]
  },
  {
   "cell_type": "code",
   "execution_count": null,
   "metadata": {},
   "outputs": [],
   "source": [
    "from matplotlib import pyplot as plt\n",
    "from sklearn import svm\n",
    "\n",
    "def f_importances(coef, names):\n",
    "    imp = coef\n",
    "    imp,names = zip(*sorted(zip(imp,names)))\n",
    "    plt.barh(range(len(names)), imp, align='center')\n",
    "    plt.yticks(range(len(names)), names)\n",
    "    plt.show()\n",
    "\n",
    "f_importances(model_SVC.coef_[0], list(X.columns))"
   ]
  },
  {
   "cell_type": "code",
   "execution_count": null,
   "metadata": {},
   "outputs": [],
   "source": []
  },
  {
   "cell_type": "code",
   "execution_count": null,
   "metadata": {},
   "outputs": [],
   "source": [
    "import imblearn\n",
    "\n",
    "from imblearn.over_sampling import SMOTE\n",
    "from sklearn.model_selection import train_test_split, RandomizedSearchCV\n",
    "\n",
    "\n",
    "print('Length of X (train): {} | Length of y (train): {}'.format(len(original_Xtrain), len(original_ytrain)))\n",
    "print('Length of X (test): {} | Length of y (test): {}'.format(len(original_Xtest), len(original_ytest)))\n",
    "\n",
    "# List to append the score and then find the average\n",
    "accuracy_lst = []\n",
    "precision_lst = []\n",
    "recall_lst = []\n",
    "f1_lst = []\n",
    "auc_lst = []\n",
    "\n",
    "# Classifier with optimal parameters\n",
    "# log_reg_sm = grid_log_reg.best_estimator_\n",
    "log_reg_sm = LogisticRegression()\n",
    "\n",
    "rand_log_reg = RandomizedSearchCV(LogisticRegression(), log_reg_params, n_iter=4)"
   ]
  },
  {
   "cell_type": "code",
   "execution_count": null,
   "metadata": {},
   "outputs": [],
   "source": [
    "# Implementing SMOTE Technique \n",
    "# Cross Validating the right way\n",
    "# Parameters\n",
    "log_reg_params = {\"penalty\": ['l1', 'l2'], 'C': [0.001, 0.01, 0.1, 1, 10, 100, 1000]}\n",
    "for train, test in sss.split(original_Xtrain, original_ytrain):\n",
    "    pipeline = imbalanced_make_pipeline(SMOTE(sampling_strategy='minority'), rand_log_reg) # SMOTE happens during Cross Validation not before..\n",
    "    model = pipeline.fit(original_Xtrain[train], original_ytrain[train])\n",
    "    best_est = rand_log_reg.best_estimator_\n",
    "    prediction = best_est.predict(original_Xtrain[test])\n",
    "    \n",
    "    accuracy_lst.append(pipeline.score(original_Xtrain[test], original_ytrain[test]))\n",
    "    precision_lst.append(precision_score(original_ytrain[test], prediction))\n",
    "    recall_lst.append(recall_score(original_ytrain[test], prediction))\n",
    "    f1_lst.append(f1_score(original_ytrain[test], prediction))\n",
    "    auc_lst.append(roc_auc_score(original_ytrain[test], prediction))\n",
    "    \n",
    "print('---' * 45)\n",
    "print('')\n",
    "print(\"accuracy: {}\".format(np.mean(accuracy_lst)))\n",
    "print(\"precision: {}\".format(np.mean(precision_lst)))\n",
    "print(\"recall: {}\".format(np.mean(recall_lst)))\n",
    "print(\"f1: {}\".format(np.mean(f1_lst)))\n",
    "print('---' * 45)"
   ]
  },
  {
   "cell_type": "code",
   "execution_count": null,
   "metadata": {},
   "outputs": [],
   "source": [
    "labels = ['No Fraud', 'Fraud']\n",
    "smote_prediction = best_est.predict(original_Xtest)\n",
    "print(classification_report(original_ytest, smote_prediction, target_names=labels))\n",
    "\n",
    "n_classes=len(y_score)"
   ]
  },
  {
   "cell_type": "code",
   "execution_count": null,
   "metadata": {},
   "outputs": [],
   "source": []
  },
  {
   "cell_type": "code",
   "execution_count": null,
   "metadata": {},
   "outputs": [],
   "source": []
  },
  {
   "cell_type": "markdown",
   "metadata": {},
   "source": [
    "# Light GBM "
   ]
  },
  {
   "cell_type": "code",
   "execution_count": 131,
   "metadata": {},
   "outputs": [],
   "source": [
    "import lightgbm as lgb"
   ]
  },
  {
   "cell_type": "code",
   "execution_count": 132,
   "metadata": {},
   "outputs": [],
   "source": [
    "# create dataset for lightgbm\n",
    "lgb_train = lgb.Dataset(X_train, y_train)\n",
    "lgb_eval = lgb.Dataset(X_test, y_test, reference=lgb_train)"
   ]
  },
  {
   "cell_type": "markdown",
   "metadata": {},
   "source": [
    "# specify your configurations as a dict\n",
    "params = {\n",
    "    'boosting_type': 'gbdt',\n",
    "    'objective': 'binary',\n",
    "    'metric': 'binary_error',\n",
    "    'num_leaves': 31,\n",
    "    'learning_rate': 0.05,\n",
    "    'feature_fraction': 0.9,\n",
    "    'bagging_fraction': 0.8,\n",
    "    'bagging_freq': 5,\n",
    "    'verbose': 1\n",
    "}\n",
    "\n",
    "print('Starting training...')"
   ]
  },
  {
   "cell_type": "code",
   "execution_count": 138,
   "metadata": {},
   "outputs": [],
   "source": [
    "params = {\n",
    "        'task': 'train',\n",
    "        'objective': 'binary',    # 2値分類の指定\n",
    "        'metric': 'binary_error', # 誤答率の割合\n",
    "        'verbose': 1\n",
    "}"
   ]
  },
  {
   "cell_type": "code",
   "execution_count": 133,
   "metadata": {},
   "outputs": [],
   "source": [
    "params = {\n",
    "    'objective' :'binary',\n",
    "    'learning_rate' : 0.02,\n",
    "    'num_leaves' : 76,\n",
    "    'feature_fraction': 0.64, \n",
    "    'bagging_fraction': 0.8, \n",
    "    'bagging_freq':1,\n",
    "    'boosting_type' : 'gbdt',\n",
    "    'metric': 'binary_logloss'\n",
    "}"
   ]
  },
  {
   "cell_type": "code",
   "execution_count": 139,
   "metadata": {},
   "outputs": [
    {
     "name": "stdout",
     "output_type": "stream",
     "text": [
      "[1]\ttrain's binary_error: 0.182189\teval's binary_error: 0.19001\n",
      "Training until validation scores don't improve for 10 rounds\n",
      "[2]\ttrain's binary_error: 0.178843\teval's binary_error: 0.191642\n",
      "[3]\ttrain's binary_error: 0.17321\teval's binary_error: 0.193928\n",
      "[4]\ttrain's binary_error: 0.17117\teval's binary_error: 0.187724\n",
      "[5]\ttrain's binary_error: 0.171088\teval's binary_error: 0.195233\n",
      "[6]\ttrain's binary_error: 0.168068\teval's binary_error: 0.192295\n",
      "[7]\ttrain's binary_error: 0.166191\teval's binary_error: 0.190663\n",
      "[8]\ttrain's binary_error: 0.166762\teval's binary_error: 0.18903\n",
      "[9]\ttrain's binary_error: 0.167497\teval's binary_error: 0.190336\n",
      "[10]\ttrain's binary_error: 0.165456\teval's binary_error: 0.192622\n",
      "[11]\ttrain's binary_error: 0.165538\teval's binary_error: 0.19001\n",
      "[12]\ttrain's binary_error: 0.165538\teval's binary_error: 0.191969\n",
      "[13]\ttrain's binary_error: 0.16464\teval's binary_error: 0.190989\n",
      "[14]\ttrain's binary_error: 0.164803\teval's binary_error: 0.191969\n",
      "Early stopping, best iteration is:\n",
      "[4]\ttrain's binary_error: 0.17117\teval's binary_error: 0.187724\n"
     ]
    }
   ],
   "source": [
    "gbm = lgb.train(params,\n",
    "            lgb_train,\n",
    "            num_boost_round=50,       \n",
    "            early_stopping_rounds=10,\n",
    "            valid_sets=[lgb_train,lgb_eval],\n",
    "            valid_names=['train', 'eval'])"
   ]
  },
  {
   "cell_type": "markdown",
   "metadata": {},
   "source": [
    "# train\n",
    "gbm = lgb.train(params,\n",
    "                lgb_train,\n",
    "                num_boost_round=20,\n",
    "                valid_sets=lgb_eval,\n",
    "                early_stopping_rounds=5)\n",
    "\n",
    "print('Saving model...')\n",
    "# save model to file\n",
    "# gbm.save_model('model.txt')\n",
    "\n",
    "print('Starting predicting...')\n",
    "# predict"
   ]
  },
  {
   "cell_type": "code",
   "execution_count": 159,
   "metadata": {},
   "outputs": [],
   "source": [
    "예측 = gbm.predict(original_Xtest, num_iteration=gbm.best_iteration)"
   ]
  },
  {
   "cell_type": "code",
   "execution_count": 160,
   "metadata": {},
   "outputs": [],
   "source": [
    "예측[예측>=0.5]=1"
   ]
  },
  {
   "cell_type": "code",
   "execution_count": 161,
   "metadata": {},
   "outputs": [],
   "source": [
    "예측[예측<0.5]=0"
   ]
  },
  {
   "cell_type": "code",
   "execution_count": 162,
   "metadata": {},
   "outputs": [],
   "source": [
    "정답=original_ytest"
   ]
  },
  {
   "cell_type": "code",
   "execution_count": null,
   "metadata": {},
   "outputs": [],
   "source": []
  },
  {
   "cell_type": "code",
   "execution_count": null,
   "metadata": {},
   "outputs": [],
   "source": []
  },
  {
   "cell_type": "code",
   "execution_count": null,
   "metadata": {},
   "outputs": [],
   "source": []
  },
  {
   "cell_type": "markdown",
   "metadata": {},
   "source": [
    "from matplotlib import pyplot as plt\n",
    "from sklearn import svm\n",
    "\n",
    "def f_importances(coef, names):\n",
    "    imp = coef\n",
    "    imp,names = zip(*sorted(zip(imp,names)))\n",
    "    plt.barh(range(len(names)), imp, align='center')\n",
    "    plt.yticks(range(len(names)), names)\n",
    "    plt.show()\n",
    "\n",
    "f_importances(model_SVC.coef_[0], list(X.columns))\n",
    "import imblearn\n",
    "\n",
    "from imblearn.over_sampling import SMOTE\n",
    "from sklearn.model_selection import train_test_split, RandomizedSearchCV\n",
    "\n",
    "\n",
    "print('Length of X (train): {} | Length of y (train): {}'.format(len(original_Xtrain), len(original_ytrain)))\n",
    "print('Length of X (test): {} | Length of y (test): {}'.format(len(original_Xtest), len(original_ytest)))\n",
    "\n",
    "# List to append the score and then find the average\n",
    "accuracy_lst = []\n",
    "precision_lst = []\n",
    "recall_lst = []\n",
    "f1_lst = []\n",
    "auc_lst = []\n",
    "\n",
    "# Classifier with optimal parameters\n",
    "# log_reg_sm = grid_log_reg.best_estimator_\n",
    "log_reg_sm = LogisticRegression()\n",
    "\n",
    "\n",
    "\n",
    "\n",
    "rand_log_reg = RandomizedSearchCV(LogisticRegression(), log_reg_params, n_iter=4)"
   ]
  },
  {
   "cell_type": "code",
   "execution_count": null,
   "metadata": {},
   "outputs": [],
   "source": [
    "test=pd.read_csv(\"PJT002_test.csv\")\n",
    "\n",
    "\n",
    "\n",
    "object_list=[]\n",
    "for col in test:\n",
    "    if test[col].dtype ==\"object\":\n",
    "        object_list.append(col)\n",
    "\n",
    "object_list=[]\n",
    "for i in range(len(data.columns.tolist())):\n",
    "    if data[data.columns.tolist()[i]].dtype == 'O':\n",
    "        object_list.append(data.columns.tolist()[i])\n",
    "\n",
    "\n",
    "object_data=test[object_list[:]]\n",
    "\n",
    "numeric_list=list(set(test.columns.tolist()) - set(object_list))\n",
    "numeric_list=sorted(numeric_list)\n",
    "numeric_data=test[numeric_list[:]]\n",
    "\n",
    "\n",
    "\n",
    "object_data['dt_of_fr']=object_data['dt_of_fr'].astype('datetime64[ns]')\n",
    "\n",
    "# object_data.fr_yn=object_data.fr_yn.apply(lambda x: 1 if x==\"Y\" else 0)\n",
    "\n",
    "\n",
    "object_data['주거시설YN']=object_data.bldng_us.apply(lambda x: 1 if x==\"단독주택\" else x)\n",
    "object_data['주거시설YN']=object_data.주거시설YN.apply(lambda x: 1 if x==\"공동주택\" else x)\n",
    "object_data['주거시설YN']=object_data.주거시설YN.apply(lambda x: 1 if x==1 else 0)\n",
    "\n",
    "object_data['편의시설YN']=object_data.bldng_us.apply(lambda x: 1 if x==\"제1종근린생활시설\" else x)\n",
    "\n",
    "object_data['편의시설YN']=object_data.편의시설YN.apply(lambda x: 1 if x==\"제2종근린생활시설\" else x)\n",
    "\n",
    "object_data['편의시설YN']=object_data.편의시설YN.apply(lambda x: 1 if x==\"문화및집회시설\" else x)\n",
    "\n",
    "object_data['편의시설YN']=object_data.편의시설YN.apply(lambda x: 1 if x==1 else 0)\n",
    "​\n",
    "\n",
    "numeric_data_on=numeric_data.iloc[:,[0,1,2,3,4,5,6,68,69,70,71,133,134,135,136,137,138,139,140,141,142,143,144,145,146,147,148,149,150,151,152,153,154,155,156,157,158]]"
   ]
  }
 ],
 "metadata": {
  "kernelspec": {
   "display_name": "Python 3",
   "language": "python",
   "name": "python3"
  },
  "language_info": {
   "codemirror_mode": {
    "name": "ipython",
    "version": 3
   },
   "file_extension": ".py",
   "mimetype": "text/x-python",
   "name": "python",
   "nbconvert_exporter": "python",
   "pygments_lexer": "ipython3",
   "version": "3.7.4"
  }
 },
 "nbformat": 4,
 "nbformat_minor": 4
}
